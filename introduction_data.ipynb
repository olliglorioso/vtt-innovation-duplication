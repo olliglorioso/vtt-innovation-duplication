{
 "cells": [
  {
   "cell_type": "markdown",
   "metadata": {},
   "source": [
    "### VTT challenge: Innovation Ambiguity\n",
    "\n",
    "#### Source Dataframe\n",
    "- Websites from finnish companies that mention 'VTT' on their website\n",
    "- `Orbis ID`, also `VAT id` is a unique identifier for organizations, later used to merge different alias of the same organization to one unique id"
   ]
  },
  {
   "cell_type": "code",
   "execution_count": 11,
   "metadata": {},
   "outputs": [
    {
     "name": "stdout",
     "output_type": "stream",
     "text": [
      "DF with content from 1100 websites of 270 different companies \n"
     ]
    },
    {
     "data": {
      "text/html": [
       "<div>\n",
       "<style scoped>\n",
       "    .dataframe tbody tr th:only-of-type {\n",
       "        vertical-align: middle;\n",
       "    }\n",
       "\n",
       "    .dataframe tbody tr th {\n",
       "        vertical-align: top;\n",
       "    }\n",
       "\n",
       "    .dataframe thead th {\n",
       "        text-align: right;\n",
       "    }\n",
       "</style>\n",
       "<table border=\"1\" class=\"dataframe\">\n",
       "  <thead>\n",
       "    <tr style=\"text-align: right;\">\n",
       "      <th></th>\n",
       "      <th>Orbis ID</th>\n",
       "      <th>Company name</th>\n",
       "      <th>Website</th>\n",
       "      <th>Link</th>\n",
       "      <th>Title</th>\n",
       "      <th>date_obtained</th>\n",
       "      <th>Type</th>\n",
       "      <th>text_content</th>\n",
       "      <th>Company_Name_Alias</th>\n",
       "      <th>source_index</th>\n",
       "    </tr>\n",
       "  </thead>\n",
       "  <tbody>\n",
       "    <tr>\n",
       "      <th>0</th>\n",
       "      <td>FI14636114</td>\n",
       "      <td>FORTUM OYJ</td>\n",
       "      <td>www.fortum.com</td>\n",
       "      <td>https://www.fortum.com/media/2020/04/fortum-aw...</td>\n",
       "      <td>Fortum awarded contract for decommissioning of...</td>\n",
       "      <td>2024-09-18</td>\n",
       "      <td>Website</td>\n",
       "      <td>Press release\\n 08 April 2020, 7:00 EEST     ...</td>\n",
       "      <td>['Fortum Oyj', 'Fortum Markets AB', 'Fortum Ab...</td>\n",
       "      <td>0</td>\n",
       "    </tr>\n",
       "    <tr>\n",
       "      <th>1</th>\n",
       "      <td>FI14636114</td>\n",
       "      <td>FORTUM OYJ</td>\n",
       "      <td>www.fortum.com</td>\n",
       "      <td>https://www.fortum.com/media/2023/03/finnish-g...</td>\n",
       "      <td>Finnish Government grants operating licence fo...</td>\n",
       "      <td>2024-08-16</td>\n",
       "      <td>Website</td>\n",
       "      <td>Press release\\n 30 March 2023, 13:25 EEST    ...</td>\n",
       "      <td>['Fortum Oyj', 'Fortum Markets AB', 'Fortum Ab...</td>\n",
       "      <td>1</td>\n",
       "    </tr>\n",
       "    <tr>\n",
       "      <th>2</th>\n",
       "      <td>FI14636114</td>\n",
       "      <td>FORTUM OYJ</td>\n",
       "      <td>www.fortum.com</td>\n",
       "      <td>https://www.fortum.com/media/2021/05/apros-sof...</td>\n",
       "      <td>AprosÂ® software, developed by Fortum and VTT,...</td>\n",
       "      <td>2024-09-12</td>\n",
       "      <td>Website</td>\n",
       "      <td>Online news\\n 21 May 2021, 9:30 EEST         ...</td>\n",
       "      <td>['Fortum Oyj', 'Fortum Markets AB', 'Fortum Ab...</td>\n",
       "      <td>2</td>\n",
       "    </tr>\n",
       "  </tbody>\n",
       "</table>\n",
       "</div>"
      ],
      "text/plain": [
       "     Orbis ID Company name         Website  \\\n",
       "0  FI14636114   FORTUM OYJ  www.fortum.com   \n",
       "1  FI14636114   FORTUM OYJ  www.fortum.com   \n",
       "2  FI14636114   FORTUM OYJ  www.fortum.com   \n",
       "\n",
       "                                                Link  \\\n",
       "0  https://www.fortum.com/media/2020/04/fortum-aw...   \n",
       "1  https://www.fortum.com/media/2023/03/finnish-g...   \n",
       "2  https://www.fortum.com/media/2021/05/apros-sof...   \n",
       "\n",
       "                                               Title date_obtained     Type  \\\n",
       "0  Fortum awarded contract for decommissioning of...    2024-09-18  Website   \n",
       "1  Finnish Government grants operating licence fo...    2024-08-16  Website   \n",
       "2  AprosÂ® software, developed by Fortum and VTT,...    2024-09-12  Website   \n",
       "\n",
       "                                        text_content  \\\n",
       "0   Press release\\n 08 April 2020, 7:00 EEST     ...   \n",
       "1   Press release\\n 30 March 2023, 13:25 EEST    ...   \n",
       "2   Online news\\n 21 May 2021, 9:30 EEST         ...   \n",
       "\n",
       "                                  Company_Name_Alias  source_index  \n",
       "0  ['Fortum Oyj', 'Fortum Markets AB', 'Fortum Ab...             0  \n",
       "1  ['Fortum Oyj', 'Fortum Markets AB', 'Fortum Ab...             1  \n",
       "2  ['Fortum Oyj', 'Fortum Markets AB', 'Fortum Ab...             2  "
      ]
     },
     "execution_count": 11,
     "metadata": {},
     "output_type": "execute_result"
    }
   ],
   "source": [
    "# 1. original source dataframe\n",
    "import pandas as pd\n",
    "df = pd.read_csv('data/dataframes/vtt_mentions_comp_domain.csv')\n",
    "df = df[df['Website'].str.startswith('www.')]\n",
    "df['source_index'] = df.index\n",
    "\n",
    "print(f\"DF with content from {len(df)} websites of {len(df['Company name'].unique())} different companies \")\n",
    "df.head(3)"
   ]
  },
  {
   "cell_type": "markdown",
   "metadata": {},
   "source": [
    "##### End-to-End relationship extraction\n",
    "- Based on the above website content, entities of the type `Organization` and `Innovation` are extracted, as well as their type of relationship\n",
    "- `Collaboration` between Organization and `Developed_by` between Innovation and Organization\n",
    "- The relationships are stored in a custom object as displayed below: "
   ]
  },
  {
   "cell_type": "code",
   "execution_count": 12,
   "metadata": {},
   "outputs": [
    {
     "name": "stdout",
     "output_type": "stream",
     "text": [
      "The extracted graph documents are saved as f'{df['Company name'].replace(' ','_')}_{df['source_index'].pkl}.pkl, under data/graph_docs/ \n",
      "\n",
      "0: 'data/graph_docs/' + FORTUM_OYJ_0.pkl\n",
      "1: 'data/graph_docs/' + FORTUM_OYJ_1.pkl\n",
      "2: 'data/graph_docs/' + FORTUM_OYJ_2.pkl\n"
     ]
    }
   ],
   "source": [
    "# 2.1. example of custom python object of data\n",
    "from typing import List, Dict, Optional\n",
    "from pydantic import BaseModel, Field\n",
    "\n",
    "class Node(BaseModel):\n",
    "    \"\"\"Represents a node in the knowledge graph.\"\"\"\n",
    "    id: str # unique identifier for node of type 'Organisation', else 'name provided by llm' for type: 'Innovation'\n",
    "    type: str # allowed node types: 'Organization', 'Innovation'\n",
    "    properties: Dict[str, str] = Field(default_factory=dict)\n",
    "\n",
    "class Relationship(BaseModel):\n",
    "    \"\"\"Represents a relationship between two nodes in the knowledge graph.\"\"\"\n",
    "    source: str\n",
    "    source_type: str # allowed node types: 'Organization', 'Innovation'\n",
    "    target: str \n",
    "    target_type: str # allowed node types: 'Organization', 'Innovation'\n",
    "    type: str # allowed relationship types: 'DEVELOPED_BY', 'COLLABORATION'\n",
    "    properties: Dict[str, str] = Field(default_factory=dict)\n",
    "\n",
    "class Document(BaseModel):\n",
    "    page_content:str # manually appended - source text of website\n",
    "    metadata: Dict[str, str] = Field(default_factory=dict) # metadata including source URL and document ID\n",
    "\n",
    "class GraphDocument(BaseModel):\n",
    "    \"\"\"Represents a complete knowledge graph extracted from a document.\"\"\"\n",
    "    nodes: List[Node] = Field(default_factory=list)\n",
    "    relationships: List[Relationship] = Field(default_factory=list)\n",
    "    source_document: Optional[Document] = None\n",
    "\n",
    "# 2.2 loading example of custom graph document\n",
    "# example file naming convention\n",
    "print(\"The extracted graph documents are saved as f'{df['Company name'].replace(' ','_')}_{df['source_index'].pkl}.pkl, under data/graph_docs/ \\n\")\n",
    "\n",
    "for i, row in df[:3].iterrows():\n",
    "    print(f\"{i}: 'data/graph_docs/' + {row['Company name'].replace(' ','_')}_{row['source_index']}.pkl\")"
   ]
  },
  {
   "cell_type": "code",
   "execution_count": 13,
   "metadata": {},
   "outputs": [
    {
     "name": "stdout",
     "output_type": "stream",
     "text": [
      "Example custom graph document:\n",
      "\n",
      " [GraphDocument(nodes=[], relationships=[], source_document=Document(metadata={'source_id': 'TS-YHTYMA OY_797'}, page_content='\\r\\nTurun Sanomat                              Teknologian tutkimuskeskus VTT on nimittÃ¤nyt hallitukseensa Turun yliopiston rehtorin Jukka Kolan. Kola valittiin tehtÃ¤vÃ¤Ã¤n VTT:n yhtiÃ¶kokouksessa. Toisena uutena jÃ¤senenÃ¤ hallitukseen valittiin Futuricen toimitusjohtaja Teemu Moisala. VTT:n hallituksen puheenjohtajana toimii Suomen ABB:n toimitusjohtaja Pekka Tiitinen. Hallituksessa jatkavat Pekka Tiitisen lisÃ¤ksi teknologiajohtaja Heli Antila Fortum, talousjohtaja Harri LeiviskÃ¤ Dayton Groupista, toimitusjohtaja Matti Hietanen (Suomen Malmijalostuksesta ja osastopÃ¤Ã¤llikkÃ¶ Marja-Riitta Pihlman tyÃ¶- ja elinkeinoministeriÃ¶stÃ¤. Seuraa ja lue uutisia aiheesta Huomio! Tutustu ennen kommentoimista Turun Sanomien keskustelupalstan sÃ¤Ã¤ntÃ¶ihin tÃ¤Ã¤llÃ¤. Uudet nÃ¤kÃ¶kulmat keskustelussa vievÃ¤t asioita eteenpÃ¤in. Siksi Turun Sanomat kannustaa verkkosivuillaan aktiiviseen ja rakentavaan keskusteluun. TehdÃ¤Ã¤n yhdessÃ¤ Turun Sanomien keskustelupalstasta paikka, jossa on mukava keskustella asiallisesti kiinnostavista aiheista. Keskusteltavaksi avattavaista jutuista pÃ¤Ã¤ttÃ¤Ã¤ Turun Sanomien toimitus. Kaikista jutuista ei voi keskustella. Toimitus voi harkintansa mukaan sulkea tai poistaa aiemmin avoinna olleen keskusteluketjun. Verkkokeskusteluun osallistuminen edellyttÃ¤Ã¤ rekisterÃ¶itymistÃ¤ (jonka pÃ¤Ã¤set tekemÃ¤Ã¤n tÃ¤stÃ¤). RekisterÃ¶ityminen ei edellytÃ¤ lehden tilaamista. Keskusteluun voit kirjoittaa omalla nimellÃ¤si tai nimimerkillÃ¤. Suosittelemme vahvasti oman nimen kÃ¤yttÃ¶Ã¤, sillÃ¤ on arvokasta seistÃ¤ mielipiteidensÃ¤ takana. Toisen ihmisen nimellÃ¤ tai valheellisesti jonkun tahon edustajana esiintyminen on kiellettyÃ¤. Nimimerkkisi ei saa rikkoa hyviÃ¤ tapoja tai olla muutoin asiaton. Kaikki viestit tarkastetaan ennen julkaisua. Siksi viestit julkaistaan viiveellÃ¤. Keskusteluja moderoidaan arkisin kello 9â\\x80\\x9323 ja viikonloppuisin kello 8â\\x80\\x9322 muun tyÃ¶n ohessa. Toimitus voi lyhentÃ¤Ã¤ ja muokata kirjoituksia. Verkkokeskustelut ovat osa Turun Sanomien sisÃ¤ltÃ¶Ã¤, josta olemme vastuussa. Viestien julkaisusta pÃ¤Ã¤ttÃ¤Ã¤ toimitus oman harkintansa mukaan. Emme ehdi vastamaan yksittÃ¤isten kommenttien julkaisua tai julkaisematta jÃ¤ttÃ¤mistÃ¤ koskeviin tiedusteluihin. Jos kommenttiketjuun on mielestÃ¤si lipsahtanut sÃ¤Ã¤ntÃ¶jen vastainen tai muutoin epÃ¤asiallinen viesti, ilmoita asiattomasta viestistÃ¤ keskustelussa. Toimitus pÃ¤Ã¤ttÃ¤Ã¤, onko ilmoitus aiheellinen. Jos jutussa on virhe, kerro siitÃ¤ suoraan toimitukselle, Ã¤lÃ¤ keskusteluketjussa. Saamme tiedon nÃ¤in nopeammin ja voimme korjata virheen. VirheistÃ¤ voit kertoa sÃ¤hkÃ¶postitse osoitteeseen ts.verkkotoimitus@ts.fi. Toimitus voi kÃ¤yttÃ¤Ã¤ keskustelupalstalle tulleita viestejÃ¤ esimerkiksi aihetta kÃ¤sittelevÃ¤n jatkojutun julkaisun yhteydessÃ¤. PÃ¤ivÃ¤n aikana avautuneita keskusteluita on mahdollista kommentoida 24 tuntia artikkelin julkaisun jÃ¤lkeen. Toimitus voi avata paljon kommentteja kerÃ¤nneitÃ¤ juttuja uudelleen keskusteltavaksi tÃ¤mÃ¤n jÃ¤lkeenkin. Julkaistavaksi valittavien viestien on noudatettava seuraavia sÃ¤Ã¤ntÃ¶jÃ¤: SÃ¤Ã¤ntÃ¶jen rikkominen voi johtaa kommentoinnin tai nimimerkin muuttamisen estÃ¤miseen ilman erillistÃ¤ varoitusta, mÃ¤Ã¤rÃ¤ajaksi tai pysyvÃ¤sti. Huomio! Tutustu ennen kommentoimista Turun Sanomien keskustelupalstan sÃ¤Ã¤ntÃ¶ihin tÃ¤Ã¤llÃ¤. Uudet nÃ¤kÃ¶kulmat keskustelussa vievÃ¤t asioita eteenpÃ¤in. Siksi Turun Sanomat kannustaa verkkosivuillaan aktiiviseen ja rakentavaan keskusteluun. TehdÃ¤Ã¤n yhdessÃ¤ Turun Sanomien keskustelupalstasta paikka, jossa on mukava keskustella asiallisesti kiinnostavista aiheista. Keskusteltavaksi avattavaista jutuista pÃ¤Ã¤ttÃ¤Ã¤ Turun Sanomien toimitus. Kaikista jutuista ei voi keskustella. Toimitus voi harkintansa mukaan sulkea tai poistaa aiemmin avoinna olleen keskusteluketjun. Verkkokeskusteluun osallistuminen edellyttÃ¤Ã¤ rekisterÃ¶itymistÃ¤ (jonka pÃ¤Ã¤set tekemÃ¤Ã¤n tÃ¤stÃ¤). RekisterÃ¶ityminen ei edellytÃ¤ lehden tilaamista. Keskusteluun voit kirjoittaa omalla nimellÃ¤si tai nimimerkillÃ¤. Suosittelemme vahvasti oman nimen kÃ¤yttÃ¶Ã¤, sillÃ¤ on arvokasta seistÃ¤ mielipiteidensÃ¤ takana. Toisen ihmisen nimellÃ¤ tai valheellisesti jonkun tahon edustajana esiintyminen on kiellettyÃ¤. Nimimerkkisi ei saa rikkoa hyviÃ¤ tapoja tai olla muutoin asiaton. Kaikki viestit tarkastetaan ennen julkaisua. Siksi viestit julkaistaan viiveellÃ¤. Keskusteluja moderoidaan arkisin kello 9â\\x80\\x9323 ja viikonloppuisin kello 8â\\x80\\x9322 muun tyÃ¶n ohessa. Toimitus voi lyhentÃ¤Ã¤ ja muokata kirjoituksia. Verkkokeskustelut ovat osa Turun Sanomien sisÃ¤ltÃ¶Ã¤, josta olemme vastuussa. Viestien julkaisusta pÃ¤Ã¤ttÃ¤Ã¤ toimitus oman harkintansa mukaan. Emme ehdi vastamaan yksittÃ¤isten kommenttien julkaisua tai julkaisematta jÃ¤ttÃ¤mistÃ¤ koskeviin tiedusteluihin. Jos kommenttiketjuun on mielestÃ¤si lipsahtanut sÃ¤Ã¤ntÃ¶jen vastainen tai muutoin epÃ¤asiallinen viesti, ilmoita asiattomasta viestistÃ¤ keskustelussa. Toimitus pÃ¤Ã¤ttÃ¤Ã¤, onko ilmoitus aiheellinen. Jos jutussa on virhe, kerro siitÃ¤ suoraan toimitukselle, Ã¤lÃ¤ keskusteluketjussa. Saamme tiedon nÃ¤in nopeammin ja voimme korjata virheen. VirheistÃ¤ voit kertoa sÃ¤hkÃ¶postitse osoitteeseen ts.verkkotoimitus@ts.fi. Toimitus voi kÃ¤yttÃ¤Ã¤ keskustelupalstalle tulleita viestejÃ¤ esimerkiksi aihetta kÃ¤sittelevÃ¤n jatkojutun julkaisun yhteydessÃ¤. PÃ¤ivÃ¤n aikana avautuneita keskusteluita on mahdollista kommentoida 24 tuntia artikkelin julkaisun jÃ¤lkeen. Toimitus voi avata paljon kommentteja kerÃ¤nneitÃ¤ juttuja uudelleen keskusteltavaksi tÃ¤mÃ¤n jÃ¤lkeenkin. Julkaistavaksi valittavien viestien on noudatettava seuraavia sÃ¤Ã¤ntÃ¶jÃ¤: SÃ¤Ã¤ntÃ¶jen rikkominen voi johtaa kommentoinnin tai nimimerkin muuttamisen estÃ¤miseen ilman erillistÃ¤ varoitusta, mÃ¤Ã¤rÃ¤ajaksi tai pysyvÃ¤sti. Olitko paikalla? LÃ¤hetÃ¤ uutisvinkki, kuva tai video Copyright Â© Turun Sanomat Oy 27. vuosikerta Vastaava pÃ¤Ã¤toimittaja: Jussi Orell ISSN: 0356-133X 2000 â\\x80\\x94 2024 Verkkotoimitus: 050 563 9576 ts.verkkotoimitus@ts.fi')), GraphDocument(nodes=[], relationships=[], source_document=Document(metadata={'source_id': 'TS-YHTYMA OY_797'}, page_content='\\r\\nTurun Sanomat                              Teknologian tutkimuskeskus VTT on nimittÃ¤nyt hallitukseensa Turun yliopiston rehtorin Jukka Kolan. Kola valittiin tehtÃ¤vÃ¤Ã¤n VTT:n yhtiÃ¶kokouksessa. Toisena uutena jÃ¤senenÃ¤ hallitukseen valittiin Futuricen toimitusjohtaja Teemu Moisala. VTT:n hallituksen puheenjohtajana toimii Suomen ABB:n toimitusjohtaja Pekka Tiitinen. Hallituksessa jatkavat Pekka Tiitisen lisÃ¤ksi teknologiajohtaja Heli Antila Fortum, talousjohtaja Harri LeiviskÃ¤ Dayton Groupista, toimitusjohtaja Matti Hietanen (Suomen Malmijalostuksesta ja osastopÃ¤Ã¤llikkÃ¶ Marja-Riitta Pihlman tyÃ¶- ja elinkeinoministeriÃ¶stÃ¤. Seuraa ja lue uutisia aiheesta Huomio! Tutustu ennen kommentoimista Turun Sanomien keskustelupalstan sÃ¤Ã¤ntÃ¶ihin tÃ¤Ã¤llÃ¤. Uudet nÃ¤kÃ¶kulmat keskustelussa vievÃ¤t asioita eteenpÃ¤in. Siksi Turun Sanomat kannustaa verkkosivuillaan aktiiviseen ja rakentavaan keskusteluun. TehdÃ¤Ã¤n yhdessÃ¤ Turun Sanomien keskustelupalstasta paikka, jossa on mukava keskustella asiallisesti kiinnostavista aiheista. Keskusteltavaksi avattavaista jutuista pÃ¤Ã¤ttÃ¤Ã¤ Turun Sanomien toimitus. Kaikista jutuista ei voi keskustella. Toimitus voi harkintansa mukaan sulkea tai poistaa aiemmin avoinna olleen keskusteluketjun. Verkkokeskusteluun osallistuminen edellyttÃ¤Ã¤ rekisterÃ¶itymistÃ¤ (jonka pÃ¤Ã¤set tekemÃ¤Ã¤n tÃ¤stÃ¤). RekisterÃ¶ityminen ei edellytÃ¤ lehden tilaamista. Keskusteluun voit kirjoittaa omalla nimellÃ¤si tai nimimerkillÃ¤. Suosittelemme vahvasti oman nimen kÃ¤yttÃ¶Ã¤, sillÃ¤ on arvokasta seistÃ¤ mielipiteidensÃ¤ takana. Toisen ihmisen nimellÃ¤ tai valheellisesti jonkun tahon edustajana esiintyminen on kiellettyÃ¤. Nimimerkkisi ei saa rikkoa hyviÃ¤ tapoja tai olla muutoin asiaton. Kaikki viestit tarkastetaan ennen julkaisua. Siksi viestit julkaistaan viiveellÃ¤. Keskusteluja moderoidaan arkisin kello 9â\\x80\\x9323 ja viikonloppuisin kello 8â\\x80\\x9322 muun tyÃ¶n ohessa. Toimitus voi lyhentÃ¤Ã¤ ja muokata kirjoituksia. Verkkokeskustelut ovat osa Turun Sanomien sisÃ¤ltÃ¶Ã¤, josta olemme vastuussa. Viestien julkaisusta pÃ¤Ã¤ttÃ¤Ã¤ toimitus oman harkintansa mukaan. Emme ehdi vastamaan yksittÃ¤isten kommenttien julkaisua tai julkaisematta jÃ¤ttÃ¤mistÃ¤ koskeviin tiedusteluihin. Jos kommenttiketjuun on mielestÃ¤si lipsahtanut sÃ¤Ã¤ntÃ¶jen vastainen tai muutoin epÃ¤asiallinen viesti, ilmoita asiattomasta viestistÃ¤ keskustelussa. Toimitus pÃ¤Ã¤ttÃ¤Ã¤, onko ilmoitus aiheellinen. Jos jutussa on virhe, kerro siitÃ¤ suoraan toimitukselle, Ã¤lÃ¤ keskusteluketjussa. Saamme tiedon nÃ¤in nopeammin ja voimme korjata virheen. VirheistÃ¤ voit kertoa sÃ¤hkÃ¶postitse osoitteeseen ts.verkkotoimitus@ts.fi. Toimitus voi kÃ¤yttÃ¤Ã¤ keskustelupalstalle tulleita viestejÃ¤ esimerkiksi aihetta kÃ¤sittelevÃ¤n jatkojutun julkaisun yhteydessÃ¤. PÃ¤ivÃ¤n aikana avautuneita keskusteluita on mahdollista kommentoida 24 tuntia artikkelin julkaisun jÃ¤lkeen. Toimitus voi avata paljon kommentteja kerÃ¤nneitÃ¤ juttuja uudelleen keskusteltavaksi tÃ¤mÃ¤n jÃ¤lkeenkin. Julkaistavaksi valittavien viestien on noudatettava seuraavia sÃ¤Ã¤ntÃ¶jÃ¤: SÃ¤Ã¤ntÃ¶jen rikkominen voi johtaa kommentoinnin tai nimimerkin muuttamisen estÃ¤miseen ilman erillistÃ¤ varoitusta, mÃ¤Ã¤rÃ¤ajaksi tai pysyvÃ¤sti. Huomio! Tutustu ennen kommentoimista Turun Sanomien keskustelupalstan sÃ¤Ã¤ntÃ¶ihin tÃ¤Ã¤llÃ¤. Uudet nÃ¤kÃ¶kulmat keskustelussa vievÃ¤t asioita eteenpÃ¤in. Siksi Turun Sanomat kannustaa verkkosivuillaan aktiiviseen ja rakentavaan keskusteluun. TehdÃ¤Ã¤n yhdessÃ¤ Turun Sanomien keskustelupalstasta paikka, jossa on mukava keskustella asiallisesti kiinnostavista aiheista. Keskusteltavaksi avattavaista jutuista pÃ¤Ã¤ttÃ¤Ã¤ Turun Sanomien toimitus. Kaikista jutuista ei voi keskustella. Toimitus voi harkintansa mukaan sulkea tai poistaa aiemmin avoinna olleen keskusteluketjun. Verkkokeskusteluun osallistuminen edellyttÃ¤Ã¤ rekisterÃ¶itymistÃ¤ (jonka pÃ¤Ã¤set tekemÃ¤Ã¤n tÃ¤stÃ¤). RekisterÃ¶ityminen ei edellytÃ¤ lehden tilaamista. Keskusteluun voit kirjoittaa omalla nimellÃ¤si tai nimimerkillÃ¤. Suosittelemme vahvasti oman nimen kÃ¤yttÃ¶Ã¤, sillÃ¤ on arvokasta seistÃ¤ mielipiteidensÃ¤ takana. Toisen ihmisen nimellÃ¤ tai valheellisesti jonkun tahon edustajana esiintyminen on kiellettyÃ¤. Nimimerkkisi ei saa rikkoa hyviÃ¤ tapoja tai olla muutoin asiaton. Kaikki viestit tarkastetaan ennen julkaisua. Siksi viestit julkaistaan viiveellÃ¤. Keskusteluja moderoidaan arkisin kello 9â\\x80\\x9323 ja viikonloppuisin kello 8â\\x80\\x9322 muun tyÃ¶n ohessa. Toimitus voi lyhentÃ¤Ã¤ ja muokata kirjoituksia. Verkkokeskustelut ovat osa Turun Sanomien sisÃ¤ltÃ¶Ã¤, josta olemme vastuussa. Viestien julkaisusta pÃ¤Ã¤ttÃ¤Ã¤ toimitus oman harkintansa mukaan. Emme ehdi vastamaan yksittÃ¤isten kommenttien julkaisua tai julkaisematta jÃ¤ttÃ¤mistÃ¤ koskeviin tiedusteluihin. Jos kommenttiketjuun on mielestÃ¤si lipsahtanut sÃ¤Ã¤ntÃ¶jen vastainen tai muutoin epÃ¤asiallinen viesti, ilmoita asiattomasta viestistÃ¤ keskustelussa. Toimitus pÃ¤Ã¤ttÃ¤Ã¤, onko ilmoitus aiheellinen. Jos jutussa on virhe, kerro siitÃ¤ suoraan toimitukselle, Ã¤lÃ¤ keskusteluketjussa. Saamme tiedon nÃ¤in nopeammin ja voimme korjata virheen. VirheistÃ¤ voit kertoa sÃ¤hkÃ¶postitse osoitteeseen ts.verkkotoimitus@ts.fi. Toimitus voi kÃ¤yttÃ¤Ã¤ keskustelupalstalle tulleita viestejÃ¤ esimerkiksi aihetta kÃ¤sittelevÃ¤n jatkojutun julkaisun yhteydessÃ¤. PÃ¤ivÃ¤n aikana avautuneita keskusteluita on mahdollista kommentoida 24 tuntia artikkelin julkaisun jÃ¤lkeen. Toimitus voi avata paljon kommentteja kerÃ¤nneitÃ¤ juttuja uudelleen keskusteltavaksi tÃ¤mÃ¤n jÃ¤lkeenkin. Julkaistavaksi valittavien viestien on noudatettava seuraavia sÃ¤Ã¤ntÃ¶jÃ¤: SÃ¤Ã¤ntÃ¶jen rikkominen voi johtaa kommentoinnin tai nimimerkin muuttamisen estÃ¤miseen ilman erillistÃ¤ varoitusta, mÃ¤Ã¤rÃ¤ajaksi tai pysyvÃ¤sti. Olitko paikalla? LÃ¤hetÃ¤ uutisvinkki, kuva tai video Copyright Â© Turun Sanomat Oy 27. vuosikerta Vastaava pÃ¤Ã¤toimittaja: Jussi Orell ISSN: 0356-133X 2000 â\\x80\\x94 2024 Verkkotoimitus: 050 563 9576 ts.verkkotoimitus@ts.fi'))] \n",
      "\n",
      " \n",
      "Example custom graph document nodes :\n",
      "\n",
      "\n",
      "Example custom graph document relationships:\n",
      "\n"
     ]
    }
   ],
   "source": [
    "# 2.3 loading example of custom graph document\n",
    "\n",
    "import pickle, os\n",
    "path = 'data/graph_docs/'\n",
    "index = 0\n",
    "\n",
    "# load graph document\n",
    "with open(os.path.join(path, os.listdir(path)[index]), 'rb') as doc:\n",
    "    graph_doc = pickle.load(doc)\n",
    "\n",
    "print(f\"Example custom graph document:\\n\\n {graph_doc} \\n\\n \")\n",
    "\n",
    "print(\"Example custom graph document nodes :\\n\")\n",
    "for doc in graph_doc:\n",
    "    for node in doc.nodes:\n",
    "        print(f\"- {node.id} ({node.type})    :   {node.properties['description']}\")\n",
    "\n",
    "print(\"\\nExample custom graph document relationships:\\n\")\n",
    "for doc in graph_doc:\n",
    "    for relationship in doc.relationships:\n",
    "        print(f\"- {relationship.source} ({relationship.source_type}) - {relationship.type} -> {relationship.target} ({relationship.target_type})    :    description: {relationship.properties['description']}\")\n"
   ]
  },
  {
   "cell_type": "markdown",
   "metadata": {},
   "source": [
    "#### Name ambiguity resolution\n",
    "- within the source text, variation/ alias of organization name lead to ambiguity\n",
    "- this ambiguity is partly solved by mapping organization to a unique identifier: `VAT ID`\n",
    "- the dict: `entity_glossary` stores Ids and Alias as key-value pairs"
   ]
  },
  {
   "cell_type": "code",
   "execution_count": 14,
   "metadata": {},
   "outputs": [
    {
     "name": "stdout",
     "output_type": "stream",
     "text": [
      "{'alias': ['Valtion teknillinen tutkimuskeskus', 'VTT:ltä', 'Teknologian tutkimuskeskus VTT:llÃ¤', 'VTT â\\x80\\x93 beyond the obvious', 'VTT Oy', 'VTT TECHNICAL RESEAR CH CENTRE OF FINLAND LT D', 'VTT Technical Research Centres of Finland', 'VTT iBEX', 'Tehnologian tutkimuskeskus VTT', 'VTT:n', 'VTT technical research centre', 'VTT Technical Research Centre of Finland Ltd.', 'VTT:ltÃ¤', 'VTT (Technical Research Center of Finland)', 'Teknologian tutkimuskeskus VTT Oy', 'centre de recherche technique de Finlande', 'VTT:llÃ¤', 'Teknologian tutkimuskeskus VTT', 'TEKNOLOGIAN TUTKIMUSKESKUS VTT OY', 'VTT T echnical Research Centre of Finland', 'VTT TECHNICAL RESEARCH CENTRE OF FINLAND LTD', 'Technical Research Centre VTT', 'VTT Technical Research Centre', 'VTT Technical Research Centre in Finland', 'VTT Technical Research Centre of Finland Ltd', 'VTT-R-0025 5-20', 'VTT:t\\x0224', 'VTT:llä', 'VTT LaunchPad', 'Technologian tutkimuskeskus VTT Oy', 'Facebook, LinkedIn, YouTube and Instagram', 'Teknologian tutkimuskeskus VTT Oy:stä', 'VTT provides advanced technology development for production environments', 'Valtion Teknillinen Tutkimuskeskus', 'Technologian tutkimuskeskus VTT', 'VTT', \"VTT's\", 'Statens tekniska forskningscentral', 'TEKNOLOGIAN TUTKIMUSKESKUS VTT', 'Teknologian tutkimuskeskus VTT Oy:ssä', 'teknologian tutkimuskeskus VTT', 'VTT Technical Research Institute of Finland', 'Twitter @VTTFinland', 'Technical Research Centre of Finland', 'VTT â\\x80\\x93 then called the Technical Research Centre of Finland â\\x80\\x93', 'Technical Research Centre of Finland Ltd', 'VTT kertoo', 'VTT is a visionary research, development and innovation partner', 'VTT Technical Research Centre of FinlandPlace for a photo', 'www.vttresearch.com', 'Technical Research Centre of Finland (VTT)', 'VTT kertoo tiedotteessaan', 'Tekniska forskningscentralen', 'STT Teknologian tutkimuskeskus VTT', 'VTT Technical Research Centre of Finland.', 'VTT:n mukaan', 'VTT:ll\\x0228', 'VTT’s', 'VTT (Technical Research Centre of Finland)', 'VTT Technical Research Centre (VTT)', 'VTT Ab', 'VTTâ\\x80\\x99s', 'VTT Technical Research Centre of Finland', 'VTT (Technical research centre of Finland)', 'Teknologian tutkimuskeskus VTT:n', 'VTT*', 'Teknologian Tutkimuskeskus VTT', 'Valtion teknillinen tutkimuslaitos', 'VTT on', 'Teknologian tutkimuskeskusÂ\\xa0VTT:n', 'VTT Group', 'Tuomas Korpela, Solution Sales Lead, VTT Technical Research Centre of Finland', 'Valtion teknillinen tutkimuslaitos VTT'], 'source_id': [1088, 1089, 1090, 1091, 1092, 1093, 1094, 1095, 1096, 1097, 1098, 1105, 1106, 1107, 1108, 1110, 1117, 1118, 1119, 1120, 1125, 1126, 1128, 1136, 1138, 1139, 1140, 1141, 1144, 1145, 1146, 1147, 1148, 1151, 1163, 1168, 1169, 1170, 1173, 1175, 1176, 1177, 1179, 1180, 1181, 1182, 1183, 1184, 1185, 1186, 1187, 1189, 1190, 1191, 1192, 1193, 1194, 1196, 1197, 1198, 1202, 1203, 1204, 1205, 1207, 1208, 1211, 1212, 1218, 1220, 1223, 1229, 1230, 1231, 1232, 1233, 1234, 1235, 1238, 1241, 1242, 1243, 1244, 1246, 1249, 1257, 1263, 1264, 1266, 1267, 1269, 1270, 1271, 1272, 1273, 1274, 1275, 1276, 1277, 1281, 1282, 1283, 1284, 1285, 1286, 1287, 1288, 1289, 1290, 1291, 1297, 1298, 1300, 1301, 1302, 1303, 1306, 1307, 1308, 1309, 1310, 1311, 1312, 1316, 1317, 1319, 1320, 1322, 1324, 1325, 1326, 1327, 1328, 1329, 1330, 1332, 1333, 1334, 1336, 1337, 1338, 1339, 1343]}\n"
     ]
    }
   ],
   "source": [
    "# 3. load entity glossary\n",
    "import json\n",
    "entity_glossary = json.load(open('data/entity_glossary/entity_glossary.json', 'r', encoding = 'utf-8'))\n",
    "print(entity_glossary.get('FI26473754'))"
   ]
  },
  {
   "cell_type": "code",
   "execution_count": 15,
   "metadata": {},
   "outputs": [
    {
     "name": "stdout",
     "output_type": "stream",
     "text": [
      "Example custom graph document:\n",
      "\n",
      " [GraphDocument(nodes=[], relationships=[], source_document=Document(metadata={'source_id': 'TS-YHTYMA OY_797'}, page_content='\\r\\nTurun Sanomat                              Teknologian tutkimuskeskus VTT on nimittÃ¤nyt hallitukseensa Turun yliopiston rehtorin Jukka Kolan. Kola valittiin tehtÃ¤vÃ¤Ã¤n VTT:n yhtiÃ¶kokouksessa. Toisena uutena jÃ¤senenÃ¤ hallitukseen valittiin Futuricen toimitusjohtaja Teemu Moisala. VTT:n hallituksen puheenjohtajana toimii Suomen ABB:n toimitusjohtaja Pekka Tiitinen. Hallituksessa jatkavat Pekka Tiitisen lisÃ¤ksi teknologiajohtaja Heli Antila Fortum, talousjohtaja Harri LeiviskÃ¤ Dayton Groupista, toimitusjohtaja Matti Hietanen (Suomen Malmijalostuksesta ja osastopÃ¤Ã¤llikkÃ¶ Marja-Riitta Pihlman tyÃ¶- ja elinkeinoministeriÃ¶stÃ¤. Seuraa ja lue uutisia aiheesta Huomio! Tutustu ennen kommentoimista Turun Sanomien keskustelupalstan sÃ¤Ã¤ntÃ¶ihin tÃ¤Ã¤llÃ¤. Uudet nÃ¤kÃ¶kulmat keskustelussa vievÃ¤t asioita eteenpÃ¤in. Siksi Turun Sanomat kannustaa verkkosivuillaan aktiiviseen ja rakentavaan keskusteluun. TehdÃ¤Ã¤n yhdessÃ¤ Turun Sanomien keskustelupalstasta paikka, jossa on mukava keskustella asiallisesti kiinnostavista aiheista. Keskusteltavaksi avattavaista jutuista pÃ¤Ã¤ttÃ¤Ã¤ Turun Sanomien toimitus. Kaikista jutuista ei voi keskustella. Toimitus voi harkintansa mukaan sulkea tai poistaa aiemmin avoinna olleen keskusteluketjun. Verkkokeskusteluun osallistuminen edellyttÃ¤Ã¤ rekisterÃ¶itymistÃ¤ (jonka pÃ¤Ã¤set tekemÃ¤Ã¤n tÃ¤stÃ¤). RekisterÃ¶ityminen ei edellytÃ¤ lehden tilaamista. Keskusteluun voit kirjoittaa omalla nimellÃ¤si tai nimimerkillÃ¤. Suosittelemme vahvasti oman nimen kÃ¤yttÃ¶Ã¤, sillÃ¤ on arvokasta seistÃ¤ mielipiteidensÃ¤ takana. Toisen ihmisen nimellÃ¤ tai valheellisesti jonkun tahon edustajana esiintyminen on kiellettyÃ¤. Nimimerkkisi ei saa rikkoa hyviÃ¤ tapoja tai olla muutoin asiaton. Kaikki viestit tarkastetaan ennen julkaisua. Siksi viestit julkaistaan viiveellÃ¤. Keskusteluja moderoidaan arkisin kello 9â\\x80\\x9323 ja viikonloppuisin kello 8â\\x80\\x9322 muun tyÃ¶n ohessa. Toimitus voi lyhentÃ¤Ã¤ ja muokata kirjoituksia. Verkkokeskustelut ovat osa Turun Sanomien sisÃ¤ltÃ¶Ã¤, josta olemme vastuussa. Viestien julkaisusta pÃ¤Ã¤ttÃ¤Ã¤ toimitus oman harkintansa mukaan. Emme ehdi vastamaan yksittÃ¤isten kommenttien julkaisua tai julkaisematta jÃ¤ttÃ¤mistÃ¤ koskeviin tiedusteluihin. Jos kommenttiketjuun on mielestÃ¤si lipsahtanut sÃ¤Ã¤ntÃ¶jen vastainen tai muutoin epÃ¤asiallinen viesti, ilmoita asiattomasta viestistÃ¤ keskustelussa. Toimitus pÃ¤Ã¤ttÃ¤Ã¤, onko ilmoitus aiheellinen. Jos jutussa on virhe, kerro siitÃ¤ suoraan toimitukselle, Ã¤lÃ¤ keskusteluketjussa. Saamme tiedon nÃ¤in nopeammin ja voimme korjata virheen. VirheistÃ¤ voit kertoa sÃ¤hkÃ¶postitse osoitteeseen ts.verkkotoimitus@ts.fi. Toimitus voi kÃ¤yttÃ¤Ã¤ keskustelupalstalle tulleita viestejÃ¤ esimerkiksi aihetta kÃ¤sittelevÃ¤n jatkojutun julkaisun yhteydessÃ¤. PÃ¤ivÃ¤n aikana avautuneita keskusteluita on mahdollista kommentoida 24 tuntia artikkelin julkaisun jÃ¤lkeen. Toimitus voi avata paljon kommentteja kerÃ¤nneitÃ¤ juttuja uudelleen keskusteltavaksi tÃ¤mÃ¤n jÃ¤lkeenkin. Julkaistavaksi valittavien viestien on noudatettava seuraavia sÃ¤Ã¤ntÃ¶jÃ¤: SÃ¤Ã¤ntÃ¶jen rikkominen voi johtaa kommentoinnin tai nimimerkin muuttamisen estÃ¤miseen ilman erillistÃ¤ varoitusta, mÃ¤Ã¤rÃ¤ajaksi tai pysyvÃ¤sti. Huomio! Tutustu ennen kommentoimista Turun Sanomien keskustelupalstan sÃ¤Ã¤ntÃ¶ihin tÃ¤Ã¤llÃ¤. Uudet nÃ¤kÃ¶kulmat keskustelussa vievÃ¤t asioita eteenpÃ¤in. Siksi Turun Sanomat kannustaa verkkosivuillaan aktiiviseen ja rakentavaan keskusteluun. TehdÃ¤Ã¤n yhdessÃ¤ Turun Sanomien keskustelupalstasta paikka, jossa on mukava keskustella asiallisesti kiinnostavista aiheista. Keskusteltavaksi avattavaista jutuista pÃ¤Ã¤ttÃ¤Ã¤ Turun Sanomien toimitus. Kaikista jutuista ei voi keskustella. Toimitus voi harkintansa mukaan sulkea tai poistaa aiemmin avoinna olleen keskusteluketjun. Verkkokeskusteluun osallistuminen edellyttÃ¤Ã¤ rekisterÃ¶itymistÃ¤ (jonka pÃ¤Ã¤set tekemÃ¤Ã¤n tÃ¤stÃ¤). RekisterÃ¶ityminen ei edellytÃ¤ lehden tilaamista. Keskusteluun voit kirjoittaa omalla nimellÃ¤si tai nimimerkillÃ¤. Suosittelemme vahvasti oman nimen kÃ¤yttÃ¶Ã¤, sillÃ¤ on arvokasta seistÃ¤ mielipiteidensÃ¤ takana. Toisen ihmisen nimellÃ¤ tai valheellisesti jonkun tahon edustajana esiintyminen on kiellettyÃ¤. Nimimerkkisi ei saa rikkoa hyviÃ¤ tapoja tai olla muutoin asiaton. Kaikki viestit tarkastetaan ennen julkaisua. Siksi viestit julkaistaan viiveellÃ¤. Keskusteluja moderoidaan arkisin kello 9â\\x80\\x9323 ja viikonloppuisin kello 8â\\x80\\x9322 muun tyÃ¶n ohessa. Toimitus voi lyhentÃ¤Ã¤ ja muokata kirjoituksia. Verkkokeskustelut ovat osa Turun Sanomien sisÃ¤ltÃ¶Ã¤, josta olemme vastuussa. Viestien julkaisusta pÃ¤Ã¤ttÃ¤Ã¤ toimitus oman harkintansa mukaan. Emme ehdi vastamaan yksittÃ¤isten kommenttien julkaisua tai julkaisematta jÃ¤ttÃ¤mistÃ¤ koskeviin tiedusteluihin. Jos kommenttiketjuun on mielestÃ¤si lipsahtanut sÃ¤Ã¤ntÃ¶jen vastainen tai muutoin epÃ¤asiallinen viesti, ilmoita asiattomasta viestistÃ¤ keskustelussa. Toimitus pÃ¤Ã¤ttÃ¤Ã¤, onko ilmoitus aiheellinen. Jos jutussa on virhe, kerro siitÃ¤ suoraan toimitukselle, Ã¤lÃ¤ keskusteluketjussa. Saamme tiedon nÃ¤in nopeammin ja voimme korjata virheen. VirheistÃ¤ voit kertoa sÃ¤hkÃ¶postitse osoitteeseen ts.verkkotoimitus@ts.fi. Toimitus voi kÃ¤yttÃ¤Ã¤ keskustelupalstalle tulleita viestejÃ¤ esimerkiksi aihetta kÃ¤sittelevÃ¤n jatkojutun julkaisun yhteydessÃ¤. PÃ¤ivÃ¤n aikana avautuneita keskusteluita on mahdollista kommentoida 24 tuntia artikkelin julkaisun jÃ¤lkeen. Toimitus voi avata paljon kommentteja kerÃ¤nneitÃ¤ juttuja uudelleen keskusteltavaksi tÃ¤mÃ¤n jÃ¤lkeenkin. Julkaistavaksi valittavien viestien on noudatettava seuraavia sÃ¤Ã¤ntÃ¶jÃ¤: SÃ¤Ã¤ntÃ¶jen rikkominen voi johtaa kommentoinnin tai nimimerkin muuttamisen estÃ¤miseen ilman erillistÃ¤ varoitusta, mÃ¤Ã¤rÃ¤ajaksi tai pysyvÃ¤sti. Olitko paikalla? LÃ¤hetÃ¤ uutisvinkki, kuva tai video Copyright Â© Turun Sanomat Oy 27. vuosikerta Vastaava pÃ¤Ã¤toimittaja: Jussi Orell ISSN: 0356-133X 2000 â\\x80\\x94 2024 Verkkotoimitus: 050 563 9576 ts.verkkotoimitus@ts.fi'))] \n",
      "\n",
      " \n",
      "Example custom graph document nodes :\n",
      "\n",
      "\n",
      "Example custom graph document relationships:\n",
      "\n"
     ]
    }
   ],
   "source": [
    "# 2.3 loading example of custom graph document\n",
    "\n",
    "import pickle, os\n",
    "path = 'data/graph_docs_names_resolved/'\n",
    "index = 0\n",
    "\n",
    "# load graph document\n",
    "with open(os.path.join(path, os.listdir(path)[index]), 'rb') as doc:\n",
    "    graph_doc = pickle.load(doc)\n",
    "\n",
    "print(f\"Example custom graph document:\\n\\n {graph_doc} \\n\\n \")\n",
    "\n",
    "print(\"Example custom graph document nodes :\\n\")\n",
    "for doc in graph_doc:\n",
    "    for node in doc.nodes[:3]:\n",
    "        print(f\"- {node.id} ({node.type})    :   {node.properties['description']}\")\n",
    "\n",
    "print(\"\\nExample custom graph document relationships:\\n\")\n",
    "for doc in graph_doc:\n",
    "    for relationship in doc.relationships[:3]:\n",
    "        print(f\"- {relationship.source} ({relationship.source_type}) - {relationship.type} -> {relationship.target} ({relationship.target_type})    :    description: {relationship.properties['description']}\")\n"
   ]
  },
  {
   "cell_type": "code",
   "execution_count": 16,
   "metadata": {},
   "outputs": [
    {
     "name": "stderr",
     "output_type": "stream",
     "text": [
      "Entities resolved:  96%|█████████▌| 1053/1100 [00:00<00:00, 1760.65it/s]\n"
     ]
    },
    {
     "data": {
      "text/html": [
       "<div>\n",
       "<style scoped>\n",
       "    .dataframe tbody tr th:only-of-type {\n",
       "        vertical-align: middle;\n",
       "    }\n",
       "\n",
       "    .dataframe tbody tr th {\n",
       "        vertical-align: top;\n",
       "    }\n",
       "\n",
       "    .dataframe thead th {\n",
       "        text-align: right;\n",
       "    }\n",
       "</style>\n",
       "<table border=\"1\" class=\"dataframe\">\n",
       "  <thead>\n",
       "    <tr style=\"text-align: right;\">\n",
       "      <th></th>\n",
       "      <th>Document number</th>\n",
       "      <th>Source Company</th>\n",
       "      <th>relationship description</th>\n",
       "      <th>source id</th>\n",
       "      <th>source type</th>\n",
       "      <th>source english_id</th>\n",
       "      <th>source description</th>\n",
       "      <th>relationship type</th>\n",
       "      <th>target id</th>\n",
       "      <th>target type</th>\n",
       "      <th>target english_id</th>\n",
       "      <th>target description</th>\n",
       "      <th>Link Source Text</th>\n",
       "      <th>Source Text</th>\n",
       "    </tr>\n",
       "  </thead>\n",
       "  <tbody>\n",
       "    <tr>\n",
       "      <th>0</th>\n",
       "      <td>0</td>\n",
       "      <td>FORTUM OYJ</td>\n",
       "      <td>Fortum Corporation is responsible for executin...</td>\n",
       "      <td>First nuclear decommissioning project in Finla...</td>\n",
       "      <td>Innovation</td>\n",
       "      <td>First nuclear decommissioning project in Finla...</td>\n",
       "      <td>The first nuclear reactor decommissioning proj...</td>\n",
       "      <td>DEVELOPED_BY</td>\n",
       "      <td>FI14636114</td>\n",
       "      <td>Organization</td>\n",
       "      <td>Fortum Corporation</td>\n",
       "      <td>A company with over 40 years of experience in ...</td>\n",
       "      <td>https://www.fortum.com/media/2020/04/fortum-aw...</td>\n",
       "      <td>Press release\\n 08 April 2020, 7:00 EEST     ...</td>\n",
       "    </tr>\n",
       "    <tr>\n",
       "      <th>1</th>\n",
       "      <td>0</td>\n",
       "      <td>FORTUM OYJ</td>\n",
       "      <td>VTT Technical Research Centre of Finland Ltd c...</td>\n",
       "      <td>First nuclear decommissioning project in Finla...</td>\n",
       "      <td>Innovation</td>\n",
       "      <td>First nuclear decommissioning project in Finla...</td>\n",
       "      <td>The first nuclear reactor decommissioning proj...</td>\n",
       "      <td>DEVELOPED_BY</td>\n",
       "      <td>FI26473754</td>\n",
       "      <td>Organization</td>\n",
       "      <td>VTT Technical Research Centre of Finland Ltd</td>\n",
       "      <td>A research organization in Finland contracting...</td>\n",
       "      <td>https://www.fortum.com/media/2020/04/fortum-aw...</td>\n",
       "      <td>Press release\\n 08 April 2020, 7:00 EEST     ...</td>\n",
       "    </tr>\n",
       "    <tr>\n",
       "      <th>2</th>\n",
       "      <td>0</td>\n",
       "      <td>FORTUM OYJ</td>\n",
       "      <td>Fortum Corporation and VTT Technical Research ...</td>\n",
       "      <td>FI14636114</td>\n",
       "      <td>Organization</td>\n",
       "      <td>Fortum Corporation</td>\n",
       "      <td>A company with over 40 years of experience in ...</td>\n",
       "      <td>COLLABORATION</td>\n",
       "      <td>FI26473754</td>\n",
       "      <td>Organization</td>\n",
       "      <td>VTT Technical Research Centre of Finland Ltd</td>\n",
       "      <td>A research organization in Finland contracting...</td>\n",
       "      <td>https://www.fortum.com/media/2020/04/fortum-aw...</td>\n",
       "      <td>Press release\\n 08 April 2020, 7:00 EEST     ...</td>\n",
       "    </tr>\n",
       "    <tr>\n",
       "      <th>3</th>\n",
       "      <td>0</td>\n",
       "      <td>FORTUM OYJ</td>\n",
       "      <td>Fortum Corporation has been awarded and is con...</td>\n",
       "      <td>FiR1 nuclear reactor decommissioning</td>\n",
       "      <td>Innovation</td>\n",
       "      <td>FiR1 nuclear reactor decommissioning</td>\n",
       "      <td>The process of planning, preparatory measures,...</td>\n",
       "      <td>DEVELOPED_BY</td>\n",
       "      <td>FI14636114</td>\n",
       "      <td>Organization</td>\n",
       "      <td>Fortum Corporation</td>\n",
       "      <td>A company with over 40 years of experience in ...</td>\n",
       "      <td>https://www.fortum.com/media/2020/04/fortum-aw...</td>\n",
       "      <td>Press release\\n 08 April 2020, 7:00 EEST     ...</td>\n",
       "    </tr>\n",
       "    <tr>\n",
       "      <th>4</th>\n",
       "      <td>0</td>\n",
       "      <td>FORTUM OYJ</td>\n",
       "      <td>The Radiation and Nuclear Safety Authority of ...</td>\n",
       "      <td>FiR1 nuclear reactor decommissioning</td>\n",
       "      <td>Innovation</td>\n",
       "      <td>FiR1 nuclear reactor decommissioning</td>\n",
       "      <td>The process of planning, preparatory measures,...</td>\n",
       "      <td>DEVELOPED_BY</td>\n",
       "      <td>temp_1</td>\n",
       "      <td>Organization</td>\n",
       "      <td>Radiation and Nuclear Safety Authority of Finl...</td>\n",
       "      <td>The national regulatory authority supervising ...</td>\n",
       "      <td>https://www.fortum.com/media/2020/04/fortum-aw...</td>\n",
       "      <td>Press release\\n 08 April 2020, 7:00 EEST     ...</td>\n",
       "    </tr>\n",
       "  </tbody>\n",
       "</table>\n",
       "</div>"
      ],
      "text/plain": [
       "   Document number Source Company  \\\n",
       "0                0     FORTUM OYJ   \n",
       "1                0     FORTUM OYJ   \n",
       "2                0     FORTUM OYJ   \n",
       "3                0     FORTUM OYJ   \n",
       "4                0     FORTUM OYJ   \n",
       "\n",
       "                            relationship description  \\\n",
       "0  Fortum Corporation is responsible for executin...   \n",
       "1  VTT Technical Research Centre of Finland Ltd c...   \n",
       "2  Fortum Corporation and VTT Technical Research ...   \n",
       "3  Fortum Corporation has been awarded and is con...   \n",
       "4  The Radiation and Nuclear Safety Authority of ...   \n",
       "\n",
       "                                           source id   source type  \\\n",
       "0  First nuclear decommissioning project in Finla...    Innovation   \n",
       "1  First nuclear decommissioning project in Finla...    Innovation   \n",
       "2                                         FI14636114  Organization   \n",
       "3               FiR1 nuclear reactor decommissioning    Innovation   \n",
       "4               FiR1 nuclear reactor decommissioning    Innovation   \n",
       "\n",
       "                                   source english_id  \\\n",
       "0  First nuclear decommissioning project in Finla...   \n",
       "1  First nuclear decommissioning project in Finla...   \n",
       "2                                 Fortum Corporation   \n",
       "3               FiR1 nuclear reactor decommissioning   \n",
       "4               FiR1 nuclear reactor decommissioning   \n",
       "\n",
       "                                  source description relationship type  \\\n",
       "0  The first nuclear reactor decommissioning proj...      DEVELOPED_BY   \n",
       "1  The first nuclear reactor decommissioning proj...      DEVELOPED_BY   \n",
       "2  A company with over 40 years of experience in ...     COLLABORATION   \n",
       "3  The process of planning, preparatory measures,...      DEVELOPED_BY   \n",
       "4  The process of planning, preparatory measures,...      DEVELOPED_BY   \n",
       "\n",
       "    target id   target type  \\\n",
       "0  FI14636114  Organization   \n",
       "1  FI26473754  Organization   \n",
       "2  FI26473754  Organization   \n",
       "3  FI14636114  Organization   \n",
       "4      temp_1  Organization   \n",
       "\n",
       "                                   target english_id  \\\n",
       "0                                 Fortum Corporation   \n",
       "1       VTT Technical Research Centre of Finland Ltd   \n",
       "2       VTT Technical Research Centre of Finland Ltd   \n",
       "3                                 Fortum Corporation   \n",
       "4  Radiation and Nuclear Safety Authority of Finl...   \n",
       "\n",
       "                                  target description  \\\n",
       "0  A company with over 40 years of experience in ...   \n",
       "1  A research organization in Finland contracting...   \n",
       "2  A research organization in Finland contracting...   \n",
       "3  A company with over 40 years of experience in ...   \n",
       "4  The national regulatory authority supervising ...   \n",
       "\n",
       "                                    Link Source Text  \\\n",
       "0  https://www.fortum.com/media/2020/04/fortum-aw...   \n",
       "1  https://www.fortum.com/media/2020/04/fortum-aw...   \n",
       "2  https://www.fortum.com/media/2020/04/fortum-aw...   \n",
       "3  https://www.fortum.com/media/2020/04/fortum-aw...   \n",
       "4  https://www.fortum.com/media/2020/04/fortum-aw...   \n",
       "\n",
       "                                         Source Text  \n",
       "0   Press release\\n 08 April 2020, 7:00 EEST     ...  \n",
       "1   Press release\\n 08 April 2020, 7:00 EEST     ...  \n",
       "2   Press release\\n 08 April 2020, 7:00 EEST     ...  \n",
       "3   Press release\\n 08 April 2020, 7:00 EEST     ...  \n",
       "4   Press release\\n 08 April 2020, 7:00 EEST     ...  "
      ]
     },
     "execution_count": 16,
     "metadata": {},
     "output_type": "execute_result"
    }
   ],
   "source": [
    "# transform graph document into dataframe\n",
    "import pandas as pd\n",
    "from tqdm import tqdm\n",
    "\n",
    "\n",
    "df_relationships_comp_url = pd.DataFrame(index= None)\n",
    "\n",
    "with tqdm(total= len(df), desc=\"Entities resolved\") as pbar:\n",
    "    for i, row in df.iterrows(): \n",
    "        try:     \n",
    "            Graph_Docs = pickle.load(open(os.path.join('data/graph_docs_names_resolved/', f\"{row['Company name'].replace(' ','_')}_{i}.pkl\"), 'rb'))[0] # load graph doc\n",
    "                \n",
    "            node_description = {} # unique identifier\n",
    "            node_en_id = {}\n",
    "            for node in Graph_Docs.nodes:\n",
    "                node_description[node.id] = node.properties['description']\n",
    "                node_en_id[node.id] = node.properties['english_id']\n",
    "\n",
    "            # get relationship triplets\n",
    "            relationship_rows = []\n",
    "            for i in range(len(Graph_Docs.relationships)):\n",
    "            \n",
    "                relationship_rows.append({\n",
    "                    \"Document number\": row['source_index'],\n",
    "                    \"Source Company\": row[\"Company name\"],\n",
    "                    \"relationship description\": Graph_Docs.relationships[i].properties['description'],\n",
    "                    \"source id\": Graph_Docs.relationships[i].source,\n",
    "                    \"source type\": Graph_Docs.relationships[i].source_type,\n",
    "                    \"source english_id\": node_en_id.get(Graph_Docs.relationships[i].source, None),\n",
    "                    \"source description\": node_description.get(Graph_Docs.relationships[i].source, None),\n",
    "                    \"relationship type\": Graph_Docs.relationships[i].type,\n",
    "                    \"target id\": Graph_Docs.relationships[i].target,\n",
    "                    \"target type\": Graph_Docs.relationships[i].target_type,\n",
    "                    \"target english_id\": node_en_id.get(Graph_Docs.relationships[i].target, None),\n",
    "                    \"target description\": node_description.get(Graph_Docs.relationships[i].target, None),\n",
    "                    \"Link Source Text\": row[\"Link\"],\n",
    "                    \"Source Text\": row[\"text_content\"],\n",
    "                })\n",
    "\n",
    "            df_relationships_comp_url = pd.concat([df_relationships_comp_url, pd.DataFrame(relationship_rows, index= None)], ignore_index=True)\n",
    "\n",
    "        except:\n",
    "            continue\n",
    "\n",
    "        pbar.update(1)\n",
    "\n",
    "df_relationships_comp_url.head(5)"
   ]
  },
  {
   "cell_type": "markdown",
   "metadata": {},
   "source": [
    "#### Innovation and Collaboration disclosure on VTT-domain\n",
    "- in addition to the discussion of VTT contribution on company websites, the second datasource includes websites under the vtt domain that discuss collaboration with other companies\n",
    "- the list of source urls is provided under `data/dataframes/comp_mentions_vtt_domain.vsc`\n",
    "- the extract relationships as custom objects are provided under `data/dataframes/graph_docs_vtt_domain`\n",
    "- the extract relationships with organization resolution under `data/dataframes/graph_docs_vtt_domain`"
   ]
  },
  {
   "cell_type": "code",
   "execution_count": 17,
   "metadata": {},
   "outputs": [
    {
     "name": "stderr",
     "output_type": "stream",
     "text": [
      "Entities resolved:  84%|████████▎ | 1159/1387 [00:00<00:00, 1489.97it/s]\n"
     ]
    },
    {
     "data": {
      "text/html": [
       "<div>\n",
       "<style scoped>\n",
       "    .dataframe tbody tr th:only-of-type {\n",
       "        vertical-align: middle;\n",
       "    }\n",
       "\n",
       "    .dataframe tbody tr th {\n",
       "        vertical-align: top;\n",
       "    }\n",
       "\n",
       "    .dataframe thead th {\n",
       "        text-align: right;\n",
       "    }\n",
       "</style>\n",
       "<table border=\"1\" class=\"dataframe\">\n",
       "  <thead>\n",
       "    <tr style=\"text-align: right;\">\n",
       "      <th></th>\n",
       "      <th>Document number</th>\n",
       "      <th>VAT id</th>\n",
       "      <th>relationship description</th>\n",
       "      <th>source id</th>\n",
       "      <th>source type</th>\n",
       "      <th>source english_id</th>\n",
       "      <th>source description</th>\n",
       "      <th>relationship type</th>\n",
       "      <th>target id</th>\n",
       "      <th>target type</th>\n",
       "      <th>target english_id</th>\n",
       "      <th>target description</th>\n",
       "      <th>Link Source Text</th>\n",
       "      <th>Source Text</th>\n",
       "    </tr>\n",
       "  </thead>\n",
       "  <tbody>\n",
       "    <tr>\n",
       "      <th>0</th>\n",
       "      <td>0</td>\n",
       "      <td>FI10292588</td>\n",
       "      <td>FiR 1 nuclear research reactor was developed, ...</td>\n",
       "      <td>FiR 1</td>\n",
       "      <td>Innovation</td>\n",
       "      <td>FiR 1</td>\n",
       "      <td>FiR 1 is a Triga-type nuclear research reactor...</td>\n",
       "      <td>DEVELOPED_BY</td>\n",
       "      <td>FI26473754</td>\n",
       "      <td>Organization</td>\n",
       "      <td>VTT Technical Research Centre of Finland Ltd.</td>\n",
       "      <td>VTT is a Finnish research and innovation partn...</td>\n",
       "      <td>https://www.vttresearch.com/en/news-and-ideas/...</td>\n",
       "      <td>Skip to main content Beyond the obvious Open m...</td>\n",
       "    </tr>\n",
       "    <tr>\n",
       "      <th>1</th>\n",
       "      <td>0</td>\n",
       "      <td>FI10292588</td>\n",
       "      <td>Centre for Nuclear Safety is being developed a...</td>\n",
       "      <td>Centre for Nuclear Safety</td>\n",
       "      <td>Innovation</td>\n",
       "      <td>Centre for Nuclear Safety</td>\n",
       "      <td>A modern research facility under construction ...</td>\n",
       "      <td>DEVELOPED_BY</td>\n",
       "      <td>FI26473754</td>\n",
       "      <td>Organization</td>\n",
       "      <td>VTT Technical Research Centre of Finland Ltd.</td>\n",
       "      <td>VTT is a Finnish research and innovation partn...</td>\n",
       "      <td>https://www.vttresearch.com/en/news-and-ideas/...</td>\n",
       "      <td>Skip to main content Beyond the obvious Open m...</td>\n",
       "    </tr>\n",
       "    <tr>\n",
       "      <th>2</th>\n",
       "      <td>3</td>\n",
       "      <td>FI08932048</td>\n",
       "      <td>The innovation approach 'Beyond the obvious' i...</td>\n",
       "      <td>Beyond the obvious</td>\n",
       "      <td>Innovation</td>\n",
       "      <td>Beyond the obvious</td>\n",
       "      <td>An innovation approach promising to provide so...</td>\n",
       "      <td>DEVELOPED_BY</td>\n",
       "      <td>FI26473754</td>\n",
       "      <td>Organization</td>\n",
       "      <td>VTT Technical Research Centre of Finland Ltd</td>\n",
       "      <td>A visionary research and innovation partner fo...</td>\n",
       "      <td>https://www.vttresearch.com/en/news-and-ideas/...</td>\n",
       "      <td>Skip to main content Beyond the obvious Open m...</td>\n",
       "    </tr>\n",
       "    <tr>\n",
       "      <th>3</th>\n",
       "      <td>4</td>\n",
       "      <td>FI01111693</td>\n",
       "      <td>Data-Driven Bioeconomy project is developed by...</td>\n",
       "      <td>Data-Driven Bioeconomy project</td>\n",
       "      <td>Innovation</td>\n",
       "      <td>Data-Driven Bioeconomy project</td>\n",
       "      <td>An innovation using Big Data for sustainable u...</td>\n",
       "      <td>DEVELOPED_BY</td>\n",
       "      <td>FI26473754</td>\n",
       "      <td>Organization</td>\n",
       "      <td>VTT Technical Research Centre of Finland</td>\n",
       "      <td>A Finnish research and innovation partner work...</td>\n",
       "      <td>https://www.vttresearch.com/en/news-and-ideas/...</td>\n",
       "      <td>Skip to main content Beyond the obvious Open m...</td>\n",
       "    </tr>\n",
       "    <tr>\n",
       "      <th>4</th>\n",
       "      <td>4</td>\n",
       "      <td>FI01111693</td>\n",
       "      <td>Data-Driven Bioeconomy project's forestry pilo...</td>\n",
       "      <td>Data-Driven Bioeconomy project</td>\n",
       "      <td>Innovation</td>\n",
       "      <td>Data-Driven Bioeconomy project</td>\n",
       "      <td>An innovation using Big Data for sustainable u...</td>\n",
       "      <td>DEVELOPED_BY</td>\n",
       "      <td>temp_1141</td>\n",
       "      <td>Organization</td>\n",
       "      <td>MHG Systems</td>\n",
       "      <td>An organization leading pilots developing fore...</td>\n",
       "      <td>https://www.vttresearch.com/en/news-and-ideas/...</td>\n",
       "      <td>Skip to main content Beyond the obvious Open m...</td>\n",
       "    </tr>\n",
       "  </tbody>\n",
       "</table>\n",
       "</div>"
      ],
      "text/plain": [
       "   Document number      VAT id  \\\n",
       "0                0  FI10292588   \n",
       "1                0  FI10292588   \n",
       "2                3  FI08932048   \n",
       "3                4  FI01111693   \n",
       "4                4  FI01111693   \n",
       "\n",
       "                            relationship description  \\\n",
       "0  FiR 1 nuclear research reactor was developed, ...   \n",
       "1  Centre for Nuclear Safety is being developed a...   \n",
       "2  The innovation approach 'Beyond the obvious' i...   \n",
       "3  Data-Driven Bioeconomy project is developed by...   \n",
       "4  Data-Driven Bioeconomy project's forestry pilo...   \n",
       "\n",
       "                        source id source type               source english_id  \\\n",
       "0                           FiR 1  Innovation                           FiR 1   \n",
       "1       Centre for Nuclear Safety  Innovation       Centre for Nuclear Safety   \n",
       "2              Beyond the obvious  Innovation              Beyond the obvious   \n",
       "3  Data-Driven Bioeconomy project  Innovation  Data-Driven Bioeconomy project   \n",
       "4  Data-Driven Bioeconomy project  Innovation  Data-Driven Bioeconomy project   \n",
       "\n",
       "                                  source description relationship type  \\\n",
       "0  FiR 1 is a Triga-type nuclear research reactor...      DEVELOPED_BY   \n",
       "1  A modern research facility under construction ...      DEVELOPED_BY   \n",
       "2  An innovation approach promising to provide so...      DEVELOPED_BY   \n",
       "3  An innovation using Big Data for sustainable u...      DEVELOPED_BY   \n",
       "4  An innovation using Big Data for sustainable u...      DEVELOPED_BY   \n",
       "\n",
       "    target id   target type                              target english_id  \\\n",
       "0  FI26473754  Organization  VTT Technical Research Centre of Finland Ltd.   \n",
       "1  FI26473754  Organization  VTT Technical Research Centre of Finland Ltd.   \n",
       "2  FI26473754  Organization   VTT Technical Research Centre of Finland Ltd   \n",
       "3  FI26473754  Organization       VTT Technical Research Centre of Finland   \n",
       "4   temp_1141  Organization                                    MHG Systems   \n",
       "\n",
       "                                  target description  \\\n",
       "0  VTT is a Finnish research and innovation partn...   \n",
       "1  VTT is a Finnish research and innovation partn...   \n",
       "2  A visionary research and innovation partner fo...   \n",
       "3  A Finnish research and innovation partner work...   \n",
       "4  An organization leading pilots developing fore...   \n",
       "\n",
       "                                    Link Source Text  \\\n",
       "0  https://www.vttresearch.com/en/news-and-ideas/...   \n",
       "1  https://www.vttresearch.com/en/news-and-ideas/...   \n",
       "2  https://www.vttresearch.com/en/news-and-ideas/...   \n",
       "3  https://www.vttresearch.com/en/news-and-ideas/...   \n",
       "4  https://www.vttresearch.com/en/news-and-ideas/...   \n",
       "\n",
       "                                         Source Text  \n",
       "0  Skip to main content Beyond the obvious Open m...  \n",
       "1  Skip to main content Beyond the obvious Open m...  \n",
       "2  Skip to main content Beyond the obvious Open m...  \n",
       "3  Skip to main content Beyond the obvious Open m...  \n",
       "4  Skip to main content Beyond the obvious Open m...  "
      ]
     },
     "execution_count": 17,
     "metadata": {},
     "output_type": "execute_result"
    }
   ],
   "source": [
    "# transform graph document into dataframe\n",
    "import pandas as pd\n",
    "from tqdm import tqdm\n",
    "\n",
    "df_relationships_vtt_domain = pd.DataFrame(index= None)\n",
    "df_vtt_domain = pd.read_csv('data/dataframes/comp_mentions_vtt_domain.csv')\n",
    "\n",
    "with tqdm(total= len(df_vtt_domain), desc=\"Entities resolved\") as pbar:\n",
    "    for index_source, row in df_vtt_domain.iterrows(): \n",
    "        try:     \n",
    "            Graph_Docs = pickle.load(open(os.path.join('data/graph_docs_vtt_domain_names_resolved/', f\"{row['Vat_id'].replace(' ','_')}_{index_source}.pkl\"), 'rb'))[0] # load graph doc\n",
    "                \n",
    "            node_description = {} # unique identifier\n",
    "            node_en_id = {}\n",
    "            for node in Graph_Docs.nodes:\n",
    "                node_description[node.id] = node.properties['description']\n",
    "                node_en_id[node.id] = node.properties['english_id']\n",
    "\n",
    "            # get relationship triplets\n",
    "            relationship_rows = []\n",
    "            for i in range(len(Graph_Docs.relationships)):\n",
    "            \n",
    "                relationship_rows.append({\n",
    "                    \"Document number\": index_source,\n",
    "                    \"VAT id\": row[\"Vat_id\"],\n",
    "                    \"relationship description\": Graph_Docs.relationships[i].properties['description'],\n",
    "                    \"source id\": Graph_Docs.relationships[i].source,\n",
    "                    \"source type\": Graph_Docs.relationships[i].source_type,\n",
    "                    \"source english_id\": node_en_id.get(Graph_Docs.relationships[i].source, None),\n",
    "                    \"source description\": node_description.get(Graph_Docs.relationships[i].source, None),\n",
    "                    \"relationship type\": Graph_Docs.relationships[i].type,\n",
    "                    \"target id\": Graph_Docs.relationships[i].target,\n",
    "                    \"target type\": Graph_Docs.relationships[i].target_type,\n",
    "                    \"target english_id\": node_en_id.get(Graph_Docs.relationships[i].target, None),\n",
    "                    \"target description\": node_description.get(Graph_Docs.relationships[i].target, None),\n",
    "                    \"Link Source Text\": row[\"source_url\"],\n",
    "                    \"Source Text\": row[\"main_body\"],\n",
    "                })\n",
    "\n",
    "            df_relationships_vtt_domain = pd.concat([df_relationships_vtt_domain, pd.DataFrame(relationship_rows, index= None)], ignore_index=True)\n",
    "\n",
    "        except:\n",
    "            continue\n",
    "\n",
    "        \n",
    "        pbar.update(1)\n",
    "\n",
    "df_relationships_vtt_domain.head(5)"
   ]
  },
  {
   "cell_type": "markdown",
   "metadata": {},
   "source": []
  },
  {
   "cell_type": "code",
   "execution_count": 31,
   "metadata": {},
   "outputs": [],
   "source": [
    "from sentence_transformers import SentenceTransformer, util\n",
    "\n",
    "model = SentenceTransformer('paraphrase-MiniLM-L6-v2')"
   ]
  },
  {
   "cell_type": "code",
   "execution_count": 29,
   "metadata": {},
   "outputs": [],
   "source": [
    "df_relationships_vtt_domain.to_csv(\"results/df_relationships_vtt_domain.csv\")"
   ]
  },
  {
   "cell_type": "code",
   "execution_count": 51,
   "metadata": {},
   "outputs": [],
   "source": [
    "df_relationships_vtt_domain[\"text_to_compare\"] = (\n",
    "    df_relationships_vtt_domain[\"source id\"].fillna(\"\") + \" \" +\n",
    "    df_relationships_vtt_domain[\"source english_id\"].fillna(\"\") + \" \" +\n",
    "    df_relationships_vtt_domain[\"source description\"].fillna(\"\"))\n",
    "\n",
    "df_relationships_vtt_domain = df_relationships_vtt_domain[df_relationships_vtt_domain[\"source type\"] != \"Organization\"]\n",
    "df_relationships_vtt_domain = df_relationships_vtt_domain.drop_duplicates(subset=\"source description\", keep=\"first\")\n",
    "\n",
    "embeddings = model.encode(df_relationships_vtt_domain[\"text_to_compare\"].tolist(), convert_to_tensor=True)"
   ]
  },
  {
   "cell_type": "code",
   "execution_count": 52,
   "metadata": {},
   "outputs": [
    {
     "data": {
      "text/plain": [
       "1504"
      ]
     },
     "execution_count": 52,
     "metadata": {},
     "output_type": "execute_result"
    }
   ],
   "source": [
    "len(df_relationships_vtt_domain)"
   ]
  },
  {
   "cell_type": "code",
   "execution_count": 54,
   "metadata": {},
   "outputs": [
    {
     "name": "stdout",
     "output_type": "stream",
     "text": [
      "Comparing entries pair by pair...\n"
     ]
    },
    {
     "name": "stderr",
     "output_type": "stream",
     "text": [
      "  1%|          | 8/1504 [00:05<15:56,  1.56it/s]"
     ]
    },
    {
     "name": "stdout",
     "output_type": "stream",
     "text": [
      "\n",
      "Similarity: 0.874 | From: 9 To: 10\n",
      "→ Source 9 description: A compostable and lightweight packaging material developed by combining cellulose films with different, complementary properties, suitable for dry and greasy products, which extends shelf life and reduces food waste and microplastics problem.\n",
      "→ Source 10 description: A compostable and lightweight packaging material made of cellulose films developed by VTT that reduces the use of plastics, extends shelf life of food, and reduces food waste and microplastics.\n"
     ]
    },
    {
     "name": "stderr",
     "output_type": "stream",
     "text": [
      "  1%|          | 10/1504 [00:06<15:38,  1.59it/s]"
     ]
    },
    {
     "name": "stdout",
     "output_type": "stream",
     "text": [
      "\n",
      "Similarity: 0.858 | From: 11 To: 12\n",
      "→ Source 11 description: A new fungal production platform known as C1, developed for vaccines and therapeutic proteins, notable for low protease activity and high production efficiency.\n",
      "→ Source 12 description: A new fungal production platform for vaccines and therapeutic proteins developed by improving Dyadic's C1 Myceliophthora thermophila fungus.\n"
     ]
    },
    {
     "name": "stderr",
     "output_type": "stream",
     "text": [
      "  1%|          | 13/1504 [00:08<15:37,  1.59it/s]"
     ]
    },
    {
     "name": "stdout",
     "output_type": "stream",
     "text": [
      "\n",
      "Similarity: 0.808 | From: 14 To: 38\n",
      "→ Source 14 description: New technological components in silicon photonics and optical data transfer developed and commercialised through VTT and Hitachi cooperation.\n",
      "→ Source 38 description: The silicon photonics products developed to create compact, efficient, and affordable optical signal-based devices for measuring, imaging, and data transfer.\n"
     ]
    },
    {
     "name": "stderr",
     "output_type": "stream",
     "text": [
      "  1%|▏         | 20/1504 [00:12<15:27,  1.60it/s]"
     ]
    },
    {
     "name": "stdout",
     "output_type": "stream",
     "text": [
      "\n",
      "Similarity: 0.828 | From: 21 To: 216\n",
      "→ Source 21 description: An innovation project focused on printed intelligence, manufacturing rapid tests, and piloting them with real use cases, including rapid diagnostics test development and sweat sample analytics.\n",
      "→ Source 216 description: VTT-led commercialization innovation project for rapid diagnostic tests for health and well-being, focusing on printed intelligence and development of diagnostic test samples and analysis methods.\n"
     ]
    },
    {
     "name": "stderr",
     "output_type": "stream",
     "text": [
      "  2%|▏         | 28/1504 [00:17<15:21,  1.60it/s]"
     ]
    },
    {
     "name": "stdout",
     "output_type": "stream",
     "text": [
      "\n",
      "Similarity: 0.863 | From: 28 To: 1273\n",
      "→ Source 28 description: A new material made of renewable resources developed by Paptic that can replace plastic, paper, and canvas bags, with plastic-like features such as flexibility, moisture resistance, and heat-sealing, and is more water-resistant than paper.\n",
      "→ Source 1273 description: A new renewable material developed by Paptic Oy to replace plastic, paper, and fabric, with plastic-like properties such as flexibility, water resistance, and heat sealability, made from Finnish softwood fibers and other biobased raw materials.\n",
      "\n",
      "Similarity: 0.926 | From: 29 To: 30\n",
      "→ Source 29 description: Innovative technologies and solutions for mechanical and rotating propulsion technology in extreme Arctic conditions, developed to increase thruster lifetimes, decrease maintenance needs, and improve reliability.\n",
      "→ Source 30 description: Innovative technologies and solutions developed for mechanical and rotating propulsion technology in extreme Arctic conditions, improving thruster durability, reducing maintenance needs, and enhancing reliability.\n",
      "\n",
      "Similarity: 0.921 | From: 29 To: 31\n",
      "→ Source 29 description: Innovative technologies and solutions for mechanical and rotating propulsion technology in extreme Arctic conditions, developed to increase thruster lifetimes, decrease maintenance needs, and improve reliability.\n",
      "→ Source 31 description: Innovative technologies and solutions developed for mechanical and rotating propulsion technology in extreme Arctic conditions, improving thruster durability, reducing maintenance, and increasing reliability, specifically under ice loads.\n",
      "\n",
      "Similarity: 0.878 | From: 29 To: 234\n",
      "→ Source 29 description: Innovative technologies and solutions for mechanical and rotating propulsion technology in extreme Arctic conditions, developed to increase thruster lifetimes, decrease maintenance needs, and improve reliability.\n",
      "→ Source 234 description: Innovative technical solutions developed under ArTEco project for ship rudder propeller systems to improve durability, reduce maintenance needs and enhance reliability in extreme conditions.\n"
     ]
    },
    {
     "name": "stderr",
     "output_type": "stream",
     "text": [
      "  2%|▏         | 29/1504 [00:18<15:29,  1.59it/s]"
     ]
    },
    {
     "name": "stdout",
     "output_type": "stream",
     "text": [
      "\n",
      "Similarity: 0.973 | From: 30 To: 31\n",
      "→ Source 30 description: Innovative technologies and solutions developed for mechanical and rotating propulsion technology in extreme Arctic conditions, improving thruster durability, reducing maintenance needs, and enhancing reliability.\n",
      "→ Source 31 description: Innovative technologies and solutions developed for mechanical and rotating propulsion technology in extreme Arctic conditions, improving thruster durability, reducing maintenance, and increasing reliability, specifically under ice loads.\n",
      "\n",
      "Similarity: 0.874 | From: 30 To: 234\n",
      "→ Source 30 description: Innovative technologies and solutions developed for mechanical and rotating propulsion technology in extreme Arctic conditions, improving thruster durability, reducing maintenance needs, and enhancing reliability.\n",
      "→ Source 234 description: Innovative technical solutions developed under ArTEco project for ship rudder propeller systems to improve durability, reduce maintenance needs and enhance reliability in extreme conditions.\n"
     ]
    },
    {
     "name": "stderr",
     "output_type": "stream",
     "text": [
      "  2%|▏         | 30/1504 [00:19<15:35,  1.57it/s]"
     ]
    },
    {
     "name": "stdout",
     "output_type": "stream",
     "text": [
      "\n",
      "Similarity: 0.878 | From: 31 To: 234\n",
      "→ Source 31 description: Innovative technologies and solutions developed for mechanical and rotating propulsion technology in extreme Arctic conditions, improving thruster durability, reducing maintenance, and increasing reliability, specifically under ice loads.\n",
      "→ Source 234 description: Innovative technical solutions developed under ArTEco project for ship rudder propeller systems to improve durability, reduce maintenance needs and enhance reliability in extreme conditions.\n"
     ]
    },
    {
     "name": "stderr",
     "output_type": "stream",
     "text": [
      "  2%|▏         | 31/1504 [00:19<15:36,  1.57it/s]"
     ]
    },
    {
     "name": "stdout",
     "output_type": "stream",
     "text": [
      "\n",
      "Similarity: 0.889 | From: 32 To: 89\n",
      "→ Source 32 description: A project exploring the use of the 5G mobile network to improve road safety through fast data transmission solutions, collecting vehicle and road data for applications such as road weather services, road maintenance, and self-driving car control.\n",
      "→ Source 89 description: An innovation project completed in 2018 aimed at improving road safety and reducing accidents by developing new road weather and road safety services to assist vehicle drivers, automated driving and road maintenance using 5G communication solutions.\n"
     ]
    },
    {
     "name": "stderr",
     "output_type": "stream",
     "text": [
      "  2%|▏         | 32/1504 [00:20<15:38,  1.57it/s]"
     ]
    },
    {
     "name": "stdout",
     "output_type": "stream",
     "text": [
      "\n",
      "Similarity: 0.844 | From: 33 To: 34\n",
      "→ Source 33 description: A prototype adhesive ID tag based on blockchain technology that protects valuables without revealing their location.\n",
      "→ Source 34 description: A prototype adhesive ID tag developed to protect valuables without revealing their location, using blockchain technology and smart contracts.\n"
     ]
    },
    {
     "name": "stderr",
     "output_type": "stream",
     "text": [
      "  2%|▏         | 35/1504 [00:22<15:23,  1.59it/s]"
     ]
    },
    {
     "name": "stdout",
     "output_type": "stream",
     "text": [
      "\n",
      "Similarity: 0.955 | From: 36 To: 37\n",
      "→ Source 36 description: An application developed for predictive maintenance technology that monitors the operation and condition of critical hydraulic cylinders, providing timely warnings and usage data to machine operators.\n",
      "→ Source 37 description: A predictive maintenance technology application developed by Hydroline that monitors the operation and condition of critical hydraulic cylinders to provide timely warnings and maintenance information.\n"
     ]
    },
    {
     "name": "stderr",
     "output_type": "stream",
     "text": [
      "  2%|▏         | 36/1504 [00:22<15:29,  1.58it/s]"
     ]
    },
    {
     "name": "stdout",
     "output_type": "stream",
     "text": [
      "\n",
      "Similarity: 0.811 | From: 36 To: 1222\n",
      "→ Source 36 description: An application developed for predictive maintenance technology that monitors the operation and condition of critical hydraulic cylinders, providing timely warnings and usage data to machine operators.\n",
      "→ Source 1222 description: A predictive maintenance digital application developed to monitor the operation and condition of critical hydraulic cylinders in machinery, allowing timely warnings and efficient maintenance to avoid costly breakdowns.\n"
     ]
    },
    {
     "name": "stderr",
     "output_type": "stream",
     "text": [
      "  2%|▏         | 37/1504 [00:23<15:25,  1.58it/s]"
     ]
    },
    {
     "name": "stdout",
     "output_type": "stream",
     "text": [
      "\n",
      "Similarity: 0.805 | From: 37 To: 1222\n",
      "→ Source 37 description: A predictive maintenance technology application developed by Hydroline that monitors the operation and condition of critical hydraulic cylinders to provide timely warnings and maintenance information.\n",
      "→ Source 1222 description: A predictive maintenance digital application developed to monitor the operation and condition of critical hydraulic cylinders in machinery, allowing timely warnings and efficient maintenance to avoid costly breakdowns.\n",
      "\n",
      "Similarity: 0.873 | From: 38 To: 601\n",
      "→ Source 38 description: The silicon photonics products developed to create compact, efficient, and affordable optical signal-based devices for measuring, imaging, and data transfer.\n",
      "→ Source 601 description: Silicon photonics is a technology combining light and electricity for high-speed, energy-efficient, microscopic photonic integrated circuits enabling applications from medicine to autonomous transport.\n"
     ]
    },
    {
     "name": "stderr",
     "output_type": "stream",
     "text": [
      "  3%|▎         | 41/1504 [00:26<16:17,  1.50it/s]"
     ]
    },
    {
     "name": "stdout",
     "output_type": "stream",
     "text": [
      "\n",
      "Similarity: 0.939 | From: 42 To: 43\n",
      "→ Source 42 description: A novel innovation developed by VTT and partner companies that uses 5G technology to transmit large 3D views between vehicles, increasing communication distances and improving road safety.\n",
      "→ Source 43 description: A new solution developed by VTT and partners that enables real-time transmission of 3D views between vehicles using 5G technology to enhance road safety and automated driving.\n",
      "\n",
      "Similarity: 0.875 | From: 42 To: 45\n",
      "→ Source 42 description: A novel innovation developed by VTT and partner companies that uses 5G technology to transmit large 3D views between vehicles, increasing communication distances and improving road safety.\n",
      "→ Source 45 description: An innovation utilizing 5G technology to transmit large 3D views between vehicles in real-time to increase communication range and safety on the roads.\n"
     ]
    },
    {
     "name": "stderr",
     "output_type": "stream",
     "text": [
      "  3%|▎         | 42/1504 [00:26<16:11,  1.51it/s]"
     ]
    },
    {
     "name": "stdout",
     "output_type": "stream",
     "text": [
      "\n",
      "Similarity: 0.918 | From: 43 To: 45\n",
      "→ Source 43 description: A new solution developed by VTT and partners that enables real-time transmission of 3D views between vehicles using 5G technology to enhance road safety and automated driving.\n",
      "→ Source 45 description: An innovation utilizing 5G technology to transmit large 3D views between vehicles in real-time to increase communication range and safety on the roads.\n"
     ]
    },
    {
     "name": "stderr",
     "output_type": "stream",
     "text": [
      "  3%|▎         | 45/1504 [00:28<15:52,  1.53it/s]"
     ]
    },
    {
     "name": "stdout",
     "output_type": "stream",
     "text": [
      "\n",
      "Similarity: 0.921 | From: 46 To: 156\n",
      "→ Source 46 description: A European project coordinated by VTT developing commercial applications based on SOFC fuel cell technology, implementing 25 SOFC-based power generation solutions globally for energy-efficient and low-emission electricity and heat production.\n",
      "→ Source 156 description: A five-year European project developing commercial-scale solid oxide fuel cell (SOFC) systems producing efficient and low-emission electricity and heat\n"
     ]
    },
    {
     "name": "stderr",
     "output_type": "stream",
     "text": [
      "  3%|▎         | 46/1504 [00:29<15:33,  1.56it/s]"
     ]
    },
    {
     "name": "stdout",
     "output_type": "stream",
     "text": [
      "\n",
      "Similarity: 0.847 | From: 47 To: 193\n",
      "→ Source 47 description: A multiscale digital material modelling tool developed by VTT to forecast wear and optimize materials for reduced friction and wear in various industrial applications.\n",
      "→ Source 193 description: An innovative multiscale digital material modeling tool developed by VTT to optimize material structures and predict wear, improving energy efficiency and reducing greenhouse gas emissions.\n"
     ]
    },
    {
     "name": "stderr",
     "output_type": "stream",
     "text": [
      "  3%|▎         | 52/1504 [00:33<15:32,  1.56it/s]\n"
     ]
    },
    {
     "ename": "KeyboardInterrupt",
     "evalue": "",
     "output_type": "error",
     "traceback": [
      "\u001b[0;31m---------------------------------------------------------------------------\u001b[0m",
      "\u001b[0;31mKeyboardInterrupt\u001b[0m                         Traceback (most recent call last)",
      "Cell \u001b[0;32mIn[54], line 8\u001b[0m\n\u001b[1;32m      6\u001b[0m \u001b[38;5;28;01mfor\u001b[39;00m i \u001b[38;5;129;01min\u001b[39;00m tqdm(\u001b[38;5;28mrange\u001b[39m(\u001b[38;5;28mlen\u001b[39m(texts))):\n\u001b[1;32m      7\u001b[0m     \u001b[38;5;28;01mfor\u001b[39;00m j \u001b[38;5;129;01min\u001b[39;00m \u001b[38;5;28mrange\u001b[39m(i \u001b[38;5;241m+\u001b[39m \u001b[38;5;241m1\u001b[39m, \u001b[38;5;28mlen\u001b[39m(texts)):\n\u001b[0;32m----> 8\u001b[0m         sim \u001b[38;5;241m=\u001b[39m \u001b[43mutil\u001b[49m\u001b[38;5;241;43m.\u001b[39;49m\u001b[43mcos_sim\u001b[49m\u001b[43m(\u001b[49m\u001b[43membeddings\u001b[49m\u001b[43m[\u001b[49m\u001b[43mi\u001b[49m\u001b[43m]\u001b[49m\u001b[43m,\u001b[49m\u001b[43m \u001b[49m\u001b[43membeddings\u001b[49m\u001b[43m[\u001b[49m\u001b[43mj\u001b[49m\u001b[43m]\u001b[49m\u001b[43m)\u001b[49m\u001b[38;5;241m.\u001b[39mitem()\n\u001b[1;32m     10\u001b[0m         \u001b[38;5;28;01mif\u001b[39;00m sim \u001b[38;5;241m>\u001b[39m threshold:\n\u001b[1;32m     11\u001b[0m             source_i \u001b[38;5;241m=\u001b[39m df_relationships_vtt_domain\u001b[38;5;241m.\u001b[39miloc[i][\u001b[38;5;124m\"\u001b[39m\u001b[38;5;124msource description\u001b[39m\u001b[38;5;124m\"\u001b[39m]\n",
      "File \u001b[0;32m~/Library/Python/3.9/lib/python/site-packages/sentence_transformers/util.py:106\u001b[0m, in \u001b[0;36mcos_sim\u001b[0;34m(a, b)\u001b[0m\n\u001b[1;32m    103\u001b[0m a \u001b[38;5;241m=\u001b[39m _convert_to_batch_tensor(a)\n\u001b[1;32m    104\u001b[0m b \u001b[38;5;241m=\u001b[39m _convert_to_batch_tensor(b)\n\u001b[0;32m--> 106\u001b[0m a_norm \u001b[38;5;241m=\u001b[39m \u001b[43mnormalize_embeddings\u001b[49m\u001b[43m(\u001b[49m\u001b[43ma\u001b[49m\u001b[43m)\u001b[49m\n\u001b[1;32m    107\u001b[0m b_norm \u001b[38;5;241m=\u001b[39m normalize_embeddings(b)\n\u001b[1;32m    108\u001b[0m \u001b[38;5;28;01mreturn\u001b[39;00m torch\u001b[38;5;241m.\u001b[39mmm(a_norm, b_norm\u001b[38;5;241m.\u001b[39mtranspose(\u001b[38;5;241m0\u001b[39m, \u001b[38;5;241m1\u001b[39m))\n",
      "File \u001b[0;32m~/Library/Python/3.9/lib/python/site-packages/sentence_transformers/util.py:274\u001b[0m, in \u001b[0;36mnormalize_embeddings\u001b[0;34m(embeddings)\u001b[0m\n\u001b[1;32m    264\u001b[0m \u001b[38;5;28;01mdef\u001b[39;00m\u001b[38;5;250m \u001b[39m\u001b[38;5;21mnormalize_embeddings\u001b[39m(embeddings: Tensor) \u001b[38;5;241m-\u001b[39m\u001b[38;5;241m>\u001b[39m Tensor:\n\u001b[1;32m    265\u001b[0m \u001b[38;5;250m    \u001b[39m\u001b[38;5;124;03m\"\"\"\u001b[39;00m\n\u001b[1;32m    266\u001b[0m \u001b[38;5;124;03m    Normalizes the embeddings matrix, so that each sentence embedding has unit length.\u001b[39;00m\n\u001b[1;32m    267\u001b[0m \n\u001b[0;32m   (...)\u001b[0m\n\u001b[1;32m    272\u001b[0m \u001b[38;5;124;03m        Tensor: The normalized embeddings matrix.\u001b[39;00m\n\u001b[1;32m    273\u001b[0m \u001b[38;5;124;03m    \"\"\"\u001b[39;00m\n\u001b[0;32m--> 274\u001b[0m     \u001b[38;5;28;01mreturn\u001b[39;00m \u001b[43mtorch\u001b[49m\u001b[38;5;241;43m.\u001b[39;49m\u001b[43mnn\u001b[49m\u001b[38;5;241;43m.\u001b[39;49m\u001b[43mfunctional\u001b[49m\u001b[38;5;241;43m.\u001b[39;49m\u001b[43mnormalize\u001b[49m\u001b[43m(\u001b[49m\u001b[43membeddings\u001b[49m\u001b[43m,\u001b[49m\u001b[43m \u001b[49m\u001b[43mp\u001b[49m\u001b[38;5;241;43m=\u001b[39;49m\u001b[38;5;241;43m2\u001b[39;49m\u001b[43m,\u001b[49m\u001b[43m \u001b[49m\u001b[43mdim\u001b[49m\u001b[38;5;241;43m=\u001b[39;49m\u001b[38;5;241;43m1\u001b[39;49m\u001b[43m)\u001b[49m\n",
      "File \u001b[0;32m~/Library/Python/3.9/lib/python/site-packages/torch/nn/functional.py:5487\u001b[0m, in \u001b[0;36mnormalize\u001b[0;34m(input, p, dim, eps, out)\u001b[0m\n\u001b[1;32m   5485\u001b[0m \u001b[38;5;28;01mif\u001b[39;00m out \u001b[38;5;129;01mis\u001b[39;00m \u001b[38;5;28;01mNone\u001b[39;00m:\n\u001b[1;32m   5486\u001b[0m     denom \u001b[38;5;241m=\u001b[39m \u001b[38;5;28minput\u001b[39m\u001b[38;5;241m.\u001b[39mnorm(p, dim, keepdim\u001b[38;5;241m=\u001b[39m\u001b[38;5;28;01mTrue\u001b[39;00m)\u001b[38;5;241m.\u001b[39mclamp_min(eps)\u001b[38;5;241m.\u001b[39mexpand_as(\u001b[38;5;28minput\u001b[39m)\n\u001b[0;32m-> 5487\u001b[0m     \u001b[38;5;28;01mreturn\u001b[39;00m \u001b[38;5;28;43minput\u001b[39;49m\u001b[43m \u001b[49m\u001b[38;5;241;43m/\u001b[39;49m\u001b[43m \u001b[49m\u001b[43mdenom\u001b[49m\n\u001b[1;32m   5488\u001b[0m \u001b[38;5;28;01melse\u001b[39;00m:\n\u001b[1;32m   5489\u001b[0m     denom \u001b[38;5;241m=\u001b[39m \u001b[38;5;28minput\u001b[39m\u001b[38;5;241m.\u001b[39mnorm(p, dim, keepdim\u001b[38;5;241m=\u001b[39m\u001b[38;5;28;01mTrue\u001b[39;00m)\u001b[38;5;241m.\u001b[39mclamp_min_(eps)\u001b[38;5;241m.\u001b[39mexpand_as(\u001b[38;5;28minput\u001b[39m)\n",
      "\u001b[0;31mKeyboardInterrupt\u001b[0m: "
     ]
    }
   ],
   "source": [
    "threshold = 0.80\n",
    "similar_pairs = []\n",
    "\n",
    "print(\"Comparing entries pair by pair...\")\n",
    "texts = df_relationships_vtt_domain[\"text_to_compare\"].tolist()\n",
    "for i in tqdm(range(len(texts))):\n",
    "    for j in range(i + 1, len(texts)):\n",
    "        sim = util.cos_sim(embeddings[i], embeddings[j]).item()\n",
    "        \n",
    "        if sim > threshold:\n",
    "            source_i = df_relationships_vtt_domain.iloc[i][\"source description\"]\n",
    "            source_j = df_relationships_vtt_domain.iloc[j][\"source description\"]\n",
    "            \n",
    "            print(f\"\\nSimilarity: {sim:.3f} | From: {i+1} To: {j+1}\")\n",
    "            print(f\"→ Source {i+1} description: {source_i}\")\n",
    "            print(f\"→ Source {j+1} description: {source_j}\")\n",
    "            \n",
    "            similar_pairs.append((i, j, sim))\n",
    "\n",
    "# Output results\n",
    "print(f\"\\nFound {len(similar_pairs)} high-similarity pairs (> {threshold}):\")\n",
    "for i, j, score in similar_pairs:\n",
    "    print(f\"[{i}] '{df.iloc[i]['source english_id']}' <--> [{j}] '{df.iloc[j]['source english_id']}' | Similarity: {score:.3f}\")"
   ]
  },
  {
   "cell_type": "code",
   "execution_count": null,
   "metadata": {},
   "outputs": [],
   "source": []
  },
  {
   "cell_type": "markdown",
   "metadata": {},
   "source": [
    "#### assess to OpenAI endpoint\n",
    "- for this challenge we want to provide you access to OpenAI models: 4o-mini, 4.1 or 4.1-mini\n",
    "- `ASK @ VTT-stand for key :)`"
   ]
  },
  {
   "cell_type": "code",
   "execution_count": 21,
   "metadata": {},
   "outputs": [
    {
     "ename": "ModuleNotFoundError",
     "evalue": "No module named 'langchain_openai'",
     "output_type": "error",
     "traceback": [
      "\u001b[0;31m---------------------------------------------------------------------------\u001b[0m",
      "\u001b[0;31mModuleNotFoundError\u001b[0m                       Traceback (most recent call last)",
      "Cell \u001b[0;32mIn[21], line 2\u001b[0m\n\u001b[1;32m      1\u001b[0m \u001b[38;5;66;03m# 4. load api access credentials \u001b[39;00m\n\u001b[0;32m----> 2\u001b[0m \u001b[38;5;28;01mfrom\u001b[39;00m\u001b[38;5;250m \u001b[39m\u001b[38;5;21;01mlangchain_openai\u001b[39;00m\u001b[38;5;250m \u001b[39m\u001b[38;5;28;01mimport\u001b[39;00m AzureChatOpenAI\n\u001b[1;32m      3\u001b[0m \u001b[38;5;28;01mimport\u001b[39;00m\u001b[38;5;250m \u001b[39m\u001b[38;5;21;01mjson\u001b[39;00m\n\u001b[1;32m      5\u001b[0m \u001b[38;5;28;01mdef\u001b[39;00m\u001b[38;5;250m \u001b[39m\u001b[38;5;21minitialize_llm\u001b[39m(deployment_model:\u001b[38;5;28mstr\u001b[39m, config_file_path:\u001b[38;5;28mstr\u001b[39m\u001b[38;5;241m=\u001b[39m \u001b[38;5;124m'\u001b[39m\u001b[38;5;124mdata/azure_config.json\u001b[39m\u001b[38;5;124m'\u001b[39m)\u001b[38;5;241m-\u001b[39m\u001b[38;5;241m>\u001b[39mAzureChatOpenAI: \n",
      "\u001b[0;31mModuleNotFoundError\u001b[0m: No module named 'langchain_openai'"
     ]
    }
   ],
   "source": [
    "# 4. load api access credentials \n",
    "from langchain_openai import AzureChatOpenAI\n",
    "import json\n",
    "\n",
    "def initialize_llm(deployment_model:str, config_file_path:str= 'data/azure_config.json')->AzureChatOpenAI: \n",
    "    with open(config_file_path, 'r') as jsonfile:\n",
    "        config = json.load(jsonfile)\n",
    "    \n",
    "    return AzureChatOpenAI(model =deployment_model,\n",
    "                    api_key=config[deployment_model]['api_key'],\n",
    "                    azure_endpoint = config[deployment_model]['api_base'],\n",
    "                    api_version = config[deployment_model]['api_version'])\n",
    "\n",
    "# initialize\n",
    "model = initialize_llm(deployment_model= 'gpt-4o-mini', config_file_path= 'data/keys/azure_config.json')\n",
    "model = initialize_llm(deployment_model= 'gpt-4.1-mini', config_file_path= 'data/keys/azure_config.json')\n",
    "model = initialize_llm(deployment_model= 'gpt-4.1', config_file_path= 'data/keys/azure_config.json')\n",
    "\n",
    "# example use:\n",
    "prompt = ''\n",
    "model.invoke(prompt).content"
   ]
  }
 ],
 "metadata": {
  "kernelspec": {
   "display_name": "Python 3",
   "language": "python",
   "name": "python3"
  },
  "language_info": {
   "codemirror_mode": {
    "name": "ipython",
    "version": 3
   },
   "file_extension": ".py",
   "mimetype": "text/x-python",
   "name": "python",
   "nbconvert_exporter": "python",
   "pygments_lexer": "ipython3",
   "version": "3.9.6"
  }
 },
 "nbformat": 4,
 "nbformat_minor": 2
}
