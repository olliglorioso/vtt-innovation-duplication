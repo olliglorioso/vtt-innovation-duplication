{
 "cells": [
  {
   "cell_type": "code",
   "execution_count": 28,
   "metadata": {},
   "outputs": [],
   "source": [
    "from sentence_transformers import SentenceTransformer, util\n",
    "import pandas as pd\n",
    "from tqdm import tqdm\n",
    "from langchain_openai import AzureOpenAIEmbeddings\n",
    "import json\n",
<<<<<<< Updated upstream
    "import numpy as np\n",
    "import torch\n",
    "import time\n",
    "import random"
=======
    "import numpy as np\n"
>>>>>>> Stashed changes
   ]
  },
  {
   "cell_type": "markdown",
   "metadata": {},
   "source": [
    "Let's fetch the dataframes."
   ]
  },
  {
   "cell_type": "code",
   "execution_count": null,
   "metadata": {},
   "outputs": [
    {
     "name": "stdout",
     "output_type": "stream",
     "text": [
      "Comp domain df length: 1912  - VTT domain df length: 4927\n",
      "Example of text to compare: FiR 1 - FiR 1 is a Triga-type nuclear research reactor located in Otaniemi, Espoo, Finland, decommissioned by VTT after serving since 1962, used for nuclear research, training, and medical radiation therapy. | Developed by VTT Technical Research Centre of Finland Ltd.\n"
     ]
    },
    {
     "ename": "TypeError",
     "evalue": "read_csv() got an unexpected keyword argument 'index'",
     "output_type": "error",
     "traceback": [
      "\u001b[0;31m---------------------------------------------------------------------------\u001b[0m",
      "\u001b[0;31mTypeError\u001b[0m                                 Traceback (most recent call last)",
      "Cell \u001b[0;32mIn[18], line 12\u001b[0m\n\u001b[1;32m      9\u001b[0m df_combined\u001b[38;5;241m.\u001b[39msample(n\u001b[38;5;241m=\u001b[39m\u001b[38;5;241m3\u001b[39m)\n\u001b[1;32m     11\u001b[0m \u001b[38;5;66;03m# Dataframe consisting of only the documents numbers where VTT is present\u001b[39;00m\n\u001b[0;32m---> 12\u001b[0m df_vtt_present \u001b[38;5;241m=\u001b[39m \u001b[43mpd\u001b[49m\u001b[38;5;241;43m.\u001b[39;49m\u001b[43mread_csv\u001b[49m\u001b[43m(\u001b[49m\u001b[38;5;124;43m\"\u001b[39;49m\u001b[38;5;124;43m./data/results/df_comp_domain_vtt_present.csv\u001b[39;49m\u001b[38;5;124;43m\"\u001b[39;49m\u001b[43m,\u001b[49m\u001b[43m \u001b[49m\u001b[43mindex\u001b[49m\u001b[38;5;241;43m=\u001b[39;49m\u001b[38;5;28;43;01mFalse\u001b[39;49;00m\u001b[43m)\u001b[49m\n\u001b[1;32m     14\u001b[0m df_vtt_present\u001b[38;5;241m.\u001b[39mhead(\u001b[38;5;241m5\u001b[39m)\n",
      "\u001b[0;31mTypeError\u001b[0m: read_csv() got an unexpected keyword argument 'index'"
     ]
    }
   ],
   "source": [
    "from data_extractor import Extractor\n",
    "import importlib\n",
    "import data_extractor\n",
    "importlib.reload(data_extractor)\n",
    "extractor_instance = Extractor()\n",
    "extractor_instance.extract()\n",
    "\n",
    "df_combined = pd.read_csv(\"./data/results/df_combined.csv\")\n",
    "df_combined.sample(n=3)\n",
    "\n",
    "# Dataframe consisting of only the documents numbers where VTT is present\n",
    "df_vtt_present = pd.read_csv(\"./data/results/df_comp_domain_vtt_present.csv\")\n",
    "\n",
    "df_vtt_present.head(5)"
   ]
  },
  {
   "cell_type": "code",
   "execution_count": null,
   "metadata": {},
   "outputs": [
    {
     "ename": "FileNotFoundError",
     "evalue": "[Errno 2] No such file or directory: 'azure_config.json'",
     "output_type": "error",
     "traceback": [
      "\u001b[0;31m---------------------------------------------------------------------------\u001b[0m",
      "\u001b[0;31mFileNotFoundError\u001b[0m                         Traceback (most recent call last)",
      "Cell \u001b[0;32mIn[13], line 21\u001b[0m\n\u001b[1;32m     13\u001b[0m     \u001b[38;5;28;01mreturn\u001b[39;00m AzureOpenAIEmbeddings(\n\u001b[1;32m     14\u001b[0m         api_key\u001b[38;5;241m=\u001b[39mconfig[model_key][\u001b[38;5;124m'\u001b[39m\u001b[38;5;124mapi_key\u001b[39m\u001b[38;5;124m'\u001b[39m],\n\u001b[1;32m     15\u001b[0m         azure_endpoint\u001b[38;5;241m=\u001b[39mapi_base,\n\u001b[1;32m     16\u001b[0m         api_version\u001b[38;5;241m=\u001b[39mconfig[model_key][\u001b[38;5;124m'\u001b[39m\u001b[38;5;124mapi_version\u001b[39m\u001b[38;5;124m'\u001b[39m],\n\u001b[1;32m     17\u001b[0m         azure_deployment\u001b[38;5;241m=\u001b[39mconfig[model_key][\u001b[38;5;124m'\u001b[39m\u001b[38;5;124memb_deployment\u001b[39m\u001b[38;5;124m'\u001b[39m]  \u001b[38;5;66;03m# text-embedding-3-large\u001b[39;00m\n\u001b[1;32m     18\u001b[0m     )\n\u001b[1;32m     20\u001b[0m \u001b[38;5;66;03m# Initialize the embedding model\u001b[39;00m\n\u001b[0;32m---> 21\u001b[0m embedding_model \u001b[38;5;241m=\u001b[39m \u001b[43minitialize_embeddings\u001b[49m\u001b[43m(\u001b[49m\u001b[43m)\u001b[49m\n",
      "Cell \u001b[0;32mIn[13], line 7\u001b[0m, in \u001b[0;36minitialize_embeddings\u001b[0;34m(config_file_path, model_key)\u001b[0m\n\u001b[1;32m      5\u001b[0m \u001b[38;5;28;01mdef\u001b[39;00m\u001b[38;5;250m \u001b[39m\u001b[38;5;21minitialize_embeddings\u001b[39m(config_file_path: \u001b[38;5;28mstr\u001b[39m \u001b[38;5;241m=\u001b[39m \u001b[38;5;124m'\u001b[39m\u001b[38;5;124mazure_config.json\u001b[39m\u001b[38;5;124m'\u001b[39m, model_key: \u001b[38;5;28mstr\u001b[39m \u001b[38;5;241m=\u001b[39m \u001b[38;5;124m'\u001b[39m\u001b[38;5;124mgpt-4o-mini\u001b[39m\u001b[38;5;124m'\u001b[39m):\n\u001b[1;32m      6\u001b[0m \u001b[38;5;250m    \u001b[39m\u001b[38;5;124;03m\"\"\"Initialize Azure OpenAI embeddings client\"\"\"\u001b[39;00m\n\u001b[0;32m----> 7\u001b[0m     \u001b[38;5;28;01mwith\u001b[39;00m \u001b[38;5;28;43mopen\u001b[39;49m\u001b[43m(\u001b[49m\u001b[43mconfig_file_path\u001b[49m\u001b[43m,\u001b[49m\u001b[43m \u001b[49m\u001b[38;5;124;43m'\u001b[39;49m\u001b[38;5;124;43mr\u001b[39;49m\u001b[38;5;124;43m'\u001b[39;49m\u001b[43m)\u001b[49m \u001b[38;5;28;01mas\u001b[39;00m jsonfile:\n\u001b[1;32m      8\u001b[0m         config \u001b[38;5;241m=\u001b[39m json\u001b[38;5;241m.\u001b[39mload(jsonfile)\n\u001b[1;32m     10\u001b[0m     \u001b[38;5;66;03m# Extract base URL (remove the specific deployment path)\u001b[39;00m\n",
      "File \u001b[0;32m~/.local/lib/python3.10/site-packages/IPython/core/interactiveshell.py:324\u001b[0m, in \u001b[0;36m_modified_open\u001b[0;34m(file, *args, **kwargs)\u001b[0m\n\u001b[1;32m    317\u001b[0m \u001b[38;5;28;01mif\u001b[39;00m file \u001b[38;5;129;01min\u001b[39;00m {\u001b[38;5;241m0\u001b[39m, \u001b[38;5;241m1\u001b[39m, \u001b[38;5;241m2\u001b[39m}:\n\u001b[1;32m    318\u001b[0m     \u001b[38;5;28;01mraise\u001b[39;00m \u001b[38;5;167;01mValueError\u001b[39;00m(\n\u001b[1;32m    319\u001b[0m         \u001b[38;5;124mf\u001b[39m\u001b[38;5;124m\"\u001b[39m\u001b[38;5;124mIPython won\u001b[39m\u001b[38;5;124m'\u001b[39m\u001b[38;5;124mt let you open fd=\u001b[39m\u001b[38;5;132;01m{\u001b[39;00mfile\u001b[38;5;132;01m}\u001b[39;00m\u001b[38;5;124m by default \u001b[39m\u001b[38;5;124m\"\u001b[39m\n\u001b[1;32m    320\u001b[0m         \u001b[38;5;124m\"\u001b[39m\u001b[38;5;124mas it is likely to crash IPython. If you know what you are doing, \u001b[39m\u001b[38;5;124m\"\u001b[39m\n\u001b[1;32m    321\u001b[0m         \u001b[38;5;124m\"\u001b[39m\u001b[38;5;124myou can use builtins\u001b[39m\u001b[38;5;124m'\u001b[39m\u001b[38;5;124m open.\u001b[39m\u001b[38;5;124m\"\u001b[39m\n\u001b[1;32m    322\u001b[0m     )\n\u001b[0;32m--> 324\u001b[0m \u001b[38;5;28;01mreturn\u001b[39;00m \u001b[43mio_open\u001b[49m\u001b[43m(\u001b[49m\u001b[43mfile\u001b[49m\u001b[43m,\u001b[49m\u001b[43m \u001b[49m\u001b[38;5;241;43m*\u001b[39;49m\u001b[43margs\u001b[49m\u001b[43m,\u001b[49m\u001b[43m \u001b[49m\u001b[38;5;241;43m*\u001b[39;49m\u001b[38;5;241;43m*\u001b[39;49m\u001b[43mkwargs\u001b[49m\u001b[43m)\u001b[49m\n",
      "\u001b[0;31mFileNotFoundError\u001b[0m: [Errno 2] No such file or directory: 'azure_config.json'"
     ]
    }
   ],
   "source": [
    "def create_text_to_compare(df):\n",
    "    text_to_compare = df[\"source id\"] + \" - \" + df[\"source description\"].fillna(\"\") + \" | Developed by \" + df[\"target english_id\"].fillna(\"\")\n",
    "    return text_to_compare\n",
    "\n",
    "def initialize_embeddings(config_file_path: str = 'azure_config.json', model_key: str = 'gpt-4o-mini'):\n",
    "    \"\"\"Initialize Azure OpenAI embeddings client\"\"\"\n",
    "    with open(config_file_path, 'r') as jsonfile:\n",
    "        config = json.load(jsonfile)\n",
    "    \n",
    "    # Extract base URL (remove the specific deployment path)\n",
    "    api_base = config[model_key]['api_base'].split('/openai/deployments')[0]\n",
    "    \n",
    "    return AzureOpenAIEmbeddings(\n",
    "        api_key=config[model_key]['api_key'],\n",
    "        azure_endpoint=api_base,\n",
    "        api_version=config[model_key]['api_version'],\n",
    "        azure_deployment=config[model_key]['emb_deployment']  # text-embedding-3-large\n",
    "    )\n",
    "\n",
    "# Initialize the embedding model\n",
    "embedding_model = initialize_embeddings()"
   ]
  },
  {
   "cell_type": "code",
   "execution_count": null,
   "metadata": {},
   "outputs": [
    {
     "name": "stdout",
     "output_type": "stream",
     "text": [
      "Comp domain df length: 1912  - VTT domain df length: 1504\n",
      "Example of text to compare: FiR 1 - FiR 1 is a Triga-type nuclear research reactor located in Otaniemi, Espoo, Finland, decommissioned by VTT after serving since 1962, used for nuclear research, training, and medical radiation therapy. | Developed by VTT Technical Research Centre of Finland Ltd.\n"
     ]
    }
   ],
   "source": [
    "# Clean the VTT domain df.\n",
    "\n",
    "vtt_domain_df[\"text_to_compare\"] = create_text_to_compare(vtt_domain_df)\n",
    "\n",
    "vtt_domain_df = vtt_domain_df[vtt_domain_df[\"source type\"] != \"Organization\"]\n",
    "vtt_domain_df = vtt_domain_df.drop_duplicates(subset=\"source description\", keep=\"first\")\n",
    "\n",
    "# Clean the comp domain df.\n",
    "\n",
    "comp_domain_df[\"text_to_compare\"] = create_text_to_compare(comp_domain_df)\n",
    "\n",
    "comp_domain_df = comp_domain_df[comp_domain_df[\"source type\"] != \"Organization\"]\n",
    "comp_domain_df = comp_domain_df.drop_duplicates(subset=\"source description\", keep=\"first\")\n",
    "\n",
    "print(\"Comp domain df length:\", len(comp_domain_df), \" - VTT domain df length:\", len(vtt_domain_df))\n",
    "print(\"Example of text to compare:\", vtt_domain_df.iloc[0][\"text_to_compare\"])"
   ]
  },
  {
   "cell_type": "markdown",
   "metadata": {},
   "source": [
    "Embed everything."
   ]
  },
  {
   "cell_type": "code",
   "execution_count": null,
   "metadata": {},
   "outputs": [],
   "source": [
    "combined_texts = vtt_domain_df[\"text_to_compare\"].tolist() + comp_domain_df[\"text_to_compare\"].tolist()\n",
    "combined_embeddings = model.encode(combined_texts, convert_to_tensor=True)"
   ]
  },
  {
   "cell_type": "code",
<<<<<<< Updated upstream
   "execution_count": 31,
=======
   "execution_count": null,
>>>>>>> Stashed changes
   "metadata": {},
   "outputs": [
    {
     "name": "stdout",
     "output_type": "stream",
     "text": [
<<<<<<< Updated upstream
      "Similarity computation took 0.84 seconds\n",
      "Pair 1:\n",
      "  Index 1928 → kvanttitietokone - A quantum computer developed by VTT and IQM, representing a new type of computer that uses qubits for faster computations on certain problems compared to supercomputers. | Developed by Teknologian tutkimuskeskus VTT\n",
      "  Index 2316 → kvanttitietokoneiden kehittäminen - Development of quantum computers by IQM as a new technological innovation. | Developed by IQM\n",
      "  Similarity: 0.8048\n",
      "\n",
      "Pair 2:\n",
      "  Index 1978 → FI10410900 - Wood-based renewable diesel fuel developed by UPM, tested on buses in Helsinki metropolitan area since 2016. | Developed by UPM BioVerno\n",
      "  Index 2126 → FI10410900 - UPM is an energy company involved in the development and testing of wood-based renewable diesel fuel UPM BioVerno for public transport in Helsinki. | Developed by UPM\n",
      "  Similarity: 0.8780\n",
      "\n",
      "Pair 3:\n",
      "  Index 1768 → FI10410900 - Renewable diesel fuel produced by UPM Biofuels that reduces tailpipe emissions compared to fossil diesel. | Developed by UPM BioVerno diesel\n",
      "  Index 1878 → FI10410900 - Innovative wood-based renewable diesel fuel developed by UPM that reduces greenhouse gas emissions by up to 80% compared to fossil fuels and lowers tailpipe emissions significantly. | Developed by UPM BioVerno\n",
      "  Similarity: 0.8991\n",
      "\n",
      "Pair 4:\n",
      "  Index 1871 → FI10410900 - UPM's innovative wood-based renewable diesel fuel that works like regular diesel and significantly reduces greenhouse gas emissions compared to fossil fuels. | Developed by UPM BioVerno\n",
      "  Index 1978 → FI10410900 - Wood-based renewable diesel fuel developed by UPM, tested on buses in Helsinki metropolitan area since 2016. | Developed by UPM BioVerno\n",
      "  Similarity: 0.8760\n",
      "\n",
      "Pair 5:\n",
      "  Index 738 → Green engine simulation tool - A new digital simulation tool developed by VTT to accelerate commercialization of new technologies for green fuels and digital modeling of their use, enabling more cost-effective development. | Developed by VTT\n",
      "  Index 740 → Green engine simulation tool - A new digital tool developed by VTT that enables more cost-effective development and speeds up commercialization of new technologies for green fuels and their digital modeling. | Developed by VTT\n",
      "  Similarity: 0.9837\n",
      "\n"
=======
      "Comparing entries pair by pair...\n"
     ]
    },
    {
     "name": "stderr",
     "output_type": "stream",
     "text": [
      "  0%|          | 0/3416 [00:00<?, ?it/s]"
     ]
    },
    {
     "name": "stdout",
     "output_type": "stream",
     "text": [
      "\n",
      "Similarity: 0.847 | From: 1 To: 791\n",
      "→ Source 1 description: FiR 1 - FiR 1 is a Triga-type nuclear research reactor located in Otaniemi, Espoo, Finland, decommissioned by VTT after serving since 1962, used for nuclear research, training, and medical radiation therapy. | Developed by VTT Technical Research Centre of Finland Ltd.\n",
      "→ Source 791 description: FiR 1 -tutkimusreaktorin käytöstä poisto - The decommissioning and dismantling of the FiR 1 research reactor in Espoo, Finland, including safe removal of radioactive materials and structures, conducted under regulatory supervision and completed in phases. | Developed by VTT\n",
      "\n",
      "Similarity: 0.843 | From: 1 To: 916\n",
      "→ Source 1 description: FiR 1 - FiR 1 is a Triga-type nuclear research reactor located in Otaniemi, Espoo, Finland, decommissioned by VTT after serving since 1962, used for nuclear research, training, and medical radiation therapy. | Developed by VTT Technical Research Centre of Finland Ltd.\n",
      "→ Source 916 description: FiR1-ydinreaktorin purkuprojekti - The decommissioning project of Finland's oldest nuclear research reactor FiR1, completed in Espoo, establishing a national mechanism for nuclear facility decommissioning and waste management, serving as a model for future reactor decommissionings. | Developed by VTT\n",
      "\n",
      "Similarity: 0.858 | From: 1 To: 917\n",
      "→ Source 1 description: FiR 1 - FiR 1 is a Triga-type nuclear research reactor located in Otaniemi, Espoo, Finland, decommissioned by VTT after serving since 1962, used for nuclear research, training, and medical radiation therapy. | Developed by VTT Technical Research Centre of Finland Ltd.\n",
      "→ Source 917 description: FiR1-ydinreaktori - Finland's oldest nuclear research reactor located at VTT's Otaniemi premises, decommissioned as a significant project modeling nuclear facility decommissioning. | Developed by VTT\n",
      "\n",
      "Similarity: 0.908 | From: 1 To: 1180\n",
      "→ Source 1 description: FiR 1 - FiR 1 is a Triga-type nuclear research reactor located in Otaniemi, Espoo, Finland, decommissioned by VTT after serving since 1962, used for nuclear research, training, and medical radiation therapy. | Developed by VTT Technical Research Centre of Finland Ltd.\n",
      "→ Source 1180 description: FiR 1 -tutkimusreaktori - The FiR 1 research reactor was a water-cooled TRIGA Mark II type research reactor used for research, training, isotope production, and radiotherapy at Otaniemi, Finland, which was in operation from 1962 to 2015. | Developed by Teknologian tutkimuskeskus VTT Oy\n",
      "\n",
      "Similarity: 0.808 | From: 1 To: 1505\n",
      "→ Source 1 description: FiR 1 - FiR 1 is a Triga-type nuclear research reactor located in Otaniemi, Espoo, Finland, decommissioned by VTT after serving since 1962, used for nuclear research, training, and medical radiation therapy. | Developed by VTT Technical Research Centre of Finland Ltd.\n",
      "→ Source 1505 description: First nuclear decommissioning project in Finland at FiR1 reactor - The first nuclear reactor decommissioning project in Finland involving planning, dismantling, and waste management of the FiR1 research reactor. | Developed by Fortum Corporation\n",
      "\n",
      "Similarity: 0.805 | From: 1 To: 1949\n",
      "→ Source 1 description: FiR 1 - FiR 1 is a Triga-type nuclear research reactor located in Otaniemi, Espoo, Finland, decommissioned by VTT after serving since 1962, used for nuclear research, training, and medical radiation therapy. | Developed by VTT Technical Research Centre of Finland Ltd.\n",
      "→ Source 1949 description: FiR1 research nuclear reactor decommissioning - The first nuclear decommissioning project in Finland involving planning, preparatory measures, dismantling of the reactor and waste management including final disposal of the FiR1 research nuclear reactor in Espoo. | Developed by Fortum Corporation\n"
     ]
    },
    {
     "name": "stderr",
     "output_type": "stream",
     "text": [
      "  0%|          | 1/3416 [00:01<1:31:09,  1.60s/it]"
     ]
    },
    {
     "name": "stdout",
     "output_type": "stream",
     "text": [
      "\n",
      "Similarity: 0.810 | From: 1 To: 3335\n",
      "→ Source 1 description: FiR 1 - FiR 1 is a Triga-type nuclear research reactor located in Otaniemi, Espoo, Finland, decommissioned by VTT after serving since 1962, used for nuclear research, training, and medical radiation therapy. | Developed by VTT Technical Research Centre of Finland Ltd.\n",
      "→ Source 3335 description: FiR1 research nuclear reactor decommissioning project - The project to decommission the FiR1 research nuclear reactor in Espoo, Finland, including planning, dismantling, waste management and final disposal, executed starting in 2022 with safety as a priority. | Developed by Fortum Corporation\n",
      "\n",
      "Similarity: 0.822 | From: 1 To: 3336\n",
      "→ Source 1 description: FiR 1 - FiR 1 is a Triga-type nuclear research reactor located in Otaniemi, Espoo, Finland, decommissioned by VTT after serving since 1962, used for nuclear research, training, and medical radiation therapy. | Developed by VTT Technical Research Centre of Finland Ltd.\n",
      "→ Source 3336 description: decommissioning the FiR1 research nuclear reactor - Decommissioning of the FiR1 research nuclear reactor in Espoo, Finland, including planning, preparatory measures, dismantling and waste management. | Developed by Fortum Corporation\n",
      "\n",
      "Similarity: 0.817 | From: 2 To: 264\n",
      "→ Source 2 description: Centre for Nuclear Safety - A modern research facility under construction by VTT in Otaniemi, Espoo for nuclear safety research, equipped with state-of-the-art technology for studying radioactive materials and improving nuclear safety. | Developed by VTT Technical Research Centre of Finland Ltd.\n",
      "→ Source 264 description: FI26473754 - VTT's new nuclear safety house containing modern radiation source handling facilities for improving nuclear power plant safety and spent nuclear fuel disposal research, currently under construction and to be available from early 2016. | Developed by VTT:n ydinturvallisuustalo\n",
      "\n",
      "Similarity: 0.865 | From: 2 To: 1833\n",
      "→ Source 2 description: Centre for Nuclear Safety - A modern research facility under construction by VTT in Otaniemi, Espoo for nuclear safety research, equipped with state-of-the-art technology for studying radioactive materials and improving nuclear safety. | Developed by VTT Technical Research Centre of Finland Ltd.\n",
      "→ Source 1833 description: nuclear safety house - A new four-storey building bringing together all nuclear safety research activities of VTT under one roof, integrating office and laboratory spaces with an activity-based environment to improve collaboration and experimental research capabilities. | Developed by VTT Technical Research Centre of Finland Ltd\n"
     ]
    },
    {
     "name": "stderr",
     "output_type": "stream",
     "text": [
      "  0%|          | 3/3416 [00:04<1:25:44,  1.51s/it]"
     ]
    },
    {
     "name": "stdout",
     "output_type": "stream",
     "text": [
      "\n",
      "Similarity: 0.805 | From: 4 To: 1417\n",
      "→ Source 4 description: Data-Driven Bioeconomy project - An innovation using Big Data for sustainable use of resources in agriculture, forestry and fishery, improving decision-making with sensors and imagery data. | Developed by VTT Technical Research Centre of Finland\n",
      "→ Source 1417 description: Big data solutions for sustainable resource use in agriculture, forestry and fisheries - A set of new solutions developed to utilize big data for responsible and sustainable use of resources in agriculture, forestry and fisheries, including software for analyzing and refining data streams from sensors and satellite images. | Developed by VTT\n"
     ]
    },
    {
     "name": "stderr",
     "output_type": "stream",
     "text": [
      "  0%|          | 8/3416 [00:12<1:28:52,  1.56s/it]"
     ]
    },
    {
     "name": "stdout",
     "output_type": "stream",
     "text": [
      "\n",
      "Similarity: 0.915 | From: 9 To: 10\n",
      "→ Source 9 description: bio-based packaging solution made of cellulose - A compostable and lightweight packaging material developed by combining cellulose films with different, complementary properties, suitable for dry and greasy products, which extends shelf life and reduces food waste and microplastics problem. | Developed by VTT Technical Research Centre of Finland\n",
      "→ Source 10 description: bio-based packaging solution - A compostable and lightweight packaging material made of cellulose films developed by VTT that reduces the use of plastics, extends shelf life of food, and reduces food waste and microplastics. | Developed by VTT Technical Research Centre of Finland\n",
      "\n",
      "Similarity: 0.811 | From: 9 To: 172\n",
      "→ Source 9 description: bio-based packaging solution made of cellulose - A compostable and lightweight packaging material developed by combining cellulose films with different, complementary properties, suitable for dry and greasy products, which extends shelf life and reduces food waste and microplastics problem. | Developed by VTT Technical Research Centre of Finland\n",
      "→ Source 172 description: biodegradable packaging materials based on a fibrous web - Biodegradable packaging materials made from a fibrous web and cellulose developed to reduce plastic waste in oceans and soil. | Developed by VTT Technical Research Centre of Finland Ltd\n"
     ]
    },
    {
     "name": "stderr",
     "output_type": "stream",
     "text": [
      "  0%|          | 10/3416 [00:15<1:27:31,  1.54s/it]"
     ]
    },
    {
     "name": "stdout",
     "output_type": "stream",
     "text": [
      "\n",
      "Similarity: 0.849 | From: 10 To: 3298\n",
      "→ Source 10 description: bio-based packaging solution - A compostable and lightweight packaging material made of cellulose films developed by VTT that reduces the use of plastics, extends shelf life of food, and reduces food waste and microplastics. | Developed by VTT Technical Research Centre of Finland\n",
      "→ Source 3298 description: bio-based, recyclable and reusable packaging materials - Bio-based, recyclable and reusable packaging materials developed by Paptic Ltd that aim to replace plastic alternatives. | Developed by Paptic Ltd\n"
     ]
    },
    {
     "name": "stderr",
     "output_type": "stream",
     "text": [
      "  0%|          | 11/3416 [00:17<1:25:40,  1.51s/it]"
     ]
    },
    {
     "name": "stdout",
     "output_type": "stream",
     "text": [
      "\n",
      "Similarity: 0.891 | From: 12 To: 1150\n",
      "→ Source 12 description: fungal production platform C1 - A new fungal production platform for vaccines and therapeutic proteins developed by improving Dyadic's C1 Myceliophthora thermophila fungus. | Developed by VTT\n",
      "→ Source 1150 description: Myceliophthora thermophila C1 fungus strain for producing vaccine, medicine, and therapeutic proteins - An efficient microbial platform developed jointly by VTT and Dyadic International to produce vaccines, medicines, and therapeutic proteins at scale and lower cost. | Developed by VTT\n"
     ]
    },
    {
     "name": "stderr",
     "output_type": "stream",
     "text": [
      "  0%|          | 12/3416 [00:18<1:24:24,  1.49s/it]"
     ]
    },
    {
     "name": "stdout",
     "output_type": "stream",
     "text": [
      "\n",
      "Similarity: 0.829 | From: 13 To: 401\n",
      "→ Source 13 description: Pilot line for cellulose-based electrical insulation components - A new compact and feasible pilot line concept using novel processing technologies for rapid, design-driven production of advanced cellulose-based electrical insulation components with improved efficiency and reduced operational costs. | Developed by VTT Technical Research Centre of Finland Ltd\n",
      "→ Source 401 description: FI14451013 - An EU-funded innovation project developing automated manufacturing methods for cellulose-based electrical insulation components and other applications like automotive and cruise ships. | Developed by AGH\n",
      "\n",
      "Similarity: 0.821 | From: 13 To: 1159\n",
      "→ Source 13 description: Pilot line for cellulose-based electrical insulation components - A new compact and feasible pilot line concept using novel processing technologies for rapid, design-driven production of advanced cellulose-based electrical insulation components with improved efficiency and reduced operational costs. | Developed by VTT Technical Research Centre of Finland Ltd\n",
      "→ Source 1159 description: Uusiin tuotantoteknologioihin perustuva koetuotantolinja selluloosapohjaisten sähköeristekomponenttien valmistusta varten (NOVUM) - A project that developed a novel pilot production line for manufacturing cellulose-based electrical insulation components with improved efficiency and lower costs. | Developed by Teknologian tutkimuskeskus VTT Oy\n"
     ]
    },
    {
     "name": "stderr",
     "output_type": "stream",
     "text": [
      "  0%|          | 13/3416 [00:20<1:24:54,  1.50s/it]"
     ]
    },
    {
     "name": "stdout",
     "output_type": "stream",
     "text": [
      "\n",
      "Similarity: 0.865 | From: 14 To: 38\n",
      "→ Source 14 description: silicon photonics and optical data transfer components - New technological components in silicon photonics and optical data transfer developed and commercialised through VTT and Hitachi cooperation. | Developed by VTT Technical Research Centre of Finland\n",
      "→ Source 38 description: silicon photonics products - The silicon photonics products developed to create compact, efficient, and affordable optical signal-based devices for measuring, imaging, and data transfer. | Developed by VTT Technical Research Centre of Finland\n"
     ]
    },
    {
     "name": "stderr",
     "output_type": "stream",
     "text": [
      "  1%|          | 27/3416 [00:41<1:26:00,  1.52s/it]"
     ]
    },
    {
     "name": "stdout",
     "output_type": "stream",
     "text": [
      "\n",
      "Similarity: 0.811 | From: 28 To: 814\n",
      "→ Source 28 description: Material developed by Paptic - A new material made of renewable resources developed by Paptic that can replace plastic, paper, and canvas bags, with plastic-like features such as flexibility, moisture resistance, and heat-sealing, and is more water-resistant than paper. | Developed by Paptic Oy\n",
      "→ Source 814 description: Paptic's recyclable packaging material - An innovative recyclable packaging material made from renewable wood fibers that behaves like plastic in processing and can be recycled with cardboard and packaging paper, developed as a sustainable alternative to plastic. | Developed by Paptic\n",
      "\n",
      "Similarity: 0.838 | From: 28 To: 1272\n",
      "→ Source 28 description: Material developed by Paptic - A new material made of renewable resources developed by Paptic that can replace plastic, paper, and canvas bags, with plastic-like features such as flexibility, moisture resistance, and heat-sealing, and is more water-resistant than paper. | Developed by Paptic Oy\n",
      "→ Source 1272 description: Paptic-materiaalista valmistetut tuotteet - New material developed by Paptic Oy made from renewable raw materials that can replace plastic, paper, and fabric with properties like flexibility, moisture resistance, and heat sealing. | Developed by Paptic Oy\n",
      "\n",
      "Similarity: 0.894 | From: 28 To: 1273\n",
      "→ Source 28 description: Material developed by Paptic - A new material made of renewable resources developed by Paptic that can replace plastic, paper, and canvas bags, with plastic-like features such as flexibility, moisture resistance, and heat-sealing, and is more water-resistant than paper. | Developed by Paptic Oy\n",
      "→ Source 1273 description: Paptic material from Paptic Oy - A new renewable material developed by Paptic Oy to replace plastic, paper, and fabric, with plastic-like properties such as flexibility, water resistance, and heat sealability, made from Finnish softwood fibers and other biobased raw materials. | Developed by Paptic Oy\n"
     ]
    },
    {
     "name": "stderr",
     "output_type": "stream",
     "text": [
      "  1%|          | 28/3416 [00:42<1:24:53,  1.50s/it]"
     ]
    },
    {
     "name": "stdout",
     "output_type": "stream",
     "text": [
      "\n",
      "Similarity: 0.972 | From: 29 To: 30\n",
      "→ Source 29 description: ArTEco - Innovative technologies and solutions for mechanical and rotating propulsion technology in extreme Arctic conditions, developed to increase thruster lifetimes, decrease maintenance needs, and improve reliability. | Developed by VTT\n",
      "→ Source 30 description: ArTEco innovative thruster solutions - Innovative technologies and solutions developed for mechanical and rotating propulsion technology in extreme Arctic conditions, improving thruster durability, reducing maintenance needs, and enhancing reliability. | Developed by VTT\n",
      "\n",
      "Similarity: 0.932 | From: 29 To: 31\n",
      "→ Source 29 description: ArTEco - Innovative technologies and solutions for mechanical and rotating propulsion technology in extreme Arctic conditions, developed to increase thruster lifetimes, decrease maintenance needs, and improve reliability. | Developed by VTT\n",
      "→ Source 31 description: ArTEco project innovative technologies for thruster solutions - Innovative technologies and solutions developed for mechanical and rotating propulsion technology in extreme Arctic conditions, improving thruster durability, reducing maintenance, and increasing reliability, specifically under ice loads. | Developed by VTT\n",
      "\n",
      "Similarity: 0.898 | From: 29 To: 234\n",
      "→ Source 29 description: ArTEco - Innovative technologies and solutions for mechanical and rotating propulsion technology in extreme Arctic conditions, developed to increase thruster lifetimes, decrease maintenance needs, and improve reliability. | Developed by VTT\n",
      "→ Source 234 description: ArTEco (Arctic Thruster Ecosystem) - Innovative technical solutions developed under ArTEco project for ship rudder propeller systems to improve durability, reduce maintenance needs and enhance reliability in extreme conditions. | Developed by VTT\n"
     ]
    },
    {
     "name": "stderr",
     "output_type": "stream",
     "text": [
      "  1%|          | 29/3416 [00:44<1:23:15,  1.47s/it]"
     ]
    },
    {
     "name": "stdout",
     "output_type": "stream",
     "text": [
      "\n",
      "Similarity: 0.945 | From: 30 To: 31\n",
      "→ Source 30 description: ArTEco innovative thruster solutions - Innovative technologies and solutions developed for mechanical and rotating propulsion technology in extreme Arctic conditions, improving thruster durability, reducing maintenance needs, and enhancing reliability. | Developed by VTT\n",
      "→ Source 31 description: ArTEco project innovative technologies for thruster solutions - Innovative technologies and solutions developed for mechanical and rotating propulsion technology in extreme Arctic conditions, improving thruster durability, reducing maintenance, and increasing reliability, specifically under ice loads. | Developed by VTT\n",
      "\n",
      "Similarity: 0.881 | From: 30 To: 234\n",
      "→ Source 30 description: ArTEco innovative thruster solutions - Innovative technologies and solutions developed for mechanical and rotating propulsion technology in extreme Arctic conditions, improving thruster durability, reducing maintenance needs, and enhancing reliability. | Developed by VTT\n",
      "→ Source 234 description: ArTEco (Arctic Thruster Ecosystem) - Innovative technical solutions developed under ArTEco project for ship rudder propeller systems to improve durability, reduce maintenance needs and enhance reliability in extreme conditions. | Developed by VTT\n"
     ]
    },
    {
     "name": "stderr",
     "output_type": "stream",
     "text": [
      "  1%|          | 30/3416 [00:45<1:22:22,  1.46s/it]"
     ]
    },
    {
     "name": "stdout",
     "output_type": "stream",
     "text": [
      "\n",
      "Similarity: 0.875 | From: 31 To: 233\n",
      "→ Source 31 description: ArTEco project innovative technologies for thruster solutions - Innovative technologies and solutions developed for mechanical and rotating propulsion technology in extreme Arctic conditions, improving thruster durability, reducing maintenance, and increasing reliability, specifically under ice loads. | Developed by VTT\n",
      "→ Source 233 description: innovative solutions for mechanical thruster technology in extreme conditions - Innovative technical solutions developed for mechanical thruster technology of rudder propeller equipment to extend service life, reduce maintenance, and improve reliability especially in extreme arctic conditions. | Developed by VTT\n",
      "\n",
      "Similarity: 0.820 | From: 31 To: 234\n",
      "→ Source 31 description: ArTEco project innovative technologies for thruster solutions - Innovative technologies and solutions developed for mechanical and rotating propulsion technology in extreme Arctic conditions, improving thruster durability, reducing maintenance, and increasing reliability, specifically under ice loads. | Developed by VTT\n",
      "→ Source 234 description: ArTEco (Arctic Thruster Ecosystem) - Innovative technical solutions developed under ArTEco project for ship rudder propeller systems to improve durability, reduce maintenance needs and enhance reliability in extreme conditions. | Developed by VTT\n"
     ]
    },
    {
     "name": "stderr",
     "output_type": "stream",
     "text": [
      "  1%|          | 31/3416 [00:46<1:21:44,  1.45s/it]"
     ]
    },
    {
     "name": "stdout",
     "output_type": "stream",
     "text": [
      "\n",
      "Similarity: 0.924 | From: 32 To: 89\n",
      "→ Source 32 description: 5G-Safe project - A project exploring the use of the 5G mobile network to improve road safety through fast data transmission solutions, collecting vehicle and road data for applications such as road weather services, road maintenance, and self-driving car control. | Developed by VTT\n",
      "→ Source 89 description: 5G-SAFE project - An innovation project completed in 2018 aimed at improving road safety and reducing accidents by developing new road weather and road safety services to assist vehicle drivers, automated driving and road maintenance using 5G communication solutions. | Developed by VTT Technical Research Centre of Finland\n",
      "\n",
      "Similarity: 0.819 | From: 32 To: 2465\n",
      "→ Source 32 description: 5G-Safe project - A project exploring the use of the 5G mobile network to improve road safety through fast data transmission solutions, collecting vehicle and road data for applications such as road weather services, road maintenance, and self-driving car control. | Developed by VTT\n",
      "→ Source 2465 description: Challenge Finland 5G-SAFE project - A research and development project conducted by VTT on new 5G-enabled road safety services in Finland. | Developed by VTT Technical Research Centre of Finland\n",
      "\n",
      "Similarity: 0.854 | From: 32 To: 2582\n",
      "→ Source 32 description: 5G-Safe project - A project exploring the use of the 5G mobile network to improve road safety through fast data transmission solutions, collecting vehicle and road data for applications such as road weather services, road maintenance, and self-driving car control. | Developed by VTT\n",
      "→ Source 2582 description: 5G-Safe -hanke - The 5G-Safe project developing new vehicle network solutions and local road weather and safety services to support drivers, road maintainers, and autonomous vehicle control systems by utilizing 5G technology for real-time data services. | Developed by Teknologian tutkimuskeskus VTT\n"
     ]
    },
    {
     "name": "stderr",
     "output_type": "stream",
     "text": [
      "  1%|          | 32/3416 [00:48<1:21:16,  1.44s/it]"
     ]
    },
    {
     "name": "stdout",
     "output_type": "stream",
     "text": [
      "\n",
      "Similarity: 0.969 | From: 33 To: 34\n",
      "→ Source 33 description: Anti-theft sticker - A prototype adhesive ID tag based on blockchain technology that protects valuables without revealing their location. | Developed by VTT Technical Research Centre of Finland\n",
      "→ Source 34 description: Anti-theft sticker prototype based on blockchain technology - A prototype adhesive ID tag developed to protect valuables without revealing their location, using blockchain technology and smart contracts. | Developed by VTT Technical Research Centre of Finland\n"
     ]
    },
    {
     "name": "stderr",
     "output_type": "stream",
     "text": [
      "  1%|          | 35/3416 [00:52<1:21:09,  1.44s/it]"
     ]
    },
    {
     "name": "stdout",
     "output_type": "stream",
     "text": [
      "\n",
      "Similarity: 0.980 | From: 36 To: 37\n",
      "→ Source 36 description: Lifecycle Efficiency Online (LEO) - An application developed for predictive maintenance technology that monitors the operation and condition of critical hydraulic cylinders, providing timely warnings and usage data to machine operators. | Developed by Hydroline\n",
      "→ Source 37 description: Lifecycle Efficiency Online (LEO) application - A predictive maintenance technology application developed by Hydroline that monitors the operation and condition of critical hydraulic cylinders to provide timely warnings and maintenance information. | Developed by Hydroline\n",
      "\n",
      "Similarity: 0.804 | From: 36 To: 1222\n",
      "→ Source 36 description: Lifecycle Efficiency Online (LEO) - An application developed for predictive maintenance technology that monitors the operation and condition of critical hydraulic cylinders, providing timely warnings and usage data to machine operators. | Developed by Hydroline\n",
      "→ Source 1222 description: Lifecycle Efficiency Online eli LEO-sovellus - A predictive maintenance digital application developed to monitor the operation and condition of critical hydraulic cylinders in machinery, allowing timely warnings and efficient maintenance to avoid costly breakdowns. | Developed by Hydroline\n"
     ]
    },
    {
     "name": "stderr",
     "output_type": "stream",
     "text": [
      "  1%|          | 37/3416 [00:55<1:21:00,  1.44s/it]"
     ]
    },
    {
     "name": "stdout",
     "output_type": "stream",
     "text": [
      "\n",
      "Similarity: 0.840 | From: 38 To: 601\n",
      "→ Source 38 description: silicon photonics products - The silicon photonics products developed to create compact, efficient, and affordable optical signal-based devices for measuring, imaging, and data transfer. | Developed by VTT Technical Research Centre of Finland\n",
      "→ Source 601 description: Silicon photonics - Silicon photonics is a technology combining light and electricity for high-speed, energy-efficient, microscopic photonic integrated circuits enabling applications from medicine to autonomous transport. | Developed by VTT\n"
     ]
    },
    {
     "name": "stderr",
     "output_type": "stream",
     "text": [
      "  1%|          | 41/3416 [01:01<1:19:44,  1.42s/it]"
     ]
    },
    {
     "name": "stdout",
     "output_type": "stream",
     "text": [
      "\n",
      "Similarity: 0.957 | From: 42 To: 43\n",
      "→ Source 42 description: 5G technology enables 3D views for inter-vehicle communication - A novel innovation developed by VTT and partner companies that uses 5G technology to transmit large 3D views between vehicles, increasing communication distances and improving road safety. | Developed by VTT Technical Research Centre of Finland\n",
      "→ Source 43 description: 5G technology enables real-time inter-vehicle transmission of 3D views - A new solution developed by VTT and partners that enables real-time transmission of 3D views between vehicles using 5G technology to enhance road safety and automated driving. | Developed by VTT Technical Research Centre of Finland\n",
      "\n",
      "Similarity: 0.878 | From: 42 To: 44\n",
      "→ Source 42 description: 5G technology enables 3D views for inter-vehicle communication - A novel innovation developed by VTT and partner companies that uses 5G technology to transmit large 3D views between vehicles, increasing communication distances and improving road safety. | Developed by VTT Technical Research Centre of Finland\n",
      "→ Source 44 description: 5G technology enabled vehicular network solutions - New solutions developed by VTT Technical Research Centre of Finland enabling road weather services, road maintenance, automated driving, and real-time inter-vehicle transmission of 3D views using 5G technology. | Developed by VTT Technical Research Centre of Finland\n",
      "\n",
      "Similarity: 0.951 | From: 42 To: 45\n",
      "→ Source 42 description: 5G technology enables 3D views for inter-vehicle communication - A novel innovation developed by VTT and partner companies that uses 5G technology to transmit large 3D views between vehicles, increasing communication distances and improving road safety. | Developed by VTT Technical Research Centre of Finland\n",
      "→ Source 45 description: 5G technology enabled inter-vehicle real-time 3D views transmission - An innovation utilizing 5G technology to transmit large 3D views between vehicles in real-time to increase communication range and safety on the roads. | Developed by VTT Technical Research Centre of Finland\n"
     ]
    },
    {
     "name": "stderr",
     "output_type": "stream",
     "text": [
      "  1%|          | 42/3416 [01:02<1:19:37,  1.42s/it]"
     ]
    },
    {
     "name": "stdout",
     "output_type": "stream",
     "text": [
      "\n",
      "Similarity: 0.862 | From: 43 To: 44\n",
      "→ Source 43 description: 5G technology enables real-time inter-vehicle transmission of 3D views - A new solution developed by VTT and partners that enables real-time transmission of 3D views between vehicles using 5G technology to enhance road safety and automated driving. | Developed by VTT Technical Research Centre of Finland\n",
      "→ Source 44 description: 5G technology enabled vehicular network solutions - New solutions developed by VTT Technical Research Centre of Finland enabling road weather services, road maintenance, automated driving, and real-time inter-vehicle transmission of 3D views using 5G technology. | Developed by VTT Technical Research Centre of Finland\n",
      "\n",
      "Similarity: 0.980 | From: 43 To: 45\n",
      "→ Source 43 description: 5G technology enables real-time inter-vehicle transmission of 3D views - A new solution developed by VTT and partners that enables real-time transmission of 3D views between vehicles using 5G technology to enhance road safety and automated driving. | Developed by VTT Technical Research Centre of Finland\n",
      "→ Source 45 description: 5G technology enabled inter-vehicle real-time 3D views transmission - An innovation utilizing 5G technology to transmit large 3D views between vehicles in real-time to increase communication range and safety on the roads. | Developed by VTT Technical Research Centre of Finland\n"
     ]
    },
    {
     "name": "stderr",
     "output_type": "stream",
     "text": [
      "  1%|▏         | 43/3416 [01:03<1:19:50,  1.42s/it]"
     ]
    },
    {
     "name": "stdout",
     "output_type": "stream",
     "text": [
      "\n",
      "Similarity: 0.851 | From: 44 To: 45\n",
      "→ Source 44 description: 5G technology enabled vehicular network solutions - New solutions developed by VTT Technical Research Centre of Finland enabling road weather services, road maintenance, automated driving, and real-time inter-vehicle transmission of 3D views using 5G technology. | Developed by VTT Technical Research Centre of Finland\n",
      "→ Source 45 description: 5G technology enabled inter-vehicle real-time 3D views transmission - An innovation utilizing 5G technology to transmit large 3D views between vehicles in real-time to increase communication range and safety on the roads. | Developed by VTT Technical Research Centre of Finland\n",
      "\n",
      "Similarity: 0.827 | From: 44 To: 89\n",
      "→ Source 44 description: 5G technology enabled vehicular network solutions - New solutions developed by VTT Technical Research Centre of Finland enabling road weather services, road maintenance, automated driving, and real-time inter-vehicle transmission of 3D views using 5G technology. | Developed by VTT Technical Research Centre of Finland\n",
      "→ Source 89 description: 5G-SAFE project - An innovation project completed in 2018 aimed at improving road safety and reducing accidents by developing new road weather and road safety services to assist vehicle drivers, automated driving and road maintenance using 5G communication solutions. | Developed by VTT Technical Research Centre of Finland\n"
     ]
    },
    {
     "name": "stderr",
     "output_type": "stream",
     "text": [
      "  1%|▏         | 45/3416 [01:06<1:21:13,  1.45s/it]"
     ]
    },
    {
     "name": "stdout",
     "output_type": "stream",
     "text": [
      "\n",
      "Similarity: 0.968 | From: 46 To: 156\n",
      "→ Source 46 description: ComSos (Commercial-scale SOFC systems) EU project - A European project coordinated by VTT developing commercial applications based on SOFC fuel cell technology, implementing 25 SOFC-based power generation solutions globally for energy-efficient and low-emission electricity and heat production. | Developed by VTT Technical Research Centre of Finland\n",
      "→ Source 156 description: ComSos (Commercial-scale SOFC systems) EU project - A five-year European project developing commercial-scale solid oxide fuel cell (SOFC) systems producing efficient and low-emission electricity and heat | Developed by VTT\n"
     ]
    },
    {
     "name": "stderr",
     "output_type": "stream",
     "text": [
      "  1%|▏         | 46/3416 [01:08<1:20:23,  1.43s/it]"
     ]
    },
    {
     "name": "stdout",
     "output_type": "stream",
     "text": [
      "\n",
      "Similarity: 0.905 | From: 47 To: 193\n",
      "→ Source 47 description: ProperTune - A multiscale digital material modelling tool developed by VTT to forecast wear and optimize materials for reduced friction and wear in various industrial applications. | Developed by VTT Technical Research Centre of Finland Ltd.\n",
      "→ Source 193 description: ProperTune® - An innovative multiscale digital material modeling tool developed by VTT to optimize material structures and predict wear, improving energy efficiency and reducing greenhouse gas emissions. | Developed by VTT\n"
     ]
    },
    {
     "name": "stderr",
     "output_type": "stream",
     "text": [
      "  1%|▏         | 51/3416 [01:15<1:19:34,  1.42s/it]"
     ]
    },
    {
     "name": "stdout",
     "output_type": "stream",
     "text": [
      "\n",
      "Similarity: 0.819 | From: 52 To: 1172\n",
      "→ Source 52 description: Bio-based plastics - Plastics manufactured from renewable raw materials serving as equivalents to fossil-based plastics, with similar characteristics. | Developed by VTT\n",
      "→ Source 1172 description: Biopolymeerit - Sustainable, carbon-neutral, and renewable polymer materials developed to replace fossil-based plastics, made from natural materials such as cellulose and biobased monomers. | Developed by VTT\n"
     ]
    },
    {
     "name": "stderr",
     "output_type": "stream",
     "text": [
      "  2%|▏         | 52/3416 [01:16<1:18:54,  1.41s/it]"
     ]
    },
    {
     "name": "stdout",
     "output_type": "stream",
     "text": [
      "\n",
      "Similarity: 0.843 | From: 53 To: 207\n",
      "→ Source 53 description: Sugarcane-based polyethylene (PE) - A bio-based plastic made from sugarcane, used in Lego building blocks representing plants. | Developed by VTT\n",
      "→ Source 207 description: sokeriruokopohjainen polyeteeni (PE) - Sugarcane-based polyethylene (PE) used in LEGO plant-based building blocks, a bioplastic innovation substituting fossil-based plastics. | Developed by VTT\n"
     ]
    },
    {
     "name": "stderr",
     "output_type": "stream",
     "text": [
      "  2%|▏         | 54/3416 [01:19<1:19:18,  1.42s/it]"
     ]
    },
    {
     "name": "stdout",
     "output_type": "stream",
     "text": [
      "\n",
      "Similarity: 0.972 | From: 55 To: 57\n",
      "→ Source 55 description: Porsche Taycan model with 350 kW charging capacity - An electric car model released by Porsche featuring a high charging capacity of 350 kW, requiring special high power charging stations for rapid charging. | Developed by Porsche Taycan model with 350 kW charging capacity\n",
      "→ Source 57 description: charging capacity of Porsche Taycan electric car (350 kW) - The Porsche Taycan electric car model with a rapid charging capacity of 350 kW, announced for release in 2019. | Developed by Porsche\n",
      "\n",
      "Similarity: 0.830 | From: 55 To: 210\n",
      "→ Source 55 description: Porsche Taycan model with 350 kW charging capacity - An electric car model released by Porsche featuring a high charging capacity of 350 kW, requiring special high power charging stations for rapid charging. | Developed by Porsche Taycan model with 350 kW charging capacity\n",
      "→ Source 210 description: Porsche Taycan-mallillaan - The Porsche Taycan model, announced in 2019, features 350 kW charging capability requiring special high-power charging stations. | Developed by Fortum\n",
      "\n",
      "Similarity: 0.874 | From: 55 To: 211\n",
      "→ Source 55 description: Porsche Taycan model with 350 kW charging capacity - An electric car model released by Porsche featuring a high charging capacity of 350 kW, requiring special high power charging stations for rapid charging. | Developed by Porsche Taycan model with 350 kW charging capacity\n",
      "→ Source 211 description: Porsche Taycan-mallillaan, jota voi ladata 350 kW:n teholla - An electric vehicle model, Porsche Taycan, which can be charged at 350 kW charging power enabling faster charging compared to typical electric vehicles. | Developed by Porsche\n"
     ]
    },
    {
     "name": "stderr",
     "output_type": "stream",
     "text": [
      "  2%|▏         | 55/3416 [01:21<1:19:34,  1.42s/it]"
     ]
    },
    {
     "name": "stdout",
     "output_type": "stream",
     "text": [
      "\n",
      "Similarity: 0.845 | From: 56 To: 249\n",
      "→ Source 56 description: SES (Synthetic Expression System) toolbox - An efficient synthetic biology toolbox developed by VTT for engineering a diverse range of yeasts and fungi, enabling more efficient and better-controlled gene expression for industrial bioprocesses. | Developed by VTT Technical Research Centre of Finland\n",
      "→ Source 249 description: SES-työkalupakki - Synthetic Expression System, a toolset developed by VTT enabling highly efficient and controlled gene expression in yeasts and molds for biotechnological applications. | Developed by VTT\n"
     ]
    },
    {
     "name": "stderr",
     "output_type": "stream",
     "text": [
      "  2%|▏         | 56/3416 [01:22<1:19:05,  1.41s/it]"
     ]
    },
    {
     "name": "stdout",
     "output_type": "stream",
     "text": [
      "\n",
      "Similarity: 0.821 | From: 57 To: 210\n",
      "→ Source 57 description: charging capacity of Porsche Taycan electric car (350 kW) - The Porsche Taycan electric car model with a rapid charging capacity of 350 kW, announced for release in 2019. | Developed by Porsche\n",
      "→ Source 210 description: Porsche Taycan-mallillaan - The Porsche Taycan model, announced in 2019, features 350 kW charging capability requiring special high-power charging stations. | Developed by Fortum\n",
      "\n",
      "Similarity: 0.868 | From: 57 To: 211\n",
      "→ Source 57 description: charging capacity of Porsche Taycan electric car (350 kW) - The Porsche Taycan electric car model with a rapid charging capacity of 350 kW, announced for release in 2019. | Developed by Porsche\n",
      "→ Source 211 description: Porsche Taycan-mallillaan, jota voi ladata 350 kW:n teholla - An electric vehicle model, Porsche Taycan, which can be charged at 350 kW charging power enabling faster charging compared to typical electric vehicles. | Developed by Porsche\n"
     ]
    },
    {
     "name": "stderr",
     "output_type": "stream",
     "text": [
      "  2%|▏         | 58/3416 [01:25<1:19:42,  1.42s/it]"
     ]
    },
    {
     "name": "stdout",
     "output_type": "stream",
     "text": [
      "\n",
      "Similarity: 0.824 | From: 59 To: 817\n",
      "→ Source 59 description: Electrofuel - A fuel developed from green hydrogen and carbon dioxide, to be tested in practice for the first time. | Developed by VTT\n",
      "→ Source 817 description: electrofuel from green hydrogen and carbon dioxide - A paraffinic electrofuel produced from green hydrogen and carbon dioxide, suitable for replacing fossil diesel in hard-to-electrify vehicles and machinery. | Developed by VTT\n",
      "\n",
      "Similarity: 0.817 | From: 59 To: 819\n",
      "→ Source 59 description: Electrofuel - A fuel developed from green hydrogen and carbon dioxide, to be tested in practice for the first time. | Developed by VTT\n",
      "→ Source 819 description: Electrofuel developed from green hydrogen and carbon dioxide - A new paraffinic electrofuel produced from green hydrogen and carbon dioxide using a combination of high-temperature electrolysis, carbon capture, and Fischer-Tropsch synthesis, developed for sustainable transport fuel and tested in practical use for the first time. | Developed by VTT\n",
      "\n",
      "Similarity: 0.807 | From: 59 To: 1674\n",
      "→ Source 59 description: Electrofuel - A fuel developed from green hydrogen and carbon dioxide, to be tested in practice for the first time. | Developed by VTT\n",
      "→ Source 1674 description: e-fuels - Electrofuels made from renewable hydrogen produced by green electricity and captured CO2; a carbon-neutral fuel alternative for transportation sectors difficult to electrify directly, demonstrated at industrial scale pilot in Finland. | Developed by Neste\n"
     ]
    },
    {
     "name": "stderr",
     "output_type": "stream",
     "text": [
      "  2%|▏         | 59/3416 [01:26<1:19:47,  1.43s/it]"
     ]
    },
    {
     "name": "stdout",
     "output_type": "stream",
     "text": [
      "\n",
      "Similarity: 0.812 | From: 60 To: 65\n",
      "→ Source 60 description: Climate-friendly hydrocarbons from industrial carbon dioxide emissions - Hydrocarbons produced in a climate-friendly way from industrial carbon dioxide and hydrogen, which can be refined to fossil-free petrol, diesel and chemicals, demonstrated through pilot-scale experiments. | Developed by VTT Technical Research Centre of Finland Ltd\n",
      "→ Source 65 description: Ilmastoystävällisiä hiilivetyjä teollisuuden hiilidioksidista - Bioeconomy+ Pilotointi - Pilot scale production of climate-friendly hydrocarbons from industrial carbon dioxide using a process combining bioethanol-derived CO2, electrolytically produced hydrogen, and synthesis equipment, demonstrated at St1's biorefinery in Jokioinen. | Developed by VTT\n",
      "\n",
      "Similarity: 0.807 | From: 60 To: 1564\n",
      "→ Source 60 description: Climate-friendly hydrocarbons from industrial carbon dioxide emissions - Hydrocarbons produced in a climate-friendly way from industrial carbon dioxide and hydrogen, which can be refined to fossil-free petrol, diesel and chemicals, demonstrated through pilot-scale experiments. | Developed by VTT Technical Research Centre of Finland Ltd\n",
      "→ Source 1564 description: pilot plant for producing hydrocarbons from industrial carbon dioxide - A pilot plant at St1's biorefinery in Jokioinen, Finland, demonstrating climate-friendly production of hydrocarbons from carbon dioxide and hydrogen as of October 2018. | Developed by VTT\n"
     ]
    },
    {
     "name": "stderr",
     "output_type": "stream",
     "text": [
      "  2%|▏         | 60/3416 [01:28<1:18:51,  1.41s/it]"
     ]
    },
    {
     "name": "stdout",
     "output_type": "stream",
     "text": [
      "\n",
      "Similarity: 0.885 | From: 61 To: 1565\n",
      "→ Source 61 description: Bioeconomy+ Pilot Plant Demonstration - A pilot plant demonstrating climate-friendly hydrocarbon production from industrial carbon dioxide emissions, combining mobile water electrolysis and multipurpose synthesis units connected to an industrial biogenic CO2 source as part of the Bioeconomy+ project. | Developed by CarbonReUse Finland Ltd\n",
      "→ Source 1565 description: Bioeconomy+ pilot plant for producing hydrocarbons from industrial carbon dioxide - A pilot plant demonstrating production of hydrocarbons from industrial carbon dioxide in a climate-friendly way, consisting of integrated mobile units for processing carbon dioxide, hydrogen production, and synthesis into liquid and solid hydrocarbons. | Developed by CarbonReUse Finland Ltd\n"
     ]
    },
    {
     "name": "stderr",
     "output_type": "stream",
     "text": [
      "  2%|▏         | 61/3416 [01:29<1:18:02,  1.40s/it]"
     ]
    },
    {
     "name": "stdout",
     "output_type": "stream",
     "text": [
      "\n",
      "Similarity: 0.948 | From: 62 To: 63\n",
      "→ Source 62 description: New wood-based materials to prevent the spread of microorganisms in hospitals - Innovative renewable wood-based materials developed to prevent the spread of microorganisms in hospital environments, aiming to replace traditional materials with bio-based solutions. | Developed by VTT\n",
      "→ Source 63 description: New wood-based antimicrobial and low-carbon hospital materials - Innovative renewable wood-based materials, surface finishes and textiles developed to prevent the spread of microorganisms in hospitals, aiming to replace traditional oil-based plastics and reduce waste. | Developed by KiiltoClean Oy\n",
      "\n",
      "Similarity: 0.889 | From: 62 To: 507\n",
      "→ Source 62 description: New wood-based materials to prevent the spread of microorganisms in hospitals - Innovative renewable wood-based materials developed to prevent the spread of microorganisms in hospital environments, aiming to replace traditional materials with bio-based solutions. | Developed by VTT\n",
      "→ Source 507 description: Wood-based antimicrobial coatings - Safe and environmentally friendly wood-based antimicrobial solutions tested in hospital environments to reduce microbes on surfaces such as curtains and other hospital materials. | Developed by VTT\n",
      "\n",
      "Similarity: 0.811 | From: 62 To: 2852\n",
      "→ Source 62 description: New wood-based materials to prevent the spread of microorganisms in hospitals - Innovative renewable wood-based materials developed to prevent the spread of microorganisms in hospital environments, aiming to replace traditional materials with bio-based solutions. | Developed by VTT\n",
      "→ Source 2852 description: Sami&Samu - An innovation project addressing microbial resistance at hospitals using wood-based substances and replacing plastics with bio-based materials for hygiene and packaging solutions. | Developed by Kiilto\n"
     ]
    },
    {
     "name": "stderr",
     "output_type": "stream",
     "text": [
      "  2%|▏         | 62/3416 [01:30<1:18:16,  1.40s/it]"
     ]
    },
    {
     "name": "stdout",
     "output_type": "stream",
     "text": [
      "\n",
      "Similarity: 0.901 | From: 63 To: 507\n",
      "→ Source 63 description: New wood-based antimicrobial and low-carbon hospital materials - Innovative renewable wood-based materials, surface finishes and textiles developed to prevent the spread of microorganisms in hospitals, aiming to replace traditional oil-based plastics and reduce waste. | Developed by KiiltoClean Oy\n",
      "→ Source 507 description: Wood-based antimicrobial coatings - Safe and environmentally friendly wood-based antimicrobial solutions tested in hospital environments to reduce microbes on surfaces such as curtains and other hospital materials. | Developed by VTT\n",
      "\n",
      "Similarity: 0.838 | From: 63 To: 2835\n",
      "→ Source 63 description: New wood-based antimicrobial and low-carbon hospital materials - Innovative renewable wood-based materials, surface finishes and textiles developed to prevent the spread of microorganisms in hospitals, aiming to replace traditional oil-based plastics and reduce waste. | Developed by KiiltoClean Oy\n",
      "→ Source 2835 description: Sami&Samu-hankkeessa testataan lupaavimmat ratkaisut Keski-Suomen keskussairaalassa loppuvuoden 2020 aikana - Sami&Samu project tests promising new wood-based antimicrobial and bioplastic replacement solutions at Central Finland Central Hospital, validating their effective use in a hospital environment. | Developed by VTT\n",
      "\n",
      "Similarity: 0.818 | From: 63 To: 2852\n",
      "→ Source 63 description: New wood-based antimicrobial and low-carbon hospital materials - Innovative renewable wood-based materials, surface finishes and textiles developed to prevent the spread of microorganisms in hospitals, aiming to replace traditional oil-based plastics and reduce waste. | Developed by KiiltoClean Oy\n",
      "→ Source 2852 description: Sami&Samu - An innovation project addressing microbial resistance at hospitals using wood-based substances and replacing plastics with bio-based materials for hygiene and packaging solutions. | Developed by Kiilto\n"
     ]
    },
    {
     "name": "stderr",
     "output_type": "stream",
     "text": [
      "  2%|▏         | 64/3416 [01:33<1:19:20,  1.42s/it]"
     ]
    },
    {
     "name": "stdout",
     "output_type": "stream",
     "text": [
      "\n",
      "Similarity: 0.830 | From: 65 To: 1564\n",
      "→ Source 65 description: Ilmastoystävällisiä hiilivetyjä teollisuuden hiilidioksidista - Bioeconomy+ Pilotointi - Pilot scale production of climate-friendly hydrocarbons from industrial carbon dioxide using a process combining bioethanol-derived CO2, electrolytically produced hydrogen, and synthesis equipment, demonstrated at St1's biorefinery in Jokioinen. | Developed by VTT\n",
      "→ Source 1564 description: pilot plant for producing hydrocarbons from industrial carbon dioxide - A pilot plant at St1's biorefinery in Jokioinen, Finland, demonstrating climate-friendly production of hydrocarbons from carbon dioxide and hydrogen as of October 2018. | Developed by VTT\n",
      "\n",
      "Similarity: 0.820 | From: 65 To: 1565\n",
      "→ Source 65 description: Ilmastoystävällisiä hiilivetyjä teollisuuden hiilidioksidista - Bioeconomy+ Pilotointi - Pilot scale production of climate-friendly hydrocarbons from industrial carbon dioxide using a process combining bioethanol-derived CO2, electrolytically produced hydrogen, and synthesis equipment, demonstrated at St1's biorefinery in Jokioinen. | Developed by VTT\n",
      "→ Source 1565 description: Bioeconomy+ pilot plant for producing hydrocarbons from industrial carbon dioxide - A pilot plant demonstrating production of hydrocarbons from industrial carbon dioxide in a climate-friendly way, consisting of integrated mobile units for processing carbon dioxide, hydrogen production, and synthesis into liquid and solid hydrocarbons. | Developed by CarbonReUse Finland Ltd\n"
     ]
    },
    {
     "name": "stderr",
     "output_type": "stream",
     "text": [
      "  2%|▏         | 67/3416 [01:37<1:18:20,  1.40s/it]"
     ]
    },
    {
     "name": "stdout",
     "output_type": "stream",
     "text": [
      "\n",
      "Similarity: 0.882 | From: 68 To: 135\n",
      "→ Source 68 description: temp_295 - An ecosystem developing digital innovations for industry to improve productivity, production quality, and reaction speed, tested in genuine factory environments. | Developed by GE Healthcare Finland\n",
      "→ Source 135 description: temp_295 - A digital innovation development ecosystem aimed at renewing industry with digital solutions tested in real factory environments, producing scalable solutions with significant value. | Developed by ABB Protection & Connection (Vaasa)\n"
     ]
    },
    {
     "name": "stderr",
     "output_type": "stream",
     "text": [
      "  2%|▏         | 68/3416 [01:39<1:17:46,  1.39s/it]"
     ]
    },
    {
     "name": "stdout",
     "output_type": "stream",
     "text": [
      "\n",
      "Similarity: 0.908 | From: 69 To: 378\n",
      "→ Source 69 description: Worker Feedback Dashboard application - An application developed to provide factory workers personal feedback on how their shift is going and on their personal well-being using operational data and Fitbit activity tracker data. | Developed by VTT Technical Research Centre of Finland\n",
      "→ Source 378 description: Worker Feedback Dashboard - A new digital application developed to provide factory employees with data-based feedback on the fluency of their work and well-being, supporting independent decision-making and well-being in industrial work. | Developed by VTT\n"
     ]
    },
    {
     "name": "stderr",
     "output_type": "stream",
     "text": [
      "  2%|▏         | 71/3416 [01:43<1:18:14,  1.40s/it]"
     ]
    },
    {
     "name": "stdout",
     "output_type": "stream",
     "text": [
      "\n",
      "Similarity: 0.902 | From: 72 To: 2096\n",
      "→ Source 72 description: Carbamate technology - A fibre production method transforming wood-based dissolving pulp and discarded cotton into viscose-type fibres without harmful chemicals. | Developed by VTT\n",
      "→ Source 2096 description: carbamate technology - A technology owned by VTT producing cellulose carbamate fibre from recycled cotton by forming carbamate groups and dissolving cellulose in cold sodium zincate solution. | Developed by VTT Technical Research Centre of Finland Ltd\n"
     ]
    },
    {
     "name": "stderr",
     "output_type": "stream",
     "text": [
      "  2%|▏         | 72/3416 [01:44<1:18:12,  1.40s/it]"
     ]
    },
    {
     "name": "stdout",
     "output_type": "stream",
     "text": [
      "\n",
      "Similarity: 0.905 | From: 73 To: 2098\n",
      "→ Source 73 description: Ioncell-F technology - A technology based on direct dissolution of cellulose using ionic liquid solvent to produce strong textile fibres by dry-jet wet spinning. | Developed by Aalto University\n",
      "→ Source 2098 description: Ioncell-F technology - A technology based on direct dissolution of cellulose using dry-jet wet spinning technique, developed in collaboration between Aalto University and University of Helsinki. | Developed by Aalto University\n"
     ]
    },
    {
     "name": "stderr",
     "output_type": "stream",
     "text": [
      "  2%|▏         | 73/3416 [01:46<1:18:41,  1.41s/it]"
     ]
    },
    {
     "name": "stdout",
     "output_type": "stream",
     "text": [
      "\n",
      "Similarity: 0.897 | From: 73 To: 3389\n",
      "→ Source 73 description: Ioncell-F technology - A technology based on direct dissolution of cellulose using ionic liquid solvent to produce strong textile fibres by dry-jet wet spinning. | Developed by Aalto University\n",
      "→ Source 3389 description: Ioncell-F-prosessi - A technology developed through Aalto University and University of Helsinki collaboration, using ionic liquid solvents and a dry-jet wet-spinning process to produce textile fibers with excellent strength. | Developed by Aalto-yliopisto\n",
      "\n",
      "Similarity: 0.922 | From: 73 To: 3391\n",
      "→ Source 73 description: Ioncell-F technology - A technology based on direct dissolution of cellulose using ionic liquid solvent to produce strong textile fibres by dry-jet wet spinning. | Developed by Aalto University\n",
      "→ Source 3391 description: Ioncell-F-process - A cellulose direct dissolution technology developed collaboratively by Aalto University and Helsingin yliopisto, using ionic liquids developed at Helsingin yliopisto to produce high-strength textile fibers by a dry-jet wet spinning process. | Developed by Aalto-yliopisto\n",
      "\n",
      "Similarity: 0.896 | From: 74 To: 2097\n",
      "→ Source 74 description: BioCelSol technology - A technology that enhances cellulose dissolution via mechanical and enzymatic treatments prior to fibre spinning. | Developed by VTT\n",
      "→ Source 2097 description: BioCelSol technology - A technology jointly owned by VTT and Tampere University of Technology enhancing cellulose dissolution by mechanical and enzymatic treatments before dissolution in sodium zincate. | Developed by VTT Technical Research Centre of Finland Ltd\n"
     ]
    },
    {
     "name": "stderr",
     "output_type": "stream",
     "text": [
      "  2%|▏         | 74/3416 [01:47<1:19:06,  1.42s/it]"
     ]
    },
    {
     "name": "stdout",
     "output_type": "stream",
     "text": [
      "\n",
      "Similarity: 0.861 | From: 74 To: 3390\n",
      "→ Source 74 description: BioCelSol technology - A technology that enhances cellulose dissolution via mechanical and enzymatic treatments prior to fibre spinning. | Developed by VTT\n",
      "→ Source 3390 description: BioCelSol-teknologia - A technology demonstrated by VTT that enhances cellulose dissolution via mechanical-enzymatic treatment before solvent and spinning processes for textile fiber production. | Developed by VTT\n"
     ]
    },
    {
     "name": "stderr",
     "output_type": "stream",
     "text": [
      "  2%|▏         | 75/3416 [01:49<1:17:53,  1.40s/it]"
     ]
    },
    {
     "name": "stdout",
     "output_type": "stream",
     "text": [
      "\n",
      "Similarity: 0.854 | From: 76 To: 2687\n",
      "→ Source 76 description: Finnish 5G technology enables efficient mobile streaming to large audiences - A novel 5G technology in Finland using evolved Multimedia Broadcast Multicast Service (eMBMS) enabling high-quality live video streaming to large audiences on commercial smartphones in test networks. | Developed by VTT Technical Research Centre of Finland\n",
      "→ Source 2687 description: eMBMS technology in 5G test networks - Evolved Multimedia Broadcast Multicast Service technology enabling live TV channel streaming over 5G networks in Oulu and Espoo, Finland. | Developed by VTT Technical Research Centre of Finland Ltd\n",
      "\n",
      "Similarity: 0.871 | From: 76 To: 2719\n",
      "→ Source 76 description: Finnish 5G technology enables efficient mobile streaming to large audiences - A novel 5G technology in Finland using evolved Multimedia Broadcast Multicast Service (eMBMS) enabling high-quality live video streaming to large audiences on commercial smartphones in test networks. | Developed by VTT Technical Research Centre of Finland\n",
      "→ Source 2719 description: evolved Multimedia Broadcast Multicast Service (eMBMS) technology - A technology enabling live streaming of TV channels in mobile wireless networks, enhancing bandwidth efficiency and reliability, demonstrated for the first time in Finland in 5G test networks. | Developed by Finnish broadcasting company Yle\n"
     ]
    },
    {
     "name": "stderr",
     "output_type": "stream",
     "text": [
      "  2%|▏         | 77/3416 [01:51<1:17:58,  1.40s/it]"
     ]
    },
    {
     "name": "stdout",
     "output_type": "stream",
     "text": [
      "\n",
      "Similarity: 0.921 | From: 78 To: 1307\n",
      "→ Source 78 description: FI26473754 - A deep tech incubator launched by VTT to create game-changing startups with a strong scientific foundation, accelerating the innovation process by bringing together VTT-based research and business minds. | Developed by VTT LaunchPad\n",
      "→ Source 1307 description: FI26473754 - A new technology incubator launched in 2020s aiming to strengthen the creation of startups that renew industries based on VTT's research expertise and inventions. | Developed by VTT LaunchPad\n"
     ]
    },
    {
     "name": "stderr",
     "output_type": "stream",
     "text": [
      "  2%|▏         | 78/3416 [01:53<1:18:01,  1.40s/it]"
     ]
    },
    {
     "name": "stdout",
     "output_type": "stream",
     "text": [
      "\n",
      "Similarity: 0.815 | From: 79 To: 1255\n",
      "→ Source 79 description: new efficient media transfer method using multicast and broadcast technologies - A new efficient media transfer method using multicast and broadcast technologies introduced in the 5G test network to improve media streaming services availability to consumers. | Developed by VTT Technical Research Centre of Finland\n",
      "→ Source 1255 description: Efficient mobile broadcast streaming support in 5G test network in Oulu - A new data transmission method utilizing multicast and broadcast techniques for mobile networks, implemented in the 5G test network in Oulu, enabling more efficient media streaming to consumers. | Developed by VTT\n"
     ]
    },
    {
     "name": "stderr",
     "output_type": "stream",
     "text": [
      "  2%|▏         | 82/3416 [01:59<1:18:24,  1.41s/it]"
     ]
    },
    {
     "name": "stdout",
     "output_type": "stream",
     "text": [
      "\n",
      "Similarity: 0.927 | From: 83 To: 84\n",
      "→ Source 83 description: components for miniaturized gas sensors based on Mid-IR spectroscopy - Novel components for miniaturized gas sensors exploiting Mid-IR absorption spectroscopy, developed by a European consortium. | Developed by Technical Research Centre of Finland VTT Ltd\n",
      "→ Source 84 description: novel components for miniaturized gas sensors exploiting the principle of Mid-IR absorption spectroscopy - Novel components developed for miniaturized gas sensors based on Mid-IR absorption spectroscopy featuring super luminescent LEDs, Photonic Integrated Circuits, special Mid-IR lenses and photodetectors. | Developed by Optoelectronics Research Centre\n",
      "\n",
      "Similarity: 0.946 | From: 83 To: 162\n",
      "→ Source 83 description: components for miniaturized gas sensors based on Mid-IR spectroscopy - Novel components for miniaturized gas sensors exploiting Mid-IR absorption spectroscopy, developed by a European consortium. | Developed by Technical Research Centre of Finland VTT Ltd\n",
      "→ Source 162 description: components based on mid-infrared spectroscopy for miniaturized gas sensors - Newly developed components utilizing mid-infrared absorption spectroscopy enabling miniaturized gas sensors that reduce manufacturing costs and improve reliability, developed under the EU Horizon 2020 MIREGAS project. | Developed by Technologian tutkimuskeskus VTT Oy\n",
      "\n",
      "Similarity: 0.873 | From: 83 To: 163\n",
      "→ Source 83 description: components for miniaturized gas sensors based on Mid-IR spectroscopy - Novel components for miniaturized gas sensors exploiting Mid-IR absorption spectroscopy, developed by a European consortium. | Developed by Technical Research Centre of Finland VTT Ltd\n",
      "→ Source 163 description: MIREGAS components based on mid-infrared spectroscopy for miniaturized gas sensors - New components developed using mid-infrared absorption spectroscopy principles for miniaturized gas sensors, featuring superluminescent LED technology, integrated photonic circuits, hot-pressed lenses and photodetectors operating in the 2-3 micrometer wavelength range, enabling cost reduction, improved reliability, and precise multi-gas analysis. | Developed by Technologian tutkimuskeskus VTT Oy\n"
     ]
    },
    {
     "name": "stderr",
     "output_type": "stream",
     "text": [
      "  2%|▏         | 83/3416 [02:00<1:18:03,  1.41s/it]"
     ]
    },
    {
     "name": "stdout",
     "output_type": "stream",
     "text": [
      "\n",
      "Similarity: 0.873 | From: 84 To: 162\n",
      "→ Source 84 description: novel components for miniaturized gas sensors exploiting the principle of Mid-IR absorption spectroscopy - Novel components developed for miniaturized gas sensors based on Mid-IR absorption spectroscopy featuring super luminescent LEDs, Photonic Integrated Circuits, special Mid-IR lenses and photodetectors. | Developed by Optoelectronics Research Centre\n",
      "→ Source 162 description: components based on mid-infrared spectroscopy for miniaturized gas sensors - Newly developed components utilizing mid-infrared absorption spectroscopy enabling miniaturized gas sensors that reduce manufacturing costs and improve reliability, developed under the EU Horizon 2020 MIREGAS project. | Developed by Technologian tutkimuskeskus VTT Oy\n",
      "\n",
      "Similarity: 0.896 | From: 84 To: 163\n",
      "→ Source 84 description: novel components for miniaturized gas sensors exploiting the principle of Mid-IR absorption spectroscopy - Novel components developed for miniaturized gas sensors based on Mid-IR absorption spectroscopy featuring super luminescent LEDs, Photonic Integrated Circuits, special Mid-IR lenses and photodetectors. | Developed by Optoelectronics Research Centre\n",
      "→ Source 163 description: MIREGAS components based on mid-infrared spectroscopy for miniaturized gas sensors - New components developed using mid-infrared absorption spectroscopy principles for miniaturized gas sensors, featuring superluminescent LED technology, integrated photonic circuits, hot-pressed lenses and photodetectors operating in the 2-3 micrometer wavelength range, enabling cost reduction, improved reliability, and precise multi-gas analysis. | Developed by Technologian tutkimuskeskus VTT Oy\n"
     ]
    },
    {
     "name": "stderr",
     "output_type": "stream",
     "text": [
      "  3%|▎         | 87/3416 [02:06<1:18:20,  1.41s/it]"
     ]
    },
    {
     "name": "stdout",
     "output_type": "stream",
     "text": [
      "\n",
      "Similarity: 0.915 | From: 88 To: 232\n",
      "→ Source 88 description: temp_1226 - RAAS innovation ecosystem is designed to accelerate development of systems with a high level of automation and rejuvenate innovation activities in autonomous systems. | Developed by VTT Technical Research Centre of Finland\n",
      "→ Source 232 description: RAAS-innovaatioekosysteemi - New autonomous systems innovation ecosystem aimed at developing new solutions across high automation systems and revitalizing innovation in the field | Developed by Teknologian tutkimuskeskus VTT\n"
     ]
    },
    {
     "name": "stderr",
     "output_type": "stream",
     "text": [
      "  3%|▎         | 88/3416 [02:07<1:18:03,  1.41s/it]"
     ]
    },
    {
     "name": "stdout",
     "output_type": "stream",
     "text": [
      "\n",
      "Similarity: 0.908 | From: 89 To: 2465\n",
      "→ Source 89 description: 5G-SAFE project - An innovation project completed in 2018 aimed at improving road safety and reducing accidents by developing new road weather and road safety services to assist vehicle drivers, automated driving and road maintenance using 5G communication solutions. | Developed by VTT Technical Research Centre of Finland\n",
      "→ Source 2465 description: Challenge Finland 5G-SAFE project - A research and development project conducted by VTT on new 5G-enabled road safety services in Finland. | Developed by VTT Technical Research Centre of Finland\n",
      "\n",
      "Similarity: 0.883 | From: 89 To: 2582\n",
      "→ Source 89 description: 5G-SAFE project - An innovation project completed in 2018 aimed at improving road safety and reducing accidents by developing new road weather and road safety services to assist vehicle drivers, automated driving and road maintenance using 5G communication solutions. | Developed by VTT Technical Research Centre of Finland\n",
      "→ Source 2582 description: 5G-Safe -hanke - The 5G-Safe project developing new vehicle network solutions and local road weather and safety services to support drivers, road maintainers, and autonomous vehicle control systems by utilizing 5G technology for real-time data services. | Developed by Teknologian tutkimuskeskus VTT\n"
     ]
    },
    {
     "name": "stderr",
     "output_type": "stream",
     "text": [
      "  3%|▎         | 89/3416 [02:08<1:17:36,  1.40s/it]"
     ]
    },
    {
     "name": "stdout",
     "output_type": "stream",
     "text": [
      "\n",
      "Similarity: 0.909 | From: 90 To: 541\n",
      "→ Source 90 description: Robot car Martti - A robot car developed and used by VTT as a test vehicle in pilots to improve automated driving safety by using sensors and 5G based communication to avoid obstacles and adverse weather conditions. | Developed by VTT Technical Research Centre of Finland\n",
      "→ Source 541 description: Robot car Martti - An automated vehicle designed for rural roads, equipped with sensors and communication tools, notable for driving at 50 km/h on snowy road without lane markings. | Developed by VTT Technical Research Centre of Finland Ltd\n"
     ]
    },
    {
     "name": "stderr",
     "output_type": "stream",
     "text": [
      "  3%|▎         | 98/3416 [02:21<1:16:57,  1.39s/it]"
     ]
    },
    {
     "name": "stdout",
     "output_type": "stream",
     "text": [
      "\n",
      "Similarity: 0.812 | From: 99 To: 100\n",
      "→ Source 99 description: Neo-Carbon Food protein production process - A new process for producing protein from atmospheric carbon dioxide and water using integrated water electrolysis and microorganisms, developed jointly by LUT and VTT, resulting in emission-free protein production. | Developed by Solar Foods\n",
      "→ Source 100 description: protein production with a new process - A new emission-free process developed to produce protein from air using electricity, integrating carbon dioxide and water with electrolysis and microbial growth to create protein without land use or emissions. | Developed by LUT University\n"
     ]
    },
    {
     "name": "stderr",
     "output_type": "stream",
     "text": [
      "  3%|▎         | 99/3416 [02:22<1:16:54,  1.39s/it]"
     ]
    },
    {
     "name": "stdout",
     "output_type": "stream",
     "text": [
      "\n",
      "Similarity: 0.827 | From: 100 To: 107\n",
      "→ Source 100 description: protein production with a new process - A new emission-free process developed to produce protein from air using electricity, integrating carbon dioxide and water with electrolysis and microbial growth to create protein without land use or emissions. | Developed by LUT University\n",
      "→ Source 107 description: manufacturing method for proteins based on CO2 and emission-free electricity - A new production method developed to produce food protein from carbon dioxide and emission-free electricity. | Developed by Solar Foods\n",
      "\n",
      "Similarity: 0.824 | From: 100 To: 557\n",
      "→ Source 100 description: protein production with a new process - A new emission-free process developed to produce protein from air using electricity, integrating carbon dioxide and water with electrolysis and microbial growth to create protein without land use or emissions. | Developed by LUT University\n",
      "→ Source 557 description: Protein production from air using solar electricity - An innovative protein production method developed by Solar Foods that converts air's carbon dioxide and food waste into edible protein using solar electricity. | Developed by Solar Foods\n"
     ]
    },
    {
     "name": "stderr",
     "output_type": "stream",
     "text": [
      "  3%|▎         | 100/3416 [02:24<1:16:53,  1.39s/it]"
     ]
    },
    {
     "name": "stdout",
     "output_type": "stream",
     "text": [
      "\n",
      "Similarity: 0.871 | From: 101 To: 219\n",
      "→ Source 101 description: GRETE - The Green chemicals and technologies for the wood-to-textile value chain project that develops breakthrough technologies enabling increased production of man-made cellulose fibres in Europe. | Developed by VTT\n",
      "→ Source 219 description: GRETE-teknologiat - Innovative green chemicals and technologies developed for the wood-to-textile value chain to improve safety, sustainability, and feasibility in producing cellulosic textile fibers from wood. | Developed by VTT\n",
      "\n",
      "Similarity: 0.853 | From: 101 To: 220\n",
      "→ Source 101 description: GRETE - The Green chemicals and technologies for the wood-to-textile value chain project that develops breakthrough technologies enabling increased production of man-made cellulose fibres in Europe. | Developed by VTT\n",
      "→ Source 220 description: GRETE-projekti - Innovative technologies for wood-based textile fiber production aiming to increase sustainable textile fiber production in Europe by developing safer, more sustainable, and feasible cellulose fiber processing technologies. | Developed by Altri SA\n"
     ]
    },
    {
     "name": "stderr",
     "output_type": "stream",
     "text": [
      "  3%|▎         | 103/3416 [02:28<1:17:06,  1.40s/it]"
     ]
    },
    {
     "name": "stdout",
     "output_type": "stream",
     "text": [
      "\n",
      "Similarity: 0.917 | From: 104 To: 147\n",
      "→ Source 104 description: Quantum computing hardware systems by IQM - Quantum computing hardware systems developed by IQM that enable the world's first scalable quantum computing solution, featuring breakthroughs such as advanced heat management for improved computational speed and accuracy. | Developed by IQM Finland Oy\n",
      "→ Source 147 description: IQM quantum computing hardware systems - Hardware systems developed by IQM that enable the world's first scalable quantum computing solutions based on superconducting quantum processors, offering high speed and accuracy for practical applications. | Developed by IQM Finland Oy\n",
      "\n",
      "Similarity: 0.871 | From: 104 To: 148\n",
      "→ Source 104 description: Quantum computing hardware systems by IQM - Quantum computing hardware systems developed by IQM that enable the world's first scalable quantum computing solution, featuring breakthroughs such as advanced heat management for improved computational speed and accuracy. | Developed by IQM Finland Oy\n",
      "→ Source 148 description: Quantum Computing Hardware System - A scalable quantum computing hardware system developed by IQM enabling practical, cost-effective quantum computation with fast qubit control and readout technology. | Developed by IQM Finland Oy\n",
      "\n",
      "Similarity: 0.830 | From: 104 To: 281\n",
      "→ Source 104 description: Quantum computing hardware systems by IQM - Quantum computing hardware systems developed by IQM that enable the world's first scalable quantum computing solution, featuring breakthroughs such as advanced heat management for improved computational speed and accuracy. | Developed by IQM Finland Oy\n",
      "→ Source 281 description: FI29126256 - IQM is an innovation developing Finland's first functional quantum computer. | Developed by VTT Technical Research Centre of Finland Ltd\n",
      "\n",
      "Similarity: 0.860 | From: 104 To: 545\n",
      "→ Source 104 description: Quantum computing hardware systems by IQM - Quantum computing hardware systems developed by IQM that enable the world's first scalable quantum computing solution, featuring breakthroughs such as advanced heat management for improved computational speed and accuracy. | Developed by IQM Finland Oy\n",
      "→ Source 545 description: IQM quantum computing innovation - Innovation of building quantum computers enabling a quantum leap in data processing developed by IQM. | Developed by IQM\n"
     ]
    },
    {
     "name": "stderr",
     "output_type": "stream",
     "text": [
      "  3%|▎         | 104/3416 [02:29<1:17:46,  1.41s/it]"
     ]
    },
    {
     "name": "stdout",
     "output_type": "stream",
     "text": [
      "\n",
      "Similarity: 0.819 | From: 104 To: 3289\n",
      "→ Source 104 description: Quantum computing hardware systems by IQM - Quantum computing hardware systems developed by IQM that enable the world's first scalable quantum computing solution, featuring breakthroughs such as advanced heat management for improved computational speed and accuracy. | Developed by IQM Finland Oy\n",
      "→ Source 3289 description: IQM quantum-computing technology - Quantum-computing technology developed by IQM that leverages advanced quantum processors and patented R&D to simulate complex processes efficiently. | Developed by Papula-Nevinpat\n",
      "\n",
      "Similarity: 0.922 | From: 105 To: 231\n",
      "→ Source 105 description: Telaketju - The Telaketju innovation is a textile recycling technology and ecosystem developed in Finland that includes textile collection, sorting, and recycling processes, enabling textile waste to be recycled mechanically and chemically. | Developed by VTT Finland\n",
      "→ Source 231 description: Telaketju - Finnish research initiative that has developed new textile recycling technologies and business models, making Finland ready for EU-mandated separate textile waste collection. | Developed by VTT\n",
      "\n",
      "Similarity: 0.942 | From: 105 To: 251\n",
      "→ Source 105 description: Telaketju - The Telaketju innovation is a textile recycling technology and ecosystem developed in Finland that includes textile collection, sorting, and recycling processes, enabling textile waste to be recycled mechanically and chemically. | Developed by VTT Finland\n",
      "→ Source 251 description: Telaketju - An innovation focused on the recycling and reutilization of end-of-life textiles, involving the development of mechanical recycling processes and new product manufacturing from recycled fibers in Finland. | Developed by VTT\n",
      "\n",
      "Similarity: 0.838 | From: 105 To: 493\n",
      "→ Source 105 description: Telaketju - The Telaketju innovation is a textile recycling technology and ecosystem developed in Finland that includes textile collection, sorting, and recycling processes, enabling textile waste to be recycled mechanically and chemically. | Developed by VTT Finland\n",
      "→ Source 493 description: Telaketju 2 - An innovation project led by VTT that developed new business models and product designs to strengthen the textile circular economy in Finland, providing practical tools for responsible operations and advancing textile recycling and reuse. | Developed by VTT\n"
     ]
    },
    {
     "name": "stderr",
     "output_type": "stream",
     "text": [
      "  3%|▎         | 105/3416 [02:31<1:18:07,  1.42s/it]"
     ]
    },
    {
     "name": "stdout",
     "output_type": "stream",
     "text": [
      "\n",
      "Similarity: 0.831 | From: 106 To: 1253\n",
      "→ Source 106 description: cybersecurity solutions for the 5G network - Cybersecurity solutions developed by Finnish organizations as part of the SENDATE-CelticPlus-Eureka cluster project to address security challenges in the 5G network. | Developed by VTT Technical Research Centre of Finland\n",
      "→ Source 1253 description: 5G:n kyberturvallisuusratkaisut - Cybersecurity solutions developed specifically for 5G networks to address challenges with network security and ensure reliable operation. | Developed by Airbus Defence and Space Oy\n"
     ]
    },
    {
     "name": "stderr",
     "output_type": "stream",
     "text": [
      "  3%|▎         | 106/3416 [02:32<1:17:31,  1.41s/it]"
     ]
    },
    {
     "name": "stdout",
     "output_type": "stream",
     "text": [
      "\n",
      "Similarity: 0.830 | From: 107 To: 1421\n",
      "→ Source 107 description: manufacturing method for proteins based on CO2 and emission-free electricity - A new production method developed to produce food protein from carbon dioxide and emission-free electricity. | Developed by Solar Foods\n",
      "→ Source 1421 description: carbon-dioxide free protein product - A novel protein product produced by Solar Foods Ltd using carbon dioxide and electricity as inputs, creating protein without traditional agriculture or methane emissions. | Developed by Solar Foods Ltd\n"
     ]
    },
    {
     "name": "stderr",
     "output_type": "stream",
     "text": [
      "  3%|▎         | 108/3416 [02:35<1:15:39,  1.37s/it]"
     ]
    },
    {
     "name": "stdout",
     "output_type": "stream",
     "text": [
      "\n",
      "Similarity: 0.862 | From: 109 To: 223\n",
      "→ Source 109 description: Payloads of hyperspectral cameras in space by VTT - Two hyperspectral cameras operated by VTT photographing the globe in different wavelength ranges from space. | Developed by VTT\n",
      "→ Source 223 description: hyperspectral cameras photographing the earth on satellites - Hyperspectral camera payloads on satellites operated by VTT capturing the earth's images at different wavelengths. | Developed by VTT\n"
     ]
    },
    {
     "name": "stderr",
     "output_type": "stream",
     "text": [
      "  3%|▎         | 109/3416 [02:36<1:16:04,  1.38s/it]"
     ]
    },
    {
     "name": "stdout",
     "output_type": "stream",
     "text": [
      "\n",
      "Similarity: 0.912 | From: 110 To: 225\n",
      "→ Source 110 description: Bluefors' cooling systems - Cooling systems produced by Bluefors, used in quantum computers reaching temperatures near absolute zero. | Developed by \n",
      "→ Source 225 description: Blueforsi cryogenic coolers - Cryogenic coolers made by Finnish Bluefors, enabling temperatures near absolute zero in quantum computer prototypes. | Developed by \n",
      "\n",
      "Similarity: 0.892 | From: 110 To: 879\n",
      "→ Source 110 description: Bluefors' cooling systems - Cooling systems produced by Bluefors, used in quantum computers reaching temperatures near absolute zero. | Developed by \n",
      "→ Source 879 description: FI21832199 - Bluefors produces cryogenic coolers for quantum computers, representing a significant technological advancement near absolute zero temperatures. | Developed by Bluefors\n"
     ]
    },
    {
     "name": "stderr",
     "output_type": "stream",
     "text": [
      "  3%|▎         | 111/3416 [02:39<1:15:40,  1.37s/it]"
     ]
    },
    {
     "name": "stdout",
     "output_type": "stream",
     "text": [
      "\n",
      "Similarity: 0.862 | From: 112 To: 1554\n",
      "→ Source 112 description: Combination of wood fibres and spider silk bio-based material - A novel bio-based material produced by gluing together wood cellulose fibres and spider silk protein, characterized by high strength, stiffness, and increased toughness, potentially replacing plastics in various applications. | Developed by Aalto University\n",
      "→ Source 1554 description: Spider silk fiber composite - A strong material made from wood pulp fibers arranged into a scaffold and infiltrated with synthetic spider silk proteins, developed for use in packaging, medical engineering, and aerospace. | Developed by Aalto University\n",
      "\n",
      "Similarity: 0.914 | From: 112 To: 1687\n",
      "→ Source 112 description: Combination of wood fibres and spider silk bio-based material - A novel bio-based material produced by gluing together wood cellulose fibres and spider silk protein, characterized by high strength, stiffness, and increased toughness, potentially replacing plastics in various applications. | Developed by Aalto University\n",
      "→ Source 1687 description: Spider Silk Inspired Wood Pulp Composite Material - A new strong material created by infiltrating wood pulp fiber scaffolds with lab-developed synthetic spider silk proteins, aimed at replacing plastics in packaging, medical engineering, and aerospace. | Developed by Aalto University\n",
      "\n",
      "Similarity: 0.948 | From: 112 To: 1697\n",
      "→ Source 112 description: Combination of wood fibres and spider silk bio-based material - A novel bio-based material produced by gluing together wood cellulose fibres and spider silk protein, characterized by high strength, stiffness, and increased toughness, potentially replacing plastics in various applications. | Developed by Aalto University\n",
      "→ Source 1697 description: bio-based material combining spider silk protein and wood cellulose - A new bio-composite material combining modified spider silk proteins and wood cellulose fibres, created by researchers at Aalto University and VTT Technical Research Centre of Finland, exhibiting high strength, stiffness and increased toughness. | Developed by Aalto University\n",
      "\n",
      "Similarity: 0.894 | From: 112 To: 1806\n",
      "→ Source 112 description: Combination of wood fibres and spider silk bio-based material - A novel bio-based material produced by gluing together wood cellulose fibres and spider silk protein, characterized by high strength, stiffness, and increased toughness, potentially replacing plastics in various applications. | Developed by Aalto University\n",
      "→ Source 1806 description: Aalto University and VTT spider silk wood pulp composite material - An innovation developed based on research from Aalto University and VTT Technical Research Centre of Finland, creating a scaffold from wood pulp infiltrated with synthetic spider silk proteins for strong, plastic-replacing materials. | Developed by Aalto University\n",
      "\n",
      "Similarity: 0.918 | From: 112 To: 1903\n",
      "→ Source 112 description: Combination of wood fibres and spider silk bio-based material - A novel bio-based material produced by gluing together wood cellulose fibres and spider silk protein, characterized by high strength, stiffness, and increased toughness, potentially replacing plastics in various applications. | Developed by Aalto University\n",
      "→ Source 1903 description: Material from wood pulp and synthetic spider silk proteins - A strong new material combining wood pulp fibers and lab-developed synthetic spider silk proteins to replace plastics in food packaging, medical engineering, and aerospace. | Developed by Aalto University\n",
      "\n",
      "Similarity: 0.887 | From: 112 To: 1932\n",
      "→ Source 112 description: Combination of wood fibres and spider silk bio-based material - A novel bio-based material produced by gluing together wood cellulose fibres and spider silk protein, characterized by high strength, stiffness, and increased toughness, potentially replacing plastics in various applications. | Developed by Aalto University\n",
      "→ Source 1932 description: Spider silk inspired wood pulp composite - A material made by researchers from Aalto University and VTT Technical Research Centre of Finland combining broken down tree pulp fibers with synthetic spider silk proteins to replace plastics in industries including food packaging, medical engineering, and aerospace. | Developed by Aalto University\n",
      "\n",
      "Similarity: 0.900 | From: 112 To: 2049\n",
      "→ Source 112 description: Combination of wood fibres and spider silk bio-based material - A novel bio-based material produced by gluing together wood cellulose fibres and spider silk protein, characterized by high strength, stiffness, and increased toughness, potentially replacing plastics in various applications. | Developed by Aalto University\n",
      "→ Source 2049 description: Wood pulp and synthetic spider silk protein composite material - Material developed using broken down tree pulp arranged into scaffold infiltrated with synthetic spider silk proteins to replace plastics in multiple industries. | Developed by Aalto University\n"
     ]
    },
    {
     "name": "stderr",
     "output_type": "stream",
     "text": [
      "  3%|▎         | 113/3416 [02:42<1:15:34,  1.37s/it]"
     ]
    },
    {
     "name": "stdout",
     "output_type": "stream",
     "text": [
      "\n",
      "Similarity: 0.862 | From: 114 To: 2879\n",
      "→ Source 114 description: FI26473754 - An online tool provided by VTT since 2017 allowing organizations to assess their digital maturity level across six dimensions including strategy, business model, and IT. | Developed by DigiMaturity tool\n",
      "→ Source 2879 description: VTT digital maturity analysis - A digital maturity analysis tool developed by VTT based on a synthesis of literature and empirical experiences from research projects with industry partners, assessing digital maturity in six main dimensions to help companies identify their digitalisation strengths and weaknesses. | Developed by VTT TECHNICAL RESEARCH CENTRE OF FINLAND LTD\n"
     ]
    },
    {
     "name": "stderr",
     "output_type": "stream",
     "text": [
      "  4%|▎         | 120/3416 [02:52<1:17:08,  1.40s/it]"
     ]
    },
    {
     "name": "stdout",
     "output_type": "stream",
     "text": [
      "\n",
      "Similarity: 1.000 | From: 121 To: 128\n",
      "→ Source 121 description: rotor sail developed by a Finnish company called Norsepower - An auxiliary wind propulsion system developed by Norsepower that saves fuel and helps reduce emissions in ships. | Developed by Norsepower\n",
      "→ Source 128 description: rotor sail developed by a Finnish company called Norsepower - An auxiliary wind propulsion system developed by Norsepower that saves fuel and helps reduce emissions on ships. | Developed by Norsepower\n",
      "\n",
      "Similarity: 0.899 | From: 121 To: 230\n",
      "→ Source 121 description: rotor sail developed by a Finnish company called Norsepower - An auxiliary wind propulsion system developed by Norsepower that saves fuel and helps reduce emissions in ships. | Developed by Norsepower\n",
      "→ Source 230 description: Norsepower rotor sail - A rotor sail innovation by Norsepower that saves fuel and reduces emissions by harnessing wind power as auxiliary energy for ships. | Developed by Norsepower\n"
     ]
    },
    {
     "name": "stderr",
     "output_type": "stream",
     "text": [
      "  4%|▎         | 121/3416 [02:53<1:17:06,  1.40s/it]"
     ]
    },
    {
     "name": "stdout",
     "output_type": "stream",
     "text": [
      "\n",
      "Similarity: 0.889 | From: 121 To: 3235\n",
      "→ Source 121 description: rotor sail developed by a Finnish company called Norsepower - An auxiliary wind propulsion system developed by Norsepower that saves fuel and helps reduce emissions in ships. | Developed by Norsepower\n",
      "→ Source 3235 description: Norsepower Rotor Sail Solution - A new wind propulsion technology for ships developed by Norsepower, which reduces fuel consumption by harnessing wind power through spinning rotor sails installed on ships. | Developed by Norsepower Oy Ltd.\n",
      "\n",
      "Similarity: 0.813 | From: 121 To: 3237\n",
      "→ Source 121 description: rotor sail developed by a Finnish company called Norsepower - An auxiliary wind propulsion system developed by Norsepower that saves fuel and helps reduce emissions in ships. | Developed by Norsepower\n",
      "→ Source 3237 description: Norsepower's Rotor Sail Solution - A new wind propulsion technology for ships validated through independent trials confirming fuel-saving potential. | Developed by \n",
      "\n",
      "Similarity: 0.850 | From: 121 To: 3239\n",
      "→ Source 121 description: rotor sail developed by a Finnish company called Norsepower - An auxiliary wind propulsion system developed by Norsepower that saves fuel and helps reduce emissions in ships. | Developed by Norsepower\n",
      "→ Source 3239 description: Rotor Sail Solution - Rotor Sail Solution is a new wind propulsion technology for ships developed by Norsepower Oy Ltd., validated to confirm fuel-saving potential. | Developed by Norsepower Oy Ltd.\n",
      "\n",
      "Similarity: 0.859 | From: 121 To: 3240\n",
      "→ Source 121 description: rotor sail developed by a Finnish company called Norsepower - An auxiliary wind propulsion system developed by Norsepower that saves fuel and helps reduce emissions in ships. | Developed by Norsepower\n",
      "→ Source 3240 description: Norsepower Rotor Sail Solution - A new wind propulsion technology for ships that has been successfully sea trialed showing fuel-saving potential. | Developed by VTT Technical Research Centre of Finland\n",
      "\n",
      "Similarity: 0.870 | From: 121 To: 3246\n",
      "→ Source 121 description: rotor sail developed by a Finnish company called Norsepower - An auxiliary wind propulsion system developed by Norsepower that saves fuel and helps reduce emissions in ships. | Developed by Norsepower\n",
      "→ Source 3246 description: Norsepower Rotor Sail Solution - A new wind propulsion technology for ships confirmed to have fuel-saving potential through successful sea trials. | Developed by Norsepower Oy Ltd.\n",
      "\n",
      "Similarity: 0.879 | From: 121 To: 3249\n",
      "→ Source 121 description: rotor sail developed by a Finnish company called Norsepower - An auxiliary wind propulsion system developed by Norsepower that saves fuel and helps reduce emissions in ships. | Developed by Norsepower\n",
      "→ Source 3249 description: Norsepower’s Rotor Sail Solution - Norsepower’s Rotor Sail Solution is a new wind propulsion technology for ships that confirms fuel-saving potential through sea trials. | Developed by Norsepower Oy Ltd.\n",
      "\n",
      "Similarity: 0.902 | From: 122 To: 125\n",
      "→ Source 122 description: hydrogen-powered fuel cell system, which will act as an auxiliary power source on board the ship Aranda - A hydrogen-powered fuel cell system designed and built by VTT to provide zero-emission auxiliary power on the research vessel Aranda, retrofitted for marine conditions. | Developed by VTT\n",
      "→ Source 125 description: hydrogen-powered fuel cell system - A hydrogen-powered fuel cell system built by VTT as an auxiliary power source on board the research vessel Aranda, capable of producing zero-emission electricity. | Developed by VTT\n",
      "\n",
      "Similarity: 0.923 | From: 122 To: 127\n",
      "→ Source 122 description: hydrogen-powered fuel cell system, which will act as an auxiliary power source on board the ship Aranda - A hydrogen-powered fuel cell system designed and built by VTT to provide zero-emission auxiliary power on the research vessel Aranda, retrofitted for marine conditions. | Developed by VTT\n",
      "→ Source 127 description: hydrogen-powered fuel cell system - A hydrogen-powered fuel cell system built by VTT for the research vessel Aranda as an auxiliary power source to produce zero-emission electricity on board. | Developed by VTT\n",
      "\n",
      "Similarity: 0.850 | From: 122 To: 229\n",
      "→ Source 122 description: hydrogen-powered fuel cell system, which will act as an auxiliary power source on board the ship Aranda - A hydrogen-powered fuel cell system designed and built by VTT to provide zero-emission auxiliary power on the research vessel Aranda, retrofitted for marine conditions. | Developed by VTT\n",
      "→ Source 229 description: VTT hydrogen fuel cell power plant for Aranda - Hydrogen-fueled fuel cell power plant being built by VTT for the research vessel Aranda, providing zero-emission electricity even in challenging marine conditions. | Developed by VTT\n"
     ]
    },
    {
     "name": "stderr",
     "output_type": "stream",
     "text": [
      "  4%|▎         | 124/3416 [02:57<1:18:34,  1.43s/it]"
     ]
    },
    {
     "name": "stdout",
     "output_type": "stream",
     "text": [
      "\n",
      "Similarity: 0.992 | From: 125 To: 127\n",
      "→ Source 125 description: hydrogen-powered fuel cell system - A hydrogen-powered fuel cell system built by VTT as an auxiliary power source on board the research vessel Aranda, capable of producing zero-emission electricity. | Developed by VTT\n",
      "→ Source 127 description: hydrogen-powered fuel cell system - A hydrogen-powered fuel cell system built by VTT for the research vessel Aranda as an auxiliary power source to produce zero-emission electricity on board. | Developed by VTT\n",
      "\n",
      "Similarity: 0.832 | From: 125 To: 229\n",
      "→ Source 125 description: hydrogen-powered fuel cell system - A hydrogen-powered fuel cell system built by VTT as an auxiliary power source on board the research vessel Aranda, capable of producing zero-emission electricity. | Developed by VTT\n",
      "→ Source 229 description: VTT hydrogen fuel cell power plant for Aranda - Hydrogen-fueled fuel cell power plant being built by VTT for the research vessel Aranda, providing zero-emission electricity even in challenging marine conditions. | Developed by VTT\n"
     ]
    },
    {
     "name": "stderr",
     "output_type": "stream",
     "text": [
      "  4%|▎         | 126/3416 [03:00<1:17:18,  1.41s/it]"
     ]
    },
    {
     "name": "stdout",
     "output_type": "stream",
     "text": [
      "\n",
      "Similarity: 0.847 | From: 127 To: 229\n",
      "→ Source 127 description: hydrogen-powered fuel cell system - A hydrogen-powered fuel cell system built by VTT for the research vessel Aranda as an auxiliary power source to produce zero-emission electricity on board. | Developed by VTT\n",
      "→ Source 229 description: VTT hydrogen fuel cell power plant for Aranda - Hydrogen-fueled fuel cell power plant being built by VTT for the research vessel Aranda, providing zero-emission electricity even in challenging marine conditions. | Developed by VTT\n"
     ]
    },
    {
     "name": "stderr",
     "output_type": "stream",
     "text": [
      "  4%|▎         | 127/3416 [03:01<1:16:55,  1.40s/it]"
     ]
    },
    {
     "name": "stdout",
     "output_type": "stream",
     "text": [
      "\n",
      "Similarity: 0.900 | From: 128 To: 230\n",
      "→ Source 128 description: rotor sail developed by a Finnish company called Norsepower - An auxiliary wind propulsion system developed by Norsepower that saves fuel and helps reduce emissions on ships. | Developed by Norsepower\n",
      "→ Source 230 description: Norsepower rotor sail - A rotor sail innovation by Norsepower that saves fuel and reduces emissions by harnessing wind power as auxiliary energy for ships. | Developed by Norsepower\n"
     ]
    },
    {
     "name": "stderr",
     "output_type": "stream",
     "text": [
      "  4%|▎         | 128/3416 [03:03<1:16:24,  1.39s/it]"
     ]
    },
    {
     "name": "stdout",
     "output_type": "stream",
     "text": [
      "\n",
      "Similarity: 0.889 | From: 128 To: 3235\n",
      "→ Source 128 description: rotor sail developed by a Finnish company called Norsepower - An auxiliary wind propulsion system developed by Norsepower that saves fuel and helps reduce emissions on ships. | Developed by Norsepower\n",
      "→ Source 3235 description: Norsepower Rotor Sail Solution - A new wind propulsion technology for ships developed by Norsepower, which reduces fuel consumption by harnessing wind power through spinning rotor sails installed on ships. | Developed by Norsepower Oy Ltd.\n",
      "\n",
      "Similarity: 0.813 | From: 128 To: 3237\n",
      "→ Source 128 description: rotor sail developed by a Finnish company called Norsepower - An auxiliary wind propulsion system developed by Norsepower that saves fuel and helps reduce emissions on ships. | Developed by Norsepower\n",
      "→ Source 3237 description: Norsepower's Rotor Sail Solution - A new wind propulsion technology for ships validated through independent trials confirming fuel-saving potential. | Developed by \n",
      "\n",
      "Similarity: 0.850 | From: 128 To: 3239\n",
      "→ Source 128 description: rotor sail developed by a Finnish company called Norsepower - An auxiliary wind propulsion system developed by Norsepower that saves fuel and helps reduce emissions on ships. | Developed by Norsepower\n",
      "→ Source 3239 description: Rotor Sail Solution - Rotor Sail Solution is a new wind propulsion technology for ships developed by Norsepower Oy Ltd., validated to confirm fuel-saving potential. | Developed by Norsepower Oy Ltd.\n",
      "\n",
      "Similarity: 0.860 | From: 128 To: 3240\n",
      "→ Source 128 description: rotor sail developed by a Finnish company called Norsepower - An auxiliary wind propulsion system developed by Norsepower that saves fuel and helps reduce emissions on ships. | Developed by Norsepower\n",
      "→ Source 3240 description: Norsepower Rotor Sail Solution - A new wind propulsion technology for ships that has been successfully sea trialed showing fuel-saving potential. | Developed by VTT Technical Research Centre of Finland\n",
      "\n",
      "Similarity: 0.871 | From: 128 To: 3246\n",
      "→ Source 128 description: rotor sail developed by a Finnish company called Norsepower - An auxiliary wind propulsion system developed by Norsepower that saves fuel and helps reduce emissions on ships. | Developed by Norsepower\n",
      "→ Source 3246 description: Norsepower Rotor Sail Solution - A new wind propulsion technology for ships confirmed to have fuel-saving potential through successful sea trials. | Developed by Norsepower Oy Ltd.\n",
      "\n",
      "Similarity: 0.880 | From: 128 To: 3249\n",
      "→ Source 128 description: rotor sail developed by a Finnish company called Norsepower - An auxiliary wind propulsion system developed by Norsepower that saves fuel and helps reduce emissions on ships. | Developed by Norsepower\n",
      "→ Source 3249 description: Norsepower’s Rotor Sail Solution - Norsepower’s Rotor Sail Solution is a new wind propulsion technology for ships that confirms fuel-saving potential through sea trials. | Developed by Norsepower Oy Ltd.\n"
     ]
    },
    {
     "name": "stderr",
     "output_type": "stream",
     "text": [
      "  4%|▍         | 129/3416 [03:04<1:16:24,  1.39s/it]"
     ]
    },
    {
     "name": "stdout",
     "output_type": "stream",
     "text": [
      "\n",
      "Similarity: 0.856 | From: 130 To: 132\n",
      "→ Source 130 description: ECOtronics project - A two-year research and development project funded by Business Finland aiming to create recyclable and compostable electronics and optics that use renewable resources, enhancing ecological sustainability of electronic materials and manufacturing methods. | Developed by VTT\n",
      "→ Source 132 description: ECOtronics-hanke - A two-year research and development project coordinated by VTT focused on creating recyclable or compostable electronics and optics materials using renewable natural resources, aiming to develop ecologically sustainable electronic materials and products. | Developed by VTT\n",
      "\n",
      "Similarity: 0.838 | From: 130 To: 133\n",
      "→ Source 130 description: ECOtronics project - A two-year research and development project funded by Business Finland aiming to create recyclable and compostable electronics and optics that use renewable resources, enhancing ecological sustainability of electronic materials and manufacturing methods. | Developed by VTT\n",
      "→ Source 133 description: ECOtronics bio-degradable electronics innovation - A novel electronics and optics innovation focused on recyclable, compostable, and bio-degradable materials and manufacturing methods, including printed electronics on roll-to-roll substrates, developed to reduce environmental impact and electronic waste. | Developed by Iscent\n",
      "\n",
      "Similarity: 0.828 | From: 130 To: 548\n",
      "→ Source 130 description: ECOtronics project - A two-year research and development project funded by Business Finland aiming to create recyclable and compostable electronics and optics that use renewable resources, enhancing ecological sustainability of electronic materials and manufacturing methods. | Developed by VTT\n",
      "→ Source 548 description: Sustainable electronics - A novel approach to reduce environmental load and enable new applications by combining printed electronics, bio-based materials, and ecodesign thinking developed by VTT. | Developed by VTT Technical Research Centre of Finland Ltd.\n"
     ]
    },
    {
     "name": "stderr",
     "output_type": "stream",
     "text": [
      "  4%|▍         | 130/3416 [03:06<1:16:28,  1.40s/it]"
     ]
    },
    {
     "name": "stdout",
     "output_type": "stream",
     "text": [
      "\n",
      "Similarity: 0.899 | From: 131 To: 227\n",
      "→ Source 131 description: LEO satellites - Low-earth orbit satellites technology providing integrated terrestrial and satellite networks for high-speed wireless 5G and internet connections with efficient data transfer. | Developed by VTT\n",
      "→ Source 227 description: Leo-satelliitit - Low Earth Orbit satellites providing new generation 5G mobile networks and integrated satellite communications with significantly lower latency and dynamic software-defined capabilities. | Developed by VTT\n"
     ]
    },
    {
     "name": "stderr",
     "output_type": "stream",
     "text": [
      "  4%|▍         | 131/3416 [03:07<1:15:56,  1.39s/it]"
     ]
    },
    {
     "name": "stdout",
     "output_type": "stream",
     "text": [
      "\n",
      "Similarity: 0.803 | From: 132 To: 133\n",
      "→ Source 132 description: ECOtronics-hanke - A two-year research and development project coordinated by VTT focused on creating recyclable or compostable electronics and optics materials using renewable natural resources, aiming to develop ecologically sustainable electronic materials and products. | Developed by VTT\n",
      "→ Source 133 description: ECOtronics bio-degradable electronics innovation - A novel electronics and optics innovation focused on recyclable, compostable, and bio-degradable materials and manufacturing methods, including printed electronics on roll-to-roll substrates, developed to reduce environmental impact and electronic waste. | Developed by Iscent\n"
     ]
    },
    {
     "name": "stderr",
     "output_type": "stream",
     "text": [
      "  4%|▍         | 132/3416 [03:08<1:16:46,  1.40s/it]"
     ]
    },
    {
     "name": "stdout",
     "output_type": "stream",
     "text": [
      "\n",
      "Similarity: 0.816 | From: 133 To: 548\n",
      "→ Source 133 description: ECOtronics bio-degradable electronics innovation - A novel electronics and optics innovation focused on recyclable, compostable, and bio-degradable materials and manufacturing methods, including printed electronics on roll-to-roll substrates, developed to reduce environmental impact and electronic waste. | Developed by Iscent\n",
      "→ Source 548 description: Sustainable electronics - A novel approach to reduce environmental load and enable new applications by combining printed electronics, bio-based materials, and ecodesign thinking developed by VTT. | Developed by VTT Technical Research Centre of Finland Ltd.\n"
     ]
    },
    {
     "name": "stderr",
     "output_type": "stream",
     "text": [
      "  4%|▍         | 138/3416 [03:17<1:15:59,  1.39s/it]"
     ]
    },
    {
     "name": "stdout",
     "output_type": "stream",
     "text": [
      "\n",
      "Similarity: 0.921 | From: 139 To: 140\n",
      "→ Source 139 description: Smart Clothing 2.0 wearable technology solution for firefighters - A wearable technology solution developed for firefighters that allows real-time monitoring of heat stress to improve occupational health and safety in challenging temperatures. | Developed by VTT\n",
      "→ Source 140 description: Smart Clothing 2.0 Real-time Heat Stress Monitoring Method - A wearable technology solution developed to monitor heat stress in real time, improving occupational health and safety for firefighters and rescue workers exposed to challenging temperatures. | Developed by VTT\n"
     ]
    },
    {
     "name": "stderr",
     "output_type": "stream",
     "text": [
      "  4%|▍         | 139/3416 [03:18<1:15:46,  1.39s/it]"
     ]
    },
    {
     "name": "stdout",
     "output_type": "stream",
     "text": [
      "\n",
      "Similarity: 0.824 | From: 140 To: 143\n",
      "→ Source 140 description: Smart Clothing 2.0 Real-time Heat Stress Monitoring Method - A wearable technology solution developed to monitor heat stress in real time, improving occupational health and safety for firefighters and rescue workers exposed to challenging temperatures. | Developed by VTT\n",
      "→ Source 143 description: Smart Clothing 2.0 -hankekokonaisuudessa kehitetty uusi menetelmä jolla voidaan arvioida lämpökuormituksen (Physiological Strain Index) kehittymistä reaaliajassa - A novel method developed in the Smart Clothing 2.0 project that allows real-time assessment of heat strain (Physiological Strain Index) to improve safety and comfort in challenging heat conditions, especially for firefighters and workers. | Developed by VTT\n"
     ]
    },
    {
     "name": "stderr",
     "output_type": "stream",
     "text": [
      "  4%|▍         | 140/3416 [03:20<1:15:48,  1.39s/it]"
     ]
    },
    {
     "name": "stdout",
     "output_type": "stream",
     "text": [
      "\n",
      "Similarity: 0.817 | From: 141 To: 1250\n",
      "→ Source 141 description: RaPtor ecosystem - A newly launched detector ecosystem coordinated by VTT, aiming to accelerate development and commercialization of tailored high-performance detectors and systems for various applications, including medical imaging and environmental sensing. | Developed by VTT\n",
      "→ Source 1250 description: RaPtor-ekosysteemi - A novel ecosystem project coordinated by VTT aiming to accelerate development and commercialization of photo- and radiation detectors across various applications including medical imaging and environmental monitoring. | Developed by VTT\n"
     ]
    },
    {
     "name": "stderr",
     "output_type": "stream",
     "text": [
      "  4%|▍         | 145/3416 [03:27<1:15:19,  1.38s/it]"
     ]
    },
    {
     "name": "stdout",
     "output_type": "stream",
     "text": [
      "\n",
      "Similarity: 0.855 | From: 146 To: 1357\n",
      "→ Source 146 description: AR-työkalu - An augmented reality tool developed to support astronauts in complex repair tasks during space missions, improving training and in-flight maintenance. | Developed by VTT\n",
      "→ Source 1357 description: AR tool to support astronauts in complex repair tasks - A tool developed by VTT using augmented reality to help astronauts perform complex maintenance and repair tasks during space missions and training. | Developed by VTT Technical Research Centre of Finland Ltd\n",
      "\n",
      "Similarity: 0.820 | From: 146 To: 1358\n",
      "→ Source 146 description: AR-työkalu - An augmented reality tool developed to support astronauts in complex repair tasks during space missions, improving training and in-flight maintenance. | Developed by VTT\n",
      "→ Source 1358 description: a tool developed by VTT using augmented reality - A tool developed by VTT using augmented reality to support astronauts in training and operations during space flights, providing guidance during complex maintenance and repair tasks. | Developed by VTT Technical Research Centre of Finland Ltd\n",
      "\n",
      "Similarity: 0.812 | From: 146 To: 2250\n",
      "→ Source 146 description: AR-työkalu - An augmented reality tool developed to support astronauts in complex repair tasks during space missions, improving training and in-flight maintenance. | Developed by VTT\n",
      "→ Source 2250 description: tyÃ¶kalun auttamaan astronautteja vaikeissa korjauksissa - An augmented reality (AR) tool developed to assist astronauts in performing difficult repairs, tested by the European Space Agency. | Developed by Teknologian tutkimuskeskus VTT\n"
     ]
    },
    {
     "name": "stderr",
     "output_type": "stream",
     "text": [
      "  4%|▍         | 146/3416 [03:28<1:14:59,  1.38s/it]"
     ]
    },
    {
     "name": "stdout",
     "output_type": "stream",
     "text": [
      "\n",
      "Similarity: 0.859 | From: 147 To: 148\n",
      "→ Source 147 description: IQM quantum computing hardware systems - Hardware systems developed by IQM that enable the world's first scalable quantum computing solutions based on superconducting quantum processors, offering high speed and accuracy for practical applications. | Developed by IQM Finland Oy\n",
      "→ Source 148 description: Quantum Computing Hardware System - A scalable quantum computing hardware system developed by IQM enabling practical, cost-effective quantum computation with fast qubit control and readout technology. | Developed by IQM Finland Oy\n",
      "\n",
      "Similarity: 0.824 | From: 147 To: 281\n",
      "→ Source 147 description: IQM quantum computing hardware systems - Hardware systems developed by IQM that enable the world's first scalable quantum computing solutions based on superconducting quantum processors, offering high speed and accuracy for practical applications. | Developed by IQM Finland Oy\n",
      "→ Source 281 description: FI29126256 - IQM is an innovation developing Finland's first functional quantum computer. | Developed by VTT Technical Research Centre of Finland Ltd\n",
      "\n",
      "Similarity: 0.884 | From: 147 To: 545\n",
      "→ Source 147 description: IQM quantum computing hardware systems - Hardware systems developed by IQM that enable the world's first scalable quantum computing solutions based on superconducting quantum processors, offering high speed and accuracy for practical applications. | Developed by IQM Finland Oy\n",
      "→ Source 545 description: IQM quantum computing innovation - Innovation of building quantum computers enabling a quantum leap in data processing developed by IQM. | Developed by IQM\n"
     ]
    },
    {
     "name": "stderr",
     "output_type": "stream",
     "text": [
      "  4%|▍         | 147/3416 [03:29<1:14:10,  1.36s/it]"
     ]
    },
    {
     "name": "stdout",
     "output_type": "stream",
     "text": [
      "\n",
      "Similarity: 0.864 | From: 147 To: 3289\n",
      "→ Source 147 description: IQM quantum computing hardware systems - Hardware systems developed by IQM that enable the world's first scalable quantum computing solutions based on superconducting quantum processors, offering high speed and accuracy for practical applications. | Developed by IQM Finland Oy\n",
      "→ Source 3289 description: IQM quantum-computing technology - Quantum-computing technology developed by IQM that leverages advanced quantum processors and patented R&D to simulate complex processes efficiently. | Developed by Papula-Nevinpat\n",
      "\n",
      "Similarity: 0.805 | From: 148 To: 545\n",
      "→ Source 148 description: Quantum Computing Hardware System - A scalable quantum computing hardware system developed by IQM enabling practical, cost-effective quantum computation with fast qubit control and readout technology. | Developed by IQM Finland Oy\n",
      "→ Source 545 description: IQM quantum computing innovation - Innovation of building quantum computers enabling a quantum leap in data processing developed by IQM. | Developed by IQM\n"
     ]
    },
    {
     "name": "stderr",
     "output_type": "stream",
     "text": [
      "  4%|▍         | 149/3416 [03:32<1:15:04,  1.38s/it]"
     ]
    },
    {
     "name": "stdout",
     "output_type": "stream",
     "text": [
      "\n",
      "Similarity: 0.930 | From: 150 To: 2853\n",
      "→ Source 150 description: digikypsyystyökalu - An open online digital maturity assessment tool developed by VTT, used to evaluate and analyze the digital maturity level of organizations through a 26-question survey available in Finnish and English since 2017. | Developed by VTT\n",
      "→ Source 2853 description: Digikypsyystyökalu - A tool that independently assesses an organization's digital maturity level, illustrating six dimensions of starting situation and digital maturity. | Developed by Kuntaliitto\n"
     ]
    },
    {
     "name": "stderr",
     "output_type": "stream",
     "text": [
      "  4%|▍         | 152/3416 [03:36<1:15:39,  1.39s/it]"
     ]
    },
    {
     "name": "stdout",
     "output_type": "stream",
     "text": [
      "\n",
      "Similarity: 0.982 | From: 153 To: 159\n",
      "→ Source 153 description: Hiilikädenjälki - A new environmental metric to assess the positive climate impacts of products, developed to enable companies to evaluate and communicate the positive environmental effects of their products. | Developed by VTT\n",
      "→ Source 159 description: Hiilikädenjälki - A new environmental metric developed to assess and communicate the positive climate impacts of products, indicating the amount of positive climate effect they cause. | Developed by VTT\n",
      "\n",
      "Similarity: 0.927 | From: 153 To: 2289\n",
      "→ Source 153 description: Hiilikädenjälki - A new environmental metric to assess the positive climate impacts of products, developed to enable companies to evaluate and communicate the positive environmental effects of their products. | Developed by VTT\n",
      "→ Source 2289 description: Hiilikädenjälki - A novel concept and calculation tool developed for measuring positive climate impact caused by using climate-positive products or services, as described in the text. | Developed by Sitowise\n"
     ]
    },
    {
     "name": "stderr",
     "output_type": "stream",
     "text": [
      "  5%|▍         | 155/3416 [03:40<1:14:08,  1.36s/it]"
     ]
    },
    {
     "name": "stdout",
     "output_type": "stream",
     "text": [
      "\n",
      "Similarity: 0.829 | From: 155 To: 3222\n",
      "→ Source 155 description: SOFC-polttokennoteknologian kaupalliset sovellukset - New commercial applications of solid oxide fuel cell technology developed to produce low-emission electricity and heat more efficiently than traditional energy production methods, available for use following the ComSos EU project coordinated by VTT. | Developed by VTT\n",
      "→ Source 3222 description: fuel cell power plant based on planar solid oxide fuel cell (SOFC) technology - A unique fuel cell unit producing electric and heating power, the first of its kind in the world, fueled by biogas or methane from a nearby landfill, delivering approximately 20 kW electric output and 14 to 17 kW thermal output at the Vaasa Housing Fair site. | Developed by Wärtsilä\n"
     ]
    },
    {
     "name": "stderr",
     "output_type": "stream",
     "text": [
      "  5%|▍         | 157/3416 [03:43<1:14:54,  1.38s/it]"
     ]
    },
    {
     "name": "stdout",
     "output_type": "stream",
     "text": [
      "\n",
      "Similarity: 0.880 | From: 158 To: 236\n",
      "→ Source 158 description: Älyratikka - Älyratikka is an innovation that anticipates dangerous situations and senses moods, revolutionizing the passenger experience through artificial intelligence and sensors. | Developed by VTT\n",
      "→ Source 236 description: Älyratikka - An intelligent tram that anticipates dangerous situations and senses the atmosphere, revolutionizing the passenger experience with AI and sensors. | Developed by Teknologian tutkimuskeskus VTT Oy\n",
      "\n",
      "Similarity: 0.905 | From: 158 To: 265\n",
      "→ Source 158 description: Älyratikka - Älyratikka is an innovation that anticipates dangerous situations and senses moods, revolutionizing the passenger experience through artificial intelligence and sensors. | Developed by VTT\n",
      "→ Source 265 description: Älyratikka - Älyratikka integrates AI and sensor technology to improve safety and comfort in travel, marking a significant technological advancement made available to users. | Developed by VTT\n",
      "\n",
      "Similarity: 0.880 | From: 158 To: 319\n",
      "→ Source 158 description: Älyratikka - Älyratikka is an innovation that anticipates dangerous situations and senses moods, revolutionizing the passenger experience through artificial intelligence and sensors. | Developed by VTT\n",
      "→ Source 319 description: Älyratikka - An innovative tram system that anticipates dangerous situations and senses the atmosphere using artificial intelligence and sensors to revolutionize the passenger experience. | Developed by Teknologian tutkimuskeskus VTT Oy\n",
      "\n",
      "Similarity: 0.942 | From: 158 To: 345\n",
      "→ Source 158 description: Älyratikka - Älyratikka is an innovation that anticipates dangerous situations and senses moods, revolutionizing the passenger experience through artificial intelligence and sensors. | Developed by VTT\n",
      "→ Source 345 description: Älyratikka - Älyratikka is an innovation combining artificial intelligence and sensors to predict dangerous situations and sense the atmosphere, transforming the passenger experience in public transport. | Developed by VTT\n",
      "\n",
      "Similarity: 0.942 | From: 158 To: 413\n",
      "→ Source 158 description: Älyratikka - Älyratikka is an innovation that anticipates dangerous situations and senses moods, revolutionizing the passenger experience through artificial intelligence and sensors. | Developed by VTT\n",
      "→ Source 413 description: Älyratikka - An innovation involving artificial intelligence and sensors that predicts dangerous situations and senses the atmosphere to revolutionize the passenger experience. | Developed by VTT\n"
     ]
    },
    {
     "name": "stderr",
     "output_type": "stream",
     "text": [
      "  5%|▍         | 158/3416 [03:44<1:14:39,  1.37s/it]"
     ]
    },
    {
     "name": "stdout",
     "output_type": "stream",
     "text": [
      "\n",
      "Similarity: 0.946 | From: 159 To: 2289\n",
      "→ Source 159 description: Hiilikädenjälki - A new environmental metric developed to assess and communicate the positive climate impacts of products, indicating the amount of positive climate effect they cause. | Developed by VTT\n",
      "→ Source 2289 description: Hiilikädenjälki - A novel concept and calculation tool developed for measuring positive climate impact caused by using climate-positive products or services, as described in the text. | Developed by Sitowise\n"
     ]
    },
    {
     "name": "stderr",
     "output_type": "stream",
     "text": [
      "  5%|▍         | 161/3416 [03:49<1:14:52,  1.38s/it]"
     ]
    },
    {
     "name": "stdout",
     "output_type": "stream",
     "text": [
      "\n",
      "Similarity: 0.915 | From: 162 To: 163\n",
      "→ Source 162 description: components based on mid-infrared spectroscopy for miniaturized gas sensors - Newly developed components utilizing mid-infrared absorption spectroscopy enabling miniaturized gas sensors that reduce manufacturing costs and improve reliability, developed under the EU Horizon 2020 MIREGAS project. | Developed by Technologian tutkimuskeskus VTT Oy\n",
      "→ Source 163 description: MIREGAS components based on mid-infrared spectroscopy for miniaturized gas sensors - New components developed using mid-infrared absorption spectroscopy principles for miniaturized gas sensors, featuring superluminescent LED technology, integrated photonic circuits, hot-pressed lenses and photodetectors operating in the 2-3 micrometer wavelength range, enabling cost reduction, improved reliability, and precise multi-gas analysis. | Developed by Technologian tutkimuskeskus VTT Oy\n"
     ]
    },
    {
     "name": "stderr",
     "output_type": "stream",
     "text": [
      "  5%|▍         | 163/3416 [03:51<1:15:03,  1.38s/it]"
     ]
    },
    {
     "name": "stdout",
     "output_type": "stream",
     "text": [
      "\n",
      "Similarity: 0.871 | From: 164 To: 165\n",
      "→ Source 164 description: SenCity - SenCity is a smart lighting innovation coordinated by VTT, achieving over 50% energy savings through dynamic lighting in urban environments. | Developed by VTT\n",
      "→ Source 165 description: SenCity Smart Lighting System - An intelligent lighting system developed under the SenCity project achieving over 50% energy savings and providing dynamic, user-friendly urban street lighting. | Developed by C2 SmartLight\n"
     ]
    },
    {
     "name": "stderr",
     "output_type": "stream",
     "text": [
      "  5%|▌         | 173/3416 [04:05<1:13:44,  1.36s/it]"
     ]
    },
    {
     "name": "stdout",
     "output_type": "stream",
     "text": [
      "\n",
      "Similarity: 0.806 | From: 174 To: 1636\n",
      "→ Source 174 description: composites entirely built from cellulose - Composites made completely from cellulose for applications such as surface finishes and textiles in hospitals to support healthy and safe environments. | Developed by VTT Technical Research Centre of Finland Ltd\n",
      "→ Source 1636 description: High Performance Cellulose-based Composites product portfolio - A completely new product portfolio based on lightweight sustainable cellulose-based composite materials developed to replace plastic-based materials for various industrial sectors. | Developed by Valmet\n"
     ]
    },
    {
     "name": "stderr",
     "output_type": "stream",
     "text": [
      "  5%|▌         | 177/3416 [04:11<1:13:37,  1.36s/it]"
     ]
    },
    {
     "name": "stdout",
     "output_type": "stream",
     "text": [
      "\n",
      "Similarity: 0.835 | From: 178 To: 647\n",
      "→ Source 178 description: cellulose-based textile fibre technology - A cellulose-based textile fibre technology originally developed at VTT, which produces fibres directly from pulp without harmful chemicals, saving 99% of water compared to cotton production, commercialized by Spinnova. | Developed by Spinnova\n",
      "→ Source 647 description: textile fibre made from cellulose - A new kind of textile fibre produced from cellulose, developed as a solution to the global need for textile fibres using recycled raw materials. | Developed by VTT\n"
     ]
    },
    {
     "name": "stderr",
     "output_type": "stream",
     "text": [
      "  5%|▌         | 182/3416 [04:17<1:13:36,  1.37s/it]"
     ]
    },
    {
     "name": "stdout",
     "output_type": "stream",
     "text": [
      "\n",
      "Similarity: 0.825 | From: 183 To: 184\n",
      "→ Source 183 description: Painettu äly - Printed intelligence that revolutionizes domestic industry by integrating electronic or biological functionalities into paper products, opening new market opportunities | Developed by VTT\n",
      "→ Source 184 description: painetun älyn - Printed Intelligence is a novel product technology that integrates electronic or biological functionalities into paper industry products, opening new markets in healthcare and safety. | Developed by PrintoCent\n"
     ]
    },
    {
     "name": "stderr",
     "output_type": "stream",
     "text": [
      "  6%|▌         | 192/3416 [04:31<1:13:35,  1.37s/it]"
     ]
    },
    {
     "name": "stdout",
     "output_type": "stream",
     "text": [
      "\n",
      "Similarity: 0.827 | From: 193 To: 639\n",
      "→ Source 193 description: ProperTune® - An innovative multiscale digital material modeling tool developed by VTT to optimize material structures and predict wear, improving energy efficiency and reducing greenhouse gas emissions. | Developed by VTT\n",
      "→ Source 639 description: ProperTune - ProperTune is a collection of tools that combines multiscale physics-based modeling and AI with data-driven approaches to model and design soft materials like wood, polymers, and plastics, enabling faster and more cost-efficient product development. | Developed by Caterpillar\n",
      "\n",
      "Similarity: 0.895 | From: 193 To: 668\n",
      "→ Source 193 description: ProperTune® - An innovative multiscale digital material modeling tool developed by VTT to optimize material structures and predict wear, improving energy efficiency and reducing greenhouse gas emissions. | Developed by VTT\n",
      "→ Source 668 description: ProperTune® - ProperTune® is a computer-assisted material development solution by VTT that combines physics-based multiscale modeling and data-driven artificial intelligence to enable virtual material design and testing, reducing development time and costs for more sustainable materials, applicable to both hard and soft materials. | Developed by VTT\n"
     ]
    },
    {
     "name": "stderr",
     "output_type": "stream",
     "text": [
      "  6%|▌         | 197/3416 [04:38<1:13:11,  1.36s/it]"
     ]
    },
    {
     "name": "stdout",
     "output_type": "stream",
     "text": [
      "\n",
      "Similarity: 0.843 | From: 198 To: 199\n",
      "→ Source 198 description: KYBER-ENE project - A cybersecurity project coordinated by VTT to improve cyber-caution in the energy sector amid digitalisation changes. | Developed by VTT\n",
      "→ Source 199 description: KYBER-ENE project cyber threat management model - A cyber threat management model developed in the KYBER-ENE project workshops to systematically and rapidly improve cybersecurity in the energy sector. | Developed by National Emergency Supply Agency\n"
     ]
    },
    {
     "name": "stderr",
     "output_type": "stream",
     "text": [
      "  6%|▌         | 201/3416 [04:43<1:13:05,  1.36s/it]"
     ]
    },
    {
     "name": "stdout",
     "output_type": "stream",
     "text": [
      "\n",
      "Similarity: 0.822 | From: 202 To: 203\n",
      "→ Source 202 description: Sustainable production methods and traceability of battery materials for battery manufacturing - An innovation focusing on sustainable production and traceability of battery materials, including methods to monitor and certify production chains and trace metal origins through unique fingerprints. | Developed by VTT Technical Research Centre of Finland Ltd\n",
      "→ Source 203 description: BATTRACE project - A project launched by VTT and Geological Survey of Finland GTK focusing on traceability of battery materials and production processes to promote sustainable production methods. | Developed by Keliber\n"
     ]
    },
    {
     "name": "stderr",
     "output_type": "stream",
     "text": [
      "  6%|▌         | 202/3416 [04:45<1:12:45,  1.36s/it]"
     ]
    },
    {
     "name": "stdout",
     "output_type": "stream",
     "text": [
      "\n",
      "Similarity: 0.870 | From: 203 To: 289\n",
      "→ Source 203 description: BATTRACE project - A project launched by VTT and Geological Survey of Finland GTK focusing on traceability of battery materials and production processes to promote sustainable production methods. | Developed by Keliber\n",
      "→ Source 289 description: BATTRACE-hankkeen tutkimushanke - A research project aiming to advance sustainable production processes and traceability of battery materials by developing methods for tracking production chains from mine to battery factory and optimizing metal production processes for the battery industry. | Developed by VTT\n",
      "\n",
      "Similarity: 0.839 | From: 203 To: 290\n",
      "→ Source 203 description: BATTRACE project - A project launched by VTT and Geological Survey of Finland GTK focusing on traceability of battery materials and production processes to promote sustainable production methods. | Developed by Keliber\n",
      "→ Source 290 description: BATTRACE-hanke - BATTRACE is a project focused on traceability of battery materials and sustainable production processes to develop ecological, social, and economically sustainable battery supply chains. | Developed by Keliber\n"
     ]
    },
    {
     "name": "stderr",
     "output_type": "stream",
     "text": [
      "  6%|▌         | 204/3416 [04:47<1:12:40,  1.36s/it]"
     ]
    },
    {
     "name": "stdout",
     "output_type": "stream",
     "text": [
      "\n",
      "Similarity: 0.920 | From: 205 To: 208\n",
      "→ Source 205 description: Muovien kiertotalouden ABC - A five-part blog series by VTT explaining plastics' world, covering bioplastics, recycling, business models, and future visions, representing a novel educational and communication product. | Developed by VTT\n",
      "→ Source 208 description: Muovien kiertotalous ABC -blogisarja - A five-part blog series that explores plastics, including bioplastics, plastic recycling, business models, and future visions for circular economy; announced and made available to the public by VTT. | Developed by PlastBug-tiimi\n"
     ]
    },
    {
     "name": "stderr",
     "output_type": "stream",
     "text": [
      "  6%|▌         | 205/3416 [04:49<1:12:36,  1.36s/it]"
     ]
    },
    {
     "name": "stdout",
     "output_type": "stream",
     "text": [
      "\n",
      "Similarity: 0.834 | From: 206 To: 1230\n",
      "→ Source 206 description: FI26776296 - A material innovation combining properties of plastics and fiber products, expanding the understanding of both material types. | Developed by VTT\n",
      "→ Source 1230 description: FI26473754 - A service for polymer material development and plastics innovation, providing systematic decision-making and validation of sustainable polymer materials. | Developed by VTT PlasticsCompass\n"
     ]
    },
    {
     "name": "stderr",
     "output_type": "stream",
     "text": [
      "  6%|▌         | 209/3416 [04:54<1:13:11,  1.37s/it]"
     ]
    },
    {
     "name": "stdout",
     "output_type": "stream",
     "text": [
      "\n",
      "Similarity: 0.867 | From: 210 To: 211\n",
      "→ Source 210 description: Porsche Taycan-mallillaan - The Porsche Taycan model, announced in 2019, features 350 kW charging capability requiring special high-power charging stations. | Developed by Fortum\n",
      "→ Source 211 description: Porsche Taycan-mallillaan, jota voi ladata 350 kW:n teholla - An electric vehicle model, Porsche Taycan, which can be charged at 350 kW charging power enabling faster charging compared to typical electric vehicles. | Developed by Porsche\n"
     ]
    },
    {
     "name": "stderr",
     "output_type": "stream",
     "text": [
      "  6%|▌         | 211/3416 [04:57<1:13:11,  1.37s/it]"
     ]
    },
    {
     "name": "stdout",
     "output_type": "stream",
     "text": [
      "\n",
      "Similarity: 0.861 | From: 212 To: 1223\n",
      "→ Source 212 description: FI26473754 - An innovation related to plastics, focusing on the circular economy and ecodesign, developed by VTT. | Developed by VTT PlasticsCompass\n",
      "→ Source 1223 description: FI26473754 - An innovation service mentioned on the website providing solutions related to plastics, presumably innovative in material optimization or recycling processes. | Developed by VTT PlasticsCompass\n",
      "\n",
      "Similarity: 0.860 | From: 212 To: 1230\n",
      "→ Source 212 description: FI26473754 - An innovation related to plastics, focusing on the circular economy and ecodesign, developed by VTT. | Developed by VTT PlasticsCompass\n",
      "→ Source 1230 description: FI26473754 - A service for polymer material development and plastics innovation, providing systematic decision-making and validation of sustainable polymer materials. | Developed by VTT PlasticsCompass\n",
      "\n",
      "Similarity: 0.877 | From: 212 To: 1380\n",
      "→ Source 212 description: FI26473754 - An innovation related to plastics, focusing on the circular economy and ecodesign, developed by VTT. | Developed by VTT PlasticsCompass\n",
      "→ Source 1380 description: FI26473754 - An innovation in chemical plastic recycling technology developed by VTT, enabling sustainable plastic recycling. | Developed by VTT PlasticsCompass\n"
     ]
    },
    {
     "name": "stderr",
     "output_type": "stream",
     "text": [
      "  6%|▋         | 214/3416 [05:01<1:11:56,  1.35s/it]"
     ]
    },
    {
     "name": "stdout",
     "output_type": "stream",
     "text": [
      "\n",
      "Similarity: 0.910 | From: 215 To: 2279\n",
      "→ Source 215 description: Sami&Samu-kehityshanke - An innovation focusing on development of natural wood-based materials to prevent microbial spread in hospital environments, aiming to replace conventional materials with bio-based alternatives. | Developed by VTT\n",
      "→ Source 2279 description: Sami&Samu - An innovation involving wood-based substances with antimicrobial qualities to tackle microbial resistance in hospitals and replace plastics with bio-based materials. | Developed by Kiilto\n",
      "\n",
      "Similarity: 0.839 | From: 215 To: 2852\n",
      "→ Source 215 description: Sami&Samu-kehityshanke - An innovation focusing on development of natural wood-based materials to prevent microbial spread in hospital environments, aiming to replace conventional materials with bio-based alternatives. | Developed by VTT\n",
      "→ Source 2852 description: Sami&Samu - An innovation project addressing microbial resistance at hospitals using wood-based substances and replacing plastics with bio-based materials for hygiene and packaging solutions. | Developed by Kiilto\n"
     ]
    },
    {
     "name": "stderr",
     "output_type": "stream",
     "text": [
      "  6%|▋         | 217/3416 [05:05<1:11:33,  1.34s/it]"
     ]
    },
    {
     "name": "stdout",
     "output_type": "stream",
     "text": [
      "\n",
      "Similarity: 0.842 | From: 218 To: 569\n",
      "→ Source 218 description: Piifotoniikka - A novel silicon photonics technology enabling smaller, more efficient and affordable products that use optical signals for precise measurements, laser imaging or rapid data transfer. | Developed by VTT\n",
      "→ Source 569 description: Piifotoniikka - Piifotoniikka is a light and electrical technology characterized by speed, energy efficiency, and microscopic chip size, developed and applied by VTT in various fields such as medicine and autonomous traffic. | Developed by VTT\n"
     ]
    },
    {
     "name": "stderr",
     "output_type": "stream",
     "text": [
      "  6%|▋         | 221/3416 [05:10<1:11:50,  1.35s/it]"
     ]
    },
    {
     "name": "stdout",
     "output_type": "stream",
     "text": [
      "\n",
      "Similarity: 0.815 | From: 222 To: 2899\n",
      "→ Source 222 description: Circular Raw Materials Hub - A strategic infrastructure consortium focused on developing solutions for a carbon-neutral and resource-efficient society, serving research and industry and facilitating training in circular economy expertise. | Developed by Geologian tutkimuskeskus GTK\n",
      "→ Source 2899 description: Circular Raw Materials Hub laboratory - A state-of-the-art laboratory complex established for pioneering research on inorganic materials and minerals, focusing on circular economy and sustainable growth challenges, available for use since late 2019. | Developed by Aalto-yliopisto\n"
     ]
    },
    {
     "name": "stderr",
     "output_type": "stream",
     "text": [
      "  7%|▋         | 224/3416 [05:14<1:11:25,  1.34s/it]"
     ]
    },
    {
     "name": "stdout",
     "output_type": "stream",
     "text": [
      "\n",
      "Similarity: 0.904 | From: 225 To: 879\n",
      "→ Source 225 description: Blueforsi cryogenic coolers - Cryogenic coolers made by Finnish Bluefors, enabling temperatures near absolute zero in quantum computer prototypes. | Developed by \n",
      "→ Source 879 description: FI21832199 - Bluefors produces cryogenic coolers for quantum computers, representing a significant technological advancement near absolute zero temperatures. | Developed by Bluefors\n"
     ]
    },
    {
     "name": "stderr",
     "output_type": "stream",
     "text": [
      "  7%|▋         | 225/3416 [05:16<1:11:52,  1.35s/it]"
     ]
    },
    {
     "name": "stdout",
     "output_type": "stream",
     "text": [
      "\n",
      "Similarity: 0.810 | From: 226 To: 480\n",
      "→ Source 226 description: superconducting components - Superconducting components manufactured at Micronova used as parts of quantum technology devices. | Developed by Micronova-rakennus Otaniemen Tietotie 3:ssa\n",
      "→ Source 480 description: components and their fabrication technologies for quantum computers - Development of components and their fabrication technologies for quantum computers focusing on superconducting device technologies to advance quantum processors in Europe. | Developed by VTT\n"
     ]
    },
    {
     "name": "stderr",
     "output_type": "stream",
     "text": [
      "  7%|▋         | 230/3416 [05:23<1:12:17,  1.36s/it]"
     ]
    },
    {
     "name": "stdout",
     "output_type": "stream",
     "text": [
      "\n",
      "Similarity: 0.943 | From: 230 To: 3235\n",
      "→ Source 230 description: Norsepower rotor sail - A rotor sail innovation by Norsepower that saves fuel and reduces emissions by harnessing wind power as auxiliary energy for ships. | Developed by Norsepower\n",
      "→ Source 3235 description: Norsepower Rotor Sail Solution - A new wind propulsion technology for ships developed by Norsepower, which reduces fuel consumption by harnessing wind power through spinning rotor sails installed on ships. | Developed by Norsepower Oy Ltd.\n",
      "\n",
      "Similarity: 0.869 | From: 230 To: 3237\n",
      "→ Source 230 description: Norsepower rotor sail - A rotor sail innovation by Norsepower that saves fuel and reduces emissions by harnessing wind power as auxiliary energy for ships. | Developed by Norsepower\n",
      "→ Source 3237 description: Norsepower's Rotor Sail Solution - A new wind propulsion technology for ships validated through independent trials confirming fuel-saving potential. | Developed by \n",
      "\n",
      "Similarity: 0.871 | From: 230 To: 3239\n",
      "→ Source 230 description: Norsepower rotor sail - A rotor sail innovation by Norsepower that saves fuel and reduces emissions by harnessing wind power as auxiliary energy for ships. | Developed by Norsepower\n",
      "→ Source 3239 description: Rotor Sail Solution - Rotor Sail Solution is a new wind propulsion technology for ships developed by Norsepower Oy Ltd., validated to confirm fuel-saving potential. | Developed by Norsepower Oy Ltd.\n",
      "\n",
      "Similarity: 0.912 | From: 230 To: 3240\n",
      "→ Source 230 description: Norsepower rotor sail - A rotor sail innovation by Norsepower that saves fuel and reduces emissions by harnessing wind power as auxiliary energy for ships. | Developed by Norsepower\n",
      "→ Source 3240 description: Norsepower Rotor Sail Solution - A new wind propulsion technology for ships that has been successfully sea trialed showing fuel-saving potential. | Developed by VTT Technical Research Centre of Finland\n",
      "\n",
      "Similarity: 0.934 | From: 230 To: 3246\n",
      "→ Source 230 description: Norsepower rotor sail - A rotor sail innovation by Norsepower that saves fuel and reduces emissions by harnessing wind power as auxiliary energy for ships. | Developed by Norsepower\n",
      "→ Source 3246 description: Norsepower Rotor Sail Solution - A new wind propulsion technology for ships confirmed to have fuel-saving potential through successful sea trials. | Developed by Norsepower Oy Ltd.\n",
      "\n",
      "Similarity: 0.950 | From: 230 To: 3249\n",
      "→ Source 230 description: Norsepower rotor sail - A rotor sail innovation by Norsepower that saves fuel and reduces emissions by harnessing wind power as auxiliary energy for ships. | Developed by Norsepower\n",
      "→ Source 3249 description: Norsepower’s Rotor Sail Solution - Norsepower’s Rotor Sail Solution is a new wind propulsion technology for ships that confirms fuel-saving potential through sea trials. | Developed by Norsepower Oy Ltd.\n",
      "\n",
      "Similarity: 0.882 | From: 231 To: 251\n",
      "→ Source 231 description: Telaketju - Finnish research initiative that has developed new textile recycling technologies and business models, making Finland ready for EU-mandated separate textile waste collection. | Developed by VTT\n",
      "→ Source 251 description: Telaketju - An innovation focused on the recycling and reutilization of end-of-life textiles, involving the development of mechanical recycling processes and new product manufacturing from recycled fibers in Finland. | Developed by VTT\n",
      "\n",
      "Similarity: 0.894 | From: 231 To: 493\n",
      "→ Source 231 description: Telaketju - Finnish research initiative that has developed new textile recycling technologies and business models, making Finland ready for EU-mandated separate textile waste collection. | Developed by VTT\n",
      "→ Source 493 description: Telaketju 2 - An innovation project led by VTT that developed new business models and product designs to strengthen the textile circular economy in Finland, providing practical tools for responsible operations and advancing textile recycling and reuse. | Developed by VTT\n"
     ]
    },
    {
     "name": "stderr",
     "output_type": "stream",
     "text": [
      "  7%|▋         | 235/3416 [05:30<1:14:28,  1.40s/it]"
     ]
    },
    {
     "name": "stdout",
     "output_type": "stream",
     "text": [
      "\n",
      "Similarity: 0.862 | From: 236 To: 265\n",
      "→ Source 236 description: Älyratikka - An intelligent tram that anticipates dangerous situations and senses the atmosphere, revolutionizing the passenger experience with AI and sensors. | Developed by Teknologian tutkimuskeskus VTT Oy\n",
      "→ Source 265 description: Älyratikka - Älyratikka integrates AI and sensor technology to improve safety and comfort in travel, marking a significant technological advancement made available to users. | Developed by VTT\n",
      "\n",
      "Similarity: 0.982 | From: 236 To: 319\n",
      "→ Source 236 description: Älyratikka - An intelligent tram that anticipates dangerous situations and senses the atmosphere, revolutionizing the passenger experience with AI and sensors. | Developed by Teknologian tutkimuskeskus VTT Oy\n",
      "→ Source 319 description: Älyratikka - An innovative tram system that anticipates dangerous situations and senses the atmosphere using artificial intelligence and sensors to revolutionize the passenger experience. | Developed by Teknologian tutkimuskeskus VTT Oy\n",
      "\n",
      "Similarity: 0.892 | From: 236 To: 345\n",
      "→ Source 236 description: Älyratikka - An intelligent tram that anticipates dangerous situations and senses the atmosphere, revolutionizing the passenger experience with AI and sensors. | Developed by Teknologian tutkimuskeskus VTT Oy\n",
      "→ Source 345 description: Älyratikka - Älyratikka is an innovation combining artificial intelligence and sensors to predict dangerous situations and sense the atmosphere, transforming the passenger experience in public transport. | Developed by VTT\n",
      "\n",
      "Similarity: 0.909 | From: 236 To: 404\n",
      "→ Source 236 description: Älyratikka - An intelligent tram that anticipates dangerous situations and senses the atmosphere, revolutionizing the passenger experience with AI and sensors. | Developed by Teknologian tutkimuskeskus VTT Oy\n",
      "→ Source 404 description: Älyratikka - An AI and sensor-based tram system that anticipates dangerous situations and senses atmosphere, revolutionizing passenger experience. | Developed by VTT\n",
      "\n",
      "Similarity: 0.898 | From: 236 To: 413\n",
      "→ Source 236 description: Älyratikka - An intelligent tram that anticipates dangerous situations and senses the atmosphere, revolutionizing the passenger experience with AI and sensors. | Developed by Teknologian tutkimuskeskus VTT Oy\n",
      "→ Source 413 description: Älyratikka - An innovation involving artificial intelligence and sensors that predicts dangerous situations and senses the atmosphere to revolutionize the passenger experience. | Developed by VTT\n"
     ]
    },
    {
     "name": "stderr",
     "output_type": "stream",
     "text": [
      "  7%|▋         | 250/3416 [05:50<1:14:27,  1.41s/it]"
     ]
    },
    {
     "name": "stdout",
     "output_type": "stream",
     "text": [
      "\n",
      "Similarity: 0.838 | From: 251 To: 493\n",
      "→ Source 251 description: Telaketju - An innovation focused on the recycling and reutilization of end-of-life textiles, involving the development of mechanical recycling processes and new product manufacturing from recycled fibers in Finland. | Developed by VTT\n",
      "→ Source 493 description: Telaketju 2 - An innovation project led by VTT that developed new business models and product designs to strengthen the textile circular economy in Finland, providing practical tools for responsible operations and advancing textile recycling and reuse. | Developed by VTT\n"
     ]
    },
    {
     "name": "stderr",
     "output_type": "stream",
     "text": [
      "  7%|▋         | 252/3416 [05:53<1:13:04,  1.39s/it]"
     ]
    },
    {
     "name": "stdout",
     "output_type": "stream",
     "text": [
      "\n",
      "Similarity: 0.896 | From: 253 To: 1398\n",
      "→ Source 253 description: Nanobiotechnology solutions for treating and diagnosing severe diseases - New nanobiotechnology methods developed for treatment and early diagnosis of degenerative central nervous system disorders and cancers using extracellular vesicles | Developed by VTT\n",
      "→ Source 1398 description: Nanobioteknologisia ratkaisuja keskushermostoa rappeuttavien sairauksien hoitoon ja diagnostiikkaan - Innovative nanobiotechnology-based solutions developed to improve treatment and early diagnosis of neurodegenerative diseases and various cancers, focusing on extracellular vesicles as diagnostic markers and drug delivery vehicles. | Developed by VTT\n"
     ]
    },
    {
     "name": "stderr",
     "output_type": "stream",
     "text": [
      "  7%|▋         | 253/3416 [05:54<1:12:28,  1.37s/it]"
     ]
    },
    {
     "name": "stdout",
     "output_type": "stream",
     "text": [
      "\n",
      "Similarity: 0.978 | From: 254 To: 256\n",
      "→ Source 254 description: dECOmm project - A Finnish business ecosystem offering nuclear power plant decommissioning services, developed as part of a two-year research project by VTT and partners. | Developed by dECOmm project team\n",
      "→ Source 256 description: dECOmm project - A research project launched by VTT to develop a Finnish business ecosystem for nuclear power plant decommissioning services. | Developed by VTT Technical Research Centre of Finland Ltd\n",
      "\n",
      "Similarity: 0.923 | From: 254 To: 2588\n",
      "→ Source 254 description: dECOmm project - A Finnish business ecosystem offering nuclear power plant decommissioning services, developed as part of a two-year research project by VTT and partners. | Developed by dECOmm project team\n",
      "→ Source 2588 description: deCOmm (Finnish Ecosystem for New International Decommissioning Services) project - A two-year innovation project launched by VTT Technical Research Centre of Finland Ltd aimed at developing nuclear power plant decommissioning into a business, utilizing VTT's FiR1 research reactor shutdown as a pilot project. | Developed by VTT Technical Research Centre of Finland Ltd\n",
      "\n",
      "Similarity: 0.867 | From: 254 To: 2594\n",
      "→ Source 254 description: dECOmm project - A Finnish business ecosystem offering nuclear power plant decommissioning services, developed as part of a two-year research project by VTT and partners. | Developed by dECOmm project team\n",
      "→ Source 2594 description: deCOmm - A two-year project launched by VTT Technical Research Centre of Finland Ltd to develop nuclear power plant decommissioning into a business, involving dismantling and after-care processes that can take more than 10 years and cost up to one billion euros. | Developed by VTT Technical Research Centre of Finland Ltd\n"
     ]
    },
    {
     "name": "stderr",
     "output_type": "stream",
     "text": [
      "  7%|▋         | 254/3416 [05:56<1:12:23,  1.37s/it]"
     ]
    },
    {
     "name": "stdout",
     "output_type": "stream",
     "text": [
      "\n",
      "Similarity: 0.999 | From: 255 To: 257\n",
      "→ Source 255 description: Delete Demolition Oy's Nuclear Decommissioning Robot - A demolition robot developed by Delete Demolition Oy for use at nuclear power plant decommissioning worksites. | Developed by Delete Demolition Oy\n",
      "→ Source 257 description: Delete Demolition Oy's Nuclear Decommissioning Robot - A demolition robot developed by Delete Demolition Oy for use in nuclear power plant decommissioning worksites. | Developed by Delete Demolition Oy\n",
      "\n",
      "Similarity: 0.949 | From: 255 To: 1446\n",
      "→ Source 255 description: Delete Demolition Oy's Nuclear Decommissioning Robot - A demolition robot developed by Delete Demolition Oy for use at nuclear power plant decommissioning worksites. | Developed by Delete Demolition Oy\n",
      "→ Source 1446 description: Nuclear Decommissioning Robot - A demolition robot developed for nuclear power plant decommissioning work by Delete Demolition Oy. | Developed by Delete Demolition Oy\n",
      "\n",
      "Similarity: 0.924 | From: 255 To: 2590\n",
      "→ Source 255 description: Delete Demolition Oy's Nuclear Decommissioning Robot - A demolition robot developed by Delete Demolition Oy for use at nuclear power plant decommissioning worksites. | Developed by Delete Demolition Oy\n",
      "→ Source 2590 description: demolition robot for nuclear power plant decommissioning - A demolition robot developed by Delete for use at nuclear power plant decommissioning worksites. | Developed by Delete Finland Oy\n",
      "\n",
      "Similarity: 0.914 | From: 255 To: 2591\n",
      "→ Source 255 description: Delete Demolition Oy's Nuclear Decommissioning Robot - A demolition robot developed by Delete Demolition Oy for use at nuclear power plant decommissioning worksites. | Developed by Delete Demolition Oy\n",
      "→ Source 2591 description: demolition robot for nuclear power plant decommissioning worksites - A demolition robot developed by Delete for nuclear power plant decommissioning sites aimed to meet high safety standards and enable efficient operations. | Developed by Delete Finland Oy\n",
      "\n",
      "Similarity: 0.936 | From: 255 To: 2595\n",
      "→ Source 255 description: Delete Demolition Oy's Nuclear Decommissioning Robot - A demolition robot developed by Delete Demolition Oy for use at nuclear power plant decommissioning worksites. | Developed by Delete Demolition Oy\n",
      "→ Source 2595 description: Delete demolition robot - A demolition robot developed by Delete for nuclear power plant decommissioning worksites, aimed at meeting high safety standards and efficient operations. | Developed by Delete\n",
      "\n",
      "Similarity: 0.919 | From: 255 To: 2596\n",
      "→ Source 255 description: Delete Demolition Oy's Nuclear Decommissioning Robot - A demolition robot developed by Delete Demolition Oy for use at nuclear power plant decommissioning worksites. | Developed by Delete Demolition Oy\n",
      "→ Source 2596 description: demolition robot for nuclear power plant decommissioning worksites - A demolition robot developed by Delete for use in nuclear power plant decommissioning sites, combining innovation and modern technology to meet high safety standards. | Developed by Delete\n",
      "\n",
      "Similarity: 0.920 | From: 255 To: 2599\n",
      "→ Source 255 description: Delete Demolition Oy's Nuclear Decommissioning Robot - A demolition robot developed by Delete Demolition Oy for use at nuclear power plant decommissioning worksites. | Developed by Delete Demolition Oy\n",
      "→ Source 2599 description: Demolition robot for nuclear power plant decommissioning - A demolition robot being developed by Delete for nuclear power plant decommissioning worksites, partially funded by Business Finland. | Developed by Delete\n"
     ]
    },
    {
     "name": "stderr",
     "output_type": "stream",
     "text": [
      "  7%|▋         | 255/3416 [05:57<1:11:50,  1.36s/it]"
     ]
    },
    {
     "name": "stdout",
     "output_type": "stream",
     "text": [
      "\n",
      "Similarity: 0.942 | From: 256 To: 2588\n",
      "→ Source 256 description: dECOmm project - A research project launched by VTT to develop a Finnish business ecosystem for nuclear power plant decommissioning services. | Developed by VTT Technical Research Centre of Finland Ltd\n",
      "→ Source 2588 description: deCOmm (Finnish Ecosystem for New International Decommissioning Services) project - A two-year innovation project launched by VTT Technical Research Centre of Finland Ltd aimed at developing nuclear power plant decommissioning into a business, utilizing VTT's FiR1 research reactor shutdown as a pilot project. | Developed by VTT Technical Research Centre of Finland Ltd\n",
      "\n",
      "Similarity: 0.889 | From: 256 To: 2594\n",
      "→ Source 256 description: dECOmm project - A research project launched by VTT to develop a Finnish business ecosystem for nuclear power plant decommissioning services. | Developed by VTT Technical Research Centre of Finland Ltd\n",
      "→ Source 2594 description: deCOmm - A two-year project launched by VTT Technical Research Centre of Finland Ltd to develop nuclear power plant decommissioning into a business, involving dismantling and after-care processes that can take more than 10 years and cost up to one billion euros. | Developed by VTT Technical Research Centre of Finland Ltd\n"
     ]
    },
    {
     "name": "stderr",
     "output_type": "stream",
     "text": [
      "  7%|▋         | 256/3416 [05:58<1:11:22,  1.36s/it]"
     ]
    },
    {
     "name": "stdout",
     "output_type": "stream",
     "text": [
      "\n",
      "Similarity: 0.954 | From: 257 To: 1446\n",
      "→ Source 257 description: Delete Demolition Oy's Nuclear Decommissioning Robot - A demolition robot developed by Delete Demolition Oy for use in nuclear power plant decommissioning worksites. | Developed by Delete Demolition Oy\n",
      "→ Source 1446 description: Nuclear Decommissioning Robot - A demolition robot developed for nuclear power plant decommissioning work by Delete Demolition Oy. | Developed by Delete Demolition Oy\n",
      "\n",
      "Similarity: 0.929 | From: 257 To: 2590\n",
      "→ Source 257 description: Delete Demolition Oy's Nuclear Decommissioning Robot - A demolition robot developed by Delete Demolition Oy for use in nuclear power plant decommissioning worksites. | Developed by Delete Demolition Oy\n",
      "→ Source 2590 description: demolition robot for nuclear power plant decommissioning - A demolition robot developed by Delete for use at nuclear power plant decommissioning worksites. | Developed by Delete Finland Oy\n",
      "\n",
      "Similarity: 0.919 | From: 257 To: 2591\n",
      "→ Source 257 description: Delete Demolition Oy's Nuclear Decommissioning Robot - A demolition robot developed by Delete Demolition Oy for use in nuclear power plant decommissioning worksites. | Developed by Delete Demolition Oy\n",
      "→ Source 2591 description: demolition robot for nuclear power plant decommissioning worksites - A demolition robot developed by Delete for nuclear power plant decommissioning sites aimed to meet high safety standards and enable efficient operations. | Developed by Delete Finland Oy\n",
      "\n",
      "Similarity: 0.937 | From: 257 To: 2595\n",
      "→ Source 257 description: Delete Demolition Oy's Nuclear Decommissioning Robot - A demolition robot developed by Delete Demolition Oy for use in nuclear power plant decommissioning worksites. | Developed by Delete Demolition Oy\n",
      "→ Source 2595 description: Delete demolition robot - A demolition robot developed by Delete for nuclear power plant decommissioning worksites, aimed at meeting high safety standards and efficient operations. | Developed by Delete\n",
      "\n",
      "Similarity: 0.924 | From: 257 To: 2596\n",
      "→ Source 257 description: Delete Demolition Oy's Nuclear Decommissioning Robot - A demolition robot developed by Delete Demolition Oy for use in nuclear power plant decommissioning worksites. | Developed by Delete Demolition Oy\n",
      "→ Source 2596 description: demolition robot for nuclear power plant decommissioning worksites - A demolition robot developed by Delete for use in nuclear power plant decommissioning sites, combining innovation and modern technology to meet high safety standards. | Developed by Delete\n",
      "\n",
      "Similarity: 0.925 | From: 257 To: 2599\n",
      "→ Source 257 description: Delete Demolition Oy's Nuclear Decommissioning Robot - A demolition robot developed by Delete Demolition Oy for use in nuclear power plant decommissioning worksites. | Developed by Delete Demolition Oy\n",
      "→ Source 2599 description: Demolition robot for nuclear power plant decommissioning - A demolition robot being developed by Delete for nuclear power plant decommissioning worksites, partially funded by Business Finland. | Developed by Delete\n"
     ]
    },
    {
     "name": "stderr",
     "output_type": "stream",
     "text": [
      "  8%|▊         | 263/3416 [06:08<1:10:47,  1.35s/it]"
     ]
    },
    {
     "name": "stdout",
     "output_type": "stream",
     "text": [
      "\n",
      "Similarity: 0.840 | From: 264 To: 1833\n",
      "→ Source 264 description: FI26473754 - VTT's new nuclear safety house containing modern radiation source handling facilities for improving nuclear power plant safety and spent nuclear fuel disposal research, currently under construction and to be available from early 2016. | Developed by VTT:n ydinturvallisuustalo\n",
      "→ Source 1833 description: nuclear safety house - A new four-storey building bringing together all nuclear safety research activities of VTT under one roof, integrating office and laboratory spaces with an activity-based environment to improve collaboration and experimental research capabilities. | Developed by VTT Technical Research Centre of Finland Ltd\n"
     ]
    },
    {
     "name": "stderr",
     "output_type": "stream",
     "text": [
      "  8%|▊         | 264/3416 [06:09<1:10:20,  1.34s/it]"
     ]
    },
    {
     "name": "stdout",
     "output_type": "stream",
     "text": [
      "\n",
      "Similarity: 0.862 | From: 265 To: 319\n",
      "→ Source 265 description: Älyratikka - Älyratikka integrates AI and sensor technology to improve safety and comfort in travel, marking a significant technological advancement made available to users. | Developed by VTT\n",
      "→ Source 319 description: Älyratikka - An innovative tram system that anticipates dangerous situations and senses the atmosphere using artificial intelligence and sensors to revolutionize the passenger experience. | Developed by Teknologian tutkimuskeskus VTT Oy\n",
      "\n",
      "Similarity: 0.897 | From: 265 To: 345\n",
      "→ Source 265 description: Älyratikka - Älyratikka integrates AI and sensor technology to improve safety and comfort in travel, marking a significant technological advancement made available to users. | Developed by VTT\n",
      "→ Source 345 description: Älyratikka - Älyratikka is an innovation combining artificial intelligence and sensors to predict dangerous situations and sense the atmosphere, transforming the passenger experience in public transport. | Developed by VTT\n",
      "\n",
      "Similarity: 0.905 | From: 265 To: 413\n",
      "→ Source 265 description: Älyratikka - Älyratikka integrates AI and sensor technology to improve safety and comfort in travel, marking a significant technological advancement made available to users. | Developed by VTT\n",
      "→ Source 413 description: Älyratikka - An innovation involving artificial intelligence and sensors that predicts dangerous situations and senses the atmosphere to revolutionize the passenger experience. | Developed by VTT\n"
     ]
    },
    {
     "name": "stderr",
     "output_type": "stream",
     "text": [
      "  8%|▊         | 266/3416 [06:12<1:11:17,  1.36s/it]"
     ]
    },
    {
     "name": "stdout",
     "output_type": "stream",
     "text": [
      "\n",
      "Similarity: 0.816 | From: 267 To: 293\n",
      "→ Source 267 description: KEKO - A world-leading real estate data ecosystem and platform enabling data collection, analysis, and automatic utilization for property maintenance, developed and made available to users starting early 2020. | Developed by KONE\n",
      "→ Source 293 description: KEKO ecosystem - A smart building data ecosystem and platform developed to integrate technical building systems data into a single platform to improve comfort, productivity, and sustainability. | Developed by KONE\n",
      "\n",
      "Similarity: 0.857 | From: 267 To: 1773\n",
      "→ Source 267 description: KEKO - A world-leading real estate data ecosystem and platform enabling data collection, analysis, and automatic utilization for property maintenance, developed and made available to users starting early 2020. | Developed by KONE\n",
      "→ Source 1773 description: KEKO ecosystem - A shared platform combining real estate technology applications from multiple organizations to improve building comfort, productivity, and eco-friendliness. | Developed by YIT\n",
      "\n",
      "Similarity: 0.925 | From: 267 To: 2026\n",
      "→ Source 267 description: KEKO - A world-leading real estate data ecosystem and platform enabling data collection, analysis, and automatic utilization for property maintenance, developed and made available to users starting early 2020. | Developed by KONE\n",
      "→ Source 2026 description: KEKO - A digital ecosystem and platform for property data developed to enable data collection, analysis, and automatic utilization in property maintenance. | Developed by Caverion\n",
      "\n",
      "Similarity: 0.844 | From: 267 To: 2173\n",
      "→ Source 267 description: KEKO - A world-leading real estate data ecosystem and platform enabling data collection, analysis, and automatic utilization for property maintenance, developed and made available to users starting early 2020. | Developed by KONE\n",
      "→ Source 2173 description: KEKO - A platform ecosystem developed for combining and utilizing real estate data to enhance smart building management and operations. | Developed by Halton\n",
      "\n",
      "Similarity: 0.882 | From: 267 To: 2174\n",
      "→ Source 267 description: KEKO - A world-leading real estate data ecosystem and platform enabling data collection, analysis, and automatic utilization for property maintenance, developed and made available to users starting early 2020. | Developed by KONE\n",
      "→ Source 2174 description: KEKO Ecosystem - A data platform ecosystem developed to efficiently utilize real estate data, enabling smarter building management and user-centered indoor environments. | Developed by Halton\n",
      "\n",
      "Similarity: 0.894 | From: 267 To: 2175\n",
      "→ Source 267 description: KEKO - A world-leading real estate data ecosystem and platform enabling data collection, analysis, and automatic utilization for property maintenance, developed and made available to users starting early 2020. | Developed by KONE\n",
      "→ Source 2175 description: KEKO ecosystem project - A platform created by leading organizations to leverage real estate data by combining expertise to promote the use of building data for improved property management and smart buildings. | Developed by Halton\n",
      "\n",
      "Similarity: 0.815 | From: 267 To: 2211\n",
      "→ Source 267 description: KEKO - A world-leading real estate data ecosystem and platform enabling data collection, analysis, and automatic utilization for property maintenance, developed and made available to users starting early 2020. | Developed by KONE\n",
      "→ Source 2211 description: KEKO Ecosystem - KEKO is an ecosystem developed to create an efficient and dynamic platform for utilizing real estate data, enabling holistic human-centered indoor environments combining smart comfort, safety, environmental friendliness, and economy. | Developed by Halton\n",
      "\n",
      "Similarity: 0.868 | From: 267 To: 2212\n",
      "→ Source 267 description: KEKO - A world-leading real estate data ecosystem and platform enabling data collection, analysis, and automatic utilization for property maintenance, developed and made available to users starting early 2020. | Developed by KONE\n",
      "→ Source 2212 description: KEKO-ekosysteemihankkeessa - An ecosystem platform developed for effective and dynamic utilization of real estate data, enabling integrated management of building data across different systems. | Developed by Halton\n",
      "\n",
      "Similarity: 0.898 | From: 267 To: 2213\n",
      "→ Source 267 description: KEKO - A world-leading real estate data ecosystem and platform enabling data collection, analysis, and automatic utilization for property maintenance, developed and made available to users starting early 2020. | Developed by KONE\n",
      "→ Source 2213 description: KEKO ecosystem project - A platform created to leverage real estate data by combining expertise from leading organizations to promote data-driven property management and smart buildings. | Developed by Halton\n",
      "\n",
      "Similarity: 0.857 | From: 267 To: 2214\n",
      "→ Source 267 description: KEKO - A world-leading real estate data ecosystem and platform enabling data collection, analysis, and automatic utilization for property maintenance, developed and made available to users starting early 2020. | Developed by KONE\n",
      "→ Source 2214 description: KEKO ecosystem - A platform that provides actors of all sizes easy access to real estate data from various systems through a single platform to create holistic, human-centric indoor environments. | Developed by Halton\n",
      "\n",
      "Similarity: 0.870 | From: 267 To: 2215\n",
      "→ Source 267 description: KEKO - A world-leading real estate data ecosystem and platform enabling data collection, analysis, and automatic utilization for property maintenance, developed and made available to users starting early 2020. | Developed by KONE\n",
      "→ Source 2215 description: KEKO ecosystem project - A platform ecosystem developed around building data to leverage real estate data by combining expertise from leading organizations, aimed to improve data-driven property management and smart buildings. | Developed by Halton\n",
      "\n",
      "Similarity: 0.808 | From: 267 To: 2265\n",
      "→ Source 267 description: KEKO - A world-leading real estate data ecosystem and platform enabling data collection, analysis, and automatic utilization for property maintenance, developed and made available to users starting early 2020. | Developed by KONE\n",
      "→ Source 2265 description: KEKO-ekosysteemi - A new ecosystem and digital platform developed to collect, analyze and automatically utilize building data for maintenance, enhancing comfort, productivity, and environmental friendliness of properties. | Developed by Caverion\n"
     ]
    },
    {
     "name": "stderr",
     "output_type": "stream",
     "text": [
      "  8%|▊         | 267/3416 [06:13<1:11:13,  1.36s/it]"
     ]
    },
    {
     "name": "stdout",
     "output_type": "stream",
     "text": [
      "\n",
      "Similarity: 0.855 | From: 267 To: 3177\n",
      "→ Source 267 description: KEKO - A world-leading real estate data ecosystem and platform enabling data collection, analysis, and automatic utilization for property maintenance, developed and made available to users starting early 2020. | Developed by KONE\n",
      "→ Source 3177 description: KEKO ecosystem project - A platform for leveraging real estate data that combines expertise from leading organizations to promote the use of real estate data and create holistic, human-centric indoor environments. | Developed by Halton\n",
      "\n",
      "Similarity: 0.879 | From: 268 To: 309\n",
      "→ Source 268 description: Thermocell-materiaalin - A thermoplastic material made entirely from renewable ingredients developed by VTT, usable as a plastic substitute in packaging, such as food packaging, due to its thermoplastic properties. | Developed by VTT\n",
      "→ Source 309 description: Thermocell material - A plastic-like, thermoplastic cellulose material developed by VTT using cellulose and fatty acids, usable as food packaging with thermoformable properties similar to plastic. | Developed by VTT\n",
      "\n",
      "Similarity: 0.815 | From: 268 To: 1173\n",
      "→ Source 268 description: Thermocell-materiaalin - A thermoplastic material made entirely from renewable ingredients developed by VTT, usable as a plastic substitute in packaging, such as food packaging, due to its thermoplastic properties. | Developed by VTT\n",
      "→ Source 1173 description: Thermocell - A completely renewable plastic produced from cellulose and biobased fatty acids developed by VTT, suitable for various applications including molding, film extrusion, paper and board coating, and 3D printing. | Developed by VTT\n",
      "\n",
      "Similarity: 0.844 | From: 268 To: 1176\n",
      "→ Source 268 description: Thermocell-materiaalin - A thermoplastic material made entirely from renewable ingredients developed by VTT, usable as a plastic substitute in packaging, such as food packaging, due to its thermoplastic properties. | Developed by VTT\n",
      "→ Source 1176 description: Thermocell - Thermocell is a plastic material developed by VTT made from cellulose and bio-based fatty acids, suitable for injection molding, film extrusion, coating of paper and paperboard, and 3D printing offering a renewable and sustainable alternative for multi-layered plastic packaging. | Developed by VTT Technical Research Centre of Finland Ltd\n"
     ]
    },
    {
     "name": "stderr",
     "output_type": "stream",
     "text": [
      "  8%|▊         | 268/3416 [06:15<1:10:43,  1.35s/it]"
     ]
    },
    {
     "name": "stdout",
     "output_type": "stream",
     "text": [
      "\n",
      "Similarity: 0.928 | From: 269 To: 270\n",
      "→ Source 269 description: Digitalising and 3D printing spare parts - Innovation involving the digitalisation and 3D printing of spare parts to enable manufacturing anywhere and anytime, leading to more sustainable business and reducing the carbon footprint of industry. | Developed by VTT\n",
      "→ Source 270 description: Digitalisation of spare parts - An innovation involving the use of digital data to enable 3D printing of spare parts, improving sustainability, reducing costs and carbon footprint, and enhancing availability with quicker access. | Developed by Business Finland\n",
      "\n",
      "Similarity: 0.885 | From: 269 To: 271\n",
      "→ Source 269 description: Digitalising and 3D printing spare parts - Innovation involving the digitalisation and 3D printing of spare parts to enable manufacturing anywhere and anytime, leading to more sustainable business and reducing the carbon footprint of industry. | Developed by VTT\n",
      "→ Source 271 description: 3D printing spare parts - A process innovation enabling quick, cost-effective production of individual or small series of spare parts using 3D printing based on digital data, allowing manufacturing near end users and reducing need for physical storage. | Developed by Business Finland\n",
      "\n",
      "Similarity: 0.834 | From: 269 To: 2319\n",
      "→ Source 269 description: Digitalising and 3D printing spare parts - Innovation involving the digitalisation and 3D printing of spare parts to enable manufacturing anywhere and anytime, leading to more sustainable business and reducing the carbon footprint of industry. | Developed by VTT\n",
      "→ Source 2319 description: 3D metal printing of spare parts - Innovation involving the use of 3D metal printing technology to produce spare parts, enabling new manufacturing methods and design freedoms in marine and energy sectors. | Developed by WÄrtsilÄ\n"
     ]
    },
    {
     "name": "stderr",
     "output_type": "stream",
     "text": [
      "  8%|▊         | 269/3416 [06:16<1:10:19,  1.34s/it]"
     ]
    },
    {
     "name": "stdout",
     "output_type": "stream",
     "text": [
      "\n",
      "Similarity: 0.818 | From: 269 To: 3323\n",
      "→ Source 269 description: Digitalising and 3D printing spare parts - Innovation involving the digitalisation and 3D printing of spare parts to enable manufacturing anywhere and anytime, leading to more sustainable business and reducing the carbon footprint of industry. | Developed by VTT\n",
      "→ Source 3323 description: 3D metal printing of spare parts - The production of spare parts using 3D metal printing technology, enabling new manufacturing approaches and market delivery by Wärtsilä. | Developed by Wärtsilä\n",
      "\n",
      "Similarity: 0.853 | From: 270 To: 271\n",
      "→ Source 270 description: Digitalisation of spare parts - An innovation involving the use of digital data to enable 3D printing of spare parts, improving sustainability, reducing costs and carbon footprint, and enhancing availability with quicker access. | Developed by Business Finland\n",
      "→ Source 271 description: 3D printing spare parts - A process innovation enabling quick, cost-effective production of individual or small series of spare parts using 3D printing based on digital data, allowing manufacturing near end users and reducing need for physical storage. | Developed by Business Finland\n"
     ]
    },
    {
     "name": "stderr",
     "output_type": "stream",
     "text": [
      "  8%|▊         | 270/3416 [06:18<1:11:15,  1.36s/it]"
     ]
    },
    {
     "name": "stdout",
     "output_type": "stream",
     "text": [
      "\n",
      "Similarity: 0.857 | From: 271 To: 2319\n",
      "→ Source 271 description: 3D printing spare parts - A process innovation enabling quick, cost-effective production of individual or small series of spare parts using 3D printing based on digital data, allowing manufacturing near end users and reducing need for physical storage. | Developed by Business Finland\n",
      "→ Source 2319 description: 3D metal printing of spare parts - Innovation involving the use of 3D metal printing technology to produce spare parts, enabling new manufacturing methods and design freedoms in marine and energy sectors. | Developed by WÄrtsilÄ\n"
     ]
    },
    {
     "name": "stderr",
     "output_type": "stream",
     "text": [
      "  8%|▊         | 271/3416 [06:19<1:11:08,  1.36s/it]"
     ]
    },
    {
     "name": "stdout",
     "output_type": "stream",
     "text": [
      "\n",
      "Similarity: 0.833 | From: 271 To: 3323\n",
      "→ Source 271 description: 3D printing spare parts - A process innovation enabling quick, cost-effective production of individual or small series of spare parts using 3D printing based on digital data, allowing manufacturing near end users and reducing need for physical storage. | Developed by Business Finland\n",
      "→ Source 3323 description: 3D metal printing of spare parts - The production of spare parts using 3D metal printing technology, enabling new manufacturing approaches and market delivery by Wärtsilä. | Developed by Wärtsilä\n"
     ]
    },
    {
     "name": "stderr",
     "output_type": "stream",
     "text": [
      "  8%|▊         | 275/3416 [06:24<1:10:12,  1.34s/it]"
     ]
    },
    {
     "name": "stdout",
     "output_type": "stream",
     "text": [
      "\n",
      "Similarity: 0.876 | From: 276 To: 277\n",
      "→ Source 276 description: Breaking down FODMAPs in plant-based foods with enzymes - An enzymatic method developed through a study involving VTT and Finnish companies to reduce poorly digestible FODMAP compounds, making plant-based foods more stomach-friendly. | Developed by VTT\n",
      "→ Source 277 description: FODMAP-Reducing Enzyme Treatment for Plant-Based Foods - An innovative enzyme treatment process developed by VTT and Finnish companies to break down FODMAP compounds in plant-based foods, producing new gut-friendly plant-based food products. | Developed by VTT\n"
     ]
    },
    {
     "name": "stderr",
     "output_type": "stream",
     "text": [
      "  8%|▊         | 277/3416 [06:27<1:11:01,  1.36s/it]"
     ]
    },
    {
     "name": "stdout",
     "output_type": "stream",
     "text": [
      "\n",
      "Similarity: 0.836 | From: 278 To: 279\n",
      "→ Source 278 description: BeLight-hankkeen tarkoituksena on kehittaa biopohjaisia ja mahdollisesti myos biohajoavia ratkaisuja keveille vaahtomaisille rakenteille. - BeLight project develops biobased and possibly biodegradable solutions for lightweight foam-like structures suitable for packaging and construction industry applications. | Developed by VTT\n",
      "→ Source 279 description: BeLight project biobased and possibly biodegradable solutions to lightweight foamy structures - Biobased and biodegradable solutions for lightweight foamy structures developed for packaging and construction industry to promote circular economy and substitute fossil raw materials. | Developed by VTT\n",
      "\n",
      "Similarity: 0.885 | From: 278 To: 2027\n",
      "→ Source 278 description: BeLight-hankkeen tarkoituksena on kehittaa biopohjaisia ja mahdollisesti myos biohajoavia ratkaisuja keveille vaahtomaisille rakenteille. - BeLight project develops biobased and possibly biodegradable solutions for lightweight foam-like structures suitable for packaging and construction industry applications. | Developed by VTT\n",
      "→ Source 2027 description: BeLight project - A project focused on developing biobased and possibly biodegradable lightweight foamy structures, including material, process, and application development promoting circular economy in building and packaging industries. | Developed by VTT Technical Research Centre of Finland Ltd\n",
      "\n",
      "Similarity: 0.863 | From: 278 To: 2030\n",
      "→ Source 278 description: BeLight-hankkeen tarkoituksena on kehittaa biopohjaisia ja mahdollisesti myos biohajoavia ratkaisuja keveille vaahtomaisille rakenteille. - BeLight project develops biobased and possibly biodegradable solutions for lightweight foam-like structures suitable for packaging and construction industry applications. | Developed by VTT\n",
      "→ Source 2030 description: BeLight project bio-based, lightweight and recyclable materials - An innovation developed by the BeLight project focusing on bio-based, lightweight, and recyclable materials for packaging and construction industries. | Developed by VTT Technical Research Centre of Finland (VTT)\n",
      "\n",
      "Similarity: 0.887 | From: 278 To: 2743\n",
      "→ Source 278 description: BeLight-hankkeen tarkoituksena on kehittaa biopohjaisia ja mahdollisesti myos biohajoavia ratkaisuja keveille vaahtomaisille rakenteille. - BeLight project develops biobased and possibly biodegradable solutions for lightweight foam-like structures suitable for packaging and construction industry applications. | Developed by VTT\n",
      "→ Source 2743 description: BeLight biobased and biodegradable lightweight foamy structures - Biobased and possibly biodegradable lightweight foamy structures developed to promote circular economy in building and packaging industries, involving material, process, and application development. | Developed by VTT Technical Research Centre of Finland Ltd\n",
      "\n",
      "Similarity: 0.909 | From: 278 To: 2747\n",
      "→ Source 278 description: BeLight-hankkeen tarkoituksena on kehittaa biopohjaisia ja mahdollisesti myos biohajoavia ratkaisuja keveille vaahtomaisille rakenteille. - BeLight project develops biobased and possibly biodegradable solutions for lightweight foam-like structures suitable for packaging and construction industry applications. | Developed by VTT\n",
      "→ Source 2747 description: BeLight project develops bio-based, lightweight and recyclable materials to packaging and construction industry - An innovation of bio-based, lightweight, and recyclable materials developed for packaging and construction industry applications, involving new materials to substitute foamy structures currently made from fossil raw materials. | Developed by VTT Technical Research Centre of Finland (VTT)\n"
     ]
    },
    {
     "name": "stderr",
     "output_type": "stream",
     "text": [
      "  8%|▊         | 278/3416 [06:28<1:11:49,  1.37s/it]"
     ]
    },
    {
     "name": "stdout",
     "output_type": "stream",
     "text": [
      "\n",
      "Similarity: 0.915 | From: 279 To: 2027\n",
      "→ Source 279 description: BeLight project biobased and possibly biodegradable solutions to lightweight foamy structures - Biobased and biodegradable solutions for lightweight foamy structures developed for packaging and construction industry to promote circular economy and substitute fossil raw materials. | Developed by VTT\n",
      "→ Source 2027 description: BeLight project - A project focused on developing biobased and possibly biodegradable lightweight foamy structures, including material, process, and application development promoting circular economy in building and packaging industries. | Developed by VTT Technical Research Centre of Finland Ltd\n",
      "\n",
      "Similarity: 0.932 | From: 279 To: 2743\n",
      "→ Source 279 description: BeLight project biobased and possibly biodegradable solutions to lightweight foamy structures - Biobased and biodegradable solutions for lightweight foamy structures developed for packaging and construction industry to promote circular economy and substitute fossil raw materials. | Developed by VTT\n",
      "→ Source 2743 description: BeLight biobased and biodegradable lightweight foamy structures - Biobased and possibly biodegradable lightweight foamy structures developed to promote circular economy in building and packaging industries, involving material, process, and application development. | Developed by VTT Technical Research Centre of Finland Ltd\n",
      "\n",
      "Similarity: 0.870 | From: 279 To: 2747\n",
      "→ Source 279 description: BeLight project biobased and possibly biodegradable solutions to lightweight foamy structures - Biobased and biodegradable solutions for lightweight foamy structures developed for packaging and construction industry to promote circular economy and substitute fossil raw materials. | Developed by VTT\n",
      "→ Source 2747 description: BeLight project develops bio-based, lightweight and recyclable materials to packaging and construction industry - An innovation of bio-based, lightweight, and recyclable materials developed for packaging and construction industry applications, involving new materials to substitute foamy structures currently made from fossil raw materials. | Developed by VTT Technical Research Centre of Finland (VTT)\n"
     ]
    },
    {
     "name": "stderr",
     "output_type": "stream",
     "text": [
      "  8%|▊         | 279/3416 [06:30<1:10:38,  1.35s/it]"
     ]
    },
    {
     "name": "stdout",
     "output_type": "stream",
     "text": [
      "\n",
      "Similarity: 0.891 | From: 280 To: 542\n",
      "→ Source 280 description: FI28721168 - Solar Foods is an innovation producing edible protein using carbon dioxide captured from air. | Developed by VTT Technical Research Centre of Finland Ltd\n",
      "→ Source 542 description: Solar Foods innovation - Innovation of producing food protein from carbon dioxide and renewable energy for sustainable food production by Solar Foods. | Developed by Solar Foods\n",
      "\n",
      "Similarity: 0.803 | From: 280 To: 559\n",
      "→ Source 280 description: FI28721168 - Solar Foods is an innovation producing edible protein using carbon dioxide captured from air. | Developed by VTT Technical Research Centre of Finland Ltd\n",
      "→ Source 559 description: Solar Foods protein production technology - A protein production technology developed jointly by VTT and LUT University that produces protein from carbon dioxide, making it resource-wise and accessible. | Developed by VTT\n",
      "\n",
      "Similarity: 0.835 | From: 280 To: 780\n",
      "→ Source 280 description: FI28721168 - Solar Foods is an innovation producing edible protein using carbon dioxide captured from air. | Developed by VTT Technical Research Centre of Finland Ltd\n",
      "→ Source 780 description: Solar Foods Factory 01 - A production facility where food ingredients are manufactured from CO2, representing a novel approach to food production. | Developed by VTT Technical Research Centre of Finland Ltd\n",
      "\n",
      "Similarity: 0.839 | From: 280 To: 1420\n",
      "→ Source 280 description: FI28721168 - Solar Foods is an innovation producing edible protein using carbon dioxide captured from air. | Developed by VTT Technical Research Centre of Finland Ltd\n",
      "→ Source 1420 description: Solar Foods's protein product - A carbon-dioxide free protein product produced by Solar Foods using microbes grown on CO2 and electricity, intended as a substitute for meat and to provide tailored nutrition without relying on crop farming or methane-generating livestock. | Developed by Solar Foods Ltd\n"
     ]
    },
    {
     "name": "stderr",
     "output_type": "stream",
     "text": [
      "  8%|▊         | 280/3416 [06:31<1:10:11,  1.34s/it]"
     ]
    },
    {
     "name": "stdout",
     "output_type": "stream",
     "text": [
      "\n",
      "Similarity: 0.809 | From: 281 To: 545\n",
      "→ Source 281 description: FI29126256 - IQM is an innovation developing Finland's first functional quantum computer. | Developed by VTT Technical Research Centre of Finland Ltd\n",
      "→ Source 545 description: IQM quantum computing innovation - Innovation of building quantum computers enabling a quantum leap in data processing developed by IQM. | Developed by IQM\n"
     ]
    },
    {
     "name": "stderr",
     "output_type": "stream",
     "text": [
      "  8%|▊         | 281/3416 [06:32<1:09:55,  1.34s/it]"
     ]
    },
    {
     "name": "stdout",
     "output_type": "stream",
     "text": [
      "\n",
      "Similarity: 0.957 | From: 282 To: 342\n",
      "→ Source 282 description: Finland's first quantum computer - Finland's first quantum computer, the first of its kind built in Finland announced as ready to begin building by VTT and IQM. | Developed by VTT\n",
      "→ Source 342 description: Finland's first quantum computer - Finland's first quantum computer that VTT is ready to begin building together with IQM, announced in November 2020. | Developed by VTT\n",
      "\n",
      "Similarity: 0.951 | From: 282 To: 349\n",
      "→ Source 282 description: Finland's first quantum computer - Finland's first quantum computer, the first of its kind built in Finland announced as ready to begin building by VTT and IQM. | Developed by VTT\n",
      "→ Source 349 description: Finland’s first quantum computer - The first quantum computer to be acquired and built in Finland, intended to provide unprecedented computing power and enable new applications in quantum technology. | Developed by VTT Technical Research Centre of Finland\n",
      "\n",
      "Similarity: 0.848 | From: 282 To: 447\n",
      "→ Source 282 description: Finland's first quantum computer - Finland's first quantum computer, the first of its kind built in Finland announced as ready to begin building by VTT and IQM. | Developed by VTT\n",
      "→ Source 447 description: Suomen ensimmäinen kvanttitietokone - The first quantum computer built in Finland, a significant new computing technology delivered and operational with 5 qubits. | Developed by VTT\n",
      "\n",
      "Similarity: 0.801 | From: 282 To: 525\n",
      "→ Source 282 description: Finland's first quantum computer - Finland's first quantum computer, the first of its kind built in Finland announced as ready to begin building by VTT and IQM. | Developed by VTT\n",
      "→ Source 525 description: Suomen ensimmäinen kvanttitietokone - Finland's first operational quantum computer, a five-qubit device built to advance scalable quantum computing and quantum ecosystem development. | Developed by VTT\n",
      "\n",
      "Similarity: 0.827 | From: 282 To: 795\n",
      "→ Source 282 description: Finland's first quantum computer - Finland's first quantum computer, the first of its kind built in Finland announced as ready to begin building by VTT and IQM. | Developed by VTT\n",
      "→ Source 795 description: VTT's quantum computing platform - Finland's first quantum computer, a 5 qubit superconductive quantum computer co-developed with the Finnish start-up IQM and launched in 2021, with plans to upgrade to 20-qubit quantum computer soon and 50-qubit in 2024. | Developed by VTT\n",
      "\n",
      "Similarity: 0.944 | From: 282 To: 1087\n",
      "→ Source 282 description: Finland's first quantum computer - Finland's first quantum computer, the first of its kind built in Finland announced as ready to begin building by VTT and IQM. | Developed by VTT\n",
      "→ Source 1087 description: Finland’s first quantum computer - The first quantum computer built in Finland, a 5-qubit quantum computer demonstrated by end of 2021, progressing towards a 50-qubit device by 2024. | Developed by VTT\n",
      "\n",
      "Similarity: 0.921 | From: 282 To: 1286\n",
      "→ Source 282 description: Finland's first quantum computer - Finland's first quantum computer, the first of its kind built in Finland announced as ready to begin building by VTT and IQM. | Developed by VTT\n",
      "→ Source 1286 description: Finland's first quantum computer - The first quantum computer built in Finland, located in Otaniemi. | Developed by VTT Technical Research Centre of Finland Ltd\n"
     ]
    },
    {
     "name": "stderr",
     "output_type": "stream",
     "text": [
      "  8%|▊         | 282/3416 [06:34<1:09:37,  1.33s/it]"
     ]
    },
    {
     "name": "stdout",
     "output_type": "stream",
     "text": [
      "\n",
      "Similarity: 0.913 | From: 283 To: 1319\n",
      "→ Source 283 description: Forest Flux platform service - The first ever platform service that produces information on forest resources and carbon sequestration using satellite images, made available to users to support responsible forest management. | Developed by VTT\n",
      "→ Source 1319 description: Forest Flux service - A new commercial service for assessing forest carbon stocks and carbon sequestration based on Sentinel-2 satellite imagery and cloud computing, developed by VTT and partners. | Developed by VTT\n",
      "\n",
      "Similarity: 0.895 | From: 283 To: 1320\n",
      "→ Source 283 description: Forest Flux platform service - The first ever platform service that produces information on forest resources and carbon sequestration using satellite images, made available to users to support responsible forest management. | Developed by VTT\n",
      "→ Source 1320 description: Forest Flux - A commercial service and platform created by VTT for assessing forest carbon storage and sequestration using Sentinel-2 satellite imagery and cloud computing. | Developed by VTT\n"
     ]
    },
    {
     "name": "stderr",
     "output_type": "stream",
     "text": [
      "  8%|▊         | 283/3416 [06:35<1:08:54,  1.32s/it]"
     ]
    },
    {
     "name": "stdout",
     "output_type": "stream",
     "text": [
      "\n",
      "Similarity: 0.955 | From: 284 To: 285\n",
      "→ Source 284 description: liquid organic hydrogen carriers (LOHCs) - A novel technology concept for storing hydrogen by chemically binding it in liquids that can reversibly hydrogenate and dehydrogenate to store and release hydrogen efficiently. | Developed by VTT Technical Research Centre of Finland Ltd\n",
      "→ Source 285 description: liquid organic hydrogen carriers (LOHC) - A novel hydrogen storage technology using liquids to chemically bind hydrogen for flexible storage times and capacities. | Developed by Fortum\n"
     ]
    },
    {
     "name": "stderr",
     "output_type": "stream",
     "text": [
      "  8%|▊         | 288/3416 [06:42<1:09:42,  1.34s/it]"
     ]
    },
    {
     "name": "stdout",
     "output_type": "stream",
     "text": [
      "\n",
      "Similarity: 0.879 | From: 289 To: 290\n",
      "→ Source 289 description: BATTRACE-hankkeen tutkimushanke - A research project aiming to advance sustainable production processes and traceability of battery materials by developing methods for tracking production chains from mine to battery factory and optimizing metal production processes for the battery industry. | Developed by VTT\n",
      "→ Source 290 description: BATTRACE-hanke - BATTRACE is a project focused on traceability of battery materials and sustainable production processes to develop ecological, social, and economically sustainable battery supply chains. | Developed by Keliber\n"
     ]
    },
    {
     "name": "stderr",
     "output_type": "stream",
     "text": [
      "  8%|▊         | 290/3416 [06:44<1:10:01,  1.34s/it]"
     ]
    },
    {
     "name": "stdout",
     "output_type": "stream",
     "text": [
      "\n",
      "Similarity: 0.809 | From: 291 To: 1757\n",
      "→ Source 291 description: SunZeb solution - An innovative smart energy heating solution developed to provide heating energy by combining quality residence with efficient energy consumption and increased use of renewable energy through recycling energy flows and reducing emissions. | Developed by VTT\n",
      "→ Source 1757 description: SunZeb concept - A versatile energy-efficient residential building concept developed for urban city environments to utilize solar energy as efficiently as possible, converting buildings into renewable energy sources, developed and brought into use as part of buildings in Kalasatama, Helsinki. | Developed by Helen Ltd\n",
      "\n",
      "Similarity: 0.860 | From: 291 To: 2551\n",
      "→ Source 291 description: SunZeb solution - An innovative smart energy heating solution developed to provide heating energy by combining quality residence with efficient energy consumption and increased use of renewable energy through recycling energy flows and reducing emissions. | Developed by VTT\n",
      "→ Source 2551 description: SunZeb - An innovative energy concept where buildings operate as renewable energy sources, developed by VTT and Helen to efficiently utilize solar energy and reduce overheating in buildings. | Developed by Helen\n"
     ]
    },
    {
     "name": "stderr",
     "output_type": "stream",
     "text": [
      "  9%|▊         | 292/3416 [06:47<1:09:55,  1.34s/it]"
     ]
    },
    {
     "name": "stdout",
     "output_type": "stream",
     "text": [
      "\n",
      "Similarity: 0.896 | From: 293 To: 1773\n",
      "→ Source 293 description: KEKO ecosystem - A smart building data ecosystem and platform developed to integrate technical building systems data into a single platform to improve comfort, productivity, and sustainability. | Developed by KONE\n",
      "→ Source 1773 description: KEKO ecosystem - A shared platform combining real estate technology applications from multiple organizations to improve building comfort, productivity, and eco-friendliness. | Developed by YIT\n",
      "\n",
      "Similarity: 0.833 | From: 293 To: 2026\n",
      "→ Source 293 description: KEKO ecosystem - A smart building data ecosystem and platform developed to integrate technical building systems data into a single platform to improve comfort, productivity, and sustainability. | Developed by KONE\n",
      "→ Source 2026 description: KEKO - A digital ecosystem and platform for property data developed to enable data collection, analysis, and automatic utilization in property maintenance. | Developed by Caverion\n",
      "\n",
      "Similarity: 0.871 | From: 293 To: 2173\n",
      "→ Source 293 description: KEKO ecosystem - A smart building data ecosystem and platform developed to integrate technical building systems data into a single platform to improve comfort, productivity, and sustainability. | Developed by KONE\n",
      "→ Source 2173 description: KEKO - A platform ecosystem developed for combining and utilizing real estate data to enhance smart building management and operations. | Developed by Halton\n",
      "\n",
      "Similarity: 0.944 | From: 293 To: 2174\n",
      "→ Source 293 description: KEKO ecosystem - A smart building data ecosystem and platform developed to integrate technical building systems data into a single platform to improve comfort, productivity, and sustainability. | Developed by KONE\n",
      "→ Source 2174 description: KEKO Ecosystem - A data platform ecosystem developed to efficiently utilize real estate data, enabling smarter building management and user-centered indoor environments. | Developed by Halton\n",
      "\n",
      "Similarity: 0.920 | From: 293 To: 2175\n",
      "→ Source 293 description: KEKO ecosystem - A smart building data ecosystem and platform developed to integrate technical building systems data into a single platform to improve comfort, productivity, and sustainability. | Developed by KONE\n",
      "→ Source 2175 description: KEKO ecosystem project - A platform created by leading organizations to leverage real estate data by combining expertise to promote the use of building data for improved property management and smart buildings. | Developed by Halton\n",
      "\n",
      "Similarity: 0.905 | From: 293 To: 2176\n",
      "→ Source 293 description: KEKO ecosystem - A smart building data ecosystem and platform developed to integrate technical building systems data into a single platform to improve comfort, productivity, and sustainability. | Developed by KONE\n",
      "→ Source 2176 description: KEKO ecosystem project - A dynamic and efficient ecosystem platform that leverages real estate data to create holistic, human-centric indoor environments by combining expertise from leading organizations. | Developed by Halton\n",
      "\n",
      "Similarity: 0.886 | From: 293 To: 2211\n",
      "→ Source 293 description: KEKO ecosystem - A smart building data ecosystem and platform developed to integrate technical building systems data into a single platform to improve comfort, productivity, and sustainability. | Developed by KONE\n",
      "→ Source 2211 description: KEKO Ecosystem - KEKO is an ecosystem developed to create an efficient and dynamic platform for utilizing real estate data, enabling holistic human-centered indoor environments combining smart comfort, safety, environmental friendliness, and economy. | Developed by Halton\n",
      "\n",
      "Similarity: 0.852 | From: 293 To: 2212\n",
      "→ Source 293 description: KEKO ecosystem - A smart building data ecosystem and platform developed to integrate technical building systems data into a single platform to improve comfort, productivity, and sustainability. | Developed by KONE\n",
      "→ Source 2212 description: KEKO-ekosysteemihankkeessa - An ecosystem platform developed for effective and dynamic utilization of real estate data, enabling integrated management of building data across different systems. | Developed by Halton\n",
      "\n",
      "Similarity: 0.912 | From: 293 To: 2213\n",
      "→ Source 293 description: KEKO ecosystem - A smart building data ecosystem and platform developed to integrate technical building systems data into a single platform to improve comfort, productivity, and sustainability. | Developed by KONE\n",
      "→ Source 2213 description: KEKO ecosystem project - A platform created to leverage real estate data by combining expertise from leading organizations to promote data-driven property management and smart buildings. | Developed by Halton\n",
      "\n",
      "Similarity: 0.911 | From: 293 To: 2214\n",
      "→ Source 293 description: KEKO ecosystem - A smart building data ecosystem and platform developed to integrate technical building systems data into a single platform to improve comfort, productivity, and sustainability. | Developed by KONE\n",
      "→ Source 2214 description: KEKO ecosystem - A platform that provides actors of all sizes easy access to real estate data from various systems through a single platform to create holistic, human-centric indoor environments. | Developed by Halton\n",
      "\n",
      "Similarity: 0.926 | From: 293 To: 2215\n",
      "→ Source 293 description: KEKO ecosystem - A smart building data ecosystem and platform developed to integrate technical building systems data into a single platform to improve comfort, productivity, and sustainability. | Developed by KONE\n",
      "→ Source 2215 description: KEKO ecosystem project - A platform ecosystem developed around building data to leverage real estate data by combining expertise from leading organizations, aimed to improve data-driven property management and smart buildings. | Developed by Halton\n",
      "\n",
      "Similarity: 0.826 | From: 293 To: 2265\n",
      "→ Source 293 description: KEKO ecosystem - A smart building data ecosystem and platform developed to integrate technical building systems data into a single platform to improve comfort, productivity, and sustainability. | Developed by KONE\n",
      "→ Source 2265 description: KEKO-ekosysteemi - A new ecosystem and digital platform developed to collect, analyze and automatically utilize building data for maintenance, enhancing comfort, productivity, and environmental friendliness of properties. | Developed by Caverion\n"
     ]
    },
    {
     "name": "stderr",
     "output_type": "stream",
     "text": [
      "  9%|▊         | 293/3416 [06:48<1:09:48,  1.34s/it]"
     ]
    },
    {
     "name": "stdout",
     "output_type": "stream",
     "text": [
      "\n",
      "Similarity: 0.903 | From: 293 To: 3177\n",
      "→ Source 293 description: KEKO ecosystem - A smart building data ecosystem and platform developed to integrate technical building systems data into a single platform to improve comfort, productivity, and sustainability. | Developed by KONE\n",
      "→ Source 3177 description: KEKO ecosystem project - A platform for leveraging real estate data that combines expertise from leading organizations to promote the use of real estate data and create holistic, human-centric indoor environments. | Developed by Halton\n",
      "\n",
      "Similarity: 0.885 | From: 294 To: 2635\n",
      "→ Source 294 description: temp_1118 - An intelligent energy innovation ecosystem coordinating multiple organizations to develop sustainable and commercially viable energy solutions aiding the transition towards a carbon-neutral society. | Developed by VTT\n",
      "→ Source 2635 description: temp_1118 - An innovation ecosystem combining experts, companies, technologies and pilot projects to develop smart energy solutions. | Developed by Aalto-yliopisto\n"
     ]
    },
    {
     "name": "stderr",
     "output_type": "stream",
     "text": [
      "  9%|▊         | 294/3416 [06:50<1:09:29,  1.34s/it]"
     ]
    },
    {
     "name": "stdout",
     "output_type": "stream",
     "text": [
      "\n",
      "Similarity: 0.897 | From: 295 To: 329\n",
      "→ Source 295 description: AEF-kylmätekniikka - Acoustic Extra Freezing technology that forms nanometer-scale ice crystals using acoustic waves to preserve food structure resulting in better taste, doubled shelf life, reduced liquid loss, and cost and energy savings. | Developed by \n",
      "→ Source 329 description: AEF freezing technology - Technology leveraging acoustic waves to form nano-sized ice crystals, preserving food cells intact for better taste, double shelf life, low drip loss, and energy savings. | Developed by \n"
     ]
    },
    {
     "name": "stderr",
     "output_type": "stream",
     "text": [
      "  9%|▊         | 295/3416 [06:51<1:09:39,  1.34s/it]"
     ]
    },
    {
     "name": "stdout",
     "output_type": "stream",
     "text": [
      "\n",
      "Similarity: 0.932 | From: 296 To: 1262\n",
      "→ Source 296 description: FI31331881 - Technology enabling biorefineries to profitably produce valuable protein, single-cell Pekilo mycoprotein, from underutilized dilute side streams. | Developed by \n",
      "→ Source 1262 description: FI31331881 - Technology that enables biorefineries to produce valuable protein, single-cell Pekilo mycoprotein, from underutilized dilute side streams, usable for example as fish feed raw material. | Developed by eniferBio\n"
     ]
    },
    {
     "name": "stderr",
     "output_type": "stream",
     "text": [
      "  9%|▊         | 296/3416 [06:52<1:11:05,  1.37s/it]"
     ]
    },
    {
     "name": "stdout",
     "output_type": "stream",
     "text": [
      "\n",
      "Similarity: 0.933 | From: 297 To: 331\n",
      "→ Source 297 description: FI28319443 - Marketplace and production of insect proteins in fully automated mini-factories located close to customers. | Developed by \n",
      "→ Source 331 description: FI28319443 - Marketplace and production of protein products derived from insects with a fully automated mini factory close to customers. | Developed by Entoprot\n"
     ]
    },
    {
     "name": "stderr",
     "output_type": "stream",
     "text": [
      "  9%|▊         | 297/3416 [06:54<1:11:07,  1.37s/it]"
     ]
    },
    {
     "name": "stdout",
     "output_type": "stream",
     "text": [
      "\n",
      "Similarity: 0.983 | From: 298 To: 332\n",
      "→ Source 298 description: temp_1451 - Analog and digital real-time sensors that indicate food status, extending shelf and usage times and reducing waste costs and food waste. | Developed by \n",
      "→ Source 332 description: temp_1451 - Analogue and digital real-time sensor indicating food status to prolong shelf and consumption time, reducing waste costs and food waste. | Developed by Innoscentia\n"
     ]
    },
    {
     "name": "stderr",
     "output_type": "stream",
     "text": [
      "  9%|▊         | 298/3416 [06:55<1:11:03,  1.37s/it]"
     ]
    },
    {
     "name": "stdout",
     "output_type": "stream",
     "text": [
      "\n",
      "Similarity: 0.966 | From: 299 To: 333\n",
      "→ Source 299 description: temp_1450 - Wireless precision irrigation systems optimizing water use, increasing yield by 30%, reducing water use by 50%, and minimizing eutrophication and erosion. | Developed by \n",
      "→ Source 333 description: temp_1450 - Wireless precision irrigation system managing water supply to optimize soil conditions, increase crop yield by 30%, and reduce water usage by 50%. | Developed by IRRIOT\n"
     ]
    },
    {
     "name": "stderr",
     "output_type": "stream",
     "text": [
      "  9%|▉         | 299/3416 [06:56<1:10:35,  1.36s/it]"
     ]
    },
    {
     "name": "stdout",
     "output_type": "stream",
     "text": [
      "\n",
      "Similarity: 0.963 | From: 300 To: 334\n",
      "→ Source 300 description: temp_1452 - Takeaway packaging solutions for nutrition and packaging industries that reduce environmental impacts and improve nutrition service and logistics efficiency. | Developed by \n",
      "→ Source 334 description: temp_1452 - Takeaway packaging solutions for foodservice and packaging industry to reduce environmental impact and increase efficiency of operations. | Developed by Koepala\n"
     ]
    },
    {
     "name": "stderr",
     "output_type": "stream",
     "text": [
      "  9%|▉         | 300/3416 [06:58<1:10:02,  1.35s/it]"
     ]
    },
    {
     "name": "stdout",
     "output_type": "stream",
     "text": [
      "\n",
      "Similarity: 0.962 | From: 301 To: 335\n",
      "→ Source 301 description: temp_1448 - PromycTM fungus-based mycoprotein with excellent nutritional content and cooking properties. | Developed by \n",
      "→ Source 335 description: temp_1448 - PromycTM fungi-based mycoprotein offering excellent nutritional quality and culinary benefits. | Developed by Mycorena\n",
      "\n",
      "Similarity: 0.807 | From: 301 To: 1263\n",
      "→ Source 301 description: temp_1448 - PromycTM fungus-based mycoprotein with excellent nutritional content and cooking properties. | Developed by \n",
      "→ Source 1263 description: Mycorena PromycTM-mykoproteiini - Mycoprotein developed by Mycorena, based on fungus, noted for excellent nutritional content and cooking properties. | Developed by Mycorena\n"
     ]
    },
    {
     "name": "stderr",
     "output_type": "stream",
     "text": [
      "  9%|▉         | 301/3416 [06:59<1:09:30,  1.34s/it]"
     ]
    },
    {
     "name": "stdout",
     "output_type": "stream",
     "text": [
      "\n",
      "Similarity: 0.917 | From: 302 To: 336\n",
      "→ Source 302 description: temp_1449 - Food technology producing fermented and probiotic foods promoting healthy gut and healthier life, including plant-based drinks, smoothies, yogurts, ice creams, gluten-free and easily digestible bread, and plant-based proteins. | Developed by \n",
      "→ Source 336 description: temp_1449 - Food technology for fermented and probiotic foods including plant-based drinks, smoothies, yogurts, ice creams, gluten-free bread, and plant-based proteins. | Developed by Probitat\n"
     ]
    },
    {
     "name": "stderr",
     "output_type": "stream",
     "text": [
      "  9%|▉         | 302/3416 [07:00<1:08:32,  1.32s/it]"
     ]
    },
    {
     "name": "stdout",
     "output_type": "stream",
     "text": [
      "\n",
      "Similarity: 0.965 | From: 303 To: 337\n",
      "→ Source 303 description: FI28721168 - Solein protein produced sustainably using air and electricity as raw materials. | Developed by \n",
      "→ Source 337 description: FI28721168 - Solein protein produced in a sustainable way using air and electricity as raw materials. | Developed by Solar Foods\n"
     ]
    },
    {
     "name": "stderr",
     "output_type": "stream",
     "text": [
      "  9%|▉         | 303/3416 [07:02<1:09:10,  1.33s/it]"
     ]
    },
    {
     "name": "stdout",
     "output_type": "stream",
     "text": [
      "\n",
      "Similarity: 0.903 | From: 304 To: 338\n",
      "→ Source 304 description: temp_1447 - Technology separating durable high-quality proteins from insects for use as feed and food on an industrial scale. | Developed by \n",
      "→ Source 338 description: temp_1447 - Technology extracting sustainable high-quality proteins from insects for feed and food at industrial scale. | Developed by Tebrito\n"
     ]
    },
    {
     "name": "stderr",
     "output_type": "stream",
     "text": [
      "  9%|▉         | 308/3416 [07:08<1:08:47,  1.33s/it]"
     ]
    },
    {
     "name": "stdout",
     "output_type": "stream",
     "text": [
      "\n",
      "Similarity: 0.830 | From: 309 To: 379\n",
      "→ Source 309 description: Thermocell material - A plastic-like, thermoplastic cellulose material developed by VTT using cellulose and fatty acids, usable as food packaging with thermoformable properties similar to plastic. | Developed by VTT\n",
      "→ Source 379 description: Thermocell plastic film - Thermocell plastic film is a thermoplastic material made from cellulose and bio-based fatty acids, developed for use in food packaging with properties comparable to fossil-based plastics. | Developed by VTT\n",
      "\n",
      "Similarity: 0.824 | From: 309 To: 586\n",
      "→ Source 309 description: Thermocell material - A plastic-like, thermoplastic cellulose material developed by VTT using cellulose and fatty acids, usable as food packaging with thermoformable properties similar to plastic. | Developed by VTT\n",
      "→ Source 586 description: Thermocell plastic film - A bioplastic film developed by VTT from modified cellulose fibre, made thermoplastic and processable with existing plastic processing machinery, reaching properties similar to polyethylene for packaging purposes. | Developed by VTT\n",
      "\n",
      "Similarity: 0.864 | From: 309 To: 1173\n",
      "→ Source 309 description: Thermocell material - A plastic-like, thermoplastic cellulose material developed by VTT using cellulose and fatty acids, usable as food packaging with thermoformable properties similar to plastic. | Developed by VTT\n",
      "→ Source 1173 description: Thermocell - A completely renewable plastic produced from cellulose and biobased fatty acids developed by VTT, suitable for various applications including molding, film extrusion, paper and board coating, and 3D printing. | Developed by VTT\n",
      "\n",
      "Similarity: 0.886 | From: 309 To: 1176\n",
      "→ Source 309 description: Thermocell material - A plastic-like, thermoplastic cellulose material developed by VTT using cellulose and fatty acids, usable as food packaging with thermoformable properties similar to plastic. | Developed by VTT\n",
      "→ Source 1176 description: Thermocell - Thermocell is a plastic material developed by VTT made from cellulose and bio-based fatty acids, suitable for injection molding, film extrusion, coating of paper and paperboard, and 3D printing offering a renewable and sustainable alternative for multi-layered plastic packaging. | Developed by VTT Technical Research Centre of Finland Ltd\n",
      "\n",
      "Similarity: 0.830 | From: 309 To: 1179\n",
      "→ Source 309 description: Thermocell material - A plastic-like, thermoplastic cellulose material developed by VTT using cellulose and fatty acids, usable as food packaging with thermoformable properties similar to plastic. | Developed by VTT\n",
      "→ Source 1179 description: Thermocell plastic film - A cellulose and bio-based fatty acids plastic film developed by VTT as a sustainable packaging material. | Developed by Arla Foods\n"
     ]
    },
    {
     "name": "stderr",
     "output_type": "stream",
     "text": [
      "  9%|▉         | 312/3416 [07:14<1:08:17,  1.32s/it]"
     ]
    },
    {
     "name": "stdout",
     "output_type": "stream",
     "text": [
      "\n",
      "Similarity: 0.838 | From: 313 To: 1227\n",
      "→ Source 313 description: MoPo project - The project targets substantial increase in polystyrene recycling by reshaping collection, handling, and recycling processes. | Developed by VTT\n",
      "→ Source 1227 description: Concept for a circular economy of polystyrene waste - A technically and economically feasible solution for recycling polystyrene developed and made available to users as a result of the MoPo project led by VTT. | Developed by VTT\n"
     ]
    },
    {
     "name": "stderr",
     "output_type": "stream",
     "text": [
      "  9%|▉         | 315/3416 [07:18<1:09:12,  1.34s/it]"
     ]
    },
    {
     "name": "stdout",
     "output_type": "stream",
     "text": [
      "\n",
      "Similarity: 0.891 | From: 316 To: 829\n",
      "→ Source 316 description: EcoSMR project - A Finnish innovation network project to create an international business ecosystem around small modular reactors, developing business opportunities and technological expertise available to potential users. | Developed by VTT Technical Research Centre of Finland Ltd\n",
      "→ Source 829 description: EcoSMR - A Finnish ecosystem for Small Modular Reactors developed to advance business activities and innovative safety solutions related to small modular reactors, completed in 2022 with products and services for sale. | Developed by Fortum Power and Heat Oy\n"
     ]
    },
    {
     "name": "stderr",
     "output_type": "stream",
     "text": [
      "  9%|▉         | 318/3416 [07:22<1:07:40,  1.31s/it]"
     ]
    },
    {
     "name": "stdout",
     "output_type": "stream",
     "text": [
      "\n",
      "Similarity: 0.912 | From: 319 To: 345\n",
      "→ Source 319 description: Älyratikka - An innovative tram system that anticipates dangerous situations and senses the atmosphere using artificial intelligence and sensors to revolutionize the passenger experience. | Developed by Teknologian tutkimuskeskus VTT Oy\n",
      "→ Source 345 description: Älyratikka - Älyratikka is an innovation combining artificial intelligence and sensors to predict dangerous situations and sense the atmosphere, transforming the passenger experience in public transport. | Developed by VTT\n",
      "\n",
      "Similarity: 0.897 | From: 319 To: 404\n",
      "→ Source 319 description: Älyratikka - An innovative tram system that anticipates dangerous situations and senses the atmosphere using artificial intelligence and sensors to revolutionize the passenger experience. | Developed by Teknologian tutkimuskeskus VTT Oy\n",
      "→ Source 404 description: Älyratikka - An AI and sensor-based tram system that anticipates dangerous situations and senses atmosphere, revolutionizing passenger experience. | Developed by VTT\n",
      "\n",
      "Similarity: 0.913 | From: 319 To: 413\n",
      "→ Source 319 description: Älyratikka - An innovative tram system that anticipates dangerous situations and senses the atmosphere using artificial intelligence and sensors to revolutionize the passenger experience. | Developed by Teknologian tutkimuskeskus VTT Oy\n",
      "→ Source 413 description: Älyratikka - An innovation involving artificial intelligence and sensors that predicts dangerous situations and senses the atmosphere to revolutionize the passenger experience. | Developed by VTT\n"
     ]
    },
    {
     "name": "stderr",
     "output_type": "stream",
     "text": [
      "  9%|▉         | 323/3416 [07:28<1:08:18,  1.33s/it]"
     ]
    },
    {
     "name": "stdout",
     "output_type": "stream",
     "text": [
      "\n",
      "Similarity: 0.953 | From: 324 To: 325\n",
      "→ Source 324 description: cellular agriculture - A sustainable food production method using microbes and bioreactors instead of traditional agriculture and animal farming, producing microbiological mass as raw material for food products. | Developed by Solar Foods\n",
      "→ Source 325 description: Cellular agriculture - A novel biotechnological method of producing food using microbes and bioreactors instead of traditional farming, reducing environmental impact significantly. | Developed by VTT\n",
      "\n",
      "Similarity: 0.840 | From: 324 To: 1069\n",
      "→ Source 324 description: cellular agriculture - A sustainable food production method using microbes and bioreactors instead of traditional agriculture and animal farming, producing microbiological mass as raw material for food products. | Developed by Solar Foods\n",
      "→ Source 1069 description: Cellular agriculture - Cellular agriculture involves the use of cell cultures and bioreactors for food production, producing ingredients such as proteins and fats for food and feed industries, contributing to a sustainable and profitable food system in Finland and Europe. | Developed by VTT Technical Research Center of Finland\n"
     ]
    },
    {
     "name": "stderr",
     "output_type": "stream",
     "text": [
      "  9%|▉         | 324/3416 [07:30<1:08:18,  1.33s/it]"
     ]
    },
    {
     "name": "stdout",
     "output_type": "stream",
     "text": [
      "\n",
      "Similarity: 0.847 | From: 325 To: 1069\n",
      "→ Source 325 description: Cellular agriculture - A novel biotechnological method of producing food using microbes and bioreactors instead of traditional farming, reducing environmental impact significantly. | Developed by VTT\n",
      "→ Source 1069 description: Cellular agriculture - Cellular agriculture involves the use of cell cultures and bioreactors for food production, producing ingredients such as proteins and fats for food and feed industries, contributing to a sustainable and profitable food system in Finland and Europe. | Developed by VTT Technical Research Center of Finland\n"
     ]
    },
    {
     "name": "stderr",
     "output_type": "stream",
     "text": [
      " 10%|▉         | 329/3416 [07:36<1:07:54,  1.32s/it]"
     ]
    },
    {
     "name": "stdout",
     "output_type": "stream",
     "text": [
      "\n",
      "Similarity: 0.889 | From: 330 To: 394\n",
      "→ Source 330 description: eniferBio technology - Technology allowing biorefineries to convert underutilized dilute side streams into valuable protein using Pekilo single-cell mycoprotein. | Developed by \n",
      "→ Source 394 description: eniferBio startup technology - Technology developed by the eniferBio startup using bio-based processes to turn underutilized dilute side streams into valuable single-cell Pekilo mycoprotein for fish feed raw material. | Developed by EIT FAN Nordic Hub\n"
     ]
    },
    {
     "name": "stderr",
     "output_type": "stream",
     "text": [
      " 10%|▉         | 336/3416 [07:45<1:07:32,  1.32s/it]"
     ]
    },
    {
     "name": "stdout",
     "output_type": "stream",
     "text": [
      "\n",
      "Similarity: 0.844 | From: 337 To: 593\n",
      "→ Source 337 description: FI28721168 - Solein protein produced in a sustainable way using air and electricity as raw materials. | Developed by Solar Foods\n",
      "→ Source 593 description: Solein - A nutrient-rich protein produced by Solar Foods using fermentation, air, and electricity, representing a natural and climate-friendly alternative protein source. | Developed by Solar Foods\n",
      "\n",
      "Similarity: 0.826 | From: 337 To: 1419\n",
      "→ Source 337 description: FI28721168 - Solein protein produced in a sustainable way using air and electricity as raw materials. | Developed by Solar Foods\n",
      "→ Source 1419 description: Solar Foods Solein protein production - An innovative method to produce nutrient-rich Solein protein from electricity, air, and fermentation process, developed by Solar Foods, a spin-off company originating from VTT and LUT University research. | Developed by Solar Foods\n"
     ]
    },
    {
     "name": "stderr",
     "output_type": "stream",
     "text": [
      " 10%|▉         | 341/3416 [07:52<1:07:45,  1.32s/it]"
     ]
    },
    {
     "name": "stdout",
     "output_type": "stream",
     "text": [
      "\n",
      "Similarity: 0.913 | From: 342 To: 349\n",
      "→ Source 342 description: Finland's first quantum computer - Finland's first quantum computer that VTT is ready to begin building together with IQM, announced in November 2020. | Developed by VTT\n",
      "→ Source 349 description: Finland’s first quantum computer - The first quantum computer to be acquired and built in Finland, intended to provide unprecedented computing power and enable new applications in quantum technology. | Developed by VTT Technical Research Centre of Finland\n",
      "\n",
      "Similarity: 0.829 | From: 342 To: 447\n",
      "→ Source 342 description: Finland's first quantum computer - Finland's first quantum computer that VTT is ready to begin building together with IQM, announced in November 2020. | Developed by VTT\n",
      "→ Source 447 description: Suomen ensimmäinen kvanttitietokone - The first quantum computer built in Finland, a significant new computing technology delivered and operational with 5 qubits. | Developed by VTT\n",
      "\n",
      "Similarity: 0.815 | From: 342 To: 525\n",
      "→ Source 342 description: Finland's first quantum computer - Finland's first quantum computer that VTT is ready to begin building together with IQM, announced in November 2020. | Developed by VTT\n",
      "→ Source 525 description: Suomen ensimmäinen kvanttitietokone - Finland's first operational quantum computer, a five-qubit device built to advance scalable quantum computing and quantum ecosystem development. | Developed by VTT\n",
      "\n",
      "Similarity: 0.874 | From: 342 To: 795\n",
      "→ Source 342 description: Finland's first quantum computer - Finland's first quantum computer that VTT is ready to begin building together with IQM, announced in November 2020. | Developed by VTT\n",
      "→ Source 795 description: VTT's quantum computing platform - Finland's first quantum computer, a 5 qubit superconductive quantum computer co-developed with the Finnish start-up IQM and launched in 2021, with plans to upgrade to 20-qubit quantum computer soon and 50-qubit in 2024. | Developed by VTT\n",
      "\n",
      "Similarity: 0.818 | From: 342 To: 796\n",
      "→ Source 342 description: Finland's first quantum computer - Finland's first quantum computer that VTT is ready to begin building together with IQM, announced in November 2020. | Developed by VTT\n",
      "→ Source 796 description: VTT's 5 qubit superconductive quantum computer - Finland’s first quantum computer, a 5 qubit superconductive quantum computer co-developed with IQM and launched in 2021 by VTT. | Developed by VTT\n",
      "\n",
      "Similarity: 0.933 | From: 342 To: 1087\n",
      "→ Source 342 description: Finland's first quantum computer - Finland's first quantum computer that VTT is ready to begin building together with IQM, announced in November 2020. | Developed by VTT\n",
      "→ Source 1087 description: Finland’s first quantum computer - The first quantum computer built in Finland, a 5-qubit quantum computer demonstrated by end of 2021, progressing towards a 50-qubit device by 2024. | Developed by VTT\n",
      "\n",
      "Similarity: 0.870 | From: 342 To: 1286\n",
      "→ Source 342 description: Finland's first quantum computer - Finland's first quantum computer that VTT is ready to begin building together with IQM, announced in November 2020. | Developed by VTT\n",
      "→ Source 1286 description: Finland's first quantum computer - The first quantum computer built in Finland, located in Otaniemi. | Developed by VTT Technical Research Centre of Finland Ltd\n",
      "\n",
      "Similarity: 0.806 | From: 342 To: 1862\n",
      "→ Source 342 description: Finland's first quantum computer - Finland's first quantum computer that VTT is ready to begin building together with IQM, announced in November 2020. | Developed by VTT\n",
      "→ Source 1862 description: suomen ensimmäinen kvanttitietokone - The first quantum computer in Finland that offers high-performance computing capacity for companies and universities, benefiting fields like natural sciences and genetic research. | Developed by teknologian tutkimuskeskus VTT\n",
      "\n",
      "Similarity: 0.805 | From: 342 To: 2297\n",
      "→ Source 342 description: Finland's first quantum computer - Finland's first quantum computer that VTT is ready to begin building together with IQM, announced in November 2020. | Developed by VTT\n",
      "→ Source 2297 description: VTT:n kvanttitietokone - The first functional quantum computer in Finland built by VTT together with IQM, currently running with five qubits. | Developed by VTT\n"
     ]
    },
    {
     "name": "stderr",
     "output_type": "stream",
     "text": [
      " 10%|█         | 343/3416 [07:55<1:08:26,  1.34s/it]"
     ]
    },
    {
     "name": "stdout",
     "output_type": "stream",
     "text": [
      "\n",
      "Similarity: 0.868 | From: 344 To: 1416\n",
      "→ Source 344 description: MedPhab pilot-line - A dedicated photonics pilot-line for medical diagnostics established under Horizon 2020 to accelerate commercialization of diagnostic devices and instruments for treatment based on photonics. | Developed by VTT Technical Research Centre of Finland Ltd\n",
      "→ Source 1416 description: Medphab-pilottilinja - Medphab pilot line for photonics-based diagnostic and treatment devices to accelerate commercialization and reduce R&D costs. | Developed by VTT\n"
     ]
    },
    {
     "name": "stderr",
     "output_type": "stream",
     "text": [
      " 10%|█         | 344/3416 [07:56<1:09:06,  1.35s/it]"
     ]
    },
    {
     "name": "stdout",
     "output_type": "stream",
     "text": [
      "\n",
      "Similarity: 0.959 | From: 345 To: 413\n",
      "→ Source 345 description: Älyratikka - Älyratikka is an innovation combining artificial intelligence and sensors to predict dangerous situations and sense the atmosphere, transforming the passenger experience in public transport. | Developed by VTT\n",
      "→ Source 413 description: Älyratikka - An innovation involving artificial intelligence and sensors that predicts dangerous situations and senses the atmosphere to revolutionize the passenger experience. | Developed by VTT\n"
     ]
    },
    {
     "name": "stderr",
     "output_type": "stream",
     "text": [
      " 10%|█         | 348/3416 [08:02<1:07:49,  1.33s/it]"
     ]
    },
    {
     "name": "stdout",
     "output_type": "stream",
     "text": [
      "\n",
      "Similarity: 0.878 | From: 349 To: 447\n",
      "→ Source 349 description: Finland’s first quantum computer - The first quantum computer to be acquired and built in Finland, intended to provide unprecedented computing power and enable new applications in quantum technology. | Developed by VTT Technical Research Centre of Finland\n",
      "→ Source 447 description: Suomen ensimmäinen kvanttitietokone - The first quantum computer built in Finland, a significant new computing technology delivered and operational with 5 qubits. | Developed by VTT\n",
      "\n",
      "Similarity: 0.840 | From: 349 To: 525\n",
      "→ Source 349 description: Finland’s first quantum computer - The first quantum computer to be acquired and built in Finland, intended to provide unprecedented computing power and enable new applications in quantum technology. | Developed by VTT Technical Research Centre of Finland\n",
      "→ Source 525 description: Suomen ensimmäinen kvanttitietokone - Finland's first operational quantum computer, a five-qubit device built to advance scalable quantum computing and quantum ecosystem development. | Developed by VTT\n",
      "\n",
      "Similarity: 0.950 | From: 349 To: 1087\n",
      "→ Source 349 description: Finland’s first quantum computer - The first quantum computer to be acquired and built in Finland, intended to provide unprecedented computing power and enable new applications in quantum technology. | Developed by VTT Technical Research Centre of Finland\n",
      "→ Source 1087 description: Finland’s first quantum computer - The first quantum computer built in Finland, a 5-qubit quantum computer demonstrated by end of 2021, progressing towards a 50-qubit device by 2024. | Developed by VTT\n",
      "\n",
      "Similarity: 0.809 | From: 349 To: 1088\n",
      "→ Source 349 description: Finland’s first quantum computer - The first quantum computer to be acquired and built in Finland, intended to provide unprecedented computing power and enable new applications in quantum technology. | Developed by VTT Technical Research Centre of Finland\n",
      "→ Source 1088 description: quantum computer facilities at Micronova - Quantum computer laboratory and infrastructure in Micronova, a joint research infrastructure of VTT and Aalto University in Otaniemi, Espoo, supporting the building of Finland's first quantum computer. | Developed by VTT\n",
      "\n",
      "Similarity: 0.913 | From: 349 To: 1286\n",
      "→ Source 349 description: Finland’s first quantum computer - The first quantum computer to be acquired and built in Finland, intended to provide unprecedented computing power and enable new applications in quantum technology. | Developed by VTT Technical Research Centre of Finland\n",
      "→ Source 1286 description: Finland's first quantum computer - The first quantum computer built in Finland, located in Otaniemi. | Developed by VTT Technical Research Centre of Finland Ltd\n",
      "\n",
      "Similarity: 0.810 | From: 349 To: 1862\n",
      "→ Source 349 description: Finland’s first quantum computer - The first quantum computer to be acquired and built in Finland, intended to provide unprecedented computing power and enable new applications in quantum technology. | Developed by VTT Technical Research Centre of Finland\n",
      "→ Source 1862 description: suomen ensimmäinen kvanttitietokone - The first quantum computer in Finland that offers high-performance computing capacity for companies and universities, benefiting fields like natural sciences and genetic research. | Developed by teknologian tutkimuskeskus VTT\n"
     ]
    },
    {
     "name": "stderr",
     "output_type": "stream",
     "text": [
      " 10%|█         | 349/3416 [08:03<1:08:12,  1.33s/it]"
     ]
    },
    {
     "name": "stdout",
     "output_type": "stream",
     "text": [
      "\n",
      "Similarity: 0.829 | From: 350 To: 1029\n",
      "→ Source 350 description: Globally competitive plant protein based foods from Finland - New healthy, appealing and sustainable plant-based animal protein alternatives developed from domestic raw materials in Finland. | Developed by VTT\n",
      "→ Source 1029 description: FI34642407 - A Finnish biotechnology company aiming to improve the availability of high-quality plant-based proteins and increase Finland's protein self-sufficiency, developed from VTT research. | Developed by VTT\n"
     ]
    },
    {
     "name": "stderr",
     "output_type": "stream",
     "text": [
      " 10%|█         | 350/3416 [08:04<1:08:52,  1.35s/it]"
     ]
    },
    {
     "name": "stdout",
     "output_type": "stream",
     "text": [
      "\n",
      "Similarity: 0.948 | From: 351 To: 352\n",
      "→ Source 351 description: Helppokäyttöiset suojauskeinot pandemioiden varalle ja arkeen - Innovative easy-to-use protective measures developed for use during pandemics and everyday protection, increasing safety against infectious diseases such as seasonal influenza. | Developed by VTT\n",
      "→ Source 352 description: Helppokäyttöiset suojauskeinot pandemioiden varalle ja arkeen - Easy-to-use protection methods for pandemic preparedness and everyday life developed to increase safety during pandemics and normal times such as seasonal influenza. | Developed by VTT\n"
     ]
    },
    {
     "name": "stderr",
     "output_type": "stream",
     "text": [
      " 10%|█         | 354/3416 [08:10<1:08:02,  1.33s/it]"
     ]
    },
    {
     "name": "stdout",
     "output_type": "stream",
     "text": [
      "\n",
      "Similarity: 0.853 | From: 355 To: 930\n",
      "→ Source 355 description: ASPECT-hyperspektrikamera - A hyperspectral camera developed by VTT used on the Milani nanosatellite to measure asteroid mineral composition for the first time in space research history. | Developed by VTT\n",
      "→ Source 930 description: ASPECT hyperspectral camera - A hyperspectral camera developed by VTT to analyze the mineral composition of asteroids, used in ESA's Hera space mission. | Developed by VTT Technical Research Centre of Finland\n",
      "\n",
      "Similarity: 0.944 | From: 355 To: 953\n",
      "→ Source 355 description: ASPECT-hyperspektrikamera - A hyperspectral camera developed by VTT used on the Milani nanosatellite to measure asteroid mineral composition for the first time in space research history. | Developed by VTT\n",
      "→ Source 953 description: ASPECT-hyperspektrikamera - A hyperspectral camera developed by VTT that reveals the precise mineral composition of asteroids and is used in the ESA Hera space mission to study the Didymos-Dimorphos asteroid system. | Developed by VTT\n"
     ]
    },
    {
     "name": "stderr",
     "output_type": "stream",
     "text": [
      " 10%|█         | 355/3416 [08:11<1:07:09,  1.32s/it]"
     ]
    },
    {
     "name": "stdout",
     "output_type": "stream",
     "text": [
      "\n",
      "Similarity: 0.954 | From: 356 To: 357\n",
      "→ Source 356 description: Milani - A nanosatellite carrying the ASPECT hyperspectral camera as its main payload to study asteroid mineral composition as part of ESA and NASA's joint mission. | Developed by Tyvak International\n",
      "→ Source 357 description: Milani nanosatelliitti - A nanosatellite carrying the ASPECT hyperspectral camera, launched in 2024 to study asteroid mineral composition as part of ESA and NASA's mission. | Developed by Tyvak International\n"
     ]
    },
    {
     "name": "stderr",
     "output_type": "stream",
     "text": [
      " 10%|█         | 357/3416 [08:13<1:07:08,  1.32s/it]"
     ]
    },
    {
     "name": "stdout",
     "output_type": "stream",
     "text": [
      "\n",
      "Similarity: 0.810 | From: 358 To: 2276\n",
      "→ Source 358 description: Circular Design Network - An innovation network coordinated by VTT to develop, demonstrate, and commercialize comprehensive circular economy solutions based on shared and processed data. | Developed by Teknologian tutkimuskeskus VTT\n",
      "→ Source 2276 description: Circular Design – a path towards circular economy programme - A unique training programme focusing on circular economy principles for design and practical business solutions, involving multiple companies. | Developed by Stora Enso\n"
     ]
    },
    {
     "name": "stderr",
     "output_type": "stream",
     "text": [
      " 11%|█         | 360/3416 [08:17<1:06:09,  1.30s/it]"
     ]
    },
    {
     "name": "stdout",
     "output_type": "stream",
     "text": [
      "\n",
      "Similarity: 0.834 | From: 361 To: 524\n",
      "→ Source 361 description: CooliBlade technology - A cooling solution developed by Thermal Channel Technologies Oy that is considerably more efficient than current commercial cooling solutions for high-power electronics, featuring a liquid-vapor phase-change phenomenon within an integrated thermal channel inside a durable aluminium structure. | Developed by Thermal Channel Technologies Oy\n",
      "→ Source 524 description: CooliBlade-jäähdytysratkaisu - A significantly more efficient cooling solution for power electronics developed by VTT, improving heat management for devices such as electric vehicle charging systems and 5G base stations. | Developed by VTT\n",
      "\n",
      "Similarity: 0.844 | From: 361 To: 1191\n",
      "→ Source 361 description: CooliBlade technology - A cooling solution developed by Thermal Channel Technologies Oy that is considerably more efficient than current commercial cooling solutions for high-power electronics, featuring a liquid-vapor phase-change phenomenon within an integrated thermal channel inside a durable aluminium structure. | Developed by Thermal Channel Technologies Oy\n",
      "→ Source 1191 description: Cooling Solution for High-power Electronics by CooliBlade - Highly efficient cooling solution for high-power electronics applications limited by heat developed by CooliBlade. | Developed by CooliBlade\n"
     ]
    },
    {
     "name": "stderr",
     "output_type": "stream",
     "text": [
      " 11%|█         | 361/3416 [08:19<1:06:10,  1.30s/it]"
     ]
    },
    {
     "name": "stdout",
     "output_type": "stream",
     "text": [
      "\n",
      "Similarity: 0.908 | From: 361 To: 3070\n",
      "→ Source 361 description: CooliBlade technology - A cooling solution developed by Thermal Channel Technologies Oy that is considerably more efficient than current commercial cooling solutions for high-power electronics, featuring a liquid-vapor phase-change phenomenon within an integrated thermal channel inside a durable aluminium structure. | Developed by Thermal Channel Technologies Oy\n",
      "→ Source 3070 description: CooliBlade technology - A cutting-edge thermal management technology developed by CooliBlade that improves the thermal conductivity of heat sinks up to 1000 times, enhancing reliability and reducing maintenance. | Developed by CooliBlade Oy\n"
     ]
    },
    {
     "name": "stderr",
     "output_type": "stream",
     "text": [
      " 11%|█         | 362/3416 [08:20<1:05:55,  1.30s/it]"
     ]
    },
    {
     "name": "stdout",
     "output_type": "stream",
     "text": [
      "\n",
      "Similarity: 0.841 | From: 363 To: 365\n",
      "→ Source 363 description: Kelmuvex recycling concept - A recycling concept developed by VTT and Finnish companies to recover floating plastic waste from rivers for recycling into construction materials and fuels, piloted in Jakarta, Indonesia. | Developed by VTT\n",
      "→ Source 365 description: Kelmuvex-projektin kiertotalouskonsepti - Kelmuvex project circular economy concept developed to recycle river floating plastic waste in Jakarta into new materials and fuels. | Developed by VTT\n"
     ]
    },
    {
     "name": "stderr",
     "output_type": "stream",
     "text": [
      " 11%|█         | 372/3416 [08:33<1:06:52,  1.32s/it]"
     ]
    },
    {
     "name": "stdout",
     "output_type": "stream",
     "text": [
      "\n",
      "Similarity: 0.813 | From: 373 To: 376\n",
      "→ Source 373 description: BECCU project manufacturing process for climate-friendly polyols - A manufacturing process developed in the BECCU project to produce climate-friendly polyol products from recovered bio-based carbon dioxide and hydrogen, used as raw material for polyurethane. | Developed by Kleener Power Solutions Oy\n",
      "→ Source 376 description: BECCU-hankkeen polyolet - Climate-friendly polyol products produced from captured biogenic carbon dioxide and hydrogen developed in the BECCU project for polyurethane raw materials used in construction, adhesives, and daily products. | Developed by VTT\n",
      "\n",
      "Similarity: 0.828 | From: 373 To: 469\n",
      "→ Source 373 description: BECCU project manufacturing process for climate-friendly polyols - A manufacturing process developed in the BECCU project to produce climate-friendly polyol products from recovered bio-based carbon dioxide and hydrogen, used as raw material for polyurethane. | Developed by Kleener Power Solutions Oy\n",
      "→ Source 469 description: BECCU project - A project funded by Business Finland to develop a production process that uses captured carbon dioxide and clean hydrogen to produce specialty chemicals like polyols for environmentally friendly polyurethane. | Developed by VTT\n",
      "\n",
      "Similarity: 0.809 | From: 373 To: 472\n",
      "→ Source 373 description: BECCU project manufacturing process for climate-friendly polyols - A manufacturing process developed in the BECCU project to produce climate-friendly polyol products from recovered bio-based carbon dioxide and hydrogen, used as raw material for polyurethane. | Developed by Kleener Power Solutions Oy\n",
      "→ Source 472 description: BECCU project - A project funded by Business Finland developing a production process to use captured carbon dioxide and clean hydrogen to manufacture environmentally friendly polyols used in construction and everyday goods. | Developed by VTT\n"
     ]
    },
    {
     "name": "stderr",
     "output_type": "stream",
     "text": [
      " 11%|█         | 374/3416 [08:36<1:06:10,  1.31s/it]"
     ]
    },
    {
     "name": "stdout",
     "output_type": "stream",
     "text": [
      "\n",
      "Similarity: 0.884 | From: 374 To: 3162\n",
      "→ Source 374 description: SIX Manufacturing EDIH - A digital innovation hub consortium promoting adoption of digital solutions and new business models in Finnish manufacturing SMEs, supporting AI, analytics, cybersecurity, and manufacturing robotics. | Developed by VTT\n",
      "→ Source 3162 description: SIX Manufacturing EDIH - A European Digital Innovation Hub consortium promoting digital technologies adoption and new business models in manufacturing SMEs, involving leading Finnish manufacturing and digitalization expertise. | Developed by SeinÃ¤joki University of Applied Sciences\n"
     ]
    },
    {
     "name": "stderr",
     "output_type": "stream",
     "text": [
      " 11%|█         | 375/3416 [08:37<1:06:30,  1.31s/it]"
     ]
    },
    {
     "name": "stdout",
     "output_type": "stream",
     "text": [
      "\n",
      "Similarity: 0.826 | From: 376 To: 469\n",
      "→ Source 376 description: BECCU-hankkeen polyolet - Climate-friendly polyol products produced from captured biogenic carbon dioxide and hydrogen developed in the BECCU project for polyurethane raw materials used in construction, adhesives, and daily products. | Developed by VTT\n",
      "→ Source 469 description: BECCU project - A project funded by Business Finland to develop a production process that uses captured carbon dioxide and clean hydrogen to produce specialty chemicals like polyols for environmentally friendly polyurethane. | Developed by VTT\n",
      "\n",
      "Similarity: 0.804 | From: 376 To: 472\n",
      "→ Source 376 description: BECCU-hankkeen polyolet - Climate-friendly polyol products produced from captured biogenic carbon dioxide and hydrogen developed in the BECCU project for polyurethane raw materials used in construction, adhesives, and daily products. | Developed by VTT\n",
      "→ Source 472 description: BECCU project - A project funded by Business Finland developing a production process to use captured carbon dioxide and clean hydrogen to manufacture environmentally friendly polyols used in construction and everyday goods. | Developed by VTT\n"
     ]
    },
    {
     "name": "stderr",
     "output_type": "stream",
     "text": [
      " 11%|█         | 378/3416 [08:41<1:05:47,  1.30s/it]"
     ]
    },
    {
     "name": "stdout",
     "output_type": "stream",
     "text": [
      "\n",
      "Similarity: 0.810 | From: 379 To: 380\n",
      "→ Source 379 description: Thermocell plastic film - Thermocell plastic film is a thermoplastic material made from cellulose and bio-based fatty acids, developed for use in food packaging with properties comparable to fossil-based plastics. | Developed by VTT\n",
      "→ Source 380 description: Thermocell-muovikalvo - Thermocell plastic film made from cellulose and fatty acids; a thermoplastic bioplastic suitable for food packaging with properties meeting industry standards and suitable for industrial production. | Developed by VTT\n",
      "\n",
      "Similarity: 0.921 | From: 379 To: 586\n",
      "→ Source 379 description: Thermocell plastic film - Thermocell plastic film is a thermoplastic material made from cellulose and bio-based fatty acids, developed for use in food packaging with properties comparable to fossil-based plastics. | Developed by VTT\n",
      "→ Source 586 description: Thermocell plastic film - A bioplastic film developed by VTT from modified cellulose fibre, made thermoplastic and processable with existing plastic processing machinery, reaching properties similar to polyethylene for packaging purposes. | Developed by VTT\n",
      "\n",
      "Similarity: 0.819 | From: 379 To: 1173\n",
      "→ Source 379 description: Thermocell plastic film - Thermocell plastic film is a thermoplastic material made from cellulose and bio-based fatty acids, developed for use in food packaging with properties comparable to fossil-based plastics. | Developed by VTT\n",
      "→ Source 1173 description: Thermocell - A completely renewable plastic produced from cellulose and biobased fatty acids developed by VTT, suitable for various applications including molding, film extrusion, paper and board coating, and 3D printing. | Developed by VTT\n",
      "\n",
      "Similarity: 0.843 | From: 379 To: 1176\n",
      "→ Source 379 description: Thermocell plastic film - Thermocell plastic film is a thermoplastic material made from cellulose and bio-based fatty acids, developed for use in food packaging with properties comparable to fossil-based plastics. | Developed by VTT\n",
      "→ Source 1176 description: Thermocell - Thermocell is a plastic material developed by VTT made from cellulose and bio-based fatty acids, suitable for injection molding, film extrusion, coating of paper and paperboard, and 3D printing offering a renewable and sustainable alternative for multi-layered plastic packaging. | Developed by VTT Technical Research Centre of Finland Ltd\n",
      "\n",
      "Similarity: 0.927 | From: 379 To: 1179\n",
      "→ Source 379 description: Thermocell plastic film - Thermocell plastic film is a thermoplastic material made from cellulose and bio-based fatty acids, developed for use in food packaging with properties comparable to fossil-based plastics. | Developed by VTT\n",
      "→ Source 1179 description: Thermocell plastic film - A cellulose and bio-based fatty acids plastic film developed by VTT as a sustainable packaging material. | Developed by Arla Foods\n"
     ]
    },
    {
     "name": "stderr",
     "output_type": "stream",
     "text": [
      " 11%|█         | 379/3416 [08:42<1:06:30,  1.31s/it]"
     ]
    },
    {
     "name": "stdout",
     "output_type": "stream",
     "text": [
      "\n",
      "Similarity: 0.818 | From: 380 To: 1179\n",
      "→ Source 380 description: Thermocell-muovikalvo - Thermocell plastic film made from cellulose and fatty acids; a thermoplastic bioplastic suitable for food packaging with properties meeting industry standards and suitable for industrial production. | Developed by VTT\n",
      "→ Source 1179 description: Thermocell plastic film - A cellulose and bio-based fatty acids plastic film developed by VTT as a sustainable packaging material. | Developed by Arla Foods\n"
     ]
    },
    {
     "name": "stderr",
     "output_type": "stream",
     "text": [
      " 11%|█         | 380/3416 [08:44<1:07:28,  1.33s/it]"
     ]
    },
    {
     "name": "stdout",
     "output_type": "stream",
     "text": [
      "\n",
      "Similarity: 0.800 | From: 381 To: 382\n",
      "→ Source 381 description: INN-PRESSME biopohjaiset pakkausratkaisut - New recyclable and/or compostable biobased packaging solutions developed under the INN-PRESSME innovation ecosystem coordinated by VTT. | Developed by Teknologian tutkimuskeskus VTT Oy\n",
      "→ Source 382 description: INN-PRESSME - A four-year European innovation project that develops recyclable and/or biodegradable packaging, energy, transport solutions and consumer goods based on sustainable plant-based nano-enabled biomaterials, made available to users with pilot facilities owned by ten European partners. | Developed by Innovation in Research & Engineering Solutions (IRES)\n",
      "\n",
      "Similarity: 0.854 | From: 381 To: 1498\n",
      "→ Source 381 description: INN-PRESSME biopohjaiset pakkausratkaisut - New recyclable and/or compostable biobased packaging solutions developed under the INN-PRESSME innovation ecosystem coordinated by VTT. | Developed by Teknologian tutkimuskeskus VTT Oy\n",
      "→ Source 1498 description: INN-PRESSME project - An innovation ecosystem launched to support market access for bio-based consumer products through development of recyclable and biodegradable packaging, energy, vehicle solutions, and other consumer goods. | Developed by VTT Technical Research Centre of Finland\n"
     ]
    },
    {
     "name": "stderr",
     "output_type": "stream",
     "text": [
      " 11%|█         | 381/3416 [08:45<1:06:22,  1.31s/it]"
     ]
    },
    {
     "name": "stdout",
     "output_type": "stream",
     "text": [
      "\n",
      "Similarity: 0.866 | From: 382 To: 1498\n",
      "→ Source 382 description: INN-PRESSME - A four-year European innovation project that develops recyclable and/or biodegradable packaging, energy, transport solutions and consumer goods based on sustainable plant-based nano-enabled biomaterials, made available to users with pilot facilities owned by ten European partners. | Developed by Innovation in Research & Engineering Solutions (IRES)\n",
      "→ Source 1498 description: INN-PRESSME project - An innovation ecosystem launched to support market access for bio-based consumer products through development of recyclable and biodegradable packaging, energy, vehicle solutions, and other consumer goods. | Developed by VTT Technical Research Centre of Finland\n"
     ]
    },
    {
     "name": "stderr",
     "output_type": "stream",
     "text": [
      " 11%|█▏        | 385/3416 [08:50<1:05:49,  1.30s/it]"
     ]
    },
    {
     "name": "stdout",
     "output_type": "stream",
     "text": [
      "\n",
      "Similarity: 0.906 | From: 386 To: 387\n",
      "→ Source 386 description: E-fuel-hanke - Finnish synthetic e-fuel production technology developed through a research project aiming to commercialize high-temperature electrolysis, CO2 capture, and Fischer-Tropsch fuel synthesis integration for sustainable renewable fuel production. | Developed by VTT\n",
      "→ Source 387 description: E-fuel research and innovation project - A research and innovation project coordinated by VTT focusing on commercialization and development of synthetic e-fuel production technology in Finland, integrating high-temperature electrolysis, CO2 capture, and Fischer-Tropsch fuel synthesis aiming at breakthrough in Finnish electric fuel technology. | Developed by Andritz\n",
      "\n",
      "Similarity: 0.822 | From: 386 To: 419\n",
      "→ Source 386 description: E-fuel-hanke - Finnish synthetic e-fuel production technology developed through a research project aiming to commercialize high-temperature electrolysis, CO2 capture, and Fischer-Tropsch fuel synthesis integration for sustainable renewable fuel production. | Developed by VTT\n",
      "→ Source 419 description: E-fuel-tutkimushanke - A research project developing integration of high-temperature electrolysis (SOEC) hydrogen production, carbon dioxide capture, and Fischer-Tropsch fuel synthesis targeting breakthrough in synthetic fuels technologies. | Developed by VTT\n",
      "\n",
      "Similarity: 0.902 | From: 386 To: 420\n",
      "→ Source 386 description: E-fuel-hanke - Finnish synthetic e-fuel production technology developed through a research project aiming to commercialize high-temperature electrolysis, CO2 capture, and Fischer-Tropsch fuel synthesis integration for sustainable renewable fuel production. | Developed by VTT\n",
      "→ Source 420 description: E-fuel research project - An innovation project integrating hydrogen produced by high-temperature electrolysis, carbon dioxide sequestration, and Fischer-Tropsch fuel synthesis aimed at achieving a breakthrough for Finnish technology in synthetic fuels production. | Developed by VTT\n",
      "\n",
      "Similarity: 0.819 | From: 386 To: 482\n",
      "→ Source 386 description: E-fuel-hanke - Finnish synthetic e-fuel production technology developed through a research project aiming to commercialize high-temperature electrolysis, CO2 capture, and Fischer-Tropsch fuel synthesis integration for sustainable renewable fuel production. | Developed by VTT\n",
      "→ Source 482 description: E-fuel - An efficiency improved electrofuel (e-fuel) production technology integrating high-temperature electrolysis with carbon dioxide sequestration and Fischer-Tropsch fuel synthesis developed for the synthetic fuel market. | Developed by VTT Technical Research Centre of Finland Ltd\n",
      "\n",
      "Similarity: 0.839 | From: 386 To: 484\n",
      "→ Source 386 description: E-fuel-hanke - Finnish synthetic e-fuel production technology developed through a research project aiming to commercialize high-temperature electrolysis, CO2 capture, and Fischer-Tropsch fuel synthesis integration for sustainable renewable fuel production. | Developed by VTT\n",
      "→ Source 484 description: E-fuel research project - A two-year project aimed at developing integrated hydrogen production through high-temperature electrolysis with CO2 sequestration and Fischer-Tropsch fuel synthesis, seeking an efficiency improvement of 10-15 percentage points over current e-fuel production technologies. | Developed by VTT Technical Research Centre of Finland Ltd\n",
      "\n",
      "Similarity: 0.858 | From: 386 To: 485\n",
      "→ Source 386 description: E-fuel-hanke - Finnish synthetic e-fuel production technology developed through a research project aiming to commercialize high-temperature electrolysis, CO2 capture, and Fischer-Tropsch fuel synthesis integration for sustainable renewable fuel production. | Developed by VTT\n",
      "→ Source 485 description: E-fuel production breakthrough technology - A new or significantly improved process for producing synthetic fuels (e-fuels) in Finland using advanced high-temperature electrolysis and heat integration. | Developed by Business Finland\n",
      "\n",
      "Similarity: 0.801 | From: 386 To: 773\n",
      "→ Source 386 description: E-fuel-hanke - Finnish synthetic e-fuel production technology developed through a research project aiming to commercialize high-temperature electrolysis, CO2 capture, and Fischer-Tropsch fuel synthesis integration for sustainable renewable fuel production. | Developed by VTT\n",
      "→ Source 773 description: production of e-fuels by combining high temperature electrolysis, carbon capture and Fischer-Tropsch hydrocarbon synthesis - An innovation involving the combination of high temperature electrolysis, carbon capture and Fischer-Tropsch hydrocarbon synthesis to produce synthetic e-fuels demonstrated at VTT Bioruukki. | Developed by VTT\n",
      "\n",
      "Similarity: 0.813 | From: 386 To: 776\n",
      "→ Source 386 description: E-fuel-hanke - Finnish synthetic e-fuel production technology developed through a research project aiming to commercialize high-temperature electrolysis, CO2 capture, and Fischer-Tropsch fuel synthesis integration for sustainable renewable fuel production. | Developed by VTT\n",
      "→ Source 776 description: E-fuel-tutkimushanke - An innovation project developing a concept for renewable electric fuels production combining high-temperature electrolysis, carbon dioxide capture, and Fischer-Tropsch hydrocarbon synthesis, producing synthetic fuels for direct consumer use. | Developed by VTT\n"
     ]
    },
    {
     "name": "stderr",
     "output_type": "stream",
     "text": [
      " 11%|█▏        | 386/3416 [08:51<1:05:41,  1.30s/it]"
     ]
    },
    {
     "name": "stdout",
     "output_type": "stream",
     "text": [
      "\n",
      "Similarity: 0.824 | From: 387 To: 419\n",
      "→ Source 387 description: E-fuel research and innovation project - A research and innovation project coordinated by VTT focusing on commercialization and development of synthetic e-fuel production technology in Finland, integrating high-temperature electrolysis, CO2 capture, and Fischer-Tropsch fuel synthesis aiming at breakthrough in Finnish electric fuel technology. | Developed by Andritz\n",
      "→ Source 419 description: E-fuel-tutkimushanke - A research project developing integration of high-temperature electrolysis (SOEC) hydrogen production, carbon dioxide capture, and Fischer-Tropsch fuel synthesis targeting breakthrough in synthetic fuels technologies. | Developed by VTT\n",
      "\n",
      "Similarity: 0.950 | From: 387 To: 420\n",
      "→ Source 387 description: E-fuel research and innovation project - A research and innovation project coordinated by VTT focusing on commercialization and development of synthetic e-fuel production technology in Finland, integrating high-temperature electrolysis, CO2 capture, and Fischer-Tropsch fuel synthesis aiming at breakthrough in Finnish electric fuel technology. | Developed by Andritz\n",
      "→ Source 420 description: E-fuel research project - An innovation project integrating hydrogen produced by high-temperature electrolysis, carbon dioxide sequestration, and Fischer-Tropsch fuel synthesis aimed at achieving a breakthrough for Finnish technology in synthetic fuels production. | Developed by VTT\n",
      "\n",
      "Similarity: 0.820 | From: 387 To: 468\n",
      "→ Source 387 description: E-fuel research and innovation project - A research and innovation project coordinated by VTT focusing on commercialization and development of synthetic e-fuel production technology in Finland, integrating high-temperature electrolysis, CO2 capture, and Fischer-Tropsch fuel synthesis aiming at breakthrough in Finnish electric fuel technology. | Developed by Andritz\n",
      "→ Source 468 description: E-fuel project - An ongoing project launched in early 2021 aiming at the large-scale production and commercialisation of electrofuels, including improving production efficiency by 10-15 percentage points, involving 15 partners. | Developed by Neste\n",
      "\n",
      "Similarity: 0.858 | From: 387 To: 471\n",
      "→ Source 387 description: E-fuel research and innovation project - A research and innovation project coordinated by VTT focusing on commercialization and development of synthetic e-fuel production technology in Finland, integrating high-temperature electrolysis, CO2 capture, and Fischer-Tropsch fuel synthesis aiming at breakthrough in Finnish electric fuel technology. | Developed by Andritz\n",
      "→ Source 471 description: E-fuel project of the Neste Veturi programme - An investment project initiated in 2021 aiming at large-scale production and commercialisation of electrofuels, improving efficiency by combining high-temperature electrolysis with carbon dioxide capture and hydrocarbon synthesis. | Developed by Neste\n",
      "\n",
      "Similarity: 0.823 | From: 387 To: 474\n",
      "→ Source 387 description: E-fuel research and innovation project - A research and innovation project coordinated by VTT focusing on commercialization and development of synthetic e-fuel production technology in Finland, integrating high-temperature electrolysis, CO2 capture, and Fischer-Tropsch fuel synthesis aiming at breakthrough in Finnish electric fuel technology. | Developed by Andritz\n",
      "→ Source 474 description: E-fuel - A large-scale electrofuel production and commercialisation project launched by Neste Veturi programme in 2021, aiming to improve electricity-to-fuel conversion efficiency by 10-15 percentage points. | Developed by Neste Veturi\n",
      "\n",
      "Similarity: 0.854 | From: 387 To: 482\n",
      "→ Source 387 description: E-fuel research and innovation project - A research and innovation project coordinated by VTT focusing on commercialization and development of synthetic e-fuel production technology in Finland, integrating high-temperature electrolysis, CO2 capture, and Fischer-Tropsch fuel synthesis aiming at breakthrough in Finnish electric fuel technology. | Developed by Andritz\n",
      "→ Source 482 description: E-fuel - An efficiency improved electrofuel (e-fuel) production technology integrating high-temperature electrolysis with carbon dioxide sequestration and Fischer-Tropsch fuel synthesis developed for the synthetic fuel market. | Developed by VTT Technical Research Centre of Finland Ltd\n",
      "\n",
      "Similarity: 0.874 | From: 387 To: 483\n",
      "→ Source 387 description: E-fuel research and innovation project - A research and innovation project coordinated by VTT focusing on commercialization and development of synthetic e-fuel production technology in Finland, integrating high-temperature electrolysis, CO2 capture, and Fischer-Tropsch fuel synthesis aiming at breakthrough in Finnish electric fuel technology. | Developed by Andritz\n",
      "→ Source 483 description: E-fuel research project technology - A novel e-fuel production technology developed by integrating high-temperature electrolysis (SOEC) with carbon dioxide sequestration and Fischer-Tropsch fuel synthesis, aiming to improve efficiency by 10-15 percentage points over current technologies. | Developed by Andritz\n",
      "\n",
      "Similarity: 0.875 | From: 387 To: 484\n",
      "→ Source 387 description: E-fuel research and innovation project - A research and innovation project coordinated by VTT focusing on commercialization and development of synthetic e-fuel production technology in Finland, integrating high-temperature electrolysis, CO2 capture, and Fischer-Tropsch fuel synthesis aiming at breakthrough in Finnish electric fuel technology. | Developed by Andritz\n",
      "→ Source 484 description: E-fuel research project - A two-year project aimed at developing integrated hydrogen production through high-temperature electrolysis with CO2 sequestration and Fischer-Tropsch fuel synthesis, seeking an efficiency improvement of 10-15 percentage points over current e-fuel production technologies. | Developed by VTT Technical Research Centre of Finland Ltd\n",
      "\n",
      "Similarity: 0.885 | From: 387 To: 485\n",
      "→ Source 387 description: E-fuel research and innovation project - A research and innovation project coordinated by VTT focusing on commercialization and development of synthetic e-fuel production technology in Finland, integrating high-temperature electrolysis, CO2 capture, and Fischer-Tropsch fuel synthesis aiming at breakthrough in Finnish electric fuel technology. | Developed by Andritz\n",
      "→ Source 485 description: E-fuel production breakthrough technology - A new or significantly improved process for producing synthetic fuels (e-fuels) in Finland using advanced high-temperature electrolysis and heat integration. | Developed by Business Finland\n",
      "\n",
      "Similarity: 0.827 | From: 387 To: 773\n",
      "→ Source 387 description: E-fuel research and innovation project - A research and innovation project coordinated by VTT focusing on commercialization and development of synthetic e-fuel production technology in Finland, integrating high-temperature electrolysis, CO2 capture, and Fischer-Tropsch fuel synthesis aiming at breakthrough in Finnish electric fuel technology. | Developed by Andritz\n",
      "→ Source 773 description: production of e-fuels by combining high temperature electrolysis, carbon capture and Fischer-Tropsch hydrocarbon synthesis - An innovation involving the combination of high temperature electrolysis, carbon capture and Fischer-Tropsch hydrocarbon synthesis to produce synthetic e-fuels demonstrated at VTT Bioruukki. | Developed by VTT\n",
      "\n",
      "Similarity: 0.827 | From: 387 To: 776\n",
      "→ Source 387 description: E-fuel research and innovation project - A research and innovation project coordinated by VTT focusing on commercialization and development of synthetic e-fuel production technology in Finland, integrating high-temperature electrolysis, CO2 capture, and Fischer-Tropsch fuel synthesis aiming at breakthrough in Finnish electric fuel technology. | Developed by Andritz\n",
      "→ Source 776 description: E-fuel-tutkimushanke - An innovation project developing a concept for renewable electric fuels production combining high-temperature electrolysis, carbon dioxide capture, and Fischer-Tropsch hydrocarbon synthesis, producing synthetic fuels for direct consumer use. | Developed by VTT\n",
      "\n",
      "Similarity: 0.884 | From: 387 To: 1481\n",
      "→ Source 387 description: E-fuel research and innovation project - A research and innovation project coordinated by VTT focusing on commercialization and development of synthetic e-fuel production technology in Finland, integrating high-temperature electrolysis, CO2 capture, and Fischer-Tropsch fuel synthesis aiming at breakthrough in Finnish electric fuel technology. | Developed by Andritz\n",
      "→ Source 1481 description: E-Fuel research project - A research project coordinated by VTT developing hydrogen production integration with high-temperature electrolysis, carbon capture, and Fischer-Tropsch fuel synthesis to create sustainable synthetic fuels. | Developed by VTT\n"
     ]
    },
    {
     "name": "stderr",
     "output_type": "stream",
     "text": [
      " 11%|█▏        | 387/3416 [08:53<1:05:27,  1.30s/it]"
     ]
    },
    {
     "name": "stdout",
     "output_type": "stream",
     "text": [
      "\n",
      "Similarity: 0.806 | From: 388 To: 1285\n",
      "→ Source 388 description: FI26473754 - A machine-assisted decision-making service that forecasts the future and plans smart and sustainable urban environments involving multiple stakeholders, developed by VTT. | Developed by VTT CityTune®\n",
      "→ Source 1285 description: FI26473754 - A solution package for smart city planning, management, and decision-making that uses big data and modeling to forecast effects of decisions in cities and supports sustainable urban development. | Developed by VTT CityTune®\n"
     ]
    },
    {
     "name": "stderr",
     "output_type": "stream",
     "text": [
      " 11%|█▏        | 390/3416 [08:56<1:04:43,  1.28s/it]"
     ]
    },
    {
     "name": "stdout",
     "output_type": "stream",
     "text": [
      "\n",
      "Similarity: 0.823 | From: 391 To: 392\n",
      "→ Source 391 description: autonomous port machinery - Innovation involving autonomous port machinery that improves port logistics and safety, developed as part of the AUTOPORT project. | Developed by VTT\n",
      "→ Source 392 description: Autonomisten satamakoneiden kehitys- ja tutkimustyö - Development and research work on autonomous port machines as part of the AUTOPORT project coordinated by VTT. | Developed by VTT\n"
     ]
    },
    {
     "name": "stderr",
     "output_type": "stream",
     "text": [
      " 12%|█▏        | 400/3416 [09:09<1:05:11,  1.30s/it]"
     ]
    },
    {
     "name": "stdout",
     "output_type": "stream",
     "text": [
      "\n",
      "Similarity: 0.819 | From: 401 To: 486\n",
      "→ Source 401 description: FI14451013 - An EU-funded innovation project developing automated manufacturing methods for cellulose-based electrical insulation components and other applications like automotive and cruise ships. | Developed by AGH\n",
      "→ Source 486 description: Cellulose-based materials for 3D printing of electrical insulation components - New cellulose-based materials developed for 3D printing of components used in electrical insulation, suitable for marine and automotive industries, enabling replacement of oil-based plastics with bio-based materials. | Developed by VTT\n",
      "\n",
      "Similarity: 0.835 | From: 401 To: 1159\n",
      "→ Source 401 description: FI14451013 - An EU-funded innovation project developing automated manufacturing methods for cellulose-based electrical insulation components and other applications like automotive and cruise ships. | Developed by AGH\n",
      "→ Source 1159 description: Uusiin tuotantoteknologioihin perustuva koetuotantolinja selluloosapohjaisten sähköeristekomponenttien valmistusta varten (NOVUM) - A project that developed a novel pilot production line for manufacturing cellulose-based electrical insulation components with improved efficiency and lower costs. | Developed by Teknologian tutkimuskeskus VTT Oy\n"
     ]
    },
    {
     "name": "stderr",
     "output_type": "stream",
     "text": [
      " 12%|█▏        | 406/3416 [09:17<1:05:11,  1.30s/it]"
     ]
    },
    {
     "name": "stdout",
     "output_type": "stream",
     "text": [
      "\n",
      "Similarity: 0.865 | From: 407 To: 408\n",
      "→ Source 407 description: temp_276 - A food innovation laboratory actively producing new food-related innovations available to potential users. | Developed by VTT\n",
      "→ Source 408 description: temp_271 - An innovation environment focused on food sector advancements, offering novel innovations to users. | Developed by VTT\n"
     ]
    },
    {
     "name": "stderr",
     "output_type": "stream",
     "text": [
      " 12%|█▏        | 407/3416 [09:18<1:05:05,  1.30s/it]"
     ]
    },
    {
     "name": "stdout",
     "output_type": "stream",
     "text": [
      "\n",
      "Similarity: 0.837 | From: 408 To: 409\n",
      "→ Source 408 description: temp_271 - An innovation environment focused on food sector advancements, offering novel innovations to users. | Developed by VTT\n",
      "→ Source 409 description: temp_274 - An innovation center dedicated to food flavors and innovations that has developed novel products or processes available to users. | Developed by VTT\n"
     ]
    },
    {
     "name": "stderr",
     "output_type": "stream",
     "text": [
      " 12%|█▏        | 410/3416 [09:22<1:06:05,  1.32s/it]"
     ]
    },
    {
     "name": "stdout",
     "output_type": "stream",
     "text": [
      "\n",
      "Similarity: 0.886 | From: 411 To: 475\n",
      "→ Source 411 description: Multipurpose bioplastic from soy residues - An ecological lactic acid polymer bioplastic made from soy processing side streams, representing the first process in the world to produce compostable bioplastic utilizing soy molasses. | Developed by Finnfoam\n",
      "→ Source 475 description: Multipurpose bioplastic from soy molasses - A new type of bioplastic produced from soy molasses, a by-product of soy feed, developed through fermentation to produce polylactic acid (PLA) in granule form for further processing. | Developed by VTT\n"
     ]
    },
    {
     "name": "stderr",
     "output_type": "stream",
     "text": [
      " 12%|█▏        | 414/3416 [09:28<1:10:10,  1.40s/it]"
     ]
    },
    {
     "name": "stdout",
     "output_type": "stream",
     "text": [
      "\n",
      "Similarity: 0.964 | From: 415 To: 510\n",
      "→ Source 415 description: 4everPack - An innovation focused on reuse of consumer packaging to lower the environmental footprint of the packaging value chain, making packaging materials circulate to retain their value and prevent waste. | Developed by VTT Technical Research Centre of Finland\n",
      "→ Source 510 description: 4everPack - A research innovation focused on reducing environmental impacts of packaging through reusable consumer packaging solutions. | Developed by VTT\n"
     ]
    },
    {
     "name": "stderr",
     "output_type": "stream",
     "text": [
      " 12%|█▏        | 418/3416 [09:34<1:11:20,  1.43s/it]"
     ]
    },
    {
     "name": "stdout",
     "output_type": "stream",
     "text": [
      "\n",
      "Similarity: 0.844 | From: 419 To: 420\n",
      "→ Source 419 description: E-fuel-tutkimushanke - A research project developing integration of high-temperature electrolysis (SOEC) hydrogen production, carbon dioxide capture, and Fischer-Tropsch fuel synthesis targeting breakthrough in synthetic fuels technologies. | Developed by VTT\n",
      "→ Source 420 description: E-fuel research project - An innovation project integrating hydrogen produced by high-temperature electrolysis, carbon dioxide sequestration, and Fischer-Tropsch fuel synthesis aimed at achieving a breakthrough for Finnish technology in synthetic fuels production. | Developed by VTT\n",
      "\n",
      "Similarity: 0.805 | From: 419 To: 483\n",
      "→ Source 419 description: E-fuel-tutkimushanke - A research project developing integration of high-temperature electrolysis (SOEC) hydrogen production, carbon dioxide capture, and Fischer-Tropsch fuel synthesis targeting breakthrough in synthetic fuels technologies. | Developed by VTT\n",
      "→ Source 483 description: E-fuel research project technology - A novel e-fuel production technology developed by integrating high-temperature electrolysis (SOEC) with carbon dioxide sequestration and Fischer-Tropsch fuel synthesis, aiming to improve efficiency by 10-15 percentage points over current technologies. | Developed by Andritz\n",
      "\n",
      "Similarity: 0.827 | From: 419 To: 773\n",
      "→ Source 419 description: E-fuel-tutkimushanke - A research project developing integration of high-temperature electrolysis (SOEC) hydrogen production, carbon dioxide capture, and Fischer-Tropsch fuel synthesis targeting breakthrough in synthetic fuels technologies. | Developed by VTT\n",
      "→ Source 773 description: production of e-fuels by combining high temperature electrolysis, carbon capture and Fischer-Tropsch hydrocarbon synthesis - An innovation involving the combination of high temperature electrolysis, carbon capture and Fischer-Tropsch hydrocarbon synthesis to produce synthetic e-fuels demonstrated at VTT Bioruukki. | Developed by VTT\n",
      "\n",
      "Similarity: 0.920 | From: 419 To: 776\n",
      "→ Source 419 description: E-fuel-tutkimushanke - A research project developing integration of high-temperature electrolysis (SOEC) hydrogen production, carbon dioxide capture, and Fischer-Tropsch fuel synthesis targeting breakthrough in synthetic fuels technologies. | Developed by VTT\n",
      "→ Source 776 description: E-fuel-tutkimushanke - An innovation project developing a concept for renewable electric fuels production combining high-temperature electrolysis, carbon dioxide capture, and Fischer-Tropsch hydrocarbon synthesis, producing synthetic fuels for direct consumer use. | Developed by VTT\n"
     ]
    },
    {
     "name": "stderr",
     "output_type": "stream",
     "text": [
      " 12%|█▏        | 418/3416 [09:35<1:08:44,  1.38s/it]\n"
     ]
    },
    {
     "ename": "KeyboardInterrupt",
     "evalue": "",
     "output_type": "error",
     "traceback": [
      "\u001b[0;31m---------------------------------------------------------------------------\u001b[0m",
      "\u001b[0;31mKeyboardInterrupt\u001b[0m                         Traceback (most recent call last)",
      "Cell \u001b[0;32mIn[113], line 8\u001b[0m\n\u001b[1;32m      6\u001b[0m \u001b[38;5;28;01mfor\u001b[39;00m i \u001b[38;5;129;01min\u001b[39;00m tqdm(\u001b[38;5;28mrange\u001b[39m(\u001b[38;5;28mlen\u001b[39m(combined_embeddings))):\n\u001b[1;32m      7\u001b[0m     \u001b[38;5;28;01mfor\u001b[39;00m j \u001b[38;5;129;01min\u001b[39;00m \u001b[38;5;28mrange\u001b[39m(i \u001b[38;5;241m+\u001b[39m \u001b[38;5;241m1\u001b[39m, \u001b[38;5;28mlen\u001b[39m(combined_embeddings)):\n\u001b[0;32m----> 8\u001b[0m         sim \u001b[38;5;241m=\u001b[39m \u001b[43mutil\u001b[49m\u001b[38;5;241;43m.\u001b[39;49m\u001b[43mcos_sim\u001b[49m\u001b[43m(\u001b[49m\u001b[43mcombined_embeddings\u001b[49m\u001b[43m[\u001b[49m\u001b[43mi\u001b[49m\u001b[43m]\u001b[49m\u001b[43m,\u001b[49m\u001b[43m \u001b[49m\u001b[43mcombined_embeddings\u001b[49m\u001b[43m[\u001b[49m\u001b[43mj\u001b[49m\u001b[43m]\u001b[49m\u001b[43m)\u001b[49m\u001b[38;5;241;43m.\u001b[39;49m\u001b[43mitem\u001b[49m\u001b[43m(\u001b[49m\u001b[43m)\u001b[49m\n\u001b[1;32m     10\u001b[0m         \u001b[38;5;28;01mif\u001b[39;00m sim \u001b[38;5;241m>\u001b[39m threshold:\n\u001b[1;32m     11\u001b[0m             i_elem \u001b[38;5;241m=\u001b[39m combined_texts[i]\n",
      "\u001b[0;31mKeyboardInterrupt\u001b[0m: "
>>>>>>> Stashed changes
     ]
    }
   ],
   "source": [
    "threshold = 0.80\n",
    "\n",
    "similar_pairs = []\n",
    "\n",
<<<<<<< Updated upstream
    "#result_df = result_df.drop_duplicates(subset=[\"source description\"]).reset_index(drop=True)\n",
    "\n",
    "combined_embeddings = result_df[\"embedding\"].tolist()\n",
    "combined_texts = result_df[\"text_to_compare\"].tolist()\n",
    "\n",
    "start_time = time.time()\n",
    "\n",
    "# Convert embeddings to a tensor\n",
    "embeddings_tensor = torch.stack([torch.tensor(e) for e in combined_embeddings])\n",
    "\n",
    "# Compute cosine similarity matrix\n",
    "cos_sim_matrix = util.cos_sim(embeddings_tensor, embeddings_tensor)\n",
    "\n",
    "# Get indices of upper triangle (i < j)\n",
    "triu_indices = torch.triu_indices(cos_sim_matrix.size(0), cos_sim_matrix.size(1), offset=1)\n",
    "\n",
    "# Get similarity scores for upper triangle\n",
    "sim_scores = cos_sim_matrix[triu_indices[0], triu_indices[1]]\n",
    "\n",
    "# Filter by threshold\n",
    "mask = sim_scores > threshold\n",
    "i_indices = triu_indices[0][mask].tolist()\n",
    "j_indices = triu_indices[1][mask].tolist()\n",
    "scores = sim_scores[mask].tolist()\n",
    "\n",
    "# Collect similar pairs\n",
    "similar_pairs = [(i, j, score) for i, j, score in zip(i_indices, j_indices, scores)]\n",
    "\n",
    "\n",
    "end = time.time()\n",
    "print(f\"Similarity computation took {end - start_time:.2f} seconds\")\n",
    "num_samples = 5\n",
    "sampled_pairs = random.sample(similar_pairs, min(num_samples, len(similar_pairs)))\n",
=======
    "print(\"Comparing entries pair by pair...\")\n",
    "\n",
    "for i in tqdm(range(len(combined_embeddings))):\n",
    "    for j in range(i + 1, len(combined_embeddings)):\n",
    "        sim = util.cos_sim(combined_embeddings[i], combined_embeddings[j]).item()\n",
    "        \n",
    "        if sim > threshold:\n",
    "            i_elem = combined_texts[i]\n",
    "            j_elem = combined_texts[j]\n",
    "\n",
    "            \n",
    "            print(f\"\\nSimilarity: {sim:.3f} | From: {i+1} To: {j+1}\")\n",
    "            print(f\"→ Source {i+1} description: {i_elem}\")\n",
    "            print(f\"→ Source {j+1} description: {j_elem}\")\n",
    "            \n",
    "            \n",
    "            similar_pairs.append((i, j, sim))\n",
>>>>>>> Stashed changes
    "\n",
    "for idx, (i, j, score) in enumerate(sampled_pairs[:5]):  # Print first 5 examples\n",
    "    print(f\"Pair {idx+1}:\")\n",
    "    print(f\"  Index {i} → {combined_texts[i]}\")\n",
    "    print(f\"  Index {j} → {combined_texts[j]}\")\n",
    "    print(f\"  Similarity: {score:.4f}\\n\")"
   ]
  }
 ],
 "metadata": {
  "kernelspec": {
   "display_name": "Python 3",
   "language": "python",
   "name": "python3"
  },
  "language_info": {
   "codemirror_mode": {
    "name": "ipython",
    "version": 3
   },
   "file_extension": ".py",
   "mimetype": "text/x-python",
   "name": "python",
   "nbconvert_exporter": "python",
   "pygments_lexer": "ipython3",
   "version": "3.10.12"
  }
 },
 "nbformat": 4,
 "nbformat_minor": 2
}
