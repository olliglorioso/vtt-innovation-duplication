{
 "cells": [
  {
   "cell_type": "code",
   "execution_count": 28,
   "metadata": {},
   "outputs": [],
   "source": [
    "from sentence_transformers import SentenceTransformer, util\n",
    "import pandas as pd\n",
    "from tqdm import tqdm"
   ]
  },
  {
   "cell_type": "markdown",
   "metadata": {},
   "source": [
    "Let's fetch the dataframes."
   ]
  },
  {
   "cell_type": "code",
   "execution_count": 16,
   "metadata": {},
   "outputs": [],
   "source": [
    "model = SentenceTransformer('paraphrase-MiniLM-L6-v2')\n",
    "vtt_domain_df = pd.read_csv(\"./data/dataframes/df_relationships_vtt_domain.csv\")\n",
    "comp_domain_df = pd.read_csv(\"./data/dataframes/df_relationships_comp_domain.csv\")"
   ]
  },
  {
   "cell_type": "code",
   "execution_count": 24,
   "metadata": {},
   "outputs": [
    {
     "name": "stdout",
     "output_type": "stream",
     "text": [
      "Comp domain df length: 1528  - VTT domain df length: 1504\n"
     ]
    }
   ],
   "source": [
    "# Clean the VTT domain df.\n",
    "\n",
    "vtt_domain_df[\"text_to_compare\"] = (\n",
    "    vtt_domain_df[\"source id\"].fillna(\"\") + \" \" +\n",
    "    vtt_domain_df[\"source english_id\"].fillna(\"\") + \" \" +\n",
    "    vtt_domain_df[\"source description\"].fillna(\"\"))\n",
    "\n",
    "vtt_domain_df = vtt_domain_df[vtt_domain_df[\"source type\"] != \"Organization\"]\n",
    "vtt_domain_df = vtt_domain_df.drop_duplicates(subset=\"source description\", keep=\"first\")\n",
    "\n",
    "# Clean the comp domain df.\n",
    "\n",
    "comp_domain_df[\"text_to_compare\"] = (\n",
    "    comp_domain_df[\"source id\"].fillna(\"\") + \" \" +\n",
    "    comp_domain_df[\"source description\"].fillna(\"\"))\n",
    "\n",
    "comp_domain_df = comp_domain_df[comp_domain_df[\"source type\"] != \"Organization\"]\n",
    "comp_domain_df = comp_domain_df.drop_duplicates(subset=\"source description\", keep=\"first\")\n",
    "\n",
    "print(\"Comp domain df length:\", len(comp_domain_df), \" - VTT domain df length:\", len(vtt_domain_df))"
   ]
  },
  {
   "cell_type": "markdown",
   "metadata": {},
   "source": [
    "Embed everything."
   ]
  },
  {
   "cell_type": "code",
   "execution_count": 25,
   "metadata": {},
   "outputs": [],
   "source": [
    "vtt_embeddings = model.encode(vtt_domain_df[\"text_to_compare\"].tolist(), convert_to_tensor=True)\n",
    "comp_embeddings = model.encode(comp_domain_df[\"text_to_compare\"].tolist(), convert_to_tensor=True)"
   ]
  },
  {
   "cell_type": "code",
   "execution_count": 33,
   "metadata": {},
   "outputs": [
    {
     "name": "stdout",
     "output_type": "stream",
     "text": [
      "Comparing entries pair by pair...\n"
     ]
    },
    {
     "name": "stderr",
     "output_type": "stream",
     "text": [
      "  2%|▏         | 31/1504 [00:24<19:50,  1.24it/s]"
     ]
    },
    {
     "name": "stdout",
     "output_type": "stream",
     "text": [
      "\n",
      "Similarity: 0.859 | From: 32 To: 884\n",
      "→ Source 32 description: 5G-Safe project 5G-Safe project A project exploring the use of the 5G mobile network to improve road safety through fast data transmission solutions, collecting vehicle and road data for applications such as road weather services, road maintenance, and self-driving car control.\n",
      "→ Source 884 description: 5G-Safe -hanke The 5G-Safe project developing new vehicle network solutions and local road weather and safety services to support drivers, road maintainers, and autonomous vehicle control systems by utilizing 5G technology for real-time data services.\n"
     ]
    },
    {
     "name": "stderr",
     "output_type": "stream",
     "text": [
      "  5%|▍         | 72/1504 [00:55<17:38,  1.35it/s]"
     ]
    },
    {
     "name": "stdout",
     "output_type": "stream",
     "text": [
      "\n",
      "Similarity: 0.865 | From: 73 To: 497\n",
      "→ Source 73 description: Ioncell-F technology Ioncell-F technology A technology based on direct dissolution of cellulose using ionic liquid solvent to produce strong textile fibres by dry-jet wet spinning.\n",
      "→ Source 497 description: Ioncell-F technology A technology based on direct dissolution of cellulose using dry-jet wet spinning technique, developed in collaboration between Aalto University and University of Helsinki.\n"
     ]
    },
    {
     "name": "stderr",
     "output_type": "stream",
     "text": [
      "  5%|▍         | 73/1504 [00:55<17:23,  1.37it/s]"
     ]
    },
    {
     "name": "stdout",
     "output_type": "stream",
     "text": [
      "\n",
      "Similarity: 0.823 | From: 74 To: 496\n",
      "→ Source 74 description: BioCelSol technology BioCelSol technology A technology that enhances cellulose dissolution via mechanical and enzymatic treatments prior to fibre spinning.\n",
      "→ Source 496 description: BioCelSol technology A technology jointly owned by VTT and Tampere University of Technology enhancing cellulose dissolution by mechanical and enzymatic treatments before dissolution in sodium zincate.\n"
     ]
    },
    {
     "name": "stderr",
     "output_type": "stream",
     "text": [
      "  5%|▍         | 74/1504 [00:56<17:43,  1.34it/s]"
     ]
    },
    {
     "name": "stdout",
     "output_type": "stream",
     "text": [
      "\n",
      "Similarity: 0.819 | From: 74 To: 1506\n",
      "→ Source 74 description: BioCelSol technology BioCelSol technology A technology that enhances cellulose dissolution via mechanical and enzymatic treatments prior to fibre spinning.\n",
      "→ Source 1506 description: BioCelSol-teknologia A technology demonstrated by VTT that enhances cellulose dissolution via mechanical-enzymatic treatment before solvent and spinning processes for textile fiber production.\n"
     ]
    },
    {
     "name": "stderr",
     "output_type": "stream",
     "text": [
      "  6%|▌         | 88/1504 [01:07<17:47,  1.33it/s]"
     ]
    },
    {
     "name": "stdout",
     "output_type": "stream",
     "text": [
      "\n",
      "Similarity: 0.827 | From: 89 To: 884\n",
      "→ Source 89 description: 5G-SAFE project 5G-SAFE project An innovation project completed in 2018 aimed at improving road safety and reducing accidents by developing new road weather and road safety services to assist vehicle drivers, automated driving and road maintenance using 5G communication solutions.\n",
      "→ Source 884 description: 5G-Safe -hanke The 5G-Safe project developing new vehicle network solutions and local road weather and safety services to support drivers, road maintainers, and autonomous vehicle control systems by utilizing 5G technology for real-time data services.\n"
     ]
    },
    {
     "name": "stderr",
     "output_type": "stream",
     "text": [
      "  7%|▋         | 111/1504 [01:24<19:10,  1.21it/s]"
     ]
    },
    {
     "name": "stdout",
     "output_type": "stream",
     "text": [
      "\n",
      "Similarity: 0.869 | From: 112 To: 163\n",
      "→ Source 112 description: Combination of wood fibres and spider silk bio-based material Combination of wood fibres and spider silk bio-based material A novel bio-based material produced by gluing together wood cellulose fibres and spider silk protein, characterized by high strength, stiffness, and increased toughness, potentially replacing plastics in various applications.\n",
      "→ Source 163 description: bio-based material combining spider silk protein and wood cellulose A new bio-composite material combining modified spider silk proteins and wood cellulose fibres, created by researchers at Aalto University and VTT Technical Research Centre of Finland, exhibiting high strength, stiffness and increased toughness.\n",
      "\n",
      "Similarity: 0.801 | From: 112 To: 340\n",
      "→ Source 112 description: Combination of wood fibres and spider silk bio-based material Combination of wood fibres and spider silk bio-based material A novel bio-based material produced by gluing together wood cellulose fibres and spider silk protein, characterized by high strength, stiffness, and increased toughness, potentially replacing plastics in various applications.\n",
      "→ Source 340 description: Material from wood pulp and synthetic spider silk proteins A strong new material combining wood pulp fibers and lab-developed synthetic spider silk proteins to replace plastics in food packaging, medical engineering, and aerospace.\n"
     ]
    },
    {
     "name": "stderr",
     "output_type": "stream",
     "text": [
      "  8%|▊         | 114/1504 [01:26<17:30,  1.32it/s]"
     ]
    },
    {
     "name": "stdout",
     "output_type": "stream",
     "text": [
      "\n",
      "Similarity: 0.802 | From: 114 To: 1111\n",
      "→ Source 114 description: FI26473754 DigiMaturity tool An online tool provided by VTT since 2017 allowing organizations to assess their digital maturity level across six dimensions including strategy, business model, and IT.\n",
      "→ Source 1111 description: VTT digital maturity analysis A digital maturity analysis tool developed by VTT based on a synthesis of literature and empirical experiences from research projects with industry partners, assessing digital maturity in six main dimensions to help companies identify their digitalisation strengths and weaknesses.\n"
     ]
    },
    {
     "name": "stderr",
     "output_type": "stream",
     "text": [
      "  8%|▊         | 121/1504 [01:32<19:05,  1.21it/s]"
     ]
    },
    {
     "name": "stdout",
     "output_type": "stream",
     "text": [
      "\n",
      "Similarity: 0.893 | From: 121 To: 1395\n",
      "→ Source 121 description: rotor sail developed by a Finnish company called Norsepower rotor sail developed by a Finnish company called Norsepower An auxiliary wind propulsion system developed by Norsepower that saves fuel and helps reduce emissions in ships.\n",
      "→ Source 1395 description: Norsepower Rotor Sail Solution A new wind propulsion technology for ships developed by Norsepower, which reduces fuel consumption by harnessing wind power through spinning rotor sails installed on ships.\n",
      "\n",
      "Similarity: 0.829 | From: 121 To: 1397\n",
      "→ Source 121 description: rotor sail developed by a Finnish company called Norsepower rotor sail developed by a Finnish company called Norsepower An auxiliary wind propulsion system developed by Norsepower that saves fuel and helps reduce emissions in ships.\n",
      "→ Source 1397 description: Norsepower's Rotor Sail Solution A new wind propulsion technology for ships validated through independent trials confirming fuel-saving potential.\n",
      "\n",
      "Similarity: 0.806 | From: 121 To: 1399\n",
      "→ Source 121 description: rotor sail developed by a Finnish company called Norsepower rotor sail developed by a Finnish company called Norsepower An auxiliary wind propulsion system developed by Norsepower that saves fuel and helps reduce emissions in ships.\n",
      "→ Source 1399 description: Rotor Sail Solution Rotor Sail Solution is a new wind propulsion technology for ships developed by Norsepower Oy Ltd., validated to confirm fuel-saving potential.\n",
      "\n",
      "Similarity: 0.855 | From: 121 To: 1403\n",
      "→ Source 121 description: rotor sail developed by a Finnish company called Norsepower rotor sail developed by a Finnish company called Norsepower An auxiliary wind propulsion system developed by Norsepower that saves fuel and helps reduce emissions in ships.\n",
      "→ Source 1403 description: Norsepower Rotor Sail Solution A new wind propulsion technology for ships confirmed to have fuel-saving potential through successful sea trials.\n",
      "\n",
      "Similarity: 0.852 | From: 121 To: 1406\n",
      "→ Source 121 description: rotor sail developed by a Finnish company called Norsepower rotor sail developed by a Finnish company called Norsepower An auxiliary wind propulsion system developed by Norsepower that saves fuel and helps reduce emissions in ships.\n",
      "→ Source 1406 description: Norsepower’s Rotor Sail Solution Norsepower’s Rotor Sail Solution is a new wind propulsion technology for ships that confirms fuel-saving potential through sea trials.\n"
     ]
    },
    {
     "name": "stderr",
     "output_type": "stream",
     "text": [
      "  9%|▊         | 128/1504 [01:38<19:58,  1.15it/s]"
     ]
    },
    {
     "name": "stdout",
     "output_type": "stream",
     "text": [
      "\n",
      "Similarity: 0.895 | From: 128 To: 1395\n",
      "→ Source 128 description: rotor sail developed by a Finnish company called Norsepower rotor sail developed by a Finnish company called Norsepower An auxiliary wind propulsion system developed by Norsepower that saves fuel and helps reduce emissions on ships.\n",
      "→ Source 1395 description: Norsepower Rotor Sail Solution A new wind propulsion technology for ships developed by Norsepower, which reduces fuel consumption by harnessing wind power through spinning rotor sails installed on ships.\n",
      "\n",
      "Similarity: 0.828 | From: 128 To: 1397\n",
      "→ Source 128 description: rotor sail developed by a Finnish company called Norsepower rotor sail developed by a Finnish company called Norsepower An auxiliary wind propulsion system developed by Norsepower that saves fuel and helps reduce emissions on ships.\n",
      "→ Source 1397 description: Norsepower's Rotor Sail Solution A new wind propulsion technology for ships validated through independent trials confirming fuel-saving potential.\n",
      "\n",
      "Similarity: 0.804 | From: 128 To: 1399\n",
      "→ Source 128 description: rotor sail developed by a Finnish company called Norsepower rotor sail developed by a Finnish company called Norsepower An auxiliary wind propulsion system developed by Norsepower that saves fuel and helps reduce emissions on ships.\n",
      "→ Source 1399 description: Rotor Sail Solution Rotor Sail Solution is a new wind propulsion technology for ships developed by Norsepower Oy Ltd., validated to confirm fuel-saving potential.\n",
      "\n",
      "Similarity: 0.853 | From: 128 To: 1403\n",
      "→ Source 128 description: rotor sail developed by a Finnish company called Norsepower rotor sail developed by a Finnish company called Norsepower An auxiliary wind propulsion system developed by Norsepower that saves fuel and helps reduce emissions on ships.\n",
      "→ Source 1403 description: Norsepower Rotor Sail Solution A new wind propulsion technology for ships confirmed to have fuel-saving potential through successful sea trials.\n",
      "\n",
      "Similarity: 0.851 | From: 128 To: 1406\n",
      "→ Source 128 description: rotor sail developed by a Finnish company called Norsepower rotor sail developed by a Finnish company called Norsepower An auxiliary wind propulsion system developed by Norsepower that saves fuel and helps reduce emissions on ships.\n",
      "→ Source 1406 description: Norsepower’s Rotor Sail Solution Norsepower’s Rotor Sail Solution is a new wind propulsion technology for ships that confirms fuel-saving potential through sea trials.\n"
     ]
    },
    {
     "name": "stderr",
     "output_type": "stream",
     "text": [
      " 10%|█         | 152/1504 [01:56<15:51,  1.42it/s]"
     ]
    },
    {
     "name": "stdout",
     "output_type": "stream",
     "text": [
      "\n",
      "Similarity: 0.831 | From: 153 To: 648\n",
      "→ Source 153 description: Hiilikädenjälki Hiilikädenjälki A new environmental metric to assess the positive climate impacts of products, developed to enable companies to evaluate and communicate the positive environmental effects of their products.\n",
      "→ Source 648 description: Hiilikädenjälki A novel concept and calculation tool developed for measuring positive climate impact caused by using climate-positive products or services, as described in the text.\n"
     ]
    },
    {
     "name": "stderr",
     "output_type": "stream",
     "text": [
      " 11%|█         | 158/1504 [02:01<15:32,  1.44it/s]"
     ]
    },
    {
     "name": "stdout",
     "output_type": "stream",
     "text": [
      "\n",
      "Similarity: 0.840 | From: 159 To: 648\n",
      "→ Source 159 description: Hiilikädenjälki Hiilikädenjälki A new environmental metric developed to assess and communicate the positive climate impacts of products, indicating the amount of positive climate effect they cause.\n",
      "→ Source 648 description: Hiilikädenjälki A novel concept and calculation tool developed for measuring positive climate impact caused by using climate-positive products or services, as described in the text.\n"
     ]
    },
    {
     "name": "stderr",
     "output_type": "stream",
     "text": [
      " 15%|█▌        | 230/1504 [02:56<16:56,  1.25it/s]"
     ]
    },
    {
     "name": "stdout",
     "output_type": "stream",
     "text": [
      "\n",
      "Similarity: 0.938 | From: 230 To: 1395\n",
      "→ Source 230 description: Norsepower rotor sail Norsepower rotor sail A rotor sail innovation by Norsepower that saves fuel and reduces emissions by harnessing wind power as auxiliary energy for ships.\n",
      "→ Source 1395 description: Norsepower Rotor Sail Solution A new wind propulsion technology for ships developed by Norsepower, which reduces fuel consumption by harnessing wind power through spinning rotor sails installed on ships.\n",
      "\n",
      "Similarity: 0.870 | From: 230 To: 1397\n",
      "→ Source 230 description: Norsepower rotor sail Norsepower rotor sail A rotor sail innovation by Norsepower that saves fuel and reduces emissions by harnessing wind power as auxiliary energy for ships.\n",
      "→ Source 1397 description: Norsepower's Rotor Sail Solution A new wind propulsion technology for ships validated through independent trials confirming fuel-saving potential.\n",
      "\n",
      "Similarity: 0.883 | From: 230 To: 1403\n",
      "→ Source 230 description: Norsepower rotor sail Norsepower rotor sail A rotor sail innovation by Norsepower that saves fuel and reduces emissions by harnessing wind power as auxiliary energy for ships.\n",
      "→ Source 1403 description: Norsepower Rotor Sail Solution A new wind propulsion technology for ships confirmed to have fuel-saving potential through successful sea trials.\n",
      "\n",
      "Similarity: 0.898 | From: 230 To: 1406\n",
      "→ Source 230 description: Norsepower rotor sail Norsepower rotor sail A rotor sail innovation by Norsepower that saves fuel and reduces emissions by harnessing wind power as auxiliary energy for ships.\n",
      "→ Source 1406 description: Norsepower’s Rotor Sail Solution Norsepower’s Rotor Sail Solution is a new wind propulsion technology for ships that confirms fuel-saving potential through sea trials.\n"
     ]
    },
    {
     "name": "stderr",
     "output_type": "stream",
     "text": [
      " 17%|█▋        | 253/1504 [03:14<20:37,  1.01it/s]"
     ]
    },
    {
     "name": "stdout",
     "output_type": "stream",
     "text": [
      "\n",
      "Similarity: 0.905 | From: 254 To: 887\n",
      "→ Source 254 description: dECOmm project dECOmm project A Finnish business ecosystem offering nuclear power plant decommissioning services, developed as part of a two-year research project by VTT and partners.\n",
      "→ Source 887 description: deCOmm (Finnish Ecosystem for New International Decommissioning Services) project A two-year innovation project launched by VTT Technical Research Centre of Finland Ltd aimed at developing nuclear power plant decommissioning into a business, utilizing VTT's FiR1 research reactor shutdown as a pilot project.\n",
      "\n",
      "Similarity: 0.844 | From: 254 To: 891\n",
      "→ Source 254 description: dECOmm project dECOmm project A Finnish business ecosystem offering nuclear power plant decommissioning services, developed as part of a two-year research project by VTT and partners.\n",
      "→ Source 891 description: deCOmm A two-year project launched by VTT Technical Research Centre of Finland Ltd to develop nuclear power plant decommissioning into a business, involving dismantling and after-care processes that can take more than 10 years and cost up to one billion euros.\n"
     ]
    },
    {
     "name": "stderr",
     "output_type": "stream",
     "text": [
      " 17%|█▋        | 254/1504 [03:15<21:43,  1.04s/it]"
     ]
    },
    {
     "name": "stdout",
     "output_type": "stream",
     "text": [
      "\n",
      "Similarity: 0.813 | From: 255 To: 889\n",
      "→ Source 255 description: Delete Demolition Oy's Nuclear Decommissioning Robot Delete Demolition Oy's Nuclear Decommissioning Robot A demolition robot developed by Delete Demolition Oy for use at nuclear power plant decommissioning worksites.\n",
      "→ Source 889 description: demolition robot for nuclear power plant decommissioning A demolition robot developed by Delete for use at nuclear power plant decommissioning worksites.\n",
      "\n",
      "Similarity: 0.802 | From: 255 To: 892\n",
      "→ Source 255 description: Delete Demolition Oy's Nuclear Decommissioning Robot Delete Demolition Oy's Nuclear Decommissioning Robot A demolition robot developed by Delete Demolition Oy for use at nuclear power plant decommissioning worksites.\n",
      "→ Source 892 description: Delete demolition robot A demolition robot developed by Delete for nuclear power plant decommissioning worksites, aimed at meeting high safety standards and efficient operations.\n"
     ]
    },
    {
     "name": "stderr",
     "output_type": "stream",
     "text": [
      " 17%|█▋        | 255/1504 [03:16<20:55,  1.01s/it]"
     ]
    },
    {
     "name": "stdout",
     "output_type": "stream",
     "text": [
      "\n",
      "Similarity: 0.896 | From: 256 To: 887\n",
      "→ Source 256 description: dECOmm project dECOmm project A research project launched by VTT to develop a Finnish business ecosystem for nuclear power plant decommissioning services.\n",
      "→ Source 887 description: deCOmm (Finnish Ecosystem for New International Decommissioning Services) project A two-year innovation project launched by VTT Technical Research Centre of Finland Ltd aimed at developing nuclear power plant decommissioning into a business, utilizing VTT's FiR1 research reactor shutdown as a pilot project.\n",
      "\n",
      "Similarity: 0.844 | From: 256 To: 891\n",
      "→ Source 256 description: dECOmm project dECOmm project A research project launched by VTT to develop a Finnish business ecosystem for nuclear power plant decommissioning services.\n",
      "→ Source 891 description: deCOmm A two-year project launched by VTT Technical Research Centre of Finland Ltd to develop nuclear power plant decommissioning into a business, involving dismantling and after-care processes that can take more than 10 years and cost up to one billion euros.\n"
     ]
    },
    {
     "name": "stderr",
     "output_type": "stream",
     "text": [
      " 17%|█▋        | 256/1504 [03:17<20:02,  1.04it/s]"
     ]
    },
    {
     "name": "stdout",
     "output_type": "stream",
     "text": [
      "\n",
      "Similarity: 0.813 | From: 257 To: 889\n",
      "→ Source 257 description: Delete Demolition Oy's Nuclear Decommissioning Robot Delete Demolition Oy's Nuclear Decommissioning Robot A demolition robot developed by Delete Demolition Oy for use in nuclear power plant decommissioning worksites.\n",
      "→ Source 889 description: demolition robot for nuclear power plant decommissioning A demolition robot developed by Delete for use at nuclear power plant decommissioning worksites.\n",
      "\n",
      "Similarity: 0.802 | From: 257 To: 892\n",
      "→ Source 257 description: Delete Demolition Oy's Nuclear Decommissioning Robot Delete Demolition Oy's Nuclear Decommissioning Robot A demolition robot developed by Delete Demolition Oy for use in nuclear power plant decommissioning worksites.\n",
      "→ Source 892 description: Delete demolition robot A demolition robot developed by Delete for nuclear power plant decommissioning worksites, aimed at meeting high safety standards and efficient operations.\n"
     ]
    },
    {
     "name": "stderr",
     "output_type": "stream",
     "text": [
      " 18%|█▊        | 266/1504 [03:23<14:10,  1.46it/s]"
     ]
    },
    {
     "name": "stdout",
     "output_type": "stream",
     "text": [
      "\n",
      "Similarity: 0.869 | From: 267 To: 437\n",
      "→ Source 267 description: KEKO KEKO A world-leading real estate data ecosystem and platform enabling data collection, analysis, and automatic utilization for property maintenance, developed and made available to users starting early 2020.\n",
      "→ Source 437 description: KEKO A digital ecosystem and platform for property data developed to enable data collection, analysis, and automatic utilization in property maintenance.\n"
     ]
    },
    {
     "name": "stderr",
     "output_type": "stream",
     "text": [
      " 18%|█▊        | 278/1504 [03:32<15:34,  1.31it/s]"
     ]
    },
    {
     "name": "stdout",
     "output_type": "stream",
     "text": [
      "\n",
      "Similarity: 0.856 | From: 279 To: 438\n",
      "→ Source 279 description: BeLight project biobased and possibly biodegradable solutions to lightweight foamy structures BeLight project biobased and possibly biodegradable solutions to lightweight foamy structures Biobased and biodegradable solutions for lightweight foamy structures developed for packaging and construction industry to promote circular economy and substitute fossil raw materials.\n",
      "→ Source 438 description: BeLight project A project focused on developing biobased and possibly biodegradable lightweight foamy structures, including material, process, and application development promoting circular economy in building and packaging industries.\n",
      "\n",
      "Similarity: 0.906 | From: 279 To: 1011\n",
      "→ Source 279 description: BeLight project biobased and possibly biodegradable solutions to lightweight foamy structures BeLight project biobased and possibly biodegradable solutions to lightweight foamy structures Biobased and biodegradable solutions for lightweight foamy structures developed for packaging and construction industry to promote circular economy and substitute fossil raw materials.\n",
      "→ Source 1011 description: BeLight biobased and biodegradable lightweight foamy structures Biobased and possibly biodegradable lightweight foamy structures developed to promote circular economy in building and packaging industries, involving material, process, and application development.\n"
     ]
    },
    {
     "name": "stderr",
     "output_type": "stream",
     "text": [
      " 19%|█▊        | 279/1504 [03:33<15:00,  1.36it/s]"
     ]
    },
    {
     "name": "stdout",
     "output_type": "stream",
     "text": [
      "\n",
      "Similarity: 0.814 | From: 280 To: 309\n",
      "→ Source 280 description: FI28721168 Solar Foods Solar Foods is an innovation producing edible protein using carbon dioxide captured from air.\n",
      "→ Source 309 description: Solar Foods proteiinijauhe Protein powder produced by the Finnish company Solar Foods using electricity from the air, representing a technological innovation in food tech.\n"
     ]
    },
    {
     "name": "stderr",
     "output_type": "stream",
     "text": [
      " 19%|█▉        | 292/1504 [03:44<17:08,  1.18it/s]"
     ]
    },
    {
     "name": "stdout",
     "output_type": "stream",
     "text": [
      "\n",
      "Similarity: 0.828 | From: 293 To: 557\n",
      "→ Source 293 description: KEKO ecosystem KEKO ecosystem A smart building data ecosystem and platform developed to integrate technical building systems data into a single platform to improve comfort, productivity, and sustainability.\n",
      "→ Source 557 description: KEKO A platform ecosystem developed for combining and utilizing real estate data to enhance smart building management and operations.\n",
      "\n",
      "Similarity: 0.830 | From: 293 To: 558\n",
      "→ Source 293 description: KEKO ecosystem KEKO ecosystem A smart building data ecosystem and platform developed to integrate technical building systems data into a single platform to improve comfort, productivity, and sustainability.\n",
      "→ Source 558 description: KEKO ecosystem project A platform created by leading organizations to leverage real estate data by combining expertise to promote the use of building data for improved property management and smart buildings.\n",
      "\n",
      "Similarity: 0.836 | From: 293 To: 559\n",
      "→ Source 293 description: KEKO ecosystem KEKO ecosystem A smart building data ecosystem and platform developed to integrate technical building systems data into a single platform to improve comfort, productivity, and sustainability.\n",
      "→ Source 559 description: KEKO ecosystem project A dynamic and efficient ecosystem platform that leverages real estate data to create holistic, human-centric indoor environments by combining expertise from leading organizations.\n",
      "\n",
      "Similarity: 0.868 | From: 293 To: 591\n",
      "→ Source 293 description: KEKO ecosystem KEKO ecosystem A smart building data ecosystem and platform developed to integrate technical building systems data into a single platform to improve comfort, productivity, and sustainability.\n",
      "→ Source 591 description: KEKO Ecosystem KEKO is an ecosystem developed to create an efficient and dynamic platform for utilizing real estate data, enabling holistic human-centered indoor environments combining smart comfort, safety, environmental friendliness, and economy.\n",
      "\n",
      "Similarity: 0.807 | From: 293 To: 593\n",
      "→ Source 293 description: KEKO ecosystem KEKO ecosystem A smart building data ecosystem and platform developed to integrate technical building systems data into a single platform to improve comfort, productivity, and sustainability.\n",
      "→ Source 593 description: KEKO ecosystem A platform that provides actors of all sizes easy access to real estate data from various systems through a single platform to create holistic, human-centric indoor environments.\n",
      "\n",
      "Similarity: 0.808 | From: 293 To: 632\n",
      "→ Source 293 description: KEKO ecosystem KEKO ecosystem A smart building data ecosystem and platform developed to integrate technical building systems data into a single platform to improve comfort, productivity, and sustainability.\n",
      "→ Source 632 description: KEKO-ekosysteemi A new ecosystem and digital platform developed to collect, analyze and automatically utilize building data for maintenance, enhancing comfort, productivity, and environmental friendliness of properties.\n"
     ]
    },
    {
     "name": "stderr",
     "output_type": "stream",
     "text": [
      " 24%|██▍       | 360/1504 [04:38<26:56,  1.41s/it]"
     ]
    },
    {
     "name": "stdout",
     "output_type": "stream",
     "text": [
      "\n",
      "Similarity: 0.835 | From: 361 To: 1268\n",
      "→ Source 361 description: CooliBlade technology CooliBlade technology A cooling solution developed by Thermal Channel Technologies Oy that is considerably more efficient than current commercial cooling solutions for high-power electronics, featuring a liquid-vapor phase-change phenomenon within an integrated thermal channel inside a durable aluminium structure.\n",
      "→ Source 1268 description: CooliBlade technology A cutting-edge thermal management technology developed by CooliBlade that improves the thermal conductivity of heat sinks up to 1000 times, enhancing reliability and reducing maintenance.\n"
     ]
    },
    {
     "name": "stderr",
     "output_type": "stream",
     "text": [
      " 24%|██▍       | 362/1504 [04:40<22:17,  1.17s/it]"
     ]
    },
    {
     "name": "stdout",
     "output_type": "stream",
     "text": [
      "\n",
      "Similarity: 0.812 | From: 362 To: 1268\n",
      "→ Source 362 description: temp_937 CooliBlade A cooling solution technology developed by Thermal Channel Technologies Oy that is significantly more efficient than current commercial cooling solutions for high-power electronics.\n",
      "→ Source 1268 description: CooliBlade technology A cutting-edge thermal management technology developed by CooliBlade that improves the thermal conductivity of heat sinks up to 1000 times, enhancing reliability and reducing maintenance.\n"
     ]
    },
    {
     "name": "stderr",
     "output_type": "stream",
     "text": [
      " 25%|██▍       | 374/1504 [04:48<13:39,  1.38it/s]"
     ]
    },
    {
     "name": "stdout",
     "output_type": "stream",
     "text": [
      "\n",
      "Similarity: 0.930 | From: 374 To: 1343\n",
      "→ Source 374 description: SIX Manufacturing EDIH SIX Manufacturing EDIH A digital innovation hub consortium promoting adoption of digital solutions and new business models in Finnish manufacturing SMEs, supporting AI, analytics, cybersecurity, and manufacturing robotics.\n",
      "→ Source 1343 description: SIX Manufacturing EDIH A European Digital Innovation Hub consortium promoting digital technologies adoption and new business models in manufacturing SMEs, involving leading Finnish manufacturing and digitalization expertise.\n"
     ]
    },
    {
     "name": "stderr",
     "output_type": "stream",
     "text": [
      " 29%|██▉       | 436/1504 [05:31<11:10,  1.59it/s]"
     ]
    },
    {
     "name": "stdout",
     "output_type": "stream",
     "text": [
      "\n",
      "Similarity: 0.819 | From: 437 To: 782\n",
      "→ Source 437 description: Environmental Handprint Methodology Environmental Handprint Methodology A method developed by VTT and LUT University to assess positive environmental impacts of products, services, and organizations, expanding the previous carbon handprint to include air quality, nutrients, resource and water handprint calculations.\n",
      "→ Source 782 description: carbon handprint approach A new approach developed jointly by VTT Technical Research Centre of Finland Ltd and LUT University to quantify the positive climate impact of a product, using a standardized method based on life cycle assessment and carbon footprint methodologies.\n"
     ]
    },
    {
     "name": "stderr",
     "output_type": "stream",
     "text": [
      " 30%|██▉       | 446/1504 [05:37<10:26,  1.69it/s]"
     ]
    },
    {
     "name": "stdout",
     "output_type": "stream",
     "text": [
      "\n",
      "Similarity: 0.913 | From: 447 To: 615\n",
      "→ Source 447 description: Suomen ensimmäinen kvanttitietokone Suomen ensimmäinen kvanttitietokone The first quantum computer built in Finland, a significant new computing technology delivered and operational with 5 qubits.\n",
      "→ Source 615 description: Suomen ensimmÃ¤inen kvanttitietokone Finland's first quantum computer, a novel product being built and thus made available for use.\n"
     ]
    },
    {
     "name": "stderr",
     "output_type": "stream",
     "text": [
      " 30%|██▉       | 447/1504 [05:38<10:36,  1.66it/s]"
     ]
    },
    {
     "name": "stdout",
     "output_type": "stream",
     "text": [
      "\n",
      "Similarity: 0.879 | From: 447 To: 1250\n",
      "→ Source 447 description: Suomen ensimmäinen kvanttitietokone Suomen ensimmäinen kvanttitietokone The first quantum computer built in Finland, a significant new computing technology delivered and operational with 5 qubits.\n",
      "→ Source 1250 description: Suomen ensimmÃ¤inen toimiva kvanttitietokone The first functional quantum computer in Finland, built collaboratively by VTT and the quantum tech startup IQM, currently capable of 5 qubits computing power.\n"
     ]
    },
    {
     "name": "stderr",
     "output_type": "stream",
     "text": [
      " 33%|███▎      | 503/1504 [06:17<08:57,  1.86it/s]"
     ]
    },
    {
     "name": "stdout",
     "output_type": "stream",
     "text": [
      "\n",
      "Similarity: 0.849 | From: 504 To: 944\n",
      "→ Source 504 description: Carbon neutrality empowered by handprint -hanke Carbon neutrality empowered by handprint -hanke A research project developing reliable methods to demonstrate carbon neutrality and positive environmental impacts of circular economy solutions for Finnish companies.\n",
      "→ Source 944 description: Carbon neutrality empowered by handprint An innovation project aimed at creating procedures to calculate positive environmental effects of circular economy solutions and reliably demonstrate carbon neutrality.\n"
     ]
    },
    {
     "name": "stderr",
     "output_type": "stream",
     "text": [
      " 34%|███▎      | 504/1504 [06:18<09:00,  1.85it/s]"
     ]
    },
    {
     "name": "stdout",
     "output_type": "stream",
     "text": [
      "\n",
      "Similarity: 0.883 | From: 505 To: 944\n",
      "→ Source 505 description: Carbon neutrality empowered by handprint Carbon neutrality empowered by handprint A research project aimed at promoting reliable ways to demonstrate carbon neutrality and positive environmental impacts of circular economy solutions for Finnish companies.\n",
      "→ Source 944 description: Carbon neutrality empowered by handprint An innovation project aimed at creating procedures to calculate positive environmental effects of circular economy solutions and reliably demonstrate carbon neutrality.\n"
     ]
    },
    {
     "name": "stderr",
     "output_type": "stream",
     "text": [
      " 34%|███▎      | 505/1504 [06:19<13:29,  1.23it/s]"
     ]
    },
    {
     "name": "stdout",
     "output_type": "stream",
     "text": [
      "\n",
      "Similarity: 0.928 | From: 506 To: 944\n",
      "→ Source 506 description: Carbon neutrality empowered by handprint Carbon neutrality empowered by handprint A research project focused on developing reliable and internationally recognized methods to demonstrate carbon neutrality and positive environmental impacts of circular economy solutions for businesses.\n",
      "→ Source 944 description: Carbon neutrality empowered by handprint An innovation project aimed at creating procedures to calculate positive environmental effects of circular economy solutions and reliably demonstrate carbon neutrality.\n"
     ]
    },
    {
     "name": "stderr",
     "output_type": "stream",
     "text": [
      " 34%|███▎      | 507/1504 [06:23<22:57,  1.38s/it]"
     ]
    },
    {
     "name": "stdout",
     "output_type": "stream",
     "text": [
      "\n",
      "Similarity: 0.922 | From: 508 To: 944\n",
      "→ Source 508 description: Carbon neutrality empowered by handprint project Carbon neutrality empowered by handprint project A two-year research project developing procedures to reliably indicate carbon neutrality and positive environmental impacts of circular economy solutions, available for utilization nationally and internationally.\n",
      "→ Source 944 description: Carbon neutrality empowered by handprint An innovation project aimed at creating procedures to calculate positive environmental effects of circular economy solutions and reliably demonstrate carbon neutrality.\n"
     ]
    },
    {
     "name": "stderr",
     "output_type": "stream",
     "text": [
      " 34%|███▍      | 508/1504 [06:24<23:24,  1.41s/it]"
     ]
    },
    {
     "name": "stdout",
     "output_type": "stream",
     "text": [
      "\n",
      "Similarity: 0.919 | From: 509 To: 944\n",
      "→ Source 509 description: Carbon neutrality empowered by handprint project Carbon neutrality empowered by handprint project A two-year research project developing procedures to reliably indicate carbon neutrality and the positive environmental impacts of circular economy solutions, made available for use by companies.\n",
      "→ Source 944 description: Carbon neutrality empowered by handprint An innovation project aimed at creating procedures to calculate positive environmental effects of circular economy solutions and reliably demonstrate carbon neutrality.\n"
     ]
    },
    {
     "name": "stderr",
     "output_type": "stream",
     "text": [
      " 34%|███▍      | 511/1504 [06:26<14:17,  1.16it/s]"
     ]
    },
    {
     "name": "stdout",
     "output_type": "stream",
     "text": [
      "\n",
      "Similarity: 0.826 | From: 512 To: 688\n",
      "→ Source 512 description: ExpandFibre ecosystem ExpandFibre ecosystem An R&D project funded by Business Finland and involving Fortum and Metsä Group, focusing on refining cellulose, hemicellulose, and lignin into high-value products to replace fossil-based materials, integrated with synthetic biology approaches in materials production.\n",
      "→ Source 688 description: ExpandFibre R&D collaboration and Ecosystem established by Fortum and Metsä Group to accelerate the development of sustainable bioproducts, including new bioproducts from pulp fibres, hemicellulose and lignin.\n"
     ]
    },
    {
     "name": "stderr",
     "output_type": "stream",
     "text": [
      " 35%|███▍      | 524/1504 [06:36<08:57,  1.82it/s]"
     ]
    },
    {
     "name": "stdout",
     "output_type": "stream",
     "text": [
      "\n",
      "Similarity: 0.883 | From: 525 To: 615\n",
      "→ Source 525 description: Suomen ensimmäinen kvanttitietokone Suomen ensimmäinen kvanttitietokone Finland's first operational quantum computer, a five-qubit device built to advance scalable quantum computing and quantum ecosystem development.\n",
      "→ Source 615 description: Suomen ensimmÃ¤inen kvanttitietokone Finland's first quantum computer, a novel product being built and thus made available for use.\n"
     ]
    },
    {
     "name": "stderr",
     "output_type": "stream",
     "text": [
      " 35%|███▍      | 525/1504 [06:36<09:15,  1.76it/s]"
     ]
    },
    {
     "name": "stdout",
     "output_type": "stream",
     "text": [
      "\n",
      "Similarity: 0.864 | From: 525 To: 1250\n",
      "→ Source 525 description: Suomen ensimmäinen kvanttitietokone Suomen ensimmäinen kvanttitietokone Finland's first operational quantum computer, a five-qubit device built to advance scalable quantum computing and quantum ecosystem development.\n",
      "→ Source 1250 description: Suomen ensimmÃ¤inen toimiva kvanttitietokone The first functional quantum computer in Finland, built collaboratively by VTT and the quantum tech startup IQM, currently capable of 5 qubits computing power.\n"
     ]
    },
    {
     "name": "stderr",
     "output_type": "stream",
     "text": [
      " 51%|█████     | 769/1504 [08:35<04:58,  2.46it/s]"
     ]
    },
    {
     "name": "stdout",
     "output_type": "stream",
     "text": [
      "\n",
      "Similarity: 0.922 | From: 770 To: 814\n",
      "→ Source 770 description: quantum encryption test network in Finland quantum encryption test network in Finland A public test network built in the Helsinki Metropolitan Area enabling the introduction of quantum encryption technologies, allowing Finnish companies to develop and test services and products based on quantum encryption.\n",
      "→ Source 814 description: Quantum encryption test network in Finland A quantum encryption test network built in Finland to strengthen the cybersecurity infrastructure as part of an EU-wide system, implemented with commercial devices and completed in the first half of 2024.\n"
     ]
    },
    {
     "name": "stderr",
     "output_type": "stream",
     "text": [
      " 51%|█████     | 770/1504 [08:36<05:12,  2.35it/s]"
     ]
    },
    {
     "name": "stdout",
     "output_type": "stream",
     "text": [
      "\n",
      "Similarity: 0.944 | From: 770 To: 1522\n",
      "→ Source 770 description: quantum encryption test network in Finland quantum encryption test network in Finland A public test network built in the Helsinki Metropolitan Area enabling the introduction of quantum encryption technologies, allowing Finnish companies to develop and test services and products based on quantum encryption.\n",
      "→ Source 1522 description: Quantum encryption test network built in Finland A test network using quantum encryption technology constructed in Finland as part of the EU-wide quantum encryption initiative to strengthen cybersecurity infrastructure.\n"
     ]
    },
    {
     "name": "stderr",
     "output_type": "stream",
     "text": [
      " 53%|█████▎    | 801/1504 [08:49<07:44,  1.51it/s]\n"
     ]
    },
    {
     "ename": "KeyboardInterrupt",
     "evalue": "",
     "output_type": "error",
     "traceback": [
      "\u001b[0;31m---------------------------------------------------------------------------\u001b[0m",
      "\u001b[0;31mKeyboardInterrupt\u001b[0m                         Traceback (most recent call last)",
      "Cell \u001b[0;32mIn[33], line 8\u001b[0m\n\u001b[1;32m      6\u001b[0m \u001b[38;5;28;01mfor\u001b[39;00m i \u001b[38;5;129;01min\u001b[39;00m tqdm(\u001b[38;5;28mrange\u001b[39m(\u001b[38;5;28mlen\u001b[39m(vtt_embeddings))):\n\u001b[1;32m      7\u001b[0m     \u001b[38;5;28;01mfor\u001b[39;00m j \u001b[38;5;129;01min\u001b[39;00m \u001b[38;5;28mrange\u001b[39m(i \u001b[38;5;241m+\u001b[39m \u001b[38;5;241m1\u001b[39m, \u001b[38;5;28mlen\u001b[39m(comp_embeddings)):\n\u001b[0;32m----> 8\u001b[0m         sim \u001b[38;5;241m=\u001b[39m \u001b[43mutil\u001b[49m\u001b[38;5;241;43m.\u001b[39;49m\u001b[43mcos_sim\u001b[49m\u001b[43m(\u001b[49m\u001b[43mvtt_embeddings\u001b[49m\u001b[43m[\u001b[49m\u001b[43mi\u001b[49m\u001b[43m]\u001b[49m\u001b[43m,\u001b[49m\u001b[43m \u001b[49m\u001b[43mcomp_embeddings\u001b[49m\u001b[43m[\u001b[49m\u001b[43mj\u001b[49m\u001b[43m]\u001b[49m\u001b[43m)\u001b[49m\u001b[38;5;241m.\u001b[39mitem()\n\u001b[1;32m     10\u001b[0m         \u001b[38;5;28;01mif\u001b[39;00m sim \u001b[38;5;241m>\u001b[39m threshold:\n\u001b[1;32m     11\u001b[0m             source_i \u001b[38;5;241m=\u001b[39m vtt_domain_df\u001b[38;5;241m.\u001b[39miloc[i][\u001b[38;5;124m\"\u001b[39m\u001b[38;5;124mtext_to_compare\u001b[39m\u001b[38;5;124m\"\u001b[39m]\n",
      "File \u001b[0;32m~/Library/Python/3.9/lib/python/site-packages/sentence_transformers/util.py:106\u001b[0m, in \u001b[0;36mcos_sim\u001b[0;34m(a, b)\u001b[0m\n\u001b[1;32m    103\u001b[0m a \u001b[38;5;241m=\u001b[39m _convert_to_batch_tensor(a)\n\u001b[1;32m    104\u001b[0m b \u001b[38;5;241m=\u001b[39m _convert_to_batch_tensor(b)\n\u001b[0;32m--> 106\u001b[0m a_norm \u001b[38;5;241m=\u001b[39m \u001b[43mnormalize_embeddings\u001b[49m\u001b[43m(\u001b[49m\u001b[43ma\u001b[49m\u001b[43m)\u001b[49m\n\u001b[1;32m    107\u001b[0m b_norm \u001b[38;5;241m=\u001b[39m normalize_embeddings(b)\n\u001b[1;32m    108\u001b[0m \u001b[38;5;28;01mreturn\u001b[39;00m torch\u001b[38;5;241m.\u001b[39mmm(a_norm, b_norm\u001b[38;5;241m.\u001b[39mtranspose(\u001b[38;5;241m0\u001b[39m, \u001b[38;5;241m1\u001b[39m))\n",
      "File \u001b[0;32m~/Library/Python/3.9/lib/python/site-packages/sentence_transformers/util.py:274\u001b[0m, in \u001b[0;36mnormalize_embeddings\u001b[0;34m(embeddings)\u001b[0m\n\u001b[1;32m    264\u001b[0m \u001b[38;5;28;01mdef\u001b[39;00m\u001b[38;5;250m \u001b[39m\u001b[38;5;21mnormalize_embeddings\u001b[39m(embeddings: Tensor) \u001b[38;5;241m-\u001b[39m\u001b[38;5;241m>\u001b[39m Tensor:\n\u001b[1;32m    265\u001b[0m \u001b[38;5;250m    \u001b[39m\u001b[38;5;124;03m\"\"\"\u001b[39;00m\n\u001b[1;32m    266\u001b[0m \u001b[38;5;124;03m    Normalizes the embeddings matrix, so that each sentence embedding has unit length.\u001b[39;00m\n\u001b[1;32m    267\u001b[0m \n\u001b[0;32m   (...)\u001b[0m\n\u001b[1;32m    272\u001b[0m \u001b[38;5;124;03m        Tensor: The normalized embeddings matrix.\u001b[39;00m\n\u001b[1;32m    273\u001b[0m \u001b[38;5;124;03m    \"\"\"\u001b[39;00m\n\u001b[0;32m--> 274\u001b[0m     \u001b[38;5;28;01mreturn\u001b[39;00m \u001b[43mtorch\u001b[49m\u001b[38;5;241;43m.\u001b[39;49m\u001b[43mnn\u001b[49m\u001b[38;5;241;43m.\u001b[39;49m\u001b[43mfunctional\u001b[49m\u001b[38;5;241;43m.\u001b[39;49m\u001b[43mnormalize\u001b[49m\u001b[43m(\u001b[49m\u001b[43membeddings\u001b[49m\u001b[43m,\u001b[49m\u001b[43m \u001b[49m\u001b[43mp\u001b[49m\u001b[38;5;241;43m=\u001b[39;49m\u001b[38;5;241;43m2\u001b[39;49m\u001b[43m,\u001b[49m\u001b[43m \u001b[49m\u001b[43mdim\u001b[49m\u001b[38;5;241;43m=\u001b[39;49m\u001b[38;5;241;43m1\u001b[39;49m\u001b[43m)\u001b[49m\n",
      "File \u001b[0;32m~/Library/Python/3.9/lib/python/site-packages/torch/nn/functional.py:5486\u001b[0m, in \u001b[0;36mnormalize\u001b[0;34m(input, p, dim, eps, out)\u001b[0m\n\u001b[1;32m   5482\u001b[0m     \u001b[38;5;28;01mreturn\u001b[39;00m handle_torch_function(\n\u001b[1;32m   5483\u001b[0m         normalize, (\u001b[38;5;28minput\u001b[39m, out), \u001b[38;5;28minput\u001b[39m, p\u001b[38;5;241m=\u001b[39mp, dim\u001b[38;5;241m=\u001b[39mdim, eps\u001b[38;5;241m=\u001b[39meps, out\u001b[38;5;241m=\u001b[39mout\n\u001b[1;32m   5484\u001b[0m     )\n\u001b[1;32m   5485\u001b[0m \u001b[38;5;28;01mif\u001b[39;00m out \u001b[38;5;129;01mis\u001b[39;00m \u001b[38;5;28;01mNone\u001b[39;00m:\n\u001b[0;32m-> 5486\u001b[0m     denom \u001b[38;5;241m=\u001b[39m \u001b[38;5;28;43minput\u001b[39;49m\u001b[38;5;241;43m.\u001b[39;49m\u001b[43mnorm\u001b[49m\u001b[43m(\u001b[49m\u001b[43mp\u001b[49m\u001b[43m,\u001b[49m\u001b[43m \u001b[49m\u001b[43mdim\u001b[49m\u001b[43m,\u001b[49m\u001b[43m \u001b[49m\u001b[43mkeepdim\u001b[49m\u001b[38;5;241;43m=\u001b[39;49m\u001b[38;5;28;43;01mTrue\u001b[39;49;00m\u001b[43m)\u001b[49m\u001b[38;5;241m.\u001b[39mclamp_min(eps)\u001b[38;5;241m.\u001b[39mexpand_as(\u001b[38;5;28minput\u001b[39m)\n\u001b[1;32m   5487\u001b[0m     \u001b[38;5;28;01mreturn\u001b[39;00m \u001b[38;5;28minput\u001b[39m \u001b[38;5;241m/\u001b[39m denom\n\u001b[1;32m   5488\u001b[0m \u001b[38;5;28;01melse\u001b[39;00m:\n",
      "File \u001b[0;32m~/Library/Python/3.9/lib/python/site-packages/torch/_tensor.py:894\u001b[0m, in \u001b[0;36mTensor.norm\u001b[0;34m(self, p, dim, keepdim, dtype)\u001b[0m\n\u001b[1;32m    890\u001b[0m \u001b[38;5;28;01mif\u001b[39;00m has_torch_function_unary(\u001b[38;5;28mself\u001b[39m):\n\u001b[1;32m    891\u001b[0m     \u001b[38;5;28;01mreturn\u001b[39;00m handle_torch_function(\n\u001b[1;32m    892\u001b[0m         Tensor\u001b[38;5;241m.\u001b[39mnorm, (\u001b[38;5;28mself\u001b[39m,), \u001b[38;5;28mself\u001b[39m, p\u001b[38;5;241m=\u001b[39mp, dim\u001b[38;5;241m=\u001b[39mdim, keepdim\u001b[38;5;241m=\u001b[39mkeepdim, dtype\u001b[38;5;241m=\u001b[39mdtype\n\u001b[1;32m    893\u001b[0m     )\n\u001b[0;32m--> 894\u001b[0m \u001b[38;5;28;01mreturn\u001b[39;00m \u001b[43mtorch\u001b[49m\u001b[38;5;241;43m.\u001b[39;49m\u001b[43mnorm\u001b[49m\u001b[43m(\u001b[49m\u001b[38;5;28;43mself\u001b[39;49m\u001b[43m,\u001b[49m\u001b[43m \u001b[49m\u001b[43mp\u001b[49m\u001b[43m,\u001b[49m\u001b[43m \u001b[49m\u001b[43mdim\u001b[49m\u001b[43m,\u001b[49m\u001b[43m \u001b[49m\u001b[43mkeepdim\u001b[49m\u001b[43m,\u001b[49m\u001b[43m \u001b[49m\u001b[43mdtype\u001b[49m\u001b[38;5;241;43m=\u001b[39;49m\u001b[43mdtype\u001b[49m\u001b[43m)\u001b[49m\n",
      "File \u001b[0;32m~/Library/Python/3.9/lib/python/site-packages/torch/functional.py:1908\u001b[0m, in \u001b[0;36mnorm\u001b[0;34m(input, p, dim, keepdim, out, dtype)\u001b[0m\n\u001b[1;32m   1906\u001b[0m \u001b[38;5;28;01mif\u001b[39;00m out \u001b[38;5;129;01mis\u001b[39;00m \u001b[38;5;28;01mNone\u001b[39;00m:\n\u001b[1;32m   1907\u001b[0m     \u001b[38;5;28;01mif\u001b[39;00m dtype \u001b[38;5;129;01mis\u001b[39;00m \u001b[38;5;28;01mNone\u001b[39;00m:\n\u001b[0;32m-> 1908\u001b[0m         \u001b[38;5;28;01mreturn\u001b[39;00m \u001b[43m_VF\u001b[49m\u001b[38;5;241;43m.\u001b[39;49m\u001b[43mnorm\u001b[49m\u001b[43m(\u001b[49m\u001b[38;5;28;43minput\u001b[39;49m\u001b[43m,\u001b[49m\u001b[43m \u001b[49m\u001b[43mp\u001b[49m\u001b[43m,\u001b[49m\u001b[43m \u001b[49m\u001b[43m_dim\u001b[49m\u001b[43m,\u001b[49m\u001b[43m \u001b[49m\u001b[43mkeepdim\u001b[49m\u001b[38;5;241;43m=\u001b[39;49m\u001b[43mkeepdim\u001b[49m\u001b[43m)\u001b[49m  \u001b[38;5;66;03m# type: ignore[attr-defined]\u001b[39;00m\n\u001b[1;32m   1909\u001b[0m     \u001b[38;5;28;01melse\u001b[39;00m:\n\u001b[1;32m   1910\u001b[0m         \u001b[38;5;28;01mreturn\u001b[39;00m _VF\u001b[38;5;241m.\u001b[39mnorm(\u001b[38;5;28minput\u001b[39m, p, _dim, keepdim\u001b[38;5;241m=\u001b[39mkeepdim, dtype\u001b[38;5;241m=\u001b[39mdtype)  \u001b[38;5;66;03m# type: ignore[attr-defined]\u001b[39;00m\n",
      "\u001b[0;31mKeyboardInterrupt\u001b[0m: "
     ]
    }
   ],
   "source": [
    "threshold = 0.80\n",
    "similar_pairs = []\n",
    "\n",
    "print(\"Comparing entries pair by pair...\")\n",
    "\n",
    "for i in tqdm(range(len(vtt_embeddings))):\n",
    "    for j in range(i + 1, len(comp_embeddings)):\n",
    "        sim = util.cos_sim(vtt_embeddings[i], comp_embeddings[j]).item()\n",
    "        \n",
    "        if sim > threshold:\n",
    "            source_i = vtt_domain_df.iloc[i][\"text_to_compare\"]\n",
    "            source_j = comp_domain_df.iloc[j][\"text_to_compare\"]\n",
    "            \n",
    "            print(f\"\\nSimilarity: {sim:.3f} | From: {i+1} To: {j+1}\")\n",
    "            print(f\"→ Source {i+1} description: {source_i}\")\n",
    "            print(f\"→ Source {j+1} description: {source_j}\")\n",
    "            \n",
    "            similar_pairs.append((i, j, sim))\n",
    "\n",
    "# Output results\n",
    "print(f\"\\nFound {len(similar_pairs)} high-similarity pairs (> {threshold}):\")\n",
    "for i, j, score in similar_pairs:\n",
    "    print(f\"[{i}] '{df.iloc[i]['source english_id']}' <--> [{j}] '{df.iloc[j]['source english_id']}' | Similarity: {score:.3f}\")"
   ]
  }
 ],
 "metadata": {
  "kernelspec": {
   "display_name": "Python 3",
   "language": "python",
   "name": "python3"
  },
  "language_info": {
   "codemirror_mode": {
    "name": "ipython",
    "version": 3
   },
   "file_extension": ".py",
   "mimetype": "text/x-python",
   "name": "python",
   "nbconvert_exporter": "python",
   "pygments_lexer": "ipython3",
   "version": "3.9.6"
  }
 },
 "nbformat": 4,
 "nbformat_minor": 2
}
