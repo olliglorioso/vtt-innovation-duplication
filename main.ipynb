{
 "cells": [
  {
   "cell_type": "code",
   "execution_count": 28,
   "metadata": {},
   "outputs": [],
   "source": [
    "from sentence_transformers import SentenceTransformer, util\n",
    "import pandas as pd\n",
    "from tqdm import tqdm"
   ]
  },
  {
   "cell_type": "markdown",
   "metadata": {},
   "source": [
    "Let's fetch the dataframes."
   ]
  },
  {
   "cell_type": "code",
   "execution_count": 39,
   "metadata": {},
   "outputs": [],
   "source": [
    "model = SentenceTransformer('all-mpnet-base-v2')\n",
    "vtt_domain_df = pd.read_csv(\"./data/dataframes/df_relationships_vtt_domain.csv\")\n",
    "comp_domain_df = pd.read_csv(\"./data/dataframes/df_relationships_comp_domain.csv\")"
   ]
  },
  {
   "cell_type": "code",
   "execution_count": 81,
   "metadata": {},
   "outputs": [
    {
     "name": "stdout",
     "output_type": "stream",
     "text": [
      "Vtt domain relationships ['DEVELOPED_BY' 'COLLABORATION']\n",
      "Comp domain relationships ['DEVELOPED_BY']\n"
     ]
    }
   ],
   "source": [
    "# Different relationship types we have:\n",
    "print(\"Vtt domain relationships\", vtt_domain_df[\"relationship type\"].unique())\n",
    "print(\"Comp domain relationships\", comp_domain_df[\"relationship type\"].unique())"
   ]
  },
  {
   "cell_type": "code",
   "execution_count": 43,
   "metadata": {},
   "outputs": [
    {
     "data": {
      "text/html": [
       "<div>\n",
       "<style scoped>\n",
       "    .dataframe tbody tr th:only-of-type {\n",
       "        vertical-align: middle;\n",
       "    }\n",
       "\n",
       "    .dataframe tbody tr th {\n",
       "        vertical-align: top;\n",
       "    }\n",
       "\n",
       "    .dataframe thead th {\n",
       "        text-align: right;\n",
       "    }\n",
       "</style>\n",
       "<table border=\"1\" class=\"dataframe\">\n",
       "  <thead>\n",
       "    <tr style=\"text-align: right;\">\n",
       "      <th></th>\n",
       "      <th>Document number</th>\n",
       "      <th>Source Company</th>\n",
       "      <th>relationship description</th>\n",
       "      <th>source id</th>\n",
       "      <th>source type</th>\n",
       "      <th>source description</th>\n",
       "      <th>relationship type</th>\n",
       "      <th>target id</th>\n",
       "      <th>target type</th>\n",
       "      <th>target description</th>\n",
       "      <th>Link Source Text</th>\n",
       "      <th>Source Text</th>\n",
       "    </tr>\n",
       "  </thead>\n",
       "  <tbody>\n",
       "    <tr>\n",
       "      <th>0</th>\n",
       "      <td>0</td>\n",
       "      <td>FORTUM OYJ</td>\n",
       "      <td>Fortum Corporation is responsible for executin...</td>\n",
       "      <td>First nuclear decommissioning project in Finla...</td>\n",
       "      <td>Innovation</td>\n",
       "      <td>The first nuclear reactor decommissioning proj...</td>\n",
       "      <td>DEVELOPED_BY</td>\n",
       "      <td>Fortum Corporation</td>\n",
       "      <td>Organization</td>\n",
       "      <td>A company with over 40 years of experience in ...</td>\n",
       "      <td>https://www.fortum.com/media/2020/04/fortum-aw...</td>\n",
       "      <td>Press release\\n 08 April 2020, 7:00 EEST     ...</td>\n",
       "    </tr>\n",
       "    <tr>\n",
       "      <th>1</th>\n",
       "      <td>0</td>\n",
       "      <td>FORTUM OYJ</td>\n",
       "      <td>VTT Technical Research Centre of Finland Ltd c...</td>\n",
       "      <td>First nuclear decommissioning project in Finla...</td>\n",
       "      <td>Innovation</td>\n",
       "      <td>The first nuclear reactor decommissioning proj...</td>\n",
       "      <td>DEVELOPED_BY</td>\n",
       "      <td>VTT Technical Research Centre of Finland Ltd</td>\n",
       "      <td>Organization</td>\n",
       "      <td>A research organization in Finland contracting...</td>\n",
       "      <td>https://www.fortum.com/media/2020/04/fortum-aw...</td>\n",
       "      <td>Press release\\n 08 April 2020, 7:00 EEST     ...</td>\n",
       "    </tr>\n",
       "  </tbody>\n",
       "</table>\n",
       "</div>"
      ],
      "text/plain": [
       "   Document number Source Company  \\\n",
       "0                0     FORTUM OYJ   \n",
       "1                0     FORTUM OYJ   \n",
       "\n",
       "                            relationship description  \\\n",
       "0  Fortum Corporation is responsible for executin...   \n",
       "1  VTT Technical Research Centre of Finland Ltd c...   \n",
       "\n",
       "                                           source id source type  \\\n",
       "0  First nuclear decommissioning project in Finla...  Innovation   \n",
       "1  First nuclear decommissioning project in Finla...  Innovation   \n",
       "\n",
       "                                  source description relationship type  \\\n",
       "0  The first nuclear reactor decommissioning proj...      DEVELOPED_BY   \n",
       "1  The first nuclear reactor decommissioning proj...      DEVELOPED_BY   \n",
       "\n",
       "                                      target id   target type  \\\n",
       "0                            Fortum Corporation  Organization   \n",
       "1  VTT Technical Research Centre of Finland Ltd  Organization   \n",
       "\n",
       "                                  target description  \\\n",
       "0  A company with over 40 years of experience in ...   \n",
       "1  A research organization in Finland contracting...   \n",
       "\n",
       "                                    Link Source Text  \\\n",
       "0  https://www.fortum.com/media/2020/04/fortum-aw...   \n",
       "1  https://www.fortum.com/media/2020/04/fortum-aw...   \n",
       "\n",
       "                                         Source Text  \n",
       "0   Press release\\n 08 April 2020, 7:00 EEST     ...  \n",
       "1   Press release\\n 08 April 2020, 7:00 EEST     ...  "
      ]
     },
     "execution_count": 43,
     "metadata": {},
     "output_type": "execute_result"
    }
   ],
   "source": [
    "comp_domain_df.head(2)"
   ]
  },
  {
   "cell_type": "code",
   "execution_count": 42,
   "metadata": {},
   "outputs": [
    {
     "data": {
      "text/html": [
       "<div>\n",
       "<style scoped>\n",
       "    .dataframe tbody tr th:only-of-type {\n",
       "        vertical-align: middle;\n",
       "    }\n",
       "\n",
       "    .dataframe tbody tr th {\n",
       "        vertical-align: top;\n",
       "    }\n",
       "\n",
       "    .dataframe thead th {\n",
       "        text-align: right;\n",
       "    }\n",
       "</style>\n",
       "<table border=\"1\" class=\"dataframe\">\n",
       "  <thead>\n",
       "    <tr style=\"text-align: right;\">\n",
       "      <th></th>\n",
       "      <th>Document number</th>\n",
       "      <th>VAT id</th>\n",
       "      <th>relationship description</th>\n",
       "      <th>source id</th>\n",
       "      <th>source type</th>\n",
       "      <th>source english_id</th>\n",
       "      <th>source description</th>\n",
       "      <th>relationship type</th>\n",
       "      <th>target id</th>\n",
       "      <th>target type</th>\n",
       "      <th>target english_id</th>\n",
       "      <th>target description</th>\n",
       "      <th>Link Source Text</th>\n",
       "      <th>Source Text</th>\n",
       "    </tr>\n",
       "  </thead>\n",
       "  <tbody>\n",
       "    <tr>\n",
       "      <th>0</th>\n",
       "      <td>0</td>\n",
       "      <td>FI10292588</td>\n",
       "      <td>FiR 1 nuclear research reactor was developed, ...</td>\n",
       "      <td>FiR 1</td>\n",
       "      <td>Innovation</td>\n",
       "      <td>FiR 1</td>\n",
       "      <td>FiR 1 is a Triga-type nuclear research reactor...</td>\n",
       "      <td>DEVELOPED_BY</td>\n",
       "      <td>FI26473754</td>\n",
       "      <td>Organization</td>\n",
       "      <td>VTT Technical Research Centre of Finland Ltd.</td>\n",
       "      <td>VTT is a Finnish research and innovation partn...</td>\n",
       "      <td>https://www.vttresearch.com/en/news-and-ideas/...</td>\n",
       "      <td>Skip to main content Beyond the obvious Open m...</td>\n",
       "    </tr>\n",
       "    <tr>\n",
       "      <th>1</th>\n",
       "      <td>0</td>\n",
       "      <td>FI10292588</td>\n",
       "      <td>Centre for Nuclear Safety is being developed a...</td>\n",
       "      <td>Centre for Nuclear Safety</td>\n",
       "      <td>Innovation</td>\n",
       "      <td>Centre for Nuclear Safety</td>\n",
       "      <td>A modern research facility under construction ...</td>\n",
       "      <td>DEVELOPED_BY</td>\n",
       "      <td>FI26473754</td>\n",
       "      <td>Organization</td>\n",
       "      <td>VTT Technical Research Centre of Finland Ltd.</td>\n",
       "      <td>VTT is a Finnish research and innovation partn...</td>\n",
       "      <td>https://www.vttresearch.com/en/news-and-ideas/...</td>\n",
       "      <td>Skip to main content Beyond the obvious Open m...</td>\n",
       "    </tr>\n",
       "  </tbody>\n",
       "</table>\n",
       "</div>"
      ],
      "text/plain": [
       "   Document number      VAT id  \\\n",
       "0                0  FI10292588   \n",
       "1                0  FI10292588   \n",
       "\n",
       "                            relationship description  \\\n",
       "0  FiR 1 nuclear research reactor was developed, ...   \n",
       "1  Centre for Nuclear Safety is being developed a...   \n",
       "\n",
       "                   source id source type          source english_id  \\\n",
       "0                      FiR 1  Innovation                      FiR 1   \n",
       "1  Centre for Nuclear Safety  Innovation  Centre for Nuclear Safety   \n",
       "\n",
       "                                  source description relationship type  \\\n",
       "0  FiR 1 is a Triga-type nuclear research reactor...      DEVELOPED_BY   \n",
       "1  A modern research facility under construction ...      DEVELOPED_BY   \n",
       "\n",
       "    target id   target type                              target english_id  \\\n",
       "0  FI26473754  Organization  VTT Technical Research Centre of Finland Ltd.   \n",
       "1  FI26473754  Organization  VTT Technical Research Centre of Finland Ltd.   \n",
       "\n",
       "                                  target description  \\\n",
       "0  VTT is a Finnish research and innovation partn...   \n",
       "1  VTT is a Finnish research and innovation partn...   \n",
       "\n",
       "                                    Link Source Text  \\\n",
       "0  https://www.vttresearch.com/en/news-and-ideas/...   \n",
       "1  https://www.vttresearch.com/en/news-and-ideas/...   \n",
       "\n",
       "                                         Source Text  \n",
       "0  Skip to main content Beyond the obvious Open m...  \n",
       "1  Skip to main content Beyond the obvious Open m...  "
      ]
     },
     "execution_count": 42,
     "metadata": {},
     "output_type": "execute_result"
    }
   ],
   "source": [
    "vtt_domain_df.head(2)"
   ]
  },
  {
   "cell_type": "code",
   "execution_count": 63,
   "metadata": {},
   "outputs": [],
   "source": [
    "def create_text_to_compare(df):\n",
    "    english_id = \"/\" + df[\"source english_id\"] if \"source english_id\" in df.columns else \"\"\n",
    "    text_to_compare = df[\"source description\"].fillna(\"\") + \" | Developer by \" + df[\"source id\"].fillna(\"\") + english_id\n",
    "    return text_to_compare"
   ]
  },
  {
   "cell_type": "code",
   "execution_count": 75,
   "metadata": {},
   "outputs": [
    {
     "name": "stdout",
     "output_type": "stream",
     "text": [
      "Comp domain df length: 1528  - VTT domain df length: 1504\n",
      "Example of text to compare FiR 1 is a Triga-type nuclear research reactor located in Otaniemi, Espoo, Finland, decommissioned by VTT after serving since 1962, used for nuclear research, training, and medical radiation therapy. | Developer by FiR 1/FiR 1\n"
     ]
    }
   ],
   "source": [
    "# Clean the VTT domain df.\n",
    "\n",
    "vtt_domain_df[\"text_to_compare\"] = create_text_to_compare(vtt_domain_df)\n",
    "\n",
    "vtt_domain_df = vtt_domain_df[vtt_domain_df[\"source type\"] != \"Organization\"]\n",
    "vtt_domain_df = vtt_domain_df.drop_duplicates(subset=\"source description\", keep=\"first\")\n",
    "\n",
    "# Clean the comp domain df.\n",
    "\n",
    "comp_domain_df[\"text_to_compare\"] = create_text_to_compare(comp_domain_df)\n",
    "\n",
    "comp_domain_df = comp_domain_df[comp_domain_df[\"source type\"] != \"Organization\"]\n",
    "comp_domain_df = comp_domain_df.drop_duplicates(subset=\"source description\", keep=\"first\")\n",
    "\n",
    "print(\"Comp domain df length:\", len(comp_domain_df), \" - VTT domain df length:\", len(vtt_domain_df))\n",
    "print(\"Example of text to compare\", vtt_domain_df.iloc[0][\"text_to_compare\"])"
   ]
  },
  {
   "cell_type": "markdown",
   "metadata": {},
   "source": [
    "Embed everything."
   ]
  },
  {
   "cell_type": "code",
   "execution_count": 36,
   "metadata": {},
   "outputs": [],
   "source": [
    "vtt_embeddings = model.encode(vtt_domain_df[\"text_to_compare\"].tolist(), convert_to_tensor=True)\n",
    "comp_embeddings = model.encode(comp_domain_df[\"text_to_compare\"].tolist(), convert_to_tensor=True)"
   ]
  },
  {
   "cell_type": "code",
   "execution_count": 69,
   "metadata": {},
   "outputs": [
    {
     "name": "stdout",
     "output_type": "stream",
     "text": [
      "Comparing entries pair by pair...\n"
     ]
    },
    {
     "name": "stderr",
     "output_type": "stream",
     "text": [
      "  0%|          | 0/1504 [00:00<?, ?it/s]"
     ]
    },
    {
     "name": "stdout",
     "output_type": "stream",
     "text": [
      "Document number                                                             0\n",
      "VAT id                                                             FI10292588\n",
      "relationship description    FiR 1 nuclear research reactor was developed, ...\n",
      "source id                                                               FiR 1\n",
      "source type                                                        Innovation\n",
      "source english_id                                                       FiR 1\n",
      "source description          FiR 1 is a Triga-type nuclear research reactor...\n",
      "relationship type                                                DEVELOPED_BY\n",
      "target id                                                          FI26473754\n",
      "target type                                                      Organization\n",
      "target english_id               VTT Technical Research Centre of Finland Ltd.\n",
      "target description          VTT is a Finnish research and innovation partn...\n",
      "Link Source Text            https://www.vttresearch.com/en/news-and-ideas/...\n",
      "Source Text                 Skip to main content Beyond the obvious Open m...\n",
      "text_to_compare             FiR 1 is a Triga-type nuclear research reactor...\n",
      "Name: 0, dtype: object\n",
      "\n",
      "Similarity: 0.828 | From: 1 To: 880\n"
     ]
    },
    {
     "name": "stderr",
     "output_type": "stream",
     "text": [
      "\n"
     ]
    },
    {
     "ename": "AttributeError",
     "evalue": "'Series' object has no attribute 'columns'",
     "output_type": "error",
     "traceback": [
      "\u001b[0;31m---------------------------------------------------------------------------\u001b[0m",
      "\u001b[0;31mAttributeError\u001b[0m                            Traceback (most recent call last)",
      "\u001b[0;32m/var/folders/7q/kdwv3c991lb35j5ylg3p275m0000gn/T/ipykernel_54708/1134501346.py\u001b[0m in \u001b[0;36m?\u001b[0;34m()\u001b[0m\n\u001b[1;32m     13\u001b[0m         \u001b[0msim\u001b[0m \u001b[0;34m=\u001b[0m \u001b[0mutil\u001b[0m\u001b[0;34m.\u001b[0m\u001b[0mcos_sim\u001b[0m\u001b[0;34m(\u001b[0m\u001b[0mvtt_embeddings\u001b[0m\u001b[0;34m[\u001b[0m\u001b[0mi\u001b[0m\u001b[0;34m]\u001b[0m\u001b[0;34m,\u001b[0m \u001b[0mcomp_embeddings\u001b[0m\u001b[0;34m[\u001b[0m\u001b[0mj\u001b[0m\u001b[0;34m]\u001b[0m\u001b[0;34m)\u001b[0m\u001b[0;34m.\u001b[0m\u001b[0mitem\u001b[0m\u001b[0;34m(\u001b[0m\u001b[0;34m)\u001b[0m\u001b[0;34m\u001b[0m\u001b[0;34m\u001b[0m\u001b[0m\n\u001b[1;32m     14\u001b[0m \u001b[0;34m\u001b[0m\u001b[0m\n\u001b[1;32m     15\u001b[0m         \u001b[0;32mif\u001b[0m \u001b[0msim\u001b[0m \u001b[0;34m>\u001b[0m \u001b[0mthreshold\u001b[0m\u001b[0;34m:\u001b[0m\u001b[0;34m\u001b[0m\u001b[0;34m\u001b[0m\u001b[0m\n\u001b[1;32m     16\u001b[0m             \u001b[0mi_elem\u001b[0m \u001b[0;34m=\u001b[0m \u001b[0mvtt_domain_df\u001b[0m\u001b[0;34m.\u001b[0m\u001b[0miloc\u001b[0m\u001b[0;34m[\u001b[0m\u001b[0mi\u001b[0m\u001b[0;34m]\u001b[0m\u001b[0;34m\u001b[0m\u001b[0;34m\u001b[0m\u001b[0m\n\u001b[0;32m---> 17\u001b[0;31m             \u001b[0mj_elem\u001b[0m \u001b[0;34m=\u001b[0m \u001b[0mcomp_domain_df\u001b[0m\u001b[0;34m.\u001b[0m\u001b[0miloc\u001b[0m\u001b[0;34m[\u001b[0m\u001b[0mj\u001b[0m\u001b[0;34m]\u001b[0m\u001b[0;34m\u001b[0m\u001b[0;34m\u001b[0m\u001b[0m\n\u001b[0m\u001b[1;32m     18\u001b[0m             \u001b[0msource_i\u001b[0m \u001b[0;34m=\u001b[0m \u001b[0mi_elem\u001b[0m\u001b[0;34m[\u001b[0m\u001b[0;34m\"text_to_compare\"\u001b[0m\u001b[0;34m]\u001b[0m\u001b[0;34m\u001b[0m\u001b[0;34m\u001b[0m\u001b[0m\n\u001b[1;32m     19\u001b[0m             \u001b[0msource_j\u001b[0m \u001b[0;34m=\u001b[0m \u001b[0mj_elem\u001b[0m\u001b[0;34m[\u001b[0m\u001b[0;34m\"text_to_compare\"\u001b[0m\u001b[0;34m]\u001b[0m\u001b[0;34m\u001b[0m\u001b[0;34m\u001b[0m\u001b[0m\n\u001b[1;32m     20\u001b[0m             \u001b[0mprint\u001b[0m\u001b[0;34m(\u001b[0m\u001b[0mi_elem\u001b[0m\u001b[0;34m)\u001b[0m\u001b[0;34m\u001b[0m\u001b[0;34m\u001b[0m\u001b[0m\n",
      "\u001b[0;32m~/Library/Python/3.9/lib/python/site-packages/pandas/core/generic.py\u001b[0m in \u001b[0;36m?\u001b[0;34m(self, name)\u001b[0m\n\u001b[1;32m   6295\u001b[0m             \u001b[0;32mand\u001b[0m \u001b[0mname\u001b[0m \u001b[0;32mnot\u001b[0m \u001b[0;32min\u001b[0m \u001b[0mself\u001b[0m\u001b[0;34m.\u001b[0m\u001b[0m_accessors\u001b[0m\u001b[0;34m\u001b[0m\u001b[0;34m\u001b[0m\u001b[0m\n\u001b[1;32m   6296\u001b[0m             \u001b[0;32mand\u001b[0m \u001b[0mself\u001b[0m\u001b[0;34m.\u001b[0m\u001b[0m_info_axis\u001b[0m\u001b[0;34m.\u001b[0m\u001b[0m_can_hold_identifiers_and_holds_name\u001b[0m\u001b[0;34m(\u001b[0m\u001b[0mname\u001b[0m\u001b[0;34m)\u001b[0m\u001b[0;34m\u001b[0m\u001b[0;34m\u001b[0m\u001b[0m\n\u001b[1;32m   6297\u001b[0m         ):\n\u001b[1;32m   6298\u001b[0m             \u001b[0;32mreturn\u001b[0m \u001b[0mself\u001b[0m\u001b[0;34m[\u001b[0m\u001b[0mname\u001b[0m\u001b[0;34m]\u001b[0m\u001b[0;34m\u001b[0m\u001b[0;34m\u001b[0m\u001b[0m\n\u001b[0;32m-> 6299\u001b[0;31m         \u001b[0;32mreturn\u001b[0m \u001b[0mobject\u001b[0m\u001b[0;34m.\u001b[0m\u001b[0m__getattribute__\u001b[0m\u001b[0;34m(\u001b[0m\u001b[0mself\u001b[0m\u001b[0;34m,\u001b[0m \u001b[0mname\u001b[0m\u001b[0;34m)\u001b[0m\u001b[0;34m\u001b[0m\u001b[0;34m\u001b[0m\u001b[0m\n\u001b[0m",
      "\u001b[0;31mAttributeError\u001b[0m: 'Series' object has no attribute 'columns'"
     ]
    }
   ],
   "source": [
    "threshold = 0.80\n",
    "similar_pairs = []\n",
    "\n",
    "print(\"Comparing entries pair by pair...\")\n",
    "\n",
    "for i in tqdm(range(len(vtt_embeddings))):\n",
    "    for j in range(i + 1, len(comp_embeddings)):\n",
    "        sim = util.cos_sim(vtt_embeddings[i], comp_embeddings[j]).item()\n",
    "        \n",
    "        if sim > threshold:\n",
    "            i_elem = vtt_domain_df.iloc[i]\n",
    "            j_elem = comp_domain_df.iloc[j]\n",
    "            source_i = i_elem[\"text_to_compare\"]\n",
    "            source_j = j_elem[\"text_to_compare\"]\n",
    "            \n",
    "            print(f\"\\nSimilarity: {sim:.3f} | From: {i+1} To: {j+1}\")\n",
    "            print(f\"→ Source {i+1} description: {source_i} and columns: {i_elem.index}\")\n",
    "            print(f\"→ Source {j+1} description: {source_j} and columns: {j_elem.index}\")\n",
    "            \n",
    "            \n",
    "            similar_pairs.append((i, j, sim))\n",
    "\n",
    "# Output results\n",
    "print(f\"\\nFound {len(similar_pairs)} high-similarity pairs (> {threshold}):\")\n",
    "for i, j, score in similar_pairs:\n",
    "    print(f\"[{i}] '{df.iloc[i]['source english_id']}' <--> [{j}] '{df.iloc[j]['source english_id']}' | Similarity: {score:.3f}\")"
   ]
  }
 ],
 "metadata": {
  "kernelspec": {
   "display_name": "Python 3",
   "language": "python",
   "name": "python3"
  },
  "language_info": {
   "codemirror_mode": {
    "name": "ipython",
    "version": 3
   },
   "file_extension": ".py",
   "mimetype": "text/x-python",
   "name": "python",
   "nbconvert_exporter": "python",
   "pygments_lexer": "ipython3",
   "version": "3.9.6"
  }
 },
 "nbformat": 4,
 "nbformat_minor": 2
}
