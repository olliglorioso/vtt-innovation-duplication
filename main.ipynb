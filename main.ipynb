{
 "cells": [
  {
   "cell_type": "code",
   "execution_count": 28,
   "metadata": {},
   "outputs": [],
   "source": [
    "from sentence_transformers import SentenceTransformer, util\n",
    "import pandas as pd\n",
    "from tqdm import tqdm"
   ]
  },
  {
   "cell_type": "markdown",
   "metadata": {},
   "source": [
    "Let's fetch the dataframes."
   ]
  },
  {
   "cell_type": "code",
   "execution_count": 96,
   "metadata": {},
   "outputs": [],
   "source": [
    "model = SentenceTransformer('all-mpnet-base-v2')\n",
    "vtt_domain_df = pd.read_csv(\"./data/dataframes/df_relationships_vtt_domain.csv\")\n",
    "comp_domain_df = pd.read_csv(\"./data/dataframes/df_relationships_comp_url.csv\")\n",
    "\n",
    "vtt_domain_df = vtt_domain_df[vtt_domain_df[\"relationship type\"] == \"DEVELOPED_BY\"].copy()\n",
    "comp_domain_df = comp_domain_df[comp_domain_df[\"relationship type\"] == \"DEVELOPED_BY\"].copy()"
   ]
  },
  {
   "cell_type": "code",
   "execution_count": 97,
   "metadata": {},
   "outputs": [
    {
     "name": "stdout",
     "output_type": "stream",
     "text": [
      "Vtt domain relationships ['DEVELOPED_BY']\n",
      "Comp domain relationships ['DEVELOPED_BY']\n"
     ]
    }
   ],
   "source": [
    "# Different relationship types we have:\n",
    "print(\"Vtt domain relationships\", vtt_domain_df[\"relationship type\"].unique())\n",
    "print(\"Comp domain relationships\", comp_domain_df[\"relationship type\"].unique())"
   ]
  },
  {
   "cell_type": "code",
   "execution_count": 98,
   "metadata": {},
   "outputs": [
    {
     "name": "stdout",
     "output_type": "stream",
     "text": [
      "Index(['Unnamed: 0', 'Document number', 'Source Company',\n",
      "       'relationship description', 'source id', 'source type',\n",
      "       'source english_id', 'source description', 'relationship type',\n",
      "       'target id', 'target type', 'target english_id', 'target description',\n",
      "       'Link Source Text', 'Source Text'],\n",
      "      dtype='object')\n"
     ]
    },
    {
     "data": {
      "text/html": [
       "<div>\n",
       "<style scoped>\n",
       "    .dataframe tbody tr th:only-of-type {\n",
       "        vertical-align: middle;\n",
       "    }\n",
       "\n",
       "    .dataframe tbody tr th {\n",
       "        vertical-align: top;\n",
       "    }\n",
       "\n",
       "    .dataframe thead th {\n",
       "        text-align: right;\n",
       "    }\n",
       "</style>\n",
       "<table border=\"1\" class=\"dataframe\">\n",
       "  <thead>\n",
       "    <tr style=\"text-align: right;\">\n",
       "      <th></th>\n",
       "      <th>Unnamed: 0</th>\n",
       "      <th>Document number</th>\n",
       "      <th>Source Company</th>\n",
       "      <th>relationship description</th>\n",
       "      <th>source id</th>\n",
       "      <th>source type</th>\n",
       "      <th>source english_id</th>\n",
       "      <th>source description</th>\n",
       "      <th>relationship type</th>\n",
       "      <th>target id</th>\n",
       "      <th>target type</th>\n",
       "      <th>target english_id</th>\n",
       "      <th>target description</th>\n",
       "      <th>Link Source Text</th>\n",
       "      <th>Source Text</th>\n",
       "    </tr>\n",
       "  </thead>\n",
       "  <tbody>\n",
       "    <tr>\n",
       "      <th>417</th>\n",
       "      <td>417</td>\n",
       "      <td>62</td>\n",
       "      <td>VALMET OYJ</td>\n",
       "      <td>Valmet developed the industrial-scale pyrolize...</td>\n",
       "      <td>pyrolizer plant</td>\n",
       "      <td>Innovation</td>\n",
       "      <td>pyrolizer plant</td>\n",
       "      <td>An industrial-scale plant to be delivered to C...</td>\n",
       "      <td>DEVELOPED_BY</td>\n",
       "      <td>FI25530198</td>\n",
       "      <td>Organization</td>\n",
       "      <td>Beyond Circularity</td>\n",
       "      <td>An ambitious R&amp;D program and ecosystem launche...</td>\n",
       "      <td>https://www.valmet.com/insights/articles/susta...</td>\n",
       "      <td>Nov 15, 2023 \\r\\n                        Valme...</td>\n",
       "    </tr>\n",
       "    <tr>\n",
       "      <th>5133</th>\n",
       "      <td>5133</td>\n",
       "      <td>975</td>\n",
       "      <td>HAMEEN AMMATTIKORKEAKOULU OY</td>\n",
       "      <td>The KieMaRa-hanke innovation was developed and...</td>\n",
       "      <td>KieMaRa-hanke</td>\n",
       "      <td>Innovation</td>\n",
       "      <td>KieMaRa-hanke</td>\n",
       "      <td>Comprehensive circular economy concepts and so...</td>\n",
       "      <td>DEVELOPED_BY</td>\n",
       "      <td>FI26174893</td>\n",
       "      <td>Organization</td>\n",
       "      <td>Hämeen ammattikorkeakoulu</td>\n",
       "      <td>A Finnish university of applied sciences contr...</td>\n",
       "      <td>https://www.hamk.fi/projektit/kiemara/</td>\n",
       "      <td>Kokonaisvaltaisesta kiertotaloudesta maaseudun...</td>\n",
       "    </tr>\n",
       "    <tr>\n",
       "      <th>164</th>\n",
       "      <td>164</td>\n",
       "      <td>33</td>\n",
       "      <td>UPM-KYMMENE OYJ</td>\n",
       "      <td>The innovation 'Xampla plant-based protein mat...</td>\n",
       "      <td>Xampla plant-based protein material</td>\n",
       "      <td>Innovation</td>\n",
       "      <td>Xampla plant-based protein material</td>\n",
       "      <td>A material developed by Xampla that replaces s...</td>\n",
       "      <td>DEVELOPED_BY</td>\n",
       "      <td>temp_35</td>\n",
       "      <td>Organization</td>\n",
       "      <td>Xampla</td>\n",
       "      <td>A startup company specializing in biomass indu...</td>\n",
       "      <td>https://www.upm.com/articles/beyond-fossils/22...</td>\n",
       "      <td>\\n                Traffic, construction and t...</td>\n",
       "    </tr>\n",
       "  </tbody>\n",
       "</table>\n",
       "</div>"
      ],
      "text/plain": [
       "      Unnamed: 0  Document number                Source Company  \\\n",
       "417          417               62                    VALMET OYJ   \n",
       "5133        5133              975  HAMEEN AMMATTIKORKEAKOULU OY   \n",
       "164          164               33               UPM-KYMMENE OYJ   \n",
       "\n",
       "                               relationship description  \\\n",
       "417   Valmet developed the industrial-scale pyrolize...   \n",
       "5133  The KieMaRa-hanke innovation was developed and...   \n",
       "164   The innovation 'Xampla plant-based protein mat...   \n",
       "\n",
       "                                source id source type  \\\n",
       "417                       pyrolizer plant  Innovation   \n",
       "5133                        KieMaRa-hanke  Innovation   \n",
       "164   Xampla plant-based protein material  Innovation   \n",
       "\n",
       "                        source english_id  \\\n",
       "417                       pyrolizer plant   \n",
       "5133                        KieMaRa-hanke   \n",
       "164   Xampla plant-based protein material   \n",
       "\n",
       "                                     source description relationship type  \\\n",
       "417   An industrial-scale plant to be delivered to C...      DEVELOPED_BY   \n",
       "5133  Comprehensive circular economy concepts and so...      DEVELOPED_BY   \n",
       "164   A material developed by Xampla that replaces s...      DEVELOPED_BY   \n",
       "\n",
       "       target id   target type          target english_id  \\\n",
       "417   FI25530198  Organization         Beyond Circularity   \n",
       "5133  FI26174893  Organization  Hämeen ammattikorkeakoulu   \n",
       "164      temp_35  Organization                     Xampla   \n",
       "\n",
       "                                     target description  \\\n",
       "417   An ambitious R&D program and ecosystem launche...   \n",
       "5133  A Finnish university of applied sciences contr...   \n",
       "164   A startup company specializing in biomass indu...   \n",
       "\n",
       "                                       Link Source Text  \\\n",
       "417   https://www.valmet.com/insights/articles/susta...   \n",
       "5133             https://www.hamk.fi/projektit/kiemara/   \n",
       "164   https://www.upm.com/articles/beyond-fossils/22...   \n",
       "\n",
       "                                            Source Text  \n",
       "417   Nov 15, 2023 \\r\\n                        Valme...  \n",
       "5133  Kokonaisvaltaisesta kiertotaloudesta maaseudun...  \n",
       "164    \\n                Traffic, construction and t...  "
      ]
     },
     "execution_count": 98,
     "metadata": {},
     "output_type": "execute_result"
    }
   ],
   "source": [
    "print(comp_domain_df.columns)\n",
    "comp_domain_df.sample(n=3)"
   ]
  },
  {
   "cell_type": "code",
   "execution_count": 99,
   "metadata": {},
   "outputs": [
    {
     "name": "stdout",
     "output_type": "stream",
     "text": [
      "Index(['Document number', 'VAT id', 'relationship description', 'source id',\n",
      "       'source type', 'source english_id', 'source description',\n",
      "       'relationship type', 'target id', 'target type', 'target english_id',\n",
      "       'target description', 'Link Source Text', 'Source Text'],\n",
      "      dtype='object')\n"
     ]
    },
    {
     "data": {
      "text/html": [
       "<div>\n",
       "<style scoped>\n",
       "    .dataframe tbody tr th:only-of-type {\n",
       "        vertical-align: middle;\n",
       "    }\n",
       "\n",
       "    .dataframe tbody tr th {\n",
       "        vertical-align: top;\n",
       "    }\n",
       "\n",
       "    .dataframe thead th {\n",
       "        text-align: right;\n",
       "    }\n",
       "</style>\n",
       "<table border=\"1\" class=\"dataframe\">\n",
       "  <thead>\n",
       "    <tr style=\"text-align: right;\">\n",
       "      <th></th>\n",
       "      <th>Document number</th>\n",
       "      <th>VAT id</th>\n",
       "      <th>relationship description</th>\n",
       "      <th>source id</th>\n",
       "      <th>source type</th>\n",
       "      <th>source english_id</th>\n",
       "      <th>source description</th>\n",
       "      <th>relationship type</th>\n",
       "      <th>target id</th>\n",
       "      <th>target type</th>\n",
       "      <th>target english_id</th>\n",
       "      <th>target description</th>\n",
       "      <th>Link Source Text</th>\n",
       "      <th>Source Text</th>\n",
       "    </tr>\n",
       "  </thead>\n",
       "  <tbody>\n",
       "    <tr>\n",
       "      <th>6356</th>\n",
       "      <td>845</td>\n",
       "      <td>FI19274001</td>\n",
       "      <td>Vaasa participated in developing the data-base...</td>\n",
       "      <td>data-based framework for assessing social sust...</td>\n",
       "      <td>Innovation</td>\n",
       "      <td>data-based framework for assessing social sust...</td>\n",
       "      <td>A newly developed framework that helps assess ...</td>\n",
       "      <td>DEVELOPED_BY</td>\n",
       "      <td>FI02096026</td>\n",
       "      <td>Organization</td>\n",
       "      <td>Vaasa</td>\n",
       "      <td>An organization collaborating in the Sustainab...</td>\n",
       "      <td>https://www.vttresearch.com/en/project_news/wh...</td>\n",
       "      <td>Skip to main content Beyond the obvious Open m...</td>\n",
       "    </tr>\n",
       "    <tr>\n",
       "      <th>8666</th>\n",
       "      <td>1224</td>\n",
       "      <td>FI19274001</td>\n",
       "      <td>The innovation 'VTT:n innovaatio uudistaa pakk...</td>\n",
       "      <td>VTT:n innovaatio uudistaa pakkaukset - näytta...</td>\n",
       "      <td>Innovation</td>\n",
       "      <td>VTT:n innovaatio uudistaa pakkaukset - näytta...</td>\n",
       "      <td>An innovation by VTT that renovates packaging ...</td>\n",
       "      <td>DEVELOPED_BY</td>\n",
       "      <td>FI26473754</td>\n",
       "      <td>Organization</td>\n",
       "      <td>VTT</td>\n",
       "      <td>VTT is a visionary research, development and i...</td>\n",
       "      <td>https://www.vttresearch.com/fi/uutiset-ja-tari...</td>\n",
       "      <td>Hyppää pääsisältöön Beyond the obvious ...</td>\n",
       "    </tr>\n",
       "    <tr>\n",
       "      <th>3047</th>\n",
       "      <td>428</td>\n",
       "      <td>FI32297208</td>\n",
       "      <td>VTT is participating in the development of com...</td>\n",
       "      <td>components and their fabrication technologies ...</td>\n",
       "      <td>Innovation</td>\n",
       "      <td>components and their fabrication technologies ...</td>\n",
       "      <td>Development of components and their fabricatio...</td>\n",
       "      <td>DEVELOPED_BY</td>\n",
       "      <td>FI26473754</td>\n",
       "      <td>Organization</td>\n",
       "      <td>VTT</td>\n",
       "      <td>A visionary research and innovation partner fo...</td>\n",
       "      <td>https://www.vttresearch.com/en/news-and-ideas/...</td>\n",
       "      <td>Skip to main content Beyond the obvious Open m...</td>\n",
       "    </tr>\n",
       "  </tbody>\n",
       "</table>\n",
       "</div>"
      ],
      "text/plain": [
       "      Document number      VAT id  \\\n",
       "6356              845  FI19274001   \n",
       "8666             1224  FI19274001   \n",
       "3047              428  FI32297208   \n",
       "\n",
       "                               relationship description  \\\n",
       "6356  Vaasa participated in developing the data-base...   \n",
       "8666  The innovation 'VTT:n innovaatio uudistaa pakk...   \n",
       "3047  VTT is participating in the development of com...   \n",
       "\n",
       "                                              source id source type  \\\n",
       "6356  data-based framework for assessing social sust...  Innovation   \n",
       "8666  VTT:n innovaatio uudistaa pakkaukset - näytta...  Innovation   \n",
       "3047  components and their fabrication technologies ...  Innovation   \n",
       "\n",
       "                                      source english_id  \\\n",
       "6356  data-based framework for assessing social sust...   \n",
       "8666  VTT:n innovaatio uudistaa pakkaukset - näytta...   \n",
       "3047  components and their fabrication technologies ...   \n",
       "\n",
       "                                     source description relationship type  \\\n",
       "6356  A newly developed framework that helps assess ...      DEVELOPED_BY   \n",
       "8666  An innovation by VTT that renovates packaging ...      DEVELOPED_BY   \n",
       "3047  Development of components and their fabricatio...      DEVELOPED_BY   \n",
       "\n",
       "       target id   target type target english_id  \\\n",
       "6356  FI02096026  Organization             Vaasa   \n",
       "8666  FI26473754  Organization               VTT   \n",
       "3047  FI26473754  Organization               VTT   \n",
       "\n",
       "                                     target description  \\\n",
       "6356  An organization collaborating in the Sustainab...   \n",
       "8666  VTT is a visionary research, development and i...   \n",
       "3047  A visionary research and innovation partner fo...   \n",
       "\n",
       "                                       Link Source Text  \\\n",
       "6356  https://www.vttresearch.com/en/project_news/wh...   \n",
       "8666  https://www.vttresearch.com/fi/uutiset-ja-tari...   \n",
       "3047  https://www.vttresearch.com/en/news-and-ideas/...   \n",
       "\n",
       "                                            Source Text  \n",
       "6356  Skip to main content Beyond the obvious Open m...  \n",
       "8666  Hyppää pääsisältöön Beyond the obvious ...  \n",
       "3047  Skip to main content Beyond the obvious Open m...  "
      ]
     },
     "execution_count": 99,
     "metadata": {},
     "output_type": "execute_result"
    }
   ],
   "source": [
    "print(vtt_domain_df.columns)\n",
    "vtt_domain_df.sample(n=3)"
   ]
  },
  {
   "cell_type": "code",
   "execution_count": 100,
   "metadata": {},
   "outputs": [],
   "source": [
    "def create_text_to_compare(df):\n",
    "\n",
    "    text_to_compare = df[\"source id\"] + \" - \" + df[\"source description\"].fillna(\"\") + \" | Developed by \" + df[\"target id\"].fillna(\"\")\n",
    "    return text_to_compare"
   ]
  },
  {
   "cell_type": "code",
   "execution_count": 101,
   "metadata": {},
   "outputs": [
    {
     "name": "stdout",
     "output_type": "stream",
     "text": [
      "Comp domain df length: 1912  - VTT domain df length: 1504\n",
      "Example of text to compare: FiR 1 - FiR 1 is a Triga-type nuclear research reactor located in Otaniemi, Espoo, Finland, decommissioned by VTT after serving since 1962, used for nuclear research, training, and medical radiation therapy. | Developed by FI26473754\n"
     ]
    }
   ],
   "source": [
    "# Clean the VTT domain df.\n",
    "\n",
    "vtt_domain_df[\"text_to_compare\"] = create_text_to_compare(vtt_domain_df)\n",
    "\n",
    "vtt_domain_df = vtt_domain_df[vtt_domain_df[\"source type\"] != \"Organization\"]\n",
    "vtt_domain_df = vtt_domain_df.drop_duplicates(subset=\"source description\", keep=\"first\")\n",
    "\n",
    "# Clean the comp domain df.\n",
    "\n",
    "comp_domain_df[\"text_to_compare\"] = create_text_to_compare(comp_domain_df)\n",
    "\n",
    "comp_domain_df = comp_domain_df[comp_domain_df[\"source type\"] != \"Organization\"]\n",
    "comp_domain_df = comp_domain_df.drop_duplicates(subset=\"source description\", keep=\"first\")\n",
    "\n",
    "print(\"Comp domain df length:\", len(comp_domain_df), \" - VTT domain df length:\", len(vtt_domain_df))\n",
    "print(\"Example of text to compare:\", vtt_domain_df.iloc[0][\"text_to_compare\"])"
   ]
  },
  {
   "cell_type": "markdown",
   "metadata": {},
   "source": [
    "Embed everything."
   ]
  },
  {
   "cell_type": "code",
   "execution_count": 102,
   "metadata": {},
   "outputs": [],
   "source": [
    "vtt_embeddings = model.encode(vtt_domain_df[\"text_to_compare\"].tolist(), convert_to_tensor=True)\n",
    "comp_embeddings = model.encode(comp_domain_df[\"text_to_compare\"].tolist(), convert_to_tensor=True)"
   ]
  },
  {
   "cell_type": "code",
   "execution_count": 69,
   "metadata": {},
   "outputs": [
    {
     "name": "stdout",
     "output_type": "stream",
     "text": [
      "Comparing entries pair by pair...\n"
     ]
    },
    {
     "name": "stderr",
     "output_type": "stream",
     "text": [
      "  0%|          | 0/1504 [00:00<?, ?it/s]"
     ]
    },
    {
     "name": "stdout",
     "output_type": "stream",
     "text": [
      "Document number                                                             0\n",
      "VAT id                                                             FI10292588\n",
      "relationship description    FiR 1 nuclear research reactor was developed, ...\n",
      "source id                                                               FiR 1\n",
      "source type                                                        Innovation\n",
      "source english_id                                                       FiR 1\n",
      "source description          FiR 1 is a Triga-type nuclear research reactor...\n",
      "relationship type                                                DEVELOPED_BY\n",
      "target id                                                          FI26473754\n",
      "target type                                                      Organization\n",
      "target english_id               VTT Technical Research Centre of Finland Ltd.\n",
      "target description          VTT is a Finnish research and innovation partn...\n",
      "Link Source Text            https://www.vttresearch.com/en/news-and-ideas/...\n",
      "Source Text                 Skip to main content Beyond the obvious Open m...\n",
      "text_to_compare             FiR 1 is a Triga-type nuclear research reactor...\n",
      "Name: 0, dtype: object\n",
      "\n",
      "Similarity: 0.828 | From: 1 To: 880\n"
     ]
    },
    {
     "name": "stderr",
     "output_type": "stream",
     "text": [
      "\n"
     ]
    },
    {
     "ename": "AttributeError",
     "evalue": "'Series' object has no attribute 'columns'",
     "output_type": "error",
     "traceback": [
      "\u001b[0;31m---------------------------------------------------------------------------\u001b[0m",
      "\u001b[0;31mAttributeError\u001b[0m                            Traceback (most recent call last)",
      "\u001b[0;32m/var/folders/7q/kdwv3c991lb35j5ylg3p275m0000gn/T/ipykernel_54708/1134501346.py\u001b[0m in \u001b[0;36m?\u001b[0;34m()\u001b[0m\n\u001b[1;32m     13\u001b[0m         \u001b[0msim\u001b[0m \u001b[0;34m=\u001b[0m \u001b[0mutil\u001b[0m\u001b[0;34m.\u001b[0m\u001b[0mcos_sim\u001b[0m\u001b[0;34m(\u001b[0m\u001b[0mvtt_embeddings\u001b[0m\u001b[0;34m[\u001b[0m\u001b[0mi\u001b[0m\u001b[0;34m]\u001b[0m\u001b[0;34m,\u001b[0m \u001b[0mcomp_embeddings\u001b[0m\u001b[0;34m[\u001b[0m\u001b[0mj\u001b[0m\u001b[0;34m]\u001b[0m\u001b[0;34m)\u001b[0m\u001b[0;34m.\u001b[0m\u001b[0mitem\u001b[0m\u001b[0;34m(\u001b[0m\u001b[0;34m)\u001b[0m\u001b[0;34m\u001b[0m\u001b[0;34m\u001b[0m\u001b[0m\n\u001b[1;32m     14\u001b[0m \u001b[0;34m\u001b[0m\u001b[0m\n\u001b[1;32m     15\u001b[0m         \u001b[0;32mif\u001b[0m \u001b[0msim\u001b[0m \u001b[0;34m>\u001b[0m \u001b[0mthreshold\u001b[0m\u001b[0;34m:\u001b[0m\u001b[0;34m\u001b[0m\u001b[0;34m\u001b[0m\u001b[0m\n\u001b[1;32m     16\u001b[0m             \u001b[0mi_elem\u001b[0m \u001b[0;34m=\u001b[0m \u001b[0mvtt_domain_df\u001b[0m\u001b[0;34m.\u001b[0m\u001b[0miloc\u001b[0m\u001b[0;34m[\u001b[0m\u001b[0mi\u001b[0m\u001b[0;34m]\u001b[0m\u001b[0;34m\u001b[0m\u001b[0;34m\u001b[0m\u001b[0m\n\u001b[0;32m---> 17\u001b[0;31m             \u001b[0mj_elem\u001b[0m \u001b[0;34m=\u001b[0m \u001b[0mcomp_domain_df\u001b[0m\u001b[0;34m.\u001b[0m\u001b[0miloc\u001b[0m\u001b[0;34m[\u001b[0m\u001b[0mj\u001b[0m\u001b[0;34m]\u001b[0m\u001b[0;34m\u001b[0m\u001b[0;34m\u001b[0m\u001b[0m\n\u001b[0m\u001b[1;32m     18\u001b[0m             \u001b[0msource_i\u001b[0m \u001b[0;34m=\u001b[0m \u001b[0mi_elem\u001b[0m\u001b[0;34m[\u001b[0m\u001b[0;34m\"text_to_compare\"\u001b[0m\u001b[0;34m]\u001b[0m\u001b[0;34m\u001b[0m\u001b[0;34m\u001b[0m\u001b[0m\n\u001b[1;32m     19\u001b[0m             \u001b[0msource_j\u001b[0m \u001b[0;34m=\u001b[0m \u001b[0mj_elem\u001b[0m\u001b[0;34m[\u001b[0m\u001b[0;34m\"text_to_compare\"\u001b[0m\u001b[0;34m]\u001b[0m\u001b[0;34m\u001b[0m\u001b[0;34m\u001b[0m\u001b[0m\n\u001b[1;32m     20\u001b[0m             \u001b[0mprint\u001b[0m\u001b[0;34m(\u001b[0m\u001b[0mi_elem\u001b[0m\u001b[0;34m)\u001b[0m\u001b[0;34m\u001b[0m\u001b[0;34m\u001b[0m\u001b[0m\n",
      "\u001b[0;32m~/Library/Python/3.9/lib/python/site-packages/pandas/core/generic.py\u001b[0m in \u001b[0;36m?\u001b[0;34m(self, name)\u001b[0m\n\u001b[1;32m   6295\u001b[0m             \u001b[0;32mand\u001b[0m \u001b[0mname\u001b[0m \u001b[0;32mnot\u001b[0m \u001b[0;32min\u001b[0m \u001b[0mself\u001b[0m\u001b[0;34m.\u001b[0m\u001b[0m_accessors\u001b[0m\u001b[0;34m\u001b[0m\u001b[0;34m\u001b[0m\u001b[0m\n\u001b[1;32m   6296\u001b[0m             \u001b[0;32mand\u001b[0m \u001b[0mself\u001b[0m\u001b[0;34m.\u001b[0m\u001b[0m_info_axis\u001b[0m\u001b[0;34m.\u001b[0m\u001b[0m_can_hold_identifiers_and_holds_name\u001b[0m\u001b[0;34m(\u001b[0m\u001b[0mname\u001b[0m\u001b[0;34m)\u001b[0m\u001b[0;34m\u001b[0m\u001b[0;34m\u001b[0m\u001b[0m\n\u001b[1;32m   6297\u001b[0m         ):\n\u001b[1;32m   6298\u001b[0m             \u001b[0;32mreturn\u001b[0m \u001b[0mself\u001b[0m\u001b[0;34m[\u001b[0m\u001b[0mname\u001b[0m\u001b[0;34m]\u001b[0m\u001b[0;34m\u001b[0m\u001b[0;34m\u001b[0m\u001b[0m\n\u001b[0;32m-> 6299\u001b[0;31m         \u001b[0;32mreturn\u001b[0m \u001b[0mobject\u001b[0m\u001b[0;34m.\u001b[0m\u001b[0m__getattribute__\u001b[0m\u001b[0;34m(\u001b[0m\u001b[0mself\u001b[0m\u001b[0;34m,\u001b[0m \u001b[0mname\u001b[0m\u001b[0;34m)\u001b[0m\u001b[0;34m\u001b[0m\u001b[0;34m\u001b[0m\u001b[0m\n\u001b[0m",
      "\u001b[0;31mAttributeError\u001b[0m: 'Series' object has no attribute 'columns'"
     ]
    }
   ],
   "source": [
    "threshold = 0.80\n",
    "similar_pairs = []\n",
    "\n",
    "print(\"Comparing entries pair by pair...\")\n",
    "\n",
    "for i in tqdm(range(len(vtt_embeddings))):\n",
    "    for j in range(i + 1, len(comp_embeddings)):\n",
    "        sim = util.cos_sim(vtt_embeddings[i], comp_embeddings[j]).item()\n",
    "        \n",
    "        if sim > threshold:\n",
    "            i_elem = vtt_domain_df.iloc[i]\n",
    "            j_elem = comp_domain_df.iloc[j]\n",
    "            source_i = i_elem[\"text_to_compare\"]\n",
    "            source_j = j_elem[\"text_to_compare\"]\n",
    "            \n",
    "            print(f\"\\nSimilarity: {sim:.3f} | From: {i+1} To: {j+1}\")\n",
    "            print(f\"→ Source {i+1} description: {source_i} and columns: {i_elem.index}\")\n",
    "            print(f\"→ Source {j+1} description: {source_j} and columns: {j_elem.index}\")\n",
    "            \n",
    "            \n",
    "            similar_pairs.append((i, j, sim))\n",
    "\n",
    "# Output results\n",
    "print(f\"\\nFound {len(similar_pairs)} high-similarity pairs (> {threshold}):\")\n",
    "for i, j, score in similar_pairs:\n",
    "    print(f\"[{i}] '{df.iloc[i]['source english_id']}' <--> [{j}] '{df.iloc[j]['source english_id']}' | Similarity: {score:.3f}\")"
   ]
  }
 ],
 "metadata": {
  "kernelspec": {
   "display_name": "Python 3",
   "language": "python",
   "name": "python3"
  },
  "language_info": {
   "codemirror_mode": {
    "name": "ipython",
    "version": 3
   },
   "file_extension": ".py",
   "mimetype": "text/x-python",
   "name": "python",
   "nbconvert_exporter": "python",
   "pygments_lexer": "ipython3",
   "version": "3.9.6"
  }
 },
 "nbformat": 4,
 "nbformat_minor": 2
}
