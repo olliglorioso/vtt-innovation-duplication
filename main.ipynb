{
 "cells": [
  {
   "cell_type": "code",
   "execution_count": 1,
   "metadata": {},
   "outputs": [
    {
     "name": "stderr",
     "output_type": "stream",
     "text": [
      "/Users/olliglorioso/Library/Python/3.9/lib/python/site-packages/urllib3/__init__.py:35: NotOpenSSLWarning: urllib3 v2 only supports OpenSSL 1.1.1+, currently the 'ssl' module is compiled with 'LibreSSL 2.8.3'. See: https://github.com/urllib3/urllib3/issues/3020\n",
      "  warnings.warn(\n",
      "/Users/olliglorioso/Library/Python/3.9/lib/python/site-packages/tqdm/auto.py:21: TqdmWarning: IProgress not found. Please update jupyter and ipywidgets. See https://ipywidgets.readthedocs.io/en/stable/user_install.html\n",
      "  from .autonotebook import tqdm as notebook_tqdm\n"
     ]
    }
   ],
   "source": [
    "from sentence_transformers import SentenceTransformer, util\n",
    "import pandas as pd\n",
    "from tqdm import tqdm\n",
    "from langchain_openai import AzureOpenAIEmbeddings\n",
    "import json\n",
    "import numpy as np"
   ]
  },
  {
   "cell_type": "markdown",
   "metadata": {},
   "source": [
    "Let's fetch the dataframes."
   ]
  },
  {
   "cell_type": "code",
   "execution_count": 2,
   "metadata": {},
   "outputs": [
    {
     "name": "stdout",
     "output_type": "stream",
     "text": [
      "Comp domain df length: 1912  - VTT domain df length: 4927\n",
      "Example of text to compare: FiR 1 - FiR 1 is a Triga-type nuclear research reactor located in Otaniemi, Espoo, Finland, decommissioned by VTT after serving since 1962, used for nuclear research, training, and medical radiation therapy. | Developed by VTT Technical Research Centre of Finland Ltd.\n"
     ]
    },
    {
     "data": {
      "text/html": [
       "<div>\n",
       "<style scoped>\n",
       "    .dataframe tbody tr th:only-of-type {\n",
       "        vertical-align: middle;\n",
       "    }\n",
       "\n",
       "    .dataframe tbody tr th {\n",
       "        vertical-align: top;\n",
       "    }\n",
       "\n",
       "    .dataframe thead th {\n",
       "        text-align: right;\n",
       "    }\n",
       "</style>\n",
       "<table border=\"1\" class=\"dataframe\">\n",
       "  <thead>\n",
       "    <tr style=\"text-align: right;\">\n",
       "      <th></th>\n",
       "      <th>Unnamed: 0.1</th>\n",
       "      <th>Document number</th>\n",
       "      <th>VAT id</th>\n",
       "      <th>relationship description</th>\n",
       "      <th>source id</th>\n",
       "      <th>source type</th>\n",
       "      <th>source english_id</th>\n",
       "      <th>source description</th>\n",
       "      <th>relationship type</th>\n",
       "      <th>target id</th>\n",
       "      <th>target type</th>\n",
       "      <th>target english_id</th>\n",
       "      <th>target description</th>\n",
       "      <th>Link Source Text</th>\n",
       "      <th>Source Text</th>\n",
       "      <th>text_to_compare</th>\n",
       "      <th>Unnamed: 0</th>\n",
       "      <th>Source Company</th>\n",
       "    </tr>\n",
       "  </thead>\n",
       "  <tbody>\n",
       "    <tr>\n",
       "      <th>3221</th>\n",
       "      <td>3221</td>\n",
       "      <td>VTT822</td>\n",
       "      <td>FI04205273</td>\n",
       "      <td>Natlink Oy, owning the Tracker brand, develope...</td>\n",
       "      <td>cyber-physical hunting safety solutions</td>\n",
       "      <td>Innovation</td>\n",
       "      <td>cyber-physical hunting safety solutions</td>\n",
       "      <td>Innovative solutions developed by Natlink Oy a...</td>\n",
       "      <td>DEVELOPED_BY</td>\n",
       "      <td>FI04205273</td>\n",
       "      <td>Organization</td>\n",
       "      <td>Natlink Oy</td>\n",
       "      <td>Natlink Oy is an organization owning the Track...</td>\n",
       "      <td>https://www.vttresearch.com/fi/uutiset-ja-tari...</td>\n",
       "      <td>Hyppää pääsisältöön Beyond the obvious ...</td>\n",
       "      <td>cyber-physical hunting safety solutions - Inno...</td>\n",
       "      <td>NaN</td>\n",
       "      <td>NaN</td>\n",
       "    </tr>\n",
       "    <tr>\n",
       "      <th>2918</th>\n",
       "      <td>2918</td>\n",
       "      <td>VTT747</td>\n",
       "      <td>FI06259056</td>\n",
       "      <td>The EcoSMR innovation was developed with parti...</td>\n",
       "      <td>EcoSMR</td>\n",
       "      <td>Innovation</td>\n",
       "      <td>EcoSMR</td>\n",
       "      <td>A Finnish ecosystem for Small Modular Reactors...</td>\n",
       "      <td>DEVELOPED_BY</td>\n",
       "      <td>FI01966560</td>\n",
       "      <td>Organization</td>\n",
       "      <td>Teollisuuden Voima Oyj</td>\n",
       "      <td>A Finnish energy company and a business partne...</td>\n",
       "      <td>https://www.vttresearch.com/en/news-and-ideas/...</td>\n",
       "      <td>Skip to main content Beyond the obvious Open m...</td>\n",
       "      <td>EcoSMR - A Finnish ecosystem for Small Modular...</td>\n",
       "      <td>NaN</td>\n",
       "      <td>NaN</td>\n",
       "    </tr>\n",
       "    <tr>\n",
       "      <th>5581</th>\n",
       "      <td>5581</td>\n",
       "      <td>COMP441</td>\n",
       "      <td>NaN</td>\n",
       "      <td>The PV-KK-S blast valve is developed and offer...</td>\n",
       "      <td>PV-KK-S blast valve</td>\n",
       "      <td>Innovation</td>\n",
       "      <td>PV-KK-S blast valve</td>\n",
       "      <td>An application of the PV-KK blast valve design...</td>\n",
       "      <td>DEVELOPED_BY</td>\n",
       "      <td>FI22223934</td>\n",
       "      <td>Organization</td>\n",
       "      <td>Halton Marine</td>\n",
       "      <td>A company that offers the PV-KK-S blast valve ...</td>\n",
       "      <td>https://www.halton.com/wp-content/uploads/2020...</td>\n",
       "      <td>79\\nBLAST VALVE â¢ PV-KK-SPV-KK-S    \\nAPPLIC...</td>\n",
       "      <td>PV-KK-S blast valve - An application of the PV...</td>\n",
       "      <td>2493.0</td>\n",
       "      <td>HALTON VENTURES OY</td>\n",
       "    </tr>\n",
       "  </tbody>\n",
       "</table>\n",
       "</div>"
      ],
      "text/plain": [
       "      Unnamed: 0.1 Document number      VAT id  \\\n",
       "3221          3221          VTT822  FI04205273   \n",
       "2918          2918          VTT747  FI06259056   \n",
       "5581          5581         COMP441         NaN   \n",
       "\n",
       "                               relationship description  \\\n",
       "3221  Natlink Oy, owning the Tracker brand, develope...   \n",
       "2918  The EcoSMR innovation was developed with parti...   \n",
       "5581  The PV-KK-S blast valve is developed and offer...   \n",
       "\n",
       "                                    source id source type  \\\n",
       "3221  cyber-physical hunting safety solutions  Innovation   \n",
       "2918                                   EcoSMR  Innovation   \n",
       "5581                      PV-KK-S blast valve  Innovation   \n",
       "\n",
       "                            source english_id  \\\n",
       "3221  cyber-physical hunting safety solutions   \n",
       "2918                                   EcoSMR   \n",
       "5581                      PV-KK-S blast valve   \n",
       "\n",
       "                                     source description relationship type  \\\n",
       "3221  Innovative solutions developed by Natlink Oy a...      DEVELOPED_BY   \n",
       "2918  A Finnish ecosystem for Small Modular Reactors...      DEVELOPED_BY   \n",
       "5581  An application of the PV-KK blast valve design...      DEVELOPED_BY   \n",
       "\n",
       "       target id   target type       target english_id  \\\n",
       "3221  FI04205273  Organization              Natlink Oy   \n",
       "2918  FI01966560  Organization  Teollisuuden Voima Oyj   \n",
       "5581  FI22223934  Organization           Halton Marine   \n",
       "\n",
       "                                     target description  \\\n",
       "3221  Natlink Oy is an organization owning the Track...   \n",
       "2918  A Finnish energy company and a business partne...   \n",
       "5581  A company that offers the PV-KK-S blast valve ...   \n",
       "\n",
       "                                       Link Source Text  \\\n",
       "3221  https://www.vttresearch.com/fi/uutiset-ja-tari...   \n",
       "2918  https://www.vttresearch.com/en/news-and-ideas/...   \n",
       "5581  https://www.halton.com/wp-content/uploads/2020...   \n",
       "\n",
       "                                            Source Text  \\\n",
       "3221  Hyppää pääsisältöön Beyond the obvious ...   \n",
       "2918  Skip to main content Beyond the obvious Open m...   \n",
       "5581  79\\nBLAST VALVE â¢ PV-KK-SPV-KK-S    \\nAPPLIC...   \n",
       "\n",
       "                                        text_to_compare  Unnamed: 0  \\\n",
       "3221  cyber-physical hunting safety solutions - Inno...         NaN   \n",
       "2918  EcoSMR - A Finnish ecosystem for Small Modular...         NaN   \n",
       "5581  PV-KK-S blast valve - An application of the PV...      2493.0   \n",
       "\n",
       "          Source Company  \n",
       "3221                 NaN  \n",
       "2918                 NaN  \n",
       "5581  HALTON VENTURES OY  "
      ]
     },
     "execution_count": 2,
     "metadata": {},
     "output_type": "execute_result"
    }
   ],
   "source": [
    "from data_extractor import Extractor\n",
    "extractor_instance = Extractor()\n",
    "extractor_instance.extract(location=\"./data/results/df_combined.csv\")\n",
    "\n",
    "df_combined = pd.read_csv(\"data/results/df_combined.csv\")\n",
    "df_combined.sample(n=3)"
   ]
  },
  {
   "cell_type": "code",
   "execution_count": 3,
   "metadata": {},
   "outputs": [
    {
     "name": "stderr",
     "output_type": "stream",
     "text": [
      "2025-05-31 14:27:06,148 - INFO - Initialized OpenAI embedding model with key: gpt-4.1-mini\n",
      "2025-05-31 14:27:06,148 - INFO - Loading data from data/results/df_combined.csv\n",
      "2025-05-31 14:27:06,496 - INFO - Loaded 6839 rows from input file\n",
      "2025-05-31 14:27:06,497 - INFO - Prepared 6839 texts for embedding generation\n",
      "2025-05-31 14:27:06,497 - INFO - Generating embeddings for 6839 texts using OpenAI API\n",
      "Processing batches:   0%|          | 0/69 [00:00<?, ?it/s]2025-05-31 14:27:11,288 - INFO - HTTP Request: POST https://aaltoaihack25-resource.cognitiveservices.azure.com/openai/deployments/text-embedding-3-large/embeddings?api-version=2024-12-01-preview \"HTTP/1.1 200 OK\"\n",
      "Processing batches:   1%|▏         | 1/69 [00:05<05:56,  5.25s/it]2025-05-31 14:27:12,128 - INFO - HTTP Request: POST https://aaltoaihack25-resource.cognitiveservices.azure.com/openai/deployments/text-embedding-3-large/embeddings?api-version=2024-12-01-preview \"HTTP/1.1 200 OK\"\n",
      "Processing batches:   3%|▎         | 2/69 [00:06<02:56,  2.63s/it]2025-05-31 14:27:12,976 - INFO - HTTP Request: POST https://aaltoaihack25-resource.cognitiveservices.azure.com/openai/deployments/text-embedding-3-large/embeddings?api-version=2024-12-01-preview \"HTTP/1.1 200 OK\"\n",
      "Processing batches:   4%|▍         | 3/69 [00:06<01:58,  1.80s/it]2025-05-31 14:27:13,724 - INFO - HTTP Request: POST https://aaltoaihack25-resource.cognitiveservices.azure.com/openai/deployments/text-embedding-3-large/embeddings?api-version=2024-12-01-preview \"HTTP/1.1 200 OK\"\n",
      "Processing batches:   6%|▌         | 4/69 [00:07<01:32,  1.42s/it]2025-05-31 14:27:14,564 - INFO - HTTP Request: POST https://aaltoaihack25-resource.cognitiveservices.azure.com/openai/deployments/text-embedding-3-large/embeddings?api-version=2024-12-01-preview \"HTTP/1.1 200 OK\"\n",
      "Processing batches:   7%|▋         | 5/69 [00:08<01:14,  1.17s/it]2025-05-31 14:27:15,347 - INFO - HTTP Request: POST https://aaltoaihack25-resource.cognitiveservices.azure.com/openai/deployments/text-embedding-3-large/embeddings?api-version=2024-12-01-preview \"HTTP/1.1 200 OK\"\n",
      "Processing batches:   9%|▊         | 6/69 [00:09<01:08,  1.09s/it]2025-05-31 14:27:16,221 - INFO - HTTP Request: POST https://aaltoaihack25-resource.cognitiveservices.azure.com/openai/deployments/text-embedding-3-large/embeddings?api-version=2024-12-01-preview \"HTTP/1.1 200 OK\"\n",
      "Processing batches:  10%|█         | 7/69 [00:10<01:02,  1.01s/it]2025-05-31 14:27:17,293 - INFO - HTTP Request: POST https://aaltoaihack25-resource.cognitiveservices.azure.com/openai/deployments/text-embedding-3-large/embeddings?api-version=2024-12-01-preview \"HTTP/1.1 200 OK\"\n",
      "Processing batches:  12%|█▏        | 8/69 [00:11<01:02,  1.02s/it]2025-05-31 14:27:18,316 - INFO - HTTP Request: POST https://aaltoaihack25-resource.cognitiveservices.azure.com/openai/deployments/text-embedding-3-large/embeddings?api-version=2024-12-01-preview \"HTTP/1.1 200 OK\"\n",
      "Processing batches:  13%|█▎        | 9/69 [00:12<01:01,  1.03s/it]2025-05-31 14:27:19,443 - INFO - HTTP Request: POST https://aaltoaihack25-resource.cognitiveservices.azure.com/openai/deployments/text-embedding-3-large/embeddings?api-version=2024-12-01-preview \"HTTP/1.1 200 OK\"\n",
      "Processing batches:  14%|█▍        | 10/69 [00:13<01:02,  1.06s/it]2025-05-31 14:27:20,469 - INFO - HTTP Request: POST https://aaltoaihack25-resource.cognitiveservices.azure.com/openai/deployments/text-embedding-3-large/embeddings?api-version=2024-12-01-preview \"HTTP/1.1 200 OK\"\n",
      "Processing batches:  16%|█▌        | 11/69 [00:14<01:00,  1.05s/it]2025-05-31 14:27:21,386 - INFO - HTTP Request: POST https://aaltoaihack25-resource.cognitiveservices.azure.com/openai/deployments/text-embedding-3-large/embeddings?api-version=2024-12-01-preview \"HTTP/1.1 200 OK\"\n",
      "Processing batches:  17%|█▋        | 12/69 [00:15<00:56,  1.01it/s]2025-05-31 14:27:22,515 - INFO - HTTP Request: POST https://aaltoaihack25-resource.cognitiveservices.azure.com/openai/deployments/text-embedding-3-large/embeddings?api-version=2024-12-01-preview \"HTTP/1.1 200 OK\"\n",
      "Processing batches:  19%|█▉        | 13/69 [00:16<00:58,  1.05s/it]2025-05-31 14:27:23,538 - INFO - HTTP Request: POST https://aaltoaihack25-resource.cognitiveservices.azure.com/openai/deployments/text-embedding-3-large/embeddings?api-version=2024-12-01-preview \"HTTP/1.1 200 OK\"\n",
      "Processing batches:  20%|██        | 14/69 [00:17<00:57,  1.05s/it]2025-05-31 14:27:24,564 - INFO - HTTP Request: POST https://aaltoaihack25-resource.cognitiveservices.azure.com/openai/deployments/text-embedding-3-large/embeddings?api-version=2024-12-01-preview \"HTTP/1.1 200 OK\"\n",
      "Processing batches:  22%|██▏       | 15/69 [00:18<00:55,  1.03s/it]2025-05-31 14:27:25,586 - INFO - HTTP Request: POST https://aaltoaihack25-resource.cognitiveservices.azure.com/openai/deployments/text-embedding-3-large/embeddings?api-version=2024-12-01-preview \"HTTP/1.1 200 OK\"\n",
      "Processing batches:  23%|██▎       | 16/69 [00:19<00:52,  1.01it/s]2025-05-31 14:27:26,339 - INFO - HTTP Request: POST https://aaltoaihack25-resource.cognitiveservices.azure.com/openai/deployments/text-embedding-3-large/embeddings?api-version=2024-12-01-preview \"HTTP/1.1 200 OK\"\n",
      "Processing batches:  25%|██▍       | 17/69 [00:20<00:51,  1.01it/s]2025-05-31 14:27:27,285 - INFO - HTTP Request: POST https://aaltoaihack25-resource.cognitiveservices.azure.com/openai/deployments/text-embedding-3-large/embeddings?api-version=2024-12-01-preview \"HTTP/1.1 200 OK\"\n",
      "Processing batches:  26%|██▌       | 18/69 [00:21<00:47,  1.08it/s]2025-05-31 14:27:28,029 - INFO - HTTP Request: POST https://aaltoaihack25-resource.cognitiveservices.azure.com/openai/deployments/text-embedding-3-large/embeddings?api-version=2024-12-01-preview \"HTTP/1.1 200 OK\"\n",
      "Processing batches:  28%|██▊       | 19/69 [00:21<00:44,  1.13it/s]2025-05-31 14:27:28,966 - INFO - HTTP Request: POST https://aaltoaihack25-resource.cognitiveservices.azure.com/openai/deployments/text-embedding-3-large/embeddings?api-version=2024-12-01-preview \"HTTP/1.1 200 OK\"\n",
      "Processing batches:  29%|██▉       | 20/69 [00:22<00:45,  1.09it/s]2025-05-31 14:27:30,094 - INFO - HTTP Request: POST https://aaltoaihack25-resource.cognitiveservices.azure.com/openai/deployments/text-embedding-3-large/embeddings?api-version=2024-12-01-preview \"HTTP/1.1 200 OK\"\n",
      "Processing batches:  30%|███       | 21/69 [00:24<00:45,  1.05it/s]2025-05-31 14:27:31,023 - INFO - HTTP Request: POST https://aaltoaihack25-resource.cognitiveservices.azure.com/openai/deployments/text-embedding-3-large/embeddings?api-version=2024-12-01-preview \"HTTP/1.1 200 OK\"\n",
      "Processing batches:  32%|███▏      | 22/69 [00:24<00:44,  1.05it/s]2025-05-31 14:27:31,935 - INFO - HTTP Request: POST https://aaltoaihack25-resource.cognitiveservices.azure.com/openai/deployments/text-embedding-3-large/embeddings?api-version=2024-12-01-preview \"HTTP/1.1 200 OK\"\n",
      "Processing batches:  33%|███▎      | 23/69 [00:25<00:44,  1.04it/s]2025-05-31 14:27:32,959 - INFO - HTTP Request: POST https://aaltoaihack25-resource.cognitiveservices.azure.com/openai/deployments/text-embedding-3-large/embeddings?api-version=2024-12-01-preview \"HTTP/1.1 200 OK\"\n",
      "Processing batches:  35%|███▍      | 24/69 [00:26<00:42,  1.07it/s]2025-05-31 14:27:33,777 - INFO - HTTP Request: POST https://aaltoaihack25-resource.cognitiveservices.azure.com/openai/deployments/text-embedding-3-large/embeddings?api-version=2024-12-01-preview \"HTTP/1.1 200 OK\"\n",
      "Processing batches:  36%|███▌      | 25/69 [00:27<00:41,  1.07it/s]2025-05-31 14:27:34,700 - INFO - HTTP Request: POST https://aaltoaihack25-resource.cognitiveservices.azure.com/openai/deployments/text-embedding-3-large/embeddings?api-version=2024-12-01-preview \"HTTP/1.1 200 OK\"\n",
      "Processing batches:  38%|███▊      | 26/69 [00:28<00:39,  1.08it/s]2025-05-31 14:27:35,595 - INFO - HTTP Request: POST https://aaltoaihack25-resource.cognitiveservices.azure.com/openai/deployments/text-embedding-3-large/embeddings?api-version=2024-12-01-preview \"HTTP/1.1 200 OK\"\n",
      "Processing batches:  39%|███▉      | 27/69 [00:29<00:40,  1.05it/s]2025-05-31 14:27:36,618 - INFO - HTTP Request: POST https://aaltoaihack25-resource.cognitiveservices.azure.com/openai/deployments/text-embedding-3-large/embeddings?api-version=2024-12-01-preview \"HTTP/1.1 200 OK\"\n",
      "Processing batches:  41%|████      | 28/69 [00:30<00:37,  1.10it/s]2025-05-31 14:27:37,464 - INFO - HTTP Request: POST https://aaltoaihack25-resource.cognitiveservices.azure.com/openai/deployments/text-embedding-3-large/embeddings?api-version=2024-12-01-preview \"HTTP/1.1 200 OK\"\n",
      "Processing batches:  42%|████▏     | 29/69 [00:31<00:36,  1.10it/s]2025-05-31 14:27:38,296 - INFO - HTTP Request: POST https://aaltoaihack25-resource.cognitiveservices.azure.com/openai/deployments/text-embedding-3-large/embeddings?api-version=2024-12-01-preview \"HTTP/1.1 200 OK\"\n",
      "Processing batches:  43%|████▎     | 30/69 [00:32<00:34,  1.12it/s]2025-05-31 14:27:39,205 - INFO - HTTP Request: POST https://aaltoaihack25-resource.cognitiveservices.azure.com/openai/deployments/text-embedding-3-large/embeddings?api-version=2024-12-01-preview \"HTTP/1.1 200 OK\"\n",
      "Processing batches:  45%|████▍     | 31/69 [00:33<00:33,  1.14it/s]2025-05-31 14:27:40,126 - INFO - HTTP Request: POST https://aaltoaihack25-resource.cognitiveservices.azure.com/openai/deployments/text-embedding-3-large/embeddings?api-version=2024-12-01-preview \"HTTP/1.1 200 OK\"\n",
      "Processing batches:  46%|████▋     | 32/69 [00:34<00:34,  1.08it/s]2025-05-31 14:27:41,154 - INFO - HTTP Request: POST https://aaltoaihack25-resource.cognitiveservices.azure.com/openai/deployments/text-embedding-3-large/embeddings?api-version=2024-12-01-preview \"HTTP/1.1 200 OK\"\n",
      "Processing batches:  48%|████▊     | 33/69 [00:35<00:33,  1.06it/s]2025-05-31 14:27:42,321 - INFO - HTTP Request: POST https://aaltoaihack25-resource.cognitiveservices.azure.com/openai/deployments/text-embedding-3-large/embeddings?api-version=2024-12-01-preview \"HTTP/1.1 200 OK\"\n",
      "Processing batches:  49%|████▉     | 34/69 [00:36<00:34,  1.01it/s]2025-05-31 14:27:43,365 - INFO - HTTP Request: POST https://aaltoaihack25-resource.cognitiveservices.azure.com/openai/deployments/text-embedding-3-large/embeddings?api-version=2024-12-01-preview \"HTTP/1.1 200 OK\"\n",
      "Processing batches:  51%|█████     | 35/69 [00:37<00:35,  1.05s/it]2025-05-31 14:27:44,278 - INFO - HTTP Request: POST https://aaltoaihack25-resource.cognitiveservices.azure.com/openai/deployments/text-embedding-3-large/embeddings?api-version=2024-12-01-preview \"HTTP/1.1 200 OK\"\n",
      "Processing batches:  52%|█████▏    | 36/69 [00:38<00:32,  1.01it/s]2025-05-31 14:27:45,181 - INFO - HTTP Request: POST https://aaltoaihack25-resource.cognitiveservices.azure.com/openai/deployments/text-embedding-3-large/embeddings?api-version=2024-12-01-preview \"HTTP/1.1 200 OK\"\n",
      "Processing batches:  54%|█████▎    | 37/69 [00:39<00:30,  1.05it/s]2025-05-31 14:27:46,013 - INFO - HTTP Request: POST https://aaltoaihack25-resource.cognitiveservices.azure.com/openai/deployments/text-embedding-3-large/embeddings?api-version=2024-12-01-preview \"HTTP/1.1 200 OK\"\n",
      "Processing batches:  55%|█████▌    | 38/69 [00:40<00:28,  1.07it/s]2025-05-31 14:27:46,896 - INFO - HTTP Request: POST https://aaltoaihack25-resource.cognitiveservices.azure.com/openai/deployments/text-embedding-3-large/embeddings?api-version=2024-12-01-preview \"HTTP/1.1 200 OK\"\n",
      "Processing batches:  57%|█████▋    | 39/69 [00:40<00:27,  1.09it/s]2025-05-31 14:27:47,798 - INFO - HTTP Request: POST https://aaltoaihack25-resource.cognitiveservices.azure.com/openai/deployments/text-embedding-3-large/embeddings?api-version=2024-12-01-preview \"HTTP/1.1 200 OK\"\n",
      "Processing batches:  58%|█████▊    | 40/69 [00:41<00:26,  1.11it/s]2025-05-31 14:27:48,663 - INFO - HTTP Request: POST https://aaltoaihack25-resource.cognitiveservices.azure.com/openai/deployments/text-embedding-3-large/embeddings?api-version=2024-12-01-preview \"HTTP/1.1 200 OK\"\n",
      "Processing batches:  59%|█████▉    | 41/69 [00:42<00:24,  1.17it/s]2025-05-31 14:27:49,548 - INFO - HTTP Request: POST https://aaltoaihack25-resource.cognitiveservices.azure.com/openai/deployments/text-embedding-3-large/embeddings?api-version=2024-12-01-preview \"HTTP/1.1 200 OK\"\n",
      "Processing batches:  61%|██████    | 42/69 [00:43<00:24,  1.11it/s]2025-05-31 14:27:50,470 - INFO - HTTP Request: POST https://aaltoaihack25-resource.cognitiveservices.azure.com/openai/deployments/text-embedding-3-large/embeddings?api-version=2024-12-01-preview \"HTTP/1.1 200 OK\"\n",
      "Processing batches:  62%|██████▏   | 43/69 [00:44<00:23,  1.10it/s]2025-05-31 14:27:51,347 - INFO - HTTP Request: POST https://aaltoaihack25-resource.cognitiveservices.azure.com/openai/deployments/text-embedding-3-large/embeddings?api-version=2024-12-01-preview \"HTTP/1.1 200 OK\"\n",
      "Processing batches:  64%|██████▍   | 44/69 [00:45<00:22,  1.12it/s]2025-05-31 14:27:52,314 - INFO - HTTP Request: POST https://aaltoaihack25-resource.cognitiveservices.azure.com/openai/deployments/text-embedding-3-large/embeddings?api-version=2024-12-01-preview \"HTTP/1.1 200 OK\"\n",
      "Processing batches:  65%|██████▌   | 45/69 [00:46<00:22,  1.06it/s]2025-05-31 14:27:53,438 - INFO - HTTP Request: POST https://aaltoaihack25-resource.cognitiveservices.azure.com/openai/deployments/text-embedding-3-large/embeddings?api-version=2024-12-01-preview \"HTTP/1.1 200 OK\"\n",
      "Processing batches:  67%|██████▋   | 46/69 [00:47<00:22,  1.04it/s]2025-05-31 14:27:54,261 - INFO - HTTP Request: POST https://aaltoaihack25-resource.cognitiveservices.azure.com/openai/deployments/text-embedding-3-large/embeddings?api-version=2024-12-01-preview \"HTTP/1.1 200 OK\"\n",
      "Processing batches:  68%|██████▊   | 47/69 [00:48<00:20,  1.07it/s]2025-05-31 14:27:55,183 - INFO - HTTP Request: POST https://aaltoaihack25-resource.cognitiveservices.azure.com/openai/deployments/text-embedding-3-large/embeddings?api-version=2024-12-01-preview \"HTTP/1.1 200 OK\"\n",
      "Processing batches:  70%|██████▉   | 48/69 [00:49<00:19,  1.07it/s]2025-05-31 14:27:56,041 - INFO - HTTP Request: POST https://aaltoaihack25-resource.cognitiveservices.azure.com/openai/deployments/text-embedding-3-large/embeddings?api-version=2024-12-01-preview \"HTTP/1.1 200 OK\"\n",
      "Processing batches:  71%|███████   | 49/69 [00:50<00:18,  1.08it/s]2025-05-31 14:27:57,027 - INFO - HTTP Request: POST https://aaltoaihack25-resource.cognitiveservices.azure.com/openai/deployments/text-embedding-3-large/embeddings?api-version=2024-12-01-preview \"HTTP/1.1 200 OK\"\n",
      "Processing batches:  72%|███████▏  | 50/69 [00:50<00:17,  1.11it/s]2025-05-31 14:27:57,548 - INFO - HTTP Request: POST https://aaltoaihack25-resource.cognitiveservices.azure.com/openai/deployments/text-embedding-3-large/embeddings?api-version=2024-12-01-preview \"HTTP/1.1 429 Too Many Requests\"\n",
      "2025-05-31 14:27:57,550 - INFO - Retrying request to /embeddings in 14.000000 seconds\n",
      "2025-05-31 14:28:12,109 - INFO - HTTP Request: POST https://aaltoaihack25-resource.cognitiveservices.azure.com/openai/deployments/text-embedding-3-large/embeddings?api-version=2024-12-01-preview \"HTTP/1.1 200 OK\"\n",
      "Processing batches:  74%|███████▍  | 51/69 [01:06<01:34,  5.24s/it]2025-05-31 14:28:13,250 - INFO - HTTP Request: POST https://aaltoaihack25-resource.cognitiveservices.azure.com/openai/deployments/text-embedding-3-large/embeddings?api-version=2024-12-01-preview \"HTTP/1.1 200 OK\"\n",
      "Processing batches:  75%|███████▌  | 52/69 [01:07<01:07,  3.99s/it]2025-05-31 14:28:14,300 - INFO - HTTP Request: POST https://aaltoaihack25-resource.cognitiveservices.azure.com/openai/deployments/text-embedding-3-large/embeddings?api-version=2024-12-01-preview \"HTTP/1.1 200 OK\"\n",
      "Processing batches:  77%|███████▋  | 53/69 [01:08<00:49,  3.11s/it]2025-05-31 14:28:15,345 - INFO - HTTP Request: POST https://aaltoaihack25-resource.cognitiveservices.azure.com/openai/deployments/text-embedding-3-large/embeddings?api-version=2024-12-01-preview \"HTTP/1.1 200 OK\"\n",
      "Processing batches:  78%|███████▊  | 54/69 [01:09<00:37,  2.47s/it]2025-05-31 14:28:16,416 - INFO - HTTP Request: POST https://aaltoaihack25-resource.cognitiveservices.azure.com/openai/deployments/text-embedding-3-large/embeddings?api-version=2024-12-01-preview \"HTTP/1.1 200 OK\"\n",
      "Processing batches:  80%|███████▉  | 55/69 [01:10<00:28,  2.06s/it]2025-05-31 14:28:17,443 - INFO - HTTP Request: POST https://aaltoaihack25-resource.cognitiveservices.azure.com/openai/deployments/text-embedding-3-large/embeddings?api-version=2024-12-01-preview \"HTTP/1.1 200 OK\"\n",
      "Processing batches:  81%|████████  | 56/69 [01:11<00:22,  1.74s/it]2025-05-31 14:28:18,520 - INFO - HTTP Request: POST https://aaltoaihack25-resource.cognitiveservices.azure.com/openai/deployments/text-embedding-3-large/embeddings?api-version=2024-12-01-preview \"HTTP/1.1 200 OK\"\n",
      "Processing batches:  83%|████████▎ | 57/69 [01:12<00:18,  1.55s/it]2025-05-31 14:28:19,540 - INFO - HTTP Request: POST https://aaltoaihack25-resource.cognitiveservices.azure.com/openai/deployments/text-embedding-3-large/embeddings?api-version=2024-12-01-preview \"HTTP/1.1 200 OK\"\n",
      "Processing batches:  84%|████████▍ | 58/69 [01:13<00:15,  1.39s/it]2025-05-31 14:28:20,588 - INFO - HTTP Request: POST https://aaltoaihack25-resource.cognitiveservices.azure.com/openai/deployments/text-embedding-3-large/embeddings?api-version=2024-12-01-preview \"HTTP/1.1 200 OK\"\n",
      "Processing batches:  86%|████████▌ | 59/69 [01:14<00:12,  1.28s/it]2025-05-31 14:28:21,770 - INFO - HTTP Request: POST https://aaltoaihack25-resource.cognitiveservices.azure.com/openai/deployments/text-embedding-3-large/embeddings?api-version=2024-12-01-preview \"HTTP/1.1 200 OK\"\n",
      "Processing batches:  87%|████████▋ | 60/69 [01:15<00:11,  1.26s/it]2025-05-31 14:28:22,733 - INFO - HTTP Request: POST https://aaltoaihack25-resource.cognitiveservices.azure.com/openai/deployments/text-embedding-3-large/embeddings?api-version=2024-12-01-preview \"HTTP/1.1 200 OK\"\n",
      "Processing batches:  88%|████████▊ | 61/69 [01:16<00:09,  1.17s/it]2025-05-31 14:28:23,756 - INFO - HTTP Request: POST https://aaltoaihack25-resource.cognitiveservices.azure.com/openai/deployments/text-embedding-3-large/embeddings?api-version=2024-12-01-preview \"HTTP/1.1 200 OK\"\n",
      "Processing batches:  90%|████████▉ | 62/69 [01:17<00:07,  1.13s/it]2025-05-31 14:28:24,782 - INFO - HTTP Request: POST https://aaltoaihack25-resource.cognitiveservices.azure.com/openai/deployments/text-embedding-3-large/embeddings?api-version=2024-12-01-preview \"HTTP/1.1 200 OK\"\n",
      "Processing batches:  91%|█████████▏| 63/69 [01:18<00:06,  1.11s/it]2025-05-31 14:28:25,900 - INFO - HTTP Request: POST https://aaltoaihack25-resource.cognitiveservices.azure.com/openai/deployments/text-embedding-3-large/embeddings?api-version=2024-12-01-preview \"HTTP/1.1 200 OK\"\n",
      "Processing batches:  93%|█████████▎| 64/69 [01:19<00:05,  1.10s/it]2025-05-31 14:28:26,948 - INFO - HTTP Request: POST https://aaltoaihack25-resource.cognitiveservices.azure.com/openai/deployments/text-embedding-3-large/embeddings?api-version=2024-12-01-preview \"HTTP/1.1 200 OK\"\n",
      "Processing batches:  94%|█████████▍| 65/69 [01:21<00:04,  1.09s/it]2025-05-31 14:28:27,588 - INFO - HTTP Request: POST https://aaltoaihack25-resource.cognitiveservices.azure.com/openai/deployments/text-embedding-3-large/embeddings?api-version=2024-12-01-preview \"HTTP/1.1 429 Too Many Requests\"\n",
      "2025-05-31 14:28:27,589 - INFO - Retrying request to /embeddings in 1.000000 seconds\n",
      "2025-05-31 14:28:29,074 - INFO - HTTP Request: POST https://aaltoaihack25-resource.cognitiveservices.azure.com/openai/deployments/text-embedding-3-large/embeddings?api-version=2024-12-01-preview \"HTTP/1.1 200 OK\"\n",
      "Processing batches:  96%|█████████▌| 66/69 [01:23<00:04,  1.39s/it]2025-05-31 14:28:30,099 - INFO - HTTP Request: POST https://aaltoaihack25-resource.cognitiveservices.azure.com/openai/deployments/text-embedding-3-large/embeddings?api-version=2024-12-01-preview \"HTTP/1.1 200 OK\"\n",
      "Processing batches:  97%|█████████▋| 67/69 [01:24<00:02,  1.28s/it]2025-05-31 14:28:31,122 - INFO - HTTP Request: POST https://aaltoaihack25-resource.cognitiveservices.azure.com/openai/deployments/text-embedding-3-large/embeddings?api-version=2024-12-01-preview \"HTTP/1.1 200 OK\"\n",
      "Processing batches:  99%|█████████▊| 68/69 [01:25<00:01,  1.20s/it]2025-05-31 14:28:31,925 - INFO - HTTP Request: POST https://aaltoaihack25-resource.cognitiveservices.azure.com/openai/deployments/text-embedding-3-large/embeddings?api-version=2024-12-01-preview \"HTTP/1.1 200 OK\"\n",
      "Processing batches: 100%|██████████| 69/69 [01:25<00:00,  1.24s/it]\n",
      "2025-05-31 14:28:32,838 - INFO - Generated embeddings with shape: (6839, 3072)\n",
      "2025-05-31 14:28:44,383 - INFO - Saved embeddings to data/results/embeddings.csv\n"
     ]
    }
   ],
   "source": [
    "from embedding_generator import EmbeddingGenerator, LocalEmbeddingProvider, OpenAIEmbeddingProvider\n",
    "\n",
    "# Configuration\n",
    "METHOD = \"openai\"  # Supports local and openai\n",
    "MODEL_NAME = \"all-mpnet-base-v2\"  # For local embeddings\n",
    "MODEL_KEY = \"gpt-4.1-mini\"  # For OpenAI embeddings, I think only this works\n",
    "\n",
    "# File paths\n",
    "input_file = \"data/results/df_combined.csv\"\n",
    "output_file = \"data/results/embeddings.csv\"\n",
    "\n",
    "provider = OpenAIEmbeddingProvider(MODEL_KEY) if METHOD == \"openai\" else LocalEmbeddingProvider(MODEL_NAME)\n",
    "generator = EmbeddingGenerator(provider)\n",
    "\n",
    "result_df = generator.generate_embeddings(input_file, output_file)"
   ]
  },
  {
   "cell_type": "code",
   "execution_count": 7,
   "metadata": {},
   "outputs": [
    {
     "data": {
      "text/html": [
       "<div>\n",
       "<style scoped>\n",
       "    .dataframe tbody tr th:only-of-type {\n",
       "        vertical-align: middle;\n",
       "    }\n",
       "\n",
       "    .dataframe tbody tr th {\n",
       "        vertical-align: top;\n",
       "    }\n",
       "\n",
       "    .dataframe thead th {\n",
       "        text-align: right;\n",
       "    }\n",
       "</style>\n",
       "<table border=\"1\" class=\"dataframe\">\n",
       "  <thead>\n",
       "    <tr style=\"text-align: right;\">\n",
       "      <th></th>\n",
       "      <th>Unnamed: 0.1</th>\n",
       "      <th>Document number</th>\n",
       "      <th>VAT id</th>\n",
       "      <th>relationship description</th>\n",
       "      <th>source id</th>\n",
       "      <th>source type</th>\n",
       "      <th>source english_id</th>\n",
       "      <th>source description</th>\n",
       "      <th>relationship type</th>\n",
       "      <th>target id</th>\n",
       "      <th>...</th>\n",
       "      <th>target english_id</th>\n",
       "      <th>target description</th>\n",
       "      <th>Link Source Text</th>\n",
       "      <th>Source Text</th>\n",
       "      <th>text_to_compare</th>\n",
       "      <th>Unnamed: 0</th>\n",
       "      <th>Source Company</th>\n",
       "      <th>embedding</th>\n",
       "      <th>embedding_provider</th>\n",
       "      <th>embedding_dimension</th>\n",
       "    </tr>\n",
       "  </thead>\n",
       "  <tbody>\n",
       "    <tr>\n",
       "      <th>0</th>\n",
       "      <td>0</td>\n",
       "      <td>VTT0</td>\n",
       "      <td>FI10292588</td>\n",
       "      <td>FiR 1 nuclear research reactor was developed, ...</td>\n",
       "      <td>FiR 1</td>\n",
       "      <td>Innovation</td>\n",
       "      <td>FiR 1</td>\n",
       "      <td>FiR 1 is a Triga-type nuclear research reactor...</td>\n",
       "      <td>DEVELOPED_BY</td>\n",
       "      <td>FI26473754</td>\n",
       "      <td>...</td>\n",
       "      <td>VTT Technical Research Centre of Finland Ltd.</td>\n",
       "      <td>VTT is a Finnish research and innovation partn...</td>\n",
       "      <td>https://www.vttresearch.com/en/news-and-ideas/...</td>\n",
       "      <td>Skip to main content Beyond the obvious Open m...</td>\n",
       "      <td>FiR 1 - FiR 1 is a Triga-type nuclear research...</td>\n",
       "      <td>NaN</td>\n",
       "      <td>NaN</td>\n",
       "      <td>[-0.018910497426986694, 0.017533520236611366, ...</td>\n",
       "      <td>openai_gpt-4.1-mini</td>\n",
       "      <td>3072</td>\n",
       "    </tr>\n",
       "    <tr>\n",
       "      <th>1</th>\n",
       "      <td>1</td>\n",
       "      <td>VTT0</td>\n",
       "      <td>FI10292588</td>\n",
       "      <td>Centre for Nuclear Safety is being developed a...</td>\n",
       "      <td>Centre for Nuclear Safety</td>\n",
       "      <td>Innovation</td>\n",
       "      <td>Centre for Nuclear Safety</td>\n",
       "      <td>A modern research facility under construction ...</td>\n",
       "      <td>DEVELOPED_BY</td>\n",
       "      <td>FI26473754</td>\n",
       "      <td>...</td>\n",
       "      <td>VTT Technical Research Centre of Finland Ltd.</td>\n",
       "      <td>VTT is a Finnish research and innovation partn...</td>\n",
       "      <td>https://www.vttresearch.com/en/news-and-ideas/...</td>\n",
       "      <td>Skip to main content Beyond the obvious Open m...</td>\n",
       "      <td>Centre for Nuclear Safety - A modern research ...</td>\n",
       "      <td>NaN</td>\n",
       "      <td>NaN</td>\n",
       "      <td>[-0.009751166217029095, 0.006150579079985619, ...</td>\n",
       "      <td>openai_gpt-4.1-mini</td>\n",
       "      <td>3072</td>\n",
       "    </tr>\n",
       "    <tr>\n",
       "      <th>2</th>\n",
       "      <td>2</td>\n",
       "      <td>VTT3</td>\n",
       "      <td>FI08932048</td>\n",
       "      <td>The innovation approach 'Beyond the obvious' i...</td>\n",
       "      <td>Beyond the obvious</td>\n",
       "      <td>Innovation</td>\n",
       "      <td>Beyond the obvious</td>\n",
       "      <td>An innovation approach promising to provide so...</td>\n",
       "      <td>DEVELOPED_BY</td>\n",
       "      <td>FI26473754</td>\n",
       "      <td>...</td>\n",
       "      <td>VTT Technical Research Centre of Finland Ltd</td>\n",
       "      <td>A visionary research and innovation partner fo...</td>\n",
       "      <td>https://www.vttresearch.com/en/news-and-ideas/...</td>\n",
       "      <td>Skip to main content Beyond the obvious Open m...</td>\n",
       "      <td>Beyond the obvious - An innovation approach pr...</td>\n",
       "      <td>NaN</td>\n",
       "      <td>NaN</td>\n",
       "      <td>[-0.02210899069905281, -0.002120873425155878, ...</td>\n",
       "      <td>openai_gpt-4.1-mini</td>\n",
       "      <td>3072</td>\n",
       "    </tr>\n",
       "    <tr>\n",
       "      <th>3</th>\n",
       "      <td>3</td>\n",
       "      <td>VTT4</td>\n",
       "      <td>FI01111693</td>\n",
       "      <td>Data-Driven Bioeconomy project is developed by...</td>\n",
       "      <td>Data-Driven Bioeconomy project</td>\n",
       "      <td>Innovation</td>\n",
       "      <td>Data-Driven Bioeconomy project</td>\n",
       "      <td>An innovation using Big Data for sustainable u...</td>\n",
       "      <td>DEVELOPED_BY</td>\n",
       "      <td>FI26473754</td>\n",
       "      <td>...</td>\n",
       "      <td>VTT Technical Research Centre of Finland</td>\n",
       "      <td>A Finnish research and innovation partner work...</td>\n",
       "      <td>https://www.vttresearch.com/en/news-and-ideas/...</td>\n",
       "      <td>Skip to main content Beyond the obvious Open m...</td>\n",
       "      <td>Data-Driven Bioeconomy project - An innovation...</td>\n",
       "      <td>NaN</td>\n",
       "      <td>NaN</td>\n",
       "      <td>[-0.015033945441246033, 0.031899139285087585, ...</td>\n",
       "      <td>openai_gpt-4.1-mini</td>\n",
       "      <td>3072</td>\n",
       "    </tr>\n",
       "    <tr>\n",
       "      <th>4</th>\n",
       "      <td>4</td>\n",
       "      <td>VTT4</td>\n",
       "      <td>FI01111693</td>\n",
       "      <td>Data-Driven Bioeconomy project's forestry pilo...</td>\n",
       "      <td>Data-Driven Bioeconomy project</td>\n",
       "      <td>Innovation</td>\n",
       "      <td>Data-Driven Bioeconomy project</td>\n",
       "      <td>An innovation using Big Data for sustainable u...</td>\n",
       "      <td>DEVELOPED_BY</td>\n",
       "      <td>temp_1141</td>\n",
       "      <td>...</td>\n",
       "      <td>MHG Systems</td>\n",
       "      <td>An organization leading pilots developing fore...</td>\n",
       "      <td>https://www.vttresearch.com/en/news-and-ideas/...</td>\n",
       "      <td>Skip to main content Beyond the obvious Open m...</td>\n",
       "      <td>Data-Driven Bioeconomy project - An innovation...</td>\n",
       "      <td>NaN</td>\n",
       "      <td>NaN</td>\n",
       "      <td>[-0.014490003697574139, 0.016991155222058296, ...</td>\n",
       "      <td>openai_gpt-4.1-mini</td>\n",
       "      <td>3072</td>\n",
       "    </tr>\n",
       "  </tbody>\n",
       "</table>\n",
       "<p>5 rows × 21 columns</p>\n",
       "</div>"
      ],
      "text/plain": [
       "   Unnamed: 0.1 Document number      VAT id  \\\n",
       "0             0            VTT0  FI10292588   \n",
       "1             1            VTT0  FI10292588   \n",
       "2             2            VTT3  FI08932048   \n",
       "3             3            VTT4  FI01111693   \n",
       "4             4            VTT4  FI01111693   \n",
       "\n",
       "                            relationship description  \\\n",
       "0  FiR 1 nuclear research reactor was developed, ...   \n",
       "1  Centre for Nuclear Safety is being developed a...   \n",
       "2  The innovation approach 'Beyond the obvious' i...   \n",
       "3  Data-Driven Bioeconomy project is developed by...   \n",
       "4  Data-Driven Bioeconomy project's forestry pilo...   \n",
       "\n",
       "                        source id source type               source english_id  \\\n",
       "0                           FiR 1  Innovation                           FiR 1   \n",
       "1       Centre for Nuclear Safety  Innovation       Centre for Nuclear Safety   \n",
       "2              Beyond the obvious  Innovation              Beyond the obvious   \n",
       "3  Data-Driven Bioeconomy project  Innovation  Data-Driven Bioeconomy project   \n",
       "4  Data-Driven Bioeconomy project  Innovation  Data-Driven Bioeconomy project   \n",
       "\n",
       "                                  source description relationship type  \\\n",
       "0  FiR 1 is a Triga-type nuclear research reactor...      DEVELOPED_BY   \n",
       "1  A modern research facility under construction ...      DEVELOPED_BY   \n",
       "2  An innovation approach promising to provide so...      DEVELOPED_BY   \n",
       "3  An innovation using Big Data for sustainable u...      DEVELOPED_BY   \n",
       "4  An innovation using Big Data for sustainable u...      DEVELOPED_BY   \n",
       "\n",
       "    target id  ...                              target english_id  \\\n",
       "0  FI26473754  ...  VTT Technical Research Centre of Finland Ltd.   \n",
       "1  FI26473754  ...  VTT Technical Research Centre of Finland Ltd.   \n",
       "2  FI26473754  ...   VTT Technical Research Centre of Finland Ltd   \n",
       "3  FI26473754  ...       VTT Technical Research Centre of Finland   \n",
       "4   temp_1141  ...                                    MHG Systems   \n",
       "\n",
       "                                  target description  \\\n",
       "0  VTT is a Finnish research and innovation partn...   \n",
       "1  VTT is a Finnish research and innovation partn...   \n",
       "2  A visionary research and innovation partner fo...   \n",
       "3  A Finnish research and innovation partner work...   \n",
       "4  An organization leading pilots developing fore...   \n",
       "\n",
       "                                    Link Source Text  \\\n",
       "0  https://www.vttresearch.com/en/news-and-ideas/...   \n",
       "1  https://www.vttresearch.com/en/news-and-ideas/...   \n",
       "2  https://www.vttresearch.com/en/news-and-ideas/...   \n",
       "3  https://www.vttresearch.com/en/news-and-ideas/...   \n",
       "4  https://www.vttresearch.com/en/news-and-ideas/...   \n",
       "\n",
       "                                         Source Text  \\\n",
       "0  Skip to main content Beyond the obvious Open m...   \n",
       "1  Skip to main content Beyond the obvious Open m...   \n",
       "2  Skip to main content Beyond the obvious Open m...   \n",
       "3  Skip to main content Beyond the obvious Open m...   \n",
       "4  Skip to main content Beyond the obvious Open m...   \n",
       "\n",
       "                                     text_to_compare Unnamed: 0  \\\n",
       "0  FiR 1 - FiR 1 is a Triga-type nuclear research...        NaN   \n",
       "1  Centre for Nuclear Safety - A modern research ...        NaN   \n",
       "2  Beyond the obvious - An innovation approach pr...        NaN   \n",
       "3  Data-Driven Bioeconomy project - An innovation...        NaN   \n",
       "4  Data-Driven Bioeconomy project - An innovation...        NaN   \n",
       "\n",
       "   Source Company                                          embedding  \\\n",
       "0             NaN  [-0.018910497426986694, 0.017533520236611366, ...   \n",
       "1             NaN  [-0.009751166217029095, 0.006150579079985619, ...   \n",
       "2             NaN  [-0.02210899069905281, -0.002120873425155878, ...   \n",
       "3             NaN  [-0.015033945441246033, 0.031899139285087585, ...   \n",
       "4             NaN  [-0.014490003697574139, 0.016991155222058296, ...   \n",
       "\n",
       "    embedding_provider embedding_dimension  \n",
       "0  openai_gpt-4.1-mini                3072  \n",
       "1  openai_gpt-4.1-mini                3072  \n",
       "2  openai_gpt-4.1-mini                3072  \n",
       "3  openai_gpt-4.1-mini                3072  \n",
       "4  openai_gpt-4.1-mini                3072  \n",
       "\n",
       "[5 rows x 21 columns]"
      ]
     },
     "execution_count": 7,
     "metadata": {},
     "output_type": "execute_result"
    }
   ],
   "source": [
    "result_df.head()"
   ]
  },
  {
   "cell_type": "code",
   "execution_count": 9,
   "metadata": {},
   "outputs": [
    {
     "name": "stdout",
     "output_type": "stream",
     "text": [
      "Comparing entries pair by pair...\n"
     ]
    },
    {
     "name": "stderr",
     "output_type": "stream",
     "text": [
      "  0%|          | 3/6839 [00:00<38:09,  2.99it/s]"
     ]
    },
    {
     "name": "stdout",
     "output_type": "stream",
     "text": [
      "\n",
      "Similarity: 0.879 | From: 4 To: 5\n",
      "→ Source 4 description: Data-Driven Bioeconomy project - An innovation using Big Data for sustainable use of resources in agriculture, forestry and fishery, improving decision-making with sensors and imagery data. | Developed by VTT Technical Research Centre of Finland\n",
      "→ Source 5 description: Data-Driven Bioeconomy project - An innovation using Big Data for sustainable use of resources in agriculture, forestry and fishery, improving decision-making with sensors and imagery data. | Developed by MHG Systems\n"
     ]
    },
    {
     "name": "stderr",
     "output_type": "stream",
     "text": [
      "  0%|          | 5/6839 [00:01<34:16,  3.32it/s]"
     ]
    },
    {
     "name": "stdout",
     "output_type": "stream",
     "text": [
      "\n",
      "Similarity: 0.962 | From: 6 To: 7\n",
      "→ Source 6 description: Alternatives to toxic phenol compounds used in glues are being developed from softwood tannins - A novel industrial scale method and products for renewable glue resins derived from softwood bark tannin-polyphenols as alternatives to fossil and toxic phenol compounds used in glues. | Developed by VTT Technical Research Centre of Finland\n",
      "→ Source 7 description: Alternatives to toxic phenol compounds used in glues are being developed from softwood tannins - A novel industrial scale method and products for renewable glue resins derived from softwood bark tannin-polyphenols as alternatives to fossil and toxic phenol compounds used in glues. | Developed by Natural Resources Institute Finland (Luke)\n",
      "\n",
      "Similarity: 0.962 | From: 6 To: 8\n",
      "→ Source 6 description: Alternatives to toxic phenol compounds used in glues are being developed from softwood tannins - A novel industrial scale method and products for renewable glue resins derived from softwood bark tannin-polyphenols as alternatives to fossil and toxic phenol compounds used in glues. | Developed by VTT Technical Research Centre of Finland\n",
      "→ Source 8 description: Alternatives to toxic phenol compounds used in glues are being developed from softwood tannins - A novel industrial scale method and products for renewable glue resins derived from softwood bark tannin-polyphenols as alternatives to fossil and toxic phenol compounds used in glues. | Developed by South-Eastern Finland University of Applied Sciences (Xamk)\n"
     ]
    },
    {
     "name": "stderr",
     "output_type": "stream",
     "text": [
      "  0%|          | 6/6839 [00:01<32:59,  3.45it/s]"
     ]
    },
    {
     "name": "stdout",
     "output_type": "stream",
     "text": [
      "\n",
      "Similarity: 0.960 | From: 7 To: 8\n",
      "→ Source 7 description: Alternatives to toxic phenol compounds used in glues are being developed from softwood tannins - A novel industrial scale method and products for renewable glue resins derived from softwood bark tannin-polyphenols as alternatives to fossil and toxic phenol compounds used in glues. | Developed by Natural Resources Institute Finland (Luke)\n",
      "→ Source 8 description: Alternatives to toxic phenol compounds used in glues are being developed from softwood tannins - A novel industrial scale method and products for renewable glue resins derived from softwood bark tannin-polyphenols as alternatives to fossil and toxic phenol compounds used in glues. | Developed by South-Eastern Finland University of Applied Sciences (Xamk)\n"
     ]
    },
    {
     "name": "stderr",
     "output_type": "stream",
     "text": [
      "  0%|          | 8/6839 [00:02<31:51,  3.57it/s]"
     ]
    },
    {
     "name": "stdout",
     "output_type": "stream",
     "text": [
      "\n",
      "Similarity: 0.964 | From: 9 To: 10\n",
      "→ Source 9 description: logistics of circular economy - A new process innovation that addresses the challenges of logistics in circular economy, focusing on improving information sharing, collaboration, infrastructure matching, and novel logistic services to support circular supply chains. | Developed by VTT\n",
      "→ Source 10 description: logistics of circular economy - A new process innovation that addresses the challenges of logistics in circular economy, focusing on improving information sharing, collaboration, infrastructure matching, and novel logistic services to support circular supply chains. | Developed by Lassila & Tikanoja\n",
      "\n",
      "Similarity: 0.897 | From: 9 To: 11\n",
      "→ Source 9 description: logistics of circular economy - A new process innovation that addresses the challenges of logistics in circular economy, focusing on improving information sharing, collaboration, infrastructure matching, and novel logistic services to support circular supply chains. | Developed by VTT\n",
      "→ Source 11 description: logistics of circular economy - A new process innovation that addresses the challenges of logistics in circular economy, focusing on improving information sharing, collaboration, infrastructure matching, and novel logistic services to support circular supply chains. | Developed by Destaclean\n",
      "\n",
      "Similarity: 0.949 | From: 9 To: 12\n",
      "→ Source 9 description: logistics of circular economy - A new process innovation that addresses the challenges of logistics in circular economy, focusing on improving information sharing, collaboration, infrastructure matching, and novel logistic services to support circular supply chains. | Developed by VTT\n",
      "→ Source 12 description: logistics of circular economy - A new process innovation that addresses the challenges of logistics in circular economy, focusing on improving information sharing, collaboration, infrastructure matching, and novel logistic services to support circular supply chains. | Developed by Kierrätysverkko\n",
      "\n",
      "Similarity: 0.906 | From: 9 To: 13\n",
      "→ Source 9 description: logistics of circular economy - A new process innovation that addresses the challenges of logistics in circular economy, focusing on improving information sharing, collaboration, infrastructure matching, and novel logistic services to support circular supply chains. | Developed by VTT\n",
      "→ Source 13 description: logistics of circular economy - A new process innovation that addresses the challenges of logistics in circular economy, focusing on improving information sharing, collaboration, infrastructure matching, and novel logistic services to support circular supply chains. | Developed by CoreOrient\n",
      "\n",
      "Similarity: 0.944 | From: 9 To: 14\n",
      "→ Source 9 description: logistics of circular economy - A new process innovation that addresses the challenges of logistics in circular economy, focusing on improving information sharing, collaboration, infrastructure matching, and novel logistic services to support circular supply chains. | Developed by VTT\n",
      "→ Source 14 description: logistics of circular economy - A new process innovation that addresses the challenges of logistics in circular economy, focusing on improving information sharing, collaboration, infrastructure matching, and novel logistic services to support circular supply chains. | Developed by Eurokangas\n",
      "\n",
      "Similarity: 0.913 | From: 9 To: 15\n",
      "→ Source 9 description: logistics of circular economy - A new process innovation that addresses the challenges of logistics in circular economy, focusing on improving information sharing, collaboration, infrastructure matching, and novel logistic services to support circular supply chains. | Developed by VTT\n",
      "→ Source 15 description: logistics of circular economy - A new process innovation that addresses the challenges of logistics in circular economy, focusing on improving information sharing, collaboration, infrastructure matching, and novel logistic services to support circular supply chains. | Developed by Not Innovated Here\n",
      "\n",
      "Similarity: 0.946 | From: 9 To: 16\n",
      "→ Source 9 description: logistics of circular economy - A new process innovation that addresses the challenges of logistics in circular economy, focusing on improving information sharing, collaboration, infrastructure matching, and novel logistic services to support circular supply chains. | Developed by VTT\n",
      "→ Source 16 description: logistics of circular economy - A new process innovation that addresses the challenges of logistics in circular economy, focusing on improving information sharing, collaboration, infrastructure matching, and novel logistic services to support circular supply chains. | Developed by Chemical Industry Federation of Finland\n",
      "\n",
      "Similarity: 0.963 | From: 9 To: 17\n",
      "→ Source 9 description: logistics of circular economy - A new process innovation that addresses the challenges of logistics in circular economy, focusing on improving information sharing, collaboration, infrastructure matching, and novel logistic services to support circular supply chains. | Developed by VTT\n",
      "→ Source 17 description: logistics of circular economy - A new process innovation that addresses the challenges of logistics in circular economy, focusing on improving information sharing, collaboration, infrastructure matching, and novel logistic services to support circular supply chains. | Developed by Federation of Finnish Technology Industries\n"
     ]
    },
    {
     "name": "stderr",
     "output_type": "stream",
     "text": [
      "  0%|          | 9/6839 [00:02<31:38,  3.60it/s]"
     ]
    },
    {
     "name": "stdout",
     "output_type": "stream",
     "text": [
      "\n",
      "Similarity: 0.917 | From: 10 To: 11\n",
      "→ Source 10 description: logistics of circular economy - A new process innovation that addresses the challenges of logistics in circular economy, focusing on improving information sharing, collaboration, infrastructure matching, and novel logistic services to support circular supply chains. | Developed by Lassila & Tikanoja\n",
      "→ Source 11 description: logistics of circular economy - A new process innovation that addresses the challenges of logistics in circular economy, focusing on improving information sharing, collaboration, infrastructure matching, and novel logistic services to support circular supply chains. | Developed by Destaclean\n",
      "\n",
      "Similarity: 0.966 | From: 10 To: 12\n",
      "→ Source 10 description: logistics of circular economy - A new process innovation that addresses the challenges of logistics in circular economy, focusing on improving information sharing, collaboration, infrastructure matching, and novel logistic services to support circular supply chains. | Developed by Lassila & Tikanoja\n",
      "→ Source 12 description: logistics of circular economy - A new process innovation that addresses the challenges of logistics in circular economy, focusing on improving information sharing, collaboration, infrastructure matching, and novel logistic services to support circular supply chains. | Developed by Kierrätysverkko\n",
      "\n",
      "Similarity: 0.928 | From: 10 To: 13\n",
      "→ Source 10 description: logistics of circular economy - A new process innovation that addresses the challenges of logistics in circular economy, focusing on improving information sharing, collaboration, infrastructure matching, and novel logistic services to support circular supply chains. | Developed by Lassila & Tikanoja\n",
      "→ Source 13 description: logistics of circular economy - A new process innovation that addresses the challenges of logistics in circular economy, focusing on improving information sharing, collaboration, infrastructure matching, and novel logistic services to support circular supply chains. | Developed by CoreOrient\n",
      "\n",
      "Similarity: 0.961 | From: 10 To: 14\n",
      "→ Source 10 description: logistics of circular economy - A new process innovation that addresses the challenges of logistics in circular economy, focusing on improving information sharing, collaboration, infrastructure matching, and novel logistic services to support circular supply chains. | Developed by Lassila & Tikanoja\n",
      "→ Source 14 description: logistics of circular economy - A new process innovation that addresses the challenges of logistics in circular economy, focusing on improving information sharing, collaboration, infrastructure matching, and novel logistic services to support circular supply chains. | Developed by Eurokangas\n",
      "\n",
      "Similarity: 0.927 | From: 10 To: 15\n",
      "→ Source 10 description: logistics of circular economy - A new process innovation that addresses the challenges of logistics in circular economy, focusing on improving information sharing, collaboration, infrastructure matching, and novel logistic services to support circular supply chains. | Developed by Lassila & Tikanoja\n",
      "→ Source 15 description: logistics of circular economy - A new process innovation that addresses the challenges of logistics in circular economy, focusing on improving information sharing, collaboration, infrastructure matching, and novel logistic services to support circular supply chains. | Developed by Not Innovated Here\n",
      "\n",
      "Similarity: 0.950 | From: 10 To: 16\n",
      "→ Source 10 description: logistics of circular economy - A new process innovation that addresses the challenges of logistics in circular economy, focusing on improving information sharing, collaboration, infrastructure matching, and novel logistic services to support circular supply chains. | Developed by Lassila & Tikanoja\n",
      "→ Source 16 description: logistics of circular economy - A new process innovation that addresses the challenges of logistics in circular economy, focusing on improving information sharing, collaboration, infrastructure matching, and novel logistic services to support circular supply chains. | Developed by Chemical Industry Federation of Finland\n",
      "\n",
      "Similarity: 0.968 | From: 10 To: 17\n",
      "→ Source 10 description: logistics of circular economy - A new process innovation that addresses the challenges of logistics in circular economy, focusing on improving information sharing, collaboration, infrastructure matching, and novel logistic services to support circular supply chains. | Developed by Lassila & Tikanoja\n",
      "→ Source 17 description: logistics of circular economy - A new process innovation that addresses the challenges of logistics in circular economy, focusing on improving information sharing, collaboration, infrastructure matching, and novel logistic services to support circular supply chains. | Developed by Federation of Finnish Technology Industries\n"
     ]
    },
    {
     "name": "stderr",
     "output_type": "stream",
     "text": [
      "  0%|          | 10/6839 [00:02<31:39,  3.60it/s]"
     ]
    },
    {
     "name": "stdout",
     "output_type": "stream",
     "text": [
      "\n",
      "Similarity: 0.893 | From: 11 To: 12\n",
      "→ Source 11 description: logistics of circular economy - A new process innovation that addresses the challenges of logistics in circular economy, focusing on improving information sharing, collaboration, infrastructure matching, and novel logistic services to support circular supply chains. | Developed by Destaclean\n",
      "→ Source 12 description: logistics of circular economy - A new process innovation that addresses the challenges of logistics in circular economy, focusing on improving information sharing, collaboration, infrastructure matching, and novel logistic services to support circular supply chains. | Developed by Kierrätysverkko\n",
      "\n",
      "Similarity: 0.920 | From: 11 To: 13\n",
      "→ Source 11 description: logistics of circular economy - A new process innovation that addresses the challenges of logistics in circular economy, focusing on improving information sharing, collaboration, infrastructure matching, and novel logistic services to support circular supply chains. | Developed by Destaclean\n",
      "→ Source 13 description: logistics of circular economy - A new process innovation that addresses the challenges of logistics in circular economy, focusing on improving information sharing, collaboration, infrastructure matching, and novel logistic services to support circular supply chains. | Developed by CoreOrient\n",
      "\n",
      "Similarity: 0.897 | From: 11 To: 14\n",
      "→ Source 11 description: logistics of circular economy - A new process innovation that addresses the challenges of logistics in circular economy, focusing on improving information sharing, collaboration, infrastructure matching, and novel logistic services to support circular supply chains. | Developed by Destaclean\n",
      "→ Source 14 description: logistics of circular economy - A new process innovation that addresses the challenges of logistics in circular economy, focusing on improving information sharing, collaboration, infrastructure matching, and novel logistic services to support circular supply chains. | Developed by Eurokangas\n",
      "\n",
      "Similarity: 0.909 | From: 11 To: 15\n",
      "→ Source 11 description: logistics of circular economy - A new process innovation that addresses the challenges of logistics in circular economy, focusing on improving information sharing, collaboration, infrastructure matching, and novel logistic services to support circular supply chains. | Developed by Destaclean\n",
      "→ Source 15 description: logistics of circular economy - A new process innovation that addresses the challenges of logistics in circular economy, focusing on improving information sharing, collaboration, infrastructure matching, and novel logistic services to support circular supply chains. | Developed by Not Innovated Here\n",
      "\n",
      "Similarity: 0.890 | From: 11 To: 16\n",
      "→ Source 11 description: logistics of circular economy - A new process innovation that addresses the challenges of logistics in circular economy, focusing on improving information sharing, collaboration, infrastructure matching, and novel logistic services to support circular supply chains. | Developed by Destaclean\n",
      "→ Source 16 description: logistics of circular economy - A new process innovation that addresses the challenges of logistics in circular economy, focusing on improving information sharing, collaboration, infrastructure matching, and novel logistic services to support circular supply chains. | Developed by Chemical Industry Federation of Finland\n",
      "\n",
      "Similarity: 0.906 | From: 11 To: 17\n",
      "→ Source 11 description: logistics of circular economy - A new process innovation that addresses the challenges of logistics in circular economy, focusing on improving information sharing, collaboration, infrastructure matching, and novel logistic services to support circular supply chains. | Developed by Destaclean\n",
      "→ Source 17 description: logistics of circular economy - A new process innovation that addresses the challenges of logistics in circular economy, focusing on improving information sharing, collaboration, infrastructure matching, and novel logistic services to support circular supply chains. | Developed by Federation of Finnish Technology Industries\n"
     ]
    },
    {
     "name": "stderr",
     "output_type": "stream",
     "text": [
      "  0%|          | 11/6839 [00:03<31:36,  3.60it/s]"
     ]
    },
    {
     "name": "stdout",
     "output_type": "stream",
     "text": [
      "\n",
      "Similarity: 0.907 | From: 12 To: 13\n",
      "→ Source 12 description: logistics of circular economy - A new process innovation that addresses the challenges of logistics in circular economy, focusing on improving information sharing, collaboration, infrastructure matching, and novel logistic services to support circular supply chains. | Developed by Kierrätysverkko\n",
      "→ Source 13 description: logistics of circular economy - A new process innovation that addresses the challenges of logistics in circular economy, focusing on improving information sharing, collaboration, infrastructure matching, and novel logistic services to support circular supply chains. | Developed by CoreOrient\n",
      "\n",
      "Similarity: 0.959 | From: 12 To: 14\n",
      "→ Source 12 description: logistics of circular economy - A new process innovation that addresses the challenges of logistics in circular economy, focusing on improving information sharing, collaboration, infrastructure matching, and novel logistic services to support circular supply chains. | Developed by Kierrätysverkko\n",
      "→ Source 14 description: logistics of circular economy - A new process innovation that addresses the challenges of logistics in circular economy, focusing on improving information sharing, collaboration, infrastructure matching, and novel logistic services to support circular supply chains. | Developed by Eurokangas\n",
      "\n",
      "Similarity: 0.911 | From: 12 To: 15\n",
      "→ Source 12 description: logistics of circular economy - A new process innovation that addresses the challenges of logistics in circular economy, focusing on improving information sharing, collaboration, infrastructure matching, and novel logistic services to support circular supply chains. | Developed by Kierrätysverkko\n",
      "→ Source 15 description: logistics of circular economy - A new process innovation that addresses the challenges of logistics in circular economy, focusing on improving information sharing, collaboration, infrastructure matching, and novel logistic services to support circular supply chains. | Developed by Not Innovated Here\n",
      "\n",
      "Similarity: 0.938 | From: 12 To: 16\n",
      "→ Source 12 description: logistics of circular economy - A new process innovation that addresses the challenges of logistics in circular economy, focusing on improving information sharing, collaboration, infrastructure matching, and novel logistic services to support circular supply chains. | Developed by Kierrätysverkko\n",
      "→ Source 16 description: logistics of circular economy - A new process innovation that addresses the challenges of logistics in circular economy, focusing on improving information sharing, collaboration, infrastructure matching, and novel logistic services to support circular supply chains. | Developed by Chemical Industry Federation of Finland\n",
      "\n",
      "Similarity: 0.958 | From: 12 To: 17\n",
      "→ Source 12 description: logistics of circular economy - A new process innovation that addresses the challenges of logistics in circular economy, focusing on improving information sharing, collaboration, infrastructure matching, and novel logistic services to support circular supply chains. | Developed by Kierrätysverkko\n",
      "→ Source 17 description: logistics of circular economy - A new process innovation that addresses the challenges of logistics in circular economy, focusing on improving information sharing, collaboration, infrastructure matching, and novel logistic services to support circular supply chains. | Developed by Federation of Finnish Technology Industries\n"
     ]
    },
    {
     "name": "stderr",
     "output_type": "stream",
     "text": [
      "  0%|          | 12/6839 [00:03<31:24,  3.62it/s]"
     ]
    },
    {
     "name": "stdout",
     "output_type": "stream",
     "text": [
      "\n",
      "Similarity: 0.911 | From: 13 To: 14\n",
      "→ Source 13 description: logistics of circular economy - A new process innovation that addresses the challenges of logistics in circular economy, focusing on improving information sharing, collaboration, infrastructure matching, and novel logistic services to support circular supply chains. | Developed by CoreOrient\n",
      "→ Source 14 description: logistics of circular economy - A new process innovation that addresses the challenges of logistics in circular economy, focusing on improving information sharing, collaboration, infrastructure matching, and novel logistic services to support circular supply chains. | Developed by Eurokangas\n",
      "\n",
      "Similarity: 0.924 | From: 13 To: 15\n",
      "→ Source 13 description: logistics of circular economy - A new process innovation that addresses the challenges of logistics in circular economy, focusing on improving information sharing, collaboration, infrastructure matching, and novel logistic services to support circular supply chains. | Developed by CoreOrient\n",
      "→ Source 15 description: logistics of circular economy - A new process innovation that addresses the challenges of logistics in circular economy, focusing on improving information sharing, collaboration, infrastructure matching, and novel logistic services to support circular supply chains. | Developed by Not Innovated Here\n",
      "\n",
      "Similarity: 0.893 | From: 13 To: 16\n",
      "→ Source 13 description: logistics of circular economy - A new process innovation that addresses the challenges of logistics in circular economy, focusing on improving information sharing, collaboration, infrastructure matching, and novel logistic services to support circular supply chains. | Developed by CoreOrient\n",
      "→ Source 16 description: logistics of circular economy - A new process innovation that addresses the challenges of logistics in circular economy, focusing on improving information sharing, collaboration, infrastructure matching, and novel logistic services to support circular supply chains. | Developed by Chemical Industry Federation of Finland\n",
      "\n",
      "Similarity: 0.916 | From: 13 To: 17\n",
      "→ Source 13 description: logistics of circular economy - A new process innovation that addresses the challenges of logistics in circular economy, focusing on improving information sharing, collaboration, infrastructure matching, and novel logistic services to support circular supply chains. | Developed by CoreOrient\n",
      "→ Source 17 description: logistics of circular economy - A new process innovation that addresses the challenges of logistics in circular economy, focusing on improving information sharing, collaboration, infrastructure matching, and novel logistic services to support circular supply chains. | Developed by Federation of Finnish Technology Industries\n"
     ]
    },
    {
     "name": "stderr",
     "output_type": "stream",
     "text": [
      "  0%|          | 13/6839 [00:03<31:24,  3.62it/s]"
     ]
    },
    {
     "name": "stdout",
     "output_type": "stream",
     "text": [
      "\n",
      "Similarity: 0.904 | From: 14 To: 15\n",
      "→ Source 14 description: logistics of circular economy - A new process innovation that addresses the challenges of logistics in circular economy, focusing on improving information sharing, collaboration, infrastructure matching, and novel logistic services to support circular supply chains. | Developed by Eurokangas\n",
      "→ Source 15 description: logistics of circular economy - A new process innovation that addresses the challenges of logistics in circular economy, focusing on improving information sharing, collaboration, infrastructure matching, and novel logistic services to support circular supply chains. | Developed by Not Innovated Here\n",
      "\n",
      "Similarity: 0.939 | From: 14 To: 16\n",
      "→ Source 14 description: logistics of circular economy - A new process innovation that addresses the challenges of logistics in circular economy, focusing on improving information sharing, collaboration, infrastructure matching, and novel logistic services to support circular supply chains. | Developed by Eurokangas\n",
      "→ Source 16 description: logistics of circular economy - A new process innovation that addresses the challenges of logistics in circular economy, focusing on improving information sharing, collaboration, infrastructure matching, and novel logistic services to support circular supply chains. | Developed by Chemical Industry Federation of Finland\n",
      "\n",
      "Similarity: 0.954 | From: 14 To: 17\n",
      "→ Source 14 description: logistics of circular economy - A new process innovation that addresses the challenges of logistics in circular economy, focusing on improving information sharing, collaboration, infrastructure matching, and novel logistic services to support circular supply chains. | Developed by Eurokangas\n",
      "→ Source 17 description: logistics of circular economy - A new process innovation that addresses the challenges of logistics in circular economy, focusing on improving information sharing, collaboration, infrastructure matching, and novel logistic services to support circular supply chains. | Developed by Federation of Finnish Technology Industries\n"
     ]
    },
    {
     "name": "stderr",
     "output_type": "stream",
     "text": [
      "  0%|          | 14/6839 [00:04<32:18,  3.52it/s]"
     ]
    },
    {
     "name": "stdout",
     "output_type": "stream",
     "text": [
      "\n",
      "Similarity: 0.900 | From: 15 To: 16\n",
      "→ Source 15 description: logistics of circular economy - A new process innovation that addresses the challenges of logistics in circular economy, focusing on improving information sharing, collaboration, infrastructure matching, and novel logistic services to support circular supply chains. | Developed by Not Innovated Here\n",
      "→ Source 16 description: logistics of circular economy - A new process innovation that addresses the challenges of logistics in circular economy, focusing on improving information sharing, collaboration, infrastructure matching, and novel logistic services to support circular supply chains. | Developed by Chemical Industry Federation of Finland\n",
      "\n",
      "Similarity: 0.923 | From: 15 To: 17\n",
      "→ Source 15 description: logistics of circular economy - A new process innovation that addresses the challenges of logistics in circular economy, focusing on improving information sharing, collaboration, infrastructure matching, and novel logistic services to support circular supply chains. | Developed by Not Innovated Here\n",
      "→ Source 17 description: logistics of circular economy - A new process innovation that addresses the challenges of logistics in circular economy, focusing on improving information sharing, collaboration, infrastructure matching, and novel logistic services to support circular supply chains. | Developed by Federation of Finnish Technology Industries\n"
     ]
    },
    {
     "name": "stderr",
     "output_type": "stream",
     "text": [
      "  0%|          | 15/6839 [00:04<31:59,  3.55it/s]"
     ]
    },
    {
     "name": "stdout",
     "output_type": "stream",
     "text": [
      "\n",
      "Similarity: 0.973 | From: 16 To: 17\n",
      "→ Source 16 description: logistics of circular economy - A new process innovation that addresses the challenges of logistics in circular economy, focusing on improving information sharing, collaboration, infrastructure matching, and novel logistic services to support circular supply chains. | Developed by Chemical Industry Federation of Finland\n",
      "→ Source 17 description: logistics of circular economy - A new process innovation that addresses the challenges of logistics in circular economy, focusing on improving information sharing, collaboration, infrastructure matching, and novel logistic services to support circular supply chains. | Developed by Federation of Finnish Technology Industries\n"
     ]
    },
    {
     "name": "stderr",
     "output_type": "stream",
     "text": [
      "  0%|          | 17/6839 [00:04<31:34,  3.60it/s]"
     ]
    },
    {
     "name": "stdout",
     "output_type": "stream",
     "text": [
      "\n",
      "Similarity: 0.939 | From: 18 To: 19\n",
      "→ Source 18 description: AARRE project - A networked research project (2015-2017) developing new user-driven circular economy business activities including novel logistics services. | Developed by VTT\n",
      "→ Source 19 description: AARRE project - A networked research project (2015-2017) developing new user-driven circular economy business activities including novel logistics services. | Developed by Finnish Environment Institute (SYKE)\n",
      "\n",
      "Similarity: 0.953 | From: 18 To: 20\n",
      "→ Source 18 description: AARRE project - A networked research project (2015-2017) developing new user-driven circular economy business activities including novel logistics services. | Developed by VTT\n",
      "→ Source 20 description: AARRE project - A networked research project (2015-2017) developing new user-driven circular economy business activities including novel logistics services. | Developed by Consumer Society Research Centre of the University of Helsinki\n"
     ]
    },
    {
     "name": "stderr",
     "output_type": "stream",
     "text": [
      "  0%|          | 18/6839 [00:05<31:23,  3.62it/s]"
     ]
    },
    {
     "name": "stdout",
     "output_type": "stream",
     "text": [
      "\n",
      "Similarity: 0.941 | From: 19 To: 20\n",
      "→ Source 19 description: AARRE project - A networked research project (2015-2017) developing new user-driven circular economy business activities including novel logistics services. | Developed by Finnish Environment Institute (SYKE)\n",
      "→ Source 20 description: AARRE project - A networked research project (2015-2017) developing new user-driven circular economy business activities including novel logistics services. | Developed by Consumer Society Research Centre of the University of Helsinki\n"
     ]
    },
    {
     "name": "stderr",
     "output_type": "stream",
     "text": [
      "  0%|          | 20/6839 [00:05<31:20,  3.63it/s]"
     ]
    },
    {
     "name": "stdout",
     "output_type": "stream",
     "text": [
      "\n",
      "Similarity: 0.965 | From: 21 To: 22\n",
      "→ Source 21 description: Smart Rollator - A smart rollator developed by VTT equipped with sensors and algorithms to monitor the well-being, physical condition, and health of seniors by measuring various functions and providing feedback on physical activity goals. | Developed by VTT Technical Research Centre of Finland\n",
      "→ Source 22 description: Smart Rollator - A smart rollator developed by VTT equipped with sensors and algorithms to monitor the well-being, physical condition, and health of seniors by measuring various functions and providing feedback on physical activity goals. | Developed by Orton\n"
     ]
    },
    {
     "name": "stderr",
     "output_type": "stream",
     "text": [
      "  0%|          | 24/6839 [00:06<30:56,  3.67it/s]"
     ]
    },
    {
     "name": "stdout",
     "output_type": "stream",
     "text": [
      "\n",
      "Similarity: 0.915 | From: 25 To: 26\n",
      "→ Source 25 description: fungal production platform C1 - A new fungal production platform known as C1, developed for vaccines and therapeutic proteins, notable for low protease activity and high production efficiency. | Developed by VTT\n",
      "→ Source 26 description: fungal production platform C1 - A new fungal production platform known as C1, developed for vaccines and therapeutic proteins, notable for low protease activity and high production efficiency. | Developed by Dyadic International\n"
     ]
    },
    {
     "name": "stderr",
     "output_type": "stream",
     "text": [
      "  0%|          | 26/6839 [00:07<31:02,  3.66it/s]"
     ]
    },
    {
     "name": "stdout",
     "output_type": "stream",
     "text": [
      "\n",
      "Similarity: 0.895 | From: 27 To: 28\n",
      "→ Source 27 description: fungal production platform C1 - A new fungal production platform for vaccines and therapeutic proteins developed by improving Dyadic's C1 Myceliophthora thermophila fungus. | Developed by VTT\n",
      "→ Source 28 description: fungal production platform C1 - A new fungal production platform for vaccines and therapeutic proteins developed by improving Dyadic's C1 Myceliophthora thermophila fungus. | Developed by Dyadic International, Inc.\n"
     ]
    },
    {
     "name": "stderr",
     "output_type": "stream",
     "text": [
      "  0%|          | 28/6839 [00:07<30:47,  3.69it/s]"
     ]
    },
    {
     "name": "stdout",
     "output_type": "stream",
     "text": [
      "\n",
      "Similarity: 0.933 | From: 29 To: 30\n",
      "→ Source 29 description: Pilot line for cellulose-based electrical insulation components - A new compact and feasible pilot line concept using novel processing technologies for rapid, design-driven production of advanced cellulose-based electrical insulation components with improved efficiency and reduced operational costs. | Developed by VTT Technical Research Centre of Finland Ltd\n",
      "→ Source 30 description: Pilot line for cellulose-based electrical insulation components - A new compact and feasible pilot line concept using novel processing technologies for rapid, design-driven production of advanced cellulose-based electrical insulation components with improved efficiency and reduced operational costs. | Developed by ABB\n",
      "\n",
      "Similarity: 0.931 | From: 29 To: 31\n",
      "→ Source 29 description: Pilot line for cellulose-based electrical insulation components - A new compact and feasible pilot line concept using novel processing technologies for rapid, design-driven production of advanced cellulose-based electrical insulation components with improved efficiency and reduced operational costs. | Developed by VTT Technical Research Centre of Finland Ltd\n",
      "→ Source 31 description: Pilot line for cellulose-based electrical insulation components - A new compact and feasible pilot line concept using novel processing technologies for rapid, design-driven production of advanced cellulose-based electrical insulation components with improved efficiency and reduced operational costs. | Developed by ecoXpac\n",
      "\n",
      "Similarity: 0.930 | From: 29 To: 32\n",
      "→ Source 29 description: Pilot line for cellulose-based electrical insulation components - A new compact and feasible pilot line concept using novel processing technologies for rapid, design-driven production of advanced cellulose-based electrical insulation components with improved efficiency and reduced operational costs. | Developed by VTT Technical Research Centre of Finland Ltd\n",
      "→ Source 32 description: Pilot line for cellulose-based electrical insulation components - A new compact and feasible pilot line concept using novel processing technologies for rapid, design-driven production of advanced cellulose-based electrical insulation components with improved efficiency and reduced operational costs. | Developed by 3dTech\n",
      "\n",
      "Similarity: 0.932 | From: 29 To: 33\n",
      "→ Source 29 description: Pilot line for cellulose-based electrical insulation components - A new compact and feasible pilot line concept using novel processing technologies for rapid, design-driven production of advanced cellulose-based electrical insulation components with improved efficiency and reduced operational costs. | Developed by VTT Technical Research Centre of Finland Ltd\n",
      "→ Source 33 description: Pilot line for cellulose-based electrical insulation components - A new compact and feasible pilot line concept using novel processing technologies for rapid, design-driven production of advanced cellulose-based electrical insulation components with improved efficiency and reduced operational costs. | Developed by RMA\n",
      "\n",
      "Similarity: 0.928 | From: 29 To: 34\n",
      "→ Source 29 description: Pilot line for cellulose-based electrical insulation components - A new compact and feasible pilot line concept using novel processing technologies for rapid, design-driven production of advanced cellulose-based electrical insulation components with improved efficiency and reduced operational costs. | Developed by VTT Technical Research Centre of Finland Ltd\n",
      "→ Source 34 description: Pilot line for cellulose-based electrical insulation components - A new compact and feasible pilot line concept using novel processing technologies for rapid, design-driven production of advanced cellulose-based electrical insulation components with improved efficiency and reduced operational costs. | Developed by Vertech\n",
      "\n",
      "Similarity: 0.928 | From: 29 To: 35\n",
      "→ Source 29 description: Pilot line for cellulose-based electrical insulation components - A new compact and feasible pilot line concept using novel processing technologies for rapid, design-driven production of advanced cellulose-based electrical insulation components with improved efficiency and reduced operational costs. | Developed by VTT Technical Research Centre of Finland Ltd\n",
      "→ Source 35 description: Pilot line for cellulose-based electrical insulation components - A new compact and feasible pilot line concept using novel processing technologies for rapid, design-driven production of advanced cellulose-based electrical insulation components with improved efficiency and reduced operational costs. | Developed by Exergy\n",
      "\n",
      "Similarity: 0.942 | From: 29 To: 36\n",
      "→ Source 29 description: Pilot line for cellulose-based electrical insulation components - A new compact and feasible pilot line concept using novel processing technologies for rapid, design-driven production of advanced cellulose-based electrical insulation components with improved efficiency and reduced operational costs. | Developed by VTT Technical Research Centre of Finland Ltd\n",
      "→ Source 36 description: Pilot line for cellulose-based electrical insulation components - A new compact and feasible pilot line concept using novel processing technologies for rapid, design-driven production of advanced cellulose-based electrical insulation components with improved efficiency and reduced operational costs. | Developed by J. Rettenmaier & Söhne\n",
      "\n",
      "Similarity: 0.949 | From: 29 To: 37\n",
      "→ Source 29 description: Pilot line for cellulose-based electrical insulation components - A new compact and feasible pilot line concept using novel processing technologies for rapid, design-driven production of advanced cellulose-based electrical insulation components with improved efficiency and reduced operational costs. | Developed by VTT Technical Research Centre of Finland Ltd\n",
      "→ Source 37 description: Pilot line for cellulose-based electrical insulation components - A new compact and feasible pilot line concept using novel processing technologies for rapid, design-driven production of advanced cellulose-based electrical insulation components with improved efficiency and reduced operational costs. | Developed by Ahlström-Munksjö\n",
      "\n",
      "Similarity: 0.901 | From: 29 To: 38\n",
      "→ Source 29 description: Pilot line for cellulose-based electrical insulation components - A new compact and feasible pilot line concept using novel processing technologies for rapid, design-driven production of advanced cellulose-based electrical insulation components with improved efficiency and reduced operational costs. | Developed by VTT Technical Research Centre of Finland Ltd\n",
      "→ Source 38 description: Pilot line for cellulose-based electrical insulation components - A new compact and feasible pilot line concept using novel processing technologies for rapid, design-driven production of advanced cellulose-based electrical insulation components with improved efficiency and reduced operational costs. | Developed by AGH University Science and Technology\n"
     ]
    },
    {
     "name": "stderr",
     "output_type": "stream",
     "text": [
      "  0%|          | 29/6839 [00:08<31:55,  3.56it/s]"
     ]
    },
    {
     "name": "stdout",
     "output_type": "stream",
     "text": [
      "\n",
      "Similarity: 0.929 | From: 30 To: 31\n",
      "→ Source 30 description: Pilot line for cellulose-based electrical insulation components - A new compact and feasible pilot line concept using novel processing technologies for rapid, design-driven production of advanced cellulose-based electrical insulation components with improved efficiency and reduced operational costs. | Developed by ABB\n",
      "→ Source 31 description: Pilot line for cellulose-based electrical insulation components - A new compact and feasible pilot line concept using novel processing technologies for rapid, design-driven production of advanced cellulose-based electrical insulation components with improved efficiency and reduced operational costs. | Developed by ecoXpac\n",
      "\n",
      "Similarity: 0.928 | From: 30 To: 32\n",
      "→ Source 30 description: Pilot line for cellulose-based electrical insulation components - A new compact and feasible pilot line concept using novel processing technologies for rapid, design-driven production of advanced cellulose-based electrical insulation components with improved efficiency and reduced operational costs. | Developed by ABB\n",
      "→ Source 32 description: Pilot line for cellulose-based electrical insulation components - A new compact and feasible pilot line concept using novel processing technologies for rapid, design-driven production of advanced cellulose-based electrical insulation components with improved efficiency and reduced operational costs. | Developed by 3dTech\n",
      "\n",
      "Similarity: 0.937 | From: 30 To: 33\n",
      "→ Source 30 description: Pilot line for cellulose-based electrical insulation components - A new compact and feasible pilot line concept using novel processing technologies for rapid, design-driven production of advanced cellulose-based electrical insulation components with improved efficiency and reduced operational costs. | Developed by ABB\n",
      "→ Source 33 description: Pilot line for cellulose-based electrical insulation components - A new compact and feasible pilot line concept using novel processing technologies for rapid, design-driven production of advanced cellulose-based electrical insulation components with improved efficiency and reduced operational costs. | Developed by RMA\n",
      "\n",
      "Similarity: 0.919 | From: 30 To: 34\n",
      "→ Source 30 description: Pilot line for cellulose-based electrical insulation components - A new compact and feasible pilot line concept using novel processing technologies for rapid, design-driven production of advanced cellulose-based electrical insulation components with improved efficiency and reduced operational costs. | Developed by ABB\n",
      "→ Source 34 description: Pilot line for cellulose-based electrical insulation components - A new compact and feasible pilot line concept using novel processing technologies for rapid, design-driven production of advanced cellulose-based electrical insulation components with improved efficiency and reduced operational costs. | Developed by Vertech\n",
      "\n",
      "Similarity: 0.934 | From: 30 To: 35\n",
      "→ Source 30 description: Pilot line for cellulose-based electrical insulation components - A new compact and feasible pilot line concept using novel processing technologies for rapid, design-driven production of advanced cellulose-based electrical insulation components with improved efficiency and reduced operational costs. | Developed by ABB\n",
      "→ Source 35 description: Pilot line for cellulose-based electrical insulation components - A new compact and feasible pilot line concept using novel processing technologies for rapid, design-driven production of advanced cellulose-based electrical insulation components with improved efficiency and reduced operational costs. | Developed by Exergy\n",
      "\n",
      "Similarity: 0.942 | From: 30 To: 36\n",
      "→ Source 30 description: Pilot line for cellulose-based electrical insulation components - A new compact and feasible pilot line concept using novel processing technologies for rapid, design-driven production of advanced cellulose-based electrical insulation components with improved efficiency and reduced operational costs. | Developed by ABB\n",
      "→ Source 36 description: Pilot line for cellulose-based electrical insulation components - A new compact and feasible pilot line concept using novel processing technologies for rapid, design-driven production of advanced cellulose-based electrical insulation components with improved efficiency and reduced operational costs. | Developed by J. Rettenmaier & Söhne\n",
      "\n",
      "Similarity: 0.936 | From: 30 To: 37\n",
      "→ Source 30 description: Pilot line for cellulose-based electrical insulation components - A new compact and feasible pilot line concept using novel processing technologies for rapid, design-driven production of advanced cellulose-based electrical insulation components with improved efficiency and reduced operational costs. | Developed by ABB\n",
      "→ Source 37 description: Pilot line for cellulose-based electrical insulation components - A new compact and feasible pilot line concept using novel processing technologies for rapid, design-driven production of advanced cellulose-based electrical insulation components with improved efficiency and reduced operational costs. | Developed by Ahlström-Munksjö\n",
      "\n",
      "Similarity: 0.901 | From: 30 To: 38\n",
      "→ Source 30 description: Pilot line for cellulose-based electrical insulation components - A new compact and feasible pilot line concept using novel processing technologies for rapid, design-driven production of advanced cellulose-based electrical insulation components with improved efficiency and reduced operational costs. | Developed by ABB\n",
      "→ Source 38 description: Pilot line for cellulose-based electrical insulation components - A new compact and feasible pilot line concept using novel processing technologies for rapid, design-driven production of advanced cellulose-based electrical insulation components with improved efficiency and reduced operational costs. | Developed by AGH University Science and Technology\n"
     ]
    },
    {
     "name": "stderr",
     "output_type": "stream",
     "text": [
      "  0%|          | 30/6839 [00:08<31:29,  3.60it/s]"
     ]
    },
    {
     "name": "stdout",
     "output_type": "stream",
     "text": [
      "\n",
      "Similarity: 0.936 | From: 31 To: 32\n",
      "→ Source 31 description: Pilot line for cellulose-based electrical insulation components - A new compact and feasible pilot line concept using novel processing technologies for rapid, design-driven production of advanced cellulose-based electrical insulation components with improved efficiency and reduced operational costs. | Developed by ecoXpac\n",
      "→ Source 32 description: Pilot line for cellulose-based electrical insulation components - A new compact and feasible pilot line concept using novel processing technologies for rapid, design-driven production of advanced cellulose-based electrical insulation components with improved efficiency and reduced operational costs. | Developed by 3dTech\n",
      "\n",
      "Similarity: 0.939 | From: 31 To: 33\n",
      "→ Source 31 description: Pilot line for cellulose-based electrical insulation components - A new compact and feasible pilot line concept using novel processing technologies for rapid, design-driven production of advanced cellulose-based electrical insulation components with improved efficiency and reduced operational costs. | Developed by ecoXpac\n",
      "→ Source 33 description: Pilot line for cellulose-based electrical insulation components - A new compact and feasible pilot line concept using novel processing technologies for rapid, design-driven production of advanced cellulose-based electrical insulation components with improved efficiency and reduced operational costs. | Developed by RMA\n",
      "\n",
      "Similarity: 0.927 | From: 31 To: 34\n",
      "→ Source 31 description: Pilot line for cellulose-based electrical insulation components - A new compact and feasible pilot line concept using novel processing technologies for rapid, design-driven production of advanced cellulose-based electrical insulation components with improved efficiency and reduced operational costs. | Developed by ecoXpac\n",
      "→ Source 34 description: Pilot line for cellulose-based electrical insulation components - A new compact and feasible pilot line concept using novel processing technologies for rapid, design-driven production of advanced cellulose-based electrical insulation components with improved efficiency and reduced operational costs. | Developed by Vertech\n",
      "\n",
      "Similarity: 0.953 | From: 31 To: 35\n",
      "→ Source 31 description: Pilot line for cellulose-based electrical insulation components - A new compact and feasible pilot line concept using novel processing technologies for rapid, design-driven production of advanced cellulose-based electrical insulation components with improved efficiency and reduced operational costs. | Developed by ecoXpac\n",
      "→ Source 35 description: Pilot line for cellulose-based electrical insulation components - A new compact and feasible pilot line concept using novel processing technologies for rapid, design-driven production of advanced cellulose-based electrical insulation components with improved efficiency and reduced operational costs. | Developed by Exergy\n",
      "\n",
      "Similarity: 0.944 | From: 31 To: 36\n",
      "→ Source 31 description: Pilot line for cellulose-based electrical insulation components - A new compact and feasible pilot line concept using novel processing technologies for rapid, design-driven production of advanced cellulose-based electrical insulation components with improved efficiency and reduced operational costs. | Developed by ecoXpac\n",
      "→ Source 36 description: Pilot line for cellulose-based electrical insulation components - A new compact and feasible pilot line concept using novel processing technologies for rapid, design-driven production of advanced cellulose-based electrical insulation components with improved efficiency and reduced operational costs. | Developed by J. Rettenmaier & Söhne\n",
      "\n",
      "Similarity: 0.937 | From: 31 To: 37\n",
      "→ Source 31 description: Pilot line for cellulose-based electrical insulation components - A new compact and feasible pilot line concept using novel processing technologies for rapid, design-driven production of advanced cellulose-based electrical insulation components with improved efficiency and reduced operational costs. | Developed by ecoXpac\n",
      "→ Source 37 description: Pilot line for cellulose-based electrical insulation components - A new compact and feasible pilot line concept using novel processing technologies for rapid, design-driven production of advanced cellulose-based electrical insulation components with improved efficiency and reduced operational costs. | Developed by Ahlström-Munksjö\n",
      "\n",
      "Similarity: 0.898 | From: 31 To: 38\n",
      "→ Source 31 description: Pilot line for cellulose-based electrical insulation components - A new compact and feasible pilot line concept using novel processing technologies for rapid, design-driven production of advanced cellulose-based electrical insulation components with improved efficiency and reduced operational costs. | Developed by ecoXpac\n",
      "→ Source 38 description: Pilot line for cellulose-based electrical insulation components - A new compact and feasible pilot line concept using novel processing technologies for rapid, design-driven production of advanced cellulose-based electrical insulation components with improved efficiency and reduced operational costs. | Developed by AGH University Science and Technology\n"
     ]
    },
    {
     "name": "stderr",
     "output_type": "stream",
     "text": [
      "  0%|          | 31/6839 [00:08<31:13,  3.63it/s]"
     ]
    },
    {
     "name": "stdout",
     "output_type": "stream",
     "text": [
      "\n",
      "Similarity: 0.941 | From: 32 To: 33\n",
      "→ Source 32 description: Pilot line for cellulose-based electrical insulation components - A new compact and feasible pilot line concept using novel processing technologies for rapid, design-driven production of advanced cellulose-based electrical insulation components with improved efficiency and reduced operational costs. | Developed by 3dTech\n",
      "→ Source 33 description: Pilot line for cellulose-based electrical insulation components - A new compact and feasible pilot line concept using novel processing technologies for rapid, design-driven production of advanced cellulose-based electrical insulation components with improved efficiency and reduced operational costs. | Developed by RMA\n",
      "\n",
      "Similarity: 0.947 | From: 32 To: 34\n",
      "→ Source 32 description: Pilot line for cellulose-based electrical insulation components - A new compact and feasible pilot line concept using novel processing technologies for rapid, design-driven production of advanced cellulose-based electrical insulation components with improved efficiency and reduced operational costs. | Developed by 3dTech\n",
      "→ Source 34 description: Pilot line for cellulose-based electrical insulation components - A new compact and feasible pilot line concept using novel processing technologies for rapid, design-driven production of advanced cellulose-based electrical insulation components with improved efficiency and reduced operational costs. | Developed by Vertech\n",
      "\n",
      "Similarity: 0.937 | From: 32 To: 35\n",
      "→ Source 32 description: Pilot line for cellulose-based electrical insulation components - A new compact and feasible pilot line concept using novel processing technologies for rapid, design-driven production of advanced cellulose-based electrical insulation components with improved efficiency and reduced operational costs. | Developed by 3dTech\n",
      "→ Source 35 description: Pilot line for cellulose-based electrical insulation components - A new compact and feasible pilot line concept using novel processing technologies for rapid, design-driven production of advanced cellulose-based electrical insulation components with improved efficiency and reduced operational costs. | Developed by Exergy\n",
      "\n",
      "Similarity: 0.945 | From: 32 To: 36\n",
      "→ Source 32 description: Pilot line for cellulose-based electrical insulation components - A new compact and feasible pilot line concept using novel processing technologies for rapid, design-driven production of advanced cellulose-based electrical insulation components with improved efficiency and reduced operational costs. | Developed by 3dTech\n",
      "→ Source 36 description: Pilot line for cellulose-based electrical insulation components - A new compact and feasible pilot line concept using novel processing technologies for rapid, design-driven production of advanced cellulose-based electrical insulation components with improved efficiency and reduced operational costs. | Developed by J. Rettenmaier & Söhne\n",
      "\n",
      "Similarity: 0.926 | From: 32 To: 37\n",
      "→ Source 32 description: Pilot line for cellulose-based electrical insulation components - A new compact and feasible pilot line concept using novel processing technologies for rapid, design-driven production of advanced cellulose-based electrical insulation components with improved efficiency and reduced operational costs. | Developed by 3dTech\n",
      "→ Source 37 description: Pilot line for cellulose-based electrical insulation components - A new compact and feasible pilot line concept using novel processing technologies for rapid, design-driven production of advanced cellulose-based electrical insulation components with improved efficiency and reduced operational costs. | Developed by Ahlström-Munksjö\n",
      "\n",
      "Similarity: 0.916 | From: 32 To: 38\n",
      "→ Source 32 description: Pilot line for cellulose-based electrical insulation components - A new compact and feasible pilot line concept using novel processing technologies for rapid, design-driven production of advanced cellulose-based electrical insulation components with improved efficiency and reduced operational costs. | Developed by 3dTech\n",
      "→ Source 38 description: Pilot line for cellulose-based electrical insulation components - A new compact and feasible pilot line concept using novel processing technologies for rapid, design-driven production of advanced cellulose-based electrical insulation components with improved efficiency and reduced operational costs. | Developed by AGH University Science and Technology\n"
     ]
    },
    {
     "name": "stderr",
     "output_type": "stream",
     "text": [
      "  0%|          | 32/6839 [00:08<31:13,  3.63it/s]"
     ]
    },
    {
     "name": "stdout",
     "output_type": "stream",
     "text": [
      "\n",
      "Similarity: 0.929 | From: 33 To: 34\n",
      "→ Source 33 description: Pilot line for cellulose-based electrical insulation components - A new compact and feasible pilot line concept using novel processing technologies for rapid, design-driven production of advanced cellulose-based electrical insulation components with improved efficiency and reduced operational costs. | Developed by RMA\n",
      "→ Source 34 description: Pilot line for cellulose-based electrical insulation components - A new compact and feasible pilot line concept using novel processing technologies for rapid, design-driven production of advanced cellulose-based electrical insulation components with improved efficiency and reduced operational costs. | Developed by Vertech\n",
      "\n",
      "Similarity: 0.941 | From: 33 To: 35\n",
      "→ Source 33 description: Pilot line for cellulose-based electrical insulation components - A new compact and feasible pilot line concept using novel processing technologies for rapid, design-driven production of advanced cellulose-based electrical insulation components with improved efficiency and reduced operational costs. | Developed by RMA\n",
      "→ Source 35 description: Pilot line for cellulose-based electrical insulation components - A new compact and feasible pilot line concept using novel processing technologies for rapid, design-driven production of advanced cellulose-based electrical insulation components with improved efficiency and reduced operational costs. | Developed by Exergy\n",
      "\n",
      "Similarity: 0.960 | From: 33 To: 36\n",
      "→ Source 33 description: Pilot line for cellulose-based electrical insulation components - A new compact and feasible pilot line concept using novel processing technologies for rapid, design-driven production of advanced cellulose-based electrical insulation components with improved efficiency and reduced operational costs. | Developed by RMA\n",
      "→ Source 36 description: Pilot line for cellulose-based electrical insulation components - A new compact and feasible pilot line concept using novel processing technologies for rapid, design-driven production of advanced cellulose-based electrical insulation components with improved efficiency and reduced operational costs. | Developed by J. Rettenmaier & Söhne\n",
      "\n",
      "Similarity: 0.937 | From: 33 To: 37\n",
      "→ Source 33 description: Pilot line for cellulose-based electrical insulation components - A new compact and feasible pilot line concept using novel processing technologies for rapid, design-driven production of advanced cellulose-based electrical insulation components with improved efficiency and reduced operational costs. | Developed by RMA\n",
      "→ Source 37 description: Pilot line for cellulose-based electrical insulation components - A new compact and feasible pilot line concept using novel processing technologies for rapid, design-driven production of advanced cellulose-based electrical insulation components with improved efficiency and reduced operational costs. | Developed by Ahlström-Munksjö\n",
      "\n",
      "Similarity: 0.916 | From: 33 To: 38\n",
      "→ Source 33 description: Pilot line for cellulose-based electrical insulation components - A new compact and feasible pilot line concept using novel processing technologies for rapid, design-driven production of advanced cellulose-based electrical insulation components with improved efficiency and reduced operational costs. | Developed by RMA\n",
      "→ Source 38 description: Pilot line for cellulose-based electrical insulation components - A new compact and feasible pilot line concept using novel processing technologies for rapid, design-driven production of advanced cellulose-based electrical insulation components with improved efficiency and reduced operational costs. | Developed by AGH University Science and Technology\n"
     ]
    },
    {
     "name": "stderr",
     "output_type": "stream",
     "text": [
      "  0%|          | 33/6839 [00:09<31:05,  3.65it/s]"
     ]
    },
    {
     "name": "stdout",
     "output_type": "stream",
     "text": [
      "\n",
      "Similarity: 0.933 | From: 34 To: 35\n",
      "→ Source 34 description: Pilot line for cellulose-based electrical insulation components - A new compact and feasible pilot line concept using novel processing technologies for rapid, design-driven production of advanced cellulose-based electrical insulation components with improved efficiency and reduced operational costs. | Developed by Vertech\n",
      "→ Source 35 description: Pilot line for cellulose-based electrical insulation components - A new compact and feasible pilot line concept using novel processing technologies for rapid, design-driven production of advanced cellulose-based electrical insulation components with improved efficiency and reduced operational costs. | Developed by Exergy\n",
      "\n",
      "Similarity: 0.937 | From: 34 To: 36\n",
      "→ Source 34 description: Pilot line for cellulose-based electrical insulation components - A new compact and feasible pilot line concept using novel processing technologies for rapid, design-driven production of advanced cellulose-based electrical insulation components with improved efficiency and reduced operational costs. | Developed by Vertech\n",
      "→ Source 36 description: Pilot line for cellulose-based electrical insulation components - A new compact and feasible pilot line concept using novel processing technologies for rapid, design-driven production of advanced cellulose-based electrical insulation components with improved efficiency and reduced operational costs. | Developed by J. Rettenmaier & Söhne\n",
      "\n",
      "Similarity: 0.917 | From: 34 To: 37\n",
      "→ Source 34 description: Pilot line for cellulose-based electrical insulation components - A new compact and feasible pilot line concept using novel processing technologies for rapid, design-driven production of advanced cellulose-based electrical insulation components with improved efficiency and reduced operational costs. | Developed by Vertech\n",
      "→ Source 37 description: Pilot line for cellulose-based electrical insulation components - A new compact and feasible pilot line concept using novel processing technologies for rapid, design-driven production of advanced cellulose-based electrical insulation components with improved efficiency and reduced operational costs. | Developed by Ahlström-Munksjö\n",
      "\n",
      "Similarity: 0.893 | From: 34 To: 38\n",
      "→ Source 34 description: Pilot line for cellulose-based electrical insulation components - A new compact and feasible pilot line concept using novel processing technologies for rapid, design-driven production of advanced cellulose-based electrical insulation components with improved efficiency and reduced operational costs. | Developed by Vertech\n",
      "→ Source 38 description: Pilot line for cellulose-based electrical insulation components - A new compact and feasible pilot line concept using novel processing technologies for rapid, design-driven production of advanced cellulose-based electrical insulation components with improved efficiency and reduced operational costs. | Developed by AGH University Science and Technology\n"
     ]
    },
    {
     "name": "stderr",
     "output_type": "stream",
     "text": [
      "  0%|          | 34/6839 [00:09<31:03,  3.65it/s]"
     ]
    },
    {
     "name": "stdout",
     "output_type": "stream",
     "text": [
      "\n",
      "Similarity: 0.945 | From: 35 To: 36\n",
      "→ Source 35 description: Pilot line for cellulose-based electrical insulation components - A new compact and feasible pilot line concept using novel processing technologies for rapid, design-driven production of advanced cellulose-based electrical insulation components with improved efficiency and reduced operational costs. | Developed by Exergy\n",
      "→ Source 36 description: Pilot line for cellulose-based electrical insulation components - A new compact and feasible pilot line concept using novel processing technologies for rapid, design-driven production of advanced cellulose-based electrical insulation components with improved efficiency and reduced operational costs. | Developed by J. Rettenmaier & Söhne\n",
      "\n",
      "Similarity: 0.932 | From: 35 To: 37\n",
      "→ Source 35 description: Pilot line for cellulose-based electrical insulation components - A new compact and feasible pilot line concept using novel processing technologies for rapid, design-driven production of advanced cellulose-based electrical insulation components with improved efficiency and reduced operational costs. | Developed by Exergy\n",
      "→ Source 37 description: Pilot line for cellulose-based electrical insulation components - A new compact and feasible pilot line concept using novel processing technologies for rapid, design-driven production of advanced cellulose-based electrical insulation components with improved efficiency and reduced operational costs. | Developed by Ahlström-Munksjö\n",
      "\n",
      "Similarity: 0.907 | From: 35 To: 38\n",
      "→ Source 35 description: Pilot line for cellulose-based electrical insulation components - A new compact and feasible pilot line concept using novel processing technologies for rapid, design-driven production of advanced cellulose-based electrical insulation components with improved efficiency and reduced operational costs. | Developed by Exergy\n",
      "→ Source 38 description: Pilot line for cellulose-based electrical insulation components - A new compact and feasible pilot line concept using novel processing technologies for rapid, design-driven production of advanced cellulose-based electrical insulation components with improved efficiency and reduced operational costs. | Developed by AGH University Science and Technology\n"
     ]
    },
    {
     "name": "stderr",
     "output_type": "stream",
     "text": [
      "  1%|          | 35/6839 [00:09<31:02,  3.65it/s]"
     ]
    },
    {
     "name": "stdout",
     "output_type": "stream",
     "text": [
      "\n",
      "Similarity: 0.951 | From: 36 To: 37\n",
      "→ Source 36 description: Pilot line for cellulose-based electrical insulation components - A new compact and feasible pilot line concept using novel processing technologies for rapid, design-driven production of advanced cellulose-based electrical insulation components with improved efficiency and reduced operational costs. | Developed by J. Rettenmaier & Söhne\n",
      "→ Source 37 description: Pilot line for cellulose-based electrical insulation components - A new compact and feasible pilot line concept using novel processing technologies for rapid, design-driven production of advanced cellulose-based electrical insulation components with improved efficiency and reduced operational costs. | Developed by Ahlström-Munksjö\n",
      "\n",
      "Similarity: 0.916 | From: 36 To: 38\n",
      "→ Source 36 description: Pilot line for cellulose-based electrical insulation components - A new compact and feasible pilot line concept using novel processing technologies for rapid, design-driven production of advanced cellulose-based electrical insulation components with improved efficiency and reduced operational costs. | Developed by J. Rettenmaier & Söhne\n",
      "→ Source 38 description: Pilot line for cellulose-based electrical insulation components - A new compact and feasible pilot line concept using novel processing technologies for rapid, design-driven production of advanced cellulose-based electrical insulation components with improved efficiency and reduced operational costs. | Developed by AGH University Science and Technology\n"
     ]
    },
    {
     "name": "stderr",
     "output_type": "stream",
     "text": [
      "  1%|          | 36/6839 [00:10<31:04,  3.65it/s]"
     ]
    },
    {
     "name": "stdout",
     "output_type": "stream",
     "text": [
      "\n",
      "Similarity: 0.901 | From: 37 To: 38\n",
      "→ Source 37 description: Pilot line for cellulose-based electrical insulation components - A new compact and feasible pilot line concept using novel processing technologies for rapid, design-driven production of advanced cellulose-based electrical insulation components with improved efficiency and reduced operational costs. | Developed by Ahlström-Munksjö\n",
      "→ Source 38 description: Pilot line for cellulose-based electrical insulation components - A new compact and feasible pilot line concept using novel processing technologies for rapid, design-driven production of advanced cellulose-based electrical insulation components with improved efficiency and reduced operational costs. | Developed by AGH University Science and Technology\n"
     ]
    },
    {
     "name": "stderr",
     "output_type": "stream",
     "text": [
      "  1%|          | 38/6839 [00:10<30:52,  3.67it/s]"
     ]
    },
    {
     "name": "stdout",
     "output_type": "stream",
     "text": [
      "\n",
      "Similarity: 0.981 | From: 39 To: 40\n",
      "→ Source 39 description: silicon photonics and optical data transfer components - New technological components in silicon photonics and optical data transfer developed and commercialised through VTT and Hitachi cooperation. | Developed by VTT Technical Research Centre of Finland\n",
      "→ Source 40 description: silicon photonics and optical data transfer components - New technological components in silicon photonics and optical data transfer developed and commercialised through VTT and Hitachi cooperation. | Developed by Hitachi High-Technologies Corporation\n"
     ]
    },
    {
     "name": "stderr",
     "output_type": "stream",
     "text": [
      "  1%|          | 44/6839 [00:12<30:47,  3.68it/s]"
     ]
    },
    {
     "name": "stdout",
     "output_type": "stream",
     "text": [
      "\n",
      "Similarity: 0.939 | From: 45 To: 46\n",
      "→ Source 45 description: Food My Way project - A project to develop a vending machine that produces personalised and healthy food products, building upon Vital Selfie innovations. | Developed by VTT Technical Research Centre of Finland\n",
      "→ Source 46 description: Food My Way project - A project to develop a vending machine that produces personalised and healthy food products, building upon Vital Selfie innovations. | Developed by Valio\n",
      "\n",
      "Similarity: 0.927 | From: 45 To: 47\n",
      "→ Source 45 description: Food My Way project - A project to develop a vending machine that produces personalised and healthy food products, building upon Vital Selfie innovations. | Developed by VTT Technical Research Centre of Finland\n",
      "→ Source 47 description: Food My Way project - A project to develop a vending machine that produces personalised and healthy food products, building upon Vital Selfie innovations. | Developed by Raisio\n",
      "\n",
      "Similarity: 0.943 | From: 45 To: 48\n",
      "→ Source 45 description: Food My Way project - A project to develop a vending machine that produces personalised and healthy food products, building upon Vital Selfie innovations. | Developed by VTT Technical Research Centre of Finland\n",
      "→ Source 48 description: Food My Way project - A project to develop a vending machine that produces personalised and healthy food products, building upon Vital Selfie innovations. | Developed by Sinebrychoff\n",
      "\n",
      "Similarity: 0.939 | From: 45 To: 49\n",
      "→ Source 45 description: Food My Way project - A project to develop a vending machine that produces personalised and healthy food products, building upon Vital Selfie innovations. | Developed by VTT Technical Research Centre of Finland\n",
      "→ Source 49 description: Food My Way project - A project to develop a vending machine that produces personalised and healthy food products, building upon Vital Selfie innovations. | Developed by Fazer Food Services\n",
      "\n",
      "Similarity: 0.886 | From: 45 To: 50\n",
      "→ Source 45 description: Food My Way project - A project to develop a vending machine that produces personalised and healthy food products, building upon Vital Selfie innovations. | Developed by VTT Technical Research Centre of Finland\n",
      "→ Source 50 description: Food My Way project - A project to develop a vending machine that produces personalised and healthy food products, building upon Vital Selfie innovations. | Developed by TBWA\n"
     ]
    },
    {
     "name": "stderr",
     "output_type": "stream",
     "text": [
      "  1%|          | 45/6839 [00:12<30:38,  3.69it/s]"
     ]
    },
    {
     "name": "stdout",
     "output_type": "stream",
     "text": [
      "\n",
      "Similarity: 0.940 | From: 46 To: 47\n",
      "→ Source 46 description: Food My Way project - A project to develop a vending machine that produces personalised and healthy food products, building upon Vital Selfie innovations. | Developed by Valio\n",
      "→ Source 47 description: Food My Way project - A project to develop a vending machine that produces personalised and healthy food products, building upon Vital Selfie innovations. | Developed by Raisio\n",
      "\n",
      "Similarity: 0.949 | From: 46 To: 48\n",
      "→ Source 46 description: Food My Way project - A project to develop a vending machine that produces personalised and healthy food products, building upon Vital Selfie innovations. | Developed by Valio\n",
      "→ Source 48 description: Food My Way project - A project to develop a vending machine that produces personalised and healthy food products, building upon Vital Selfie innovations. | Developed by Sinebrychoff\n",
      "\n",
      "Similarity: 0.939 | From: 46 To: 49\n",
      "→ Source 46 description: Food My Way project - A project to develop a vending machine that produces personalised and healthy food products, building upon Vital Selfie innovations. | Developed by Valio\n",
      "→ Source 49 description: Food My Way project - A project to develop a vending machine that produces personalised and healthy food products, building upon Vital Selfie innovations. | Developed by Fazer Food Services\n",
      "\n",
      "Similarity: 0.885 | From: 46 To: 50\n",
      "→ Source 46 description: Food My Way project - A project to develop a vending machine that produces personalised and healthy food products, building upon Vital Selfie innovations. | Developed by Valio\n",
      "→ Source 50 description: Food My Way project - A project to develop a vending machine that produces personalised and healthy food products, building upon Vital Selfie innovations. | Developed by TBWA\n"
     ]
    },
    {
     "name": "stderr",
     "output_type": "stream",
     "text": [
      "  1%|          | 46/6839 [00:12<31:02,  3.65it/s]"
     ]
    },
    {
     "name": "stdout",
     "output_type": "stream",
     "text": [
      "\n",
      "Similarity: 0.937 | From: 47 To: 48\n",
      "→ Source 47 description: Food My Way project - A project to develop a vending machine that produces personalised and healthy food products, building upon Vital Selfie innovations. | Developed by Raisio\n",
      "→ Source 48 description: Food My Way project - A project to develop a vending machine that produces personalised and healthy food products, building upon Vital Selfie innovations. | Developed by Sinebrychoff\n",
      "\n",
      "Similarity: 0.933 | From: 47 To: 49\n",
      "→ Source 47 description: Food My Way project - A project to develop a vending machine that produces personalised and healthy food products, building upon Vital Selfie innovations. | Developed by Raisio\n",
      "→ Source 49 description: Food My Way project - A project to develop a vending machine that produces personalised and healthy food products, building upon Vital Selfie innovations. | Developed by Fazer Food Services\n",
      "\n",
      "Similarity: 0.881 | From: 47 To: 50\n",
      "→ Source 47 description: Food My Way project - A project to develop a vending machine that produces personalised and healthy food products, building upon Vital Selfie innovations. | Developed by Raisio\n",
      "→ Source 50 description: Food My Way project - A project to develop a vending machine that produces personalised and healthy food products, building upon Vital Selfie innovations. | Developed by TBWA\n"
     ]
    },
    {
     "name": "stderr",
     "output_type": "stream",
     "text": [
      "  1%|          | 47/6839 [00:13<30:56,  3.66it/s]"
     ]
    },
    {
     "name": "stdout",
     "output_type": "stream",
     "text": [
      "\n",
      "Similarity: 0.944 | From: 48 To: 49\n",
      "→ Source 48 description: Food My Way project - A project to develop a vending machine that produces personalised and healthy food products, building upon Vital Selfie innovations. | Developed by Sinebrychoff\n",
      "→ Source 49 description: Food My Way project - A project to develop a vending machine that produces personalised and healthy food products, building upon Vital Selfie innovations. | Developed by Fazer Food Services\n",
      "\n",
      "Similarity: 0.895 | From: 48 To: 50\n",
      "→ Source 48 description: Food My Way project - A project to develop a vending machine that produces personalised and healthy food products, building upon Vital Selfie innovations. | Developed by Sinebrychoff\n",
      "→ Source 50 description: Food My Way project - A project to develop a vending machine that produces personalised and healthy food products, building upon Vital Selfie innovations. | Developed by TBWA\n"
     ]
    },
    {
     "name": "stderr",
     "output_type": "stream",
     "text": [
      "  1%|          | 48/6839 [00:13<30:52,  3.67it/s]"
     ]
    },
    {
     "name": "stdout",
     "output_type": "stream",
     "text": [
      "\n",
      "Similarity: 0.906 | From: 49 To: 50\n",
      "→ Source 49 description: Food My Way project - A project to develop a vending machine that produces personalised and healthy food products, building upon Vital Selfie innovations. | Developed by Fazer Food Services\n",
      "→ Source 50 description: Food My Way project - A project to develop a vending machine that produces personalised and healthy food products, building upon Vital Selfie innovations. | Developed by TBWA\n"
     ]
    },
    {
     "name": "stderr",
     "output_type": "stream",
     "text": [
      "  1%|          | 50/6839 [00:13<30:54,  3.66it/s]"
     ]
    },
    {
     "name": "stdout",
     "output_type": "stream",
     "text": [
      "\n",
      "Similarity: 0.951 | From: 51 To: 52\n",
      "→ Source 51 description: PrintoCent10 project CRP rapid test - A manufactured CRP rapid test piloted in a real health care environment as part of PrintoCent10 project. | Developed by VTT Technical Research Centre of Finland Ltd\n",
      "→ Source 52 description: PrintoCent10 project CRP rapid test - A manufactured CRP rapid test piloted in a real health care environment as part of PrintoCent10 project. | Developed by Ginolis\n",
      "\n",
      "Similarity: 0.942 | From: 51 To: 53\n",
      "→ Source 51 description: PrintoCent10 project CRP rapid test - A manufactured CRP rapid test piloted in a real health care environment as part of PrintoCent10 project. | Developed by VTT Technical Research Centre of Finland Ltd\n",
      "→ Source 53 description: PrintoCent10 project CRP rapid test - A manufactured CRP rapid test piloted in a real health care environment as part of PrintoCent10 project. | Developed by iSTOC\n",
      "\n",
      "Similarity: 0.959 | From: 51 To: 54\n",
      "→ Source 51 description: PrintoCent10 project CRP rapid test - A manufactured CRP rapid test piloted in a real health care environment as part of PrintoCent10 project. | Developed by VTT Technical Research Centre of Finland Ltd\n",
      "→ Source 54 description: PrintoCent10 project CRP rapid test - A manufactured CRP rapid test piloted in a real health care environment as part of PrintoCent10 project. | Developed by Screentec\n",
      "\n",
      "Similarity: 0.967 | From: 51 To: 55\n",
      "→ Source 51 description: PrintoCent10 project CRP rapid test - A manufactured CRP rapid test piloted in a real health care environment as part of PrintoCent10 project. | Developed by VTT Technical Research Centre of Finland Ltd\n",
      "→ Source 55 description: PrintoCent10 project CRP rapid test - A manufactured CRP rapid test piloted in a real health care environment as part of PrintoCent10 project. | Developed by Health City Finland\n",
      "\n",
      "Similarity: 0.941 | From: 51 To: 56\n",
      "→ Source 51 description: PrintoCent10 project CRP rapid test - A manufactured CRP rapid test piloted in a real health care environment as part of PrintoCent10 project. | Developed by VTT Technical Research Centre of Finland Ltd\n",
      "→ Source 56 description: PrintoCent10 project CRP rapid test - A manufactured CRP rapid test piloted in a real health care environment as part of PrintoCent10 project. | Developed by Flexbright\n"
     ]
    },
    {
     "name": "stderr",
     "output_type": "stream",
     "text": [
      "  1%|          | 51/6839 [00:14<30:57,  3.65it/s]"
     ]
    },
    {
     "name": "stdout",
     "output_type": "stream",
     "text": [
      "\n",
      "Similarity: 0.942 | From: 52 To: 53\n",
      "→ Source 52 description: PrintoCent10 project CRP rapid test - A manufactured CRP rapid test piloted in a real health care environment as part of PrintoCent10 project. | Developed by Ginolis\n",
      "→ Source 53 description: PrintoCent10 project CRP rapid test - A manufactured CRP rapid test piloted in a real health care environment as part of PrintoCent10 project. | Developed by iSTOC\n",
      "\n",
      "Similarity: 0.952 | From: 52 To: 54\n",
      "→ Source 52 description: PrintoCent10 project CRP rapid test - A manufactured CRP rapid test piloted in a real health care environment as part of PrintoCent10 project. | Developed by Ginolis\n",
      "→ Source 54 description: PrintoCent10 project CRP rapid test - A manufactured CRP rapid test piloted in a real health care environment as part of PrintoCent10 project. | Developed by Screentec\n",
      "\n",
      "Similarity: 0.946 | From: 52 To: 55\n",
      "→ Source 52 description: PrintoCent10 project CRP rapid test - A manufactured CRP rapid test piloted in a real health care environment as part of PrintoCent10 project. | Developed by Ginolis\n",
      "→ Source 55 description: PrintoCent10 project CRP rapid test - A manufactured CRP rapid test piloted in a real health care environment as part of PrintoCent10 project. | Developed by Health City Finland\n",
      "\n",
      "Similarity: 0.941 | From: 52 To: 56\n",
      "→ Source 52 description: PrintoCent10 project CRP rapid test - A manufactured CRP rapid test piloted in a real health care environment as part of PrintoCent10 project. | Developed by Ginolis\n",
      "→ Source 56 description: PrintoCent10 project CRP rapid test - A manufactured CRP rapid test piloted in a real health care environment as part of PrintoCent10 project. | Developed by Flexbright\n"
     ]
    },
    {
     "name": "stderr",
     "output_type": "stream",
     "text": [
      "  1%|          | 52/6839 [00:14<31:00,  3.65it/s]"
     ]
    },
    {
     "name": "stdout",
     "output_type": "stream",
     "text": [
      "\n",
      "Similarity: 0.951 | From: 53 To: 54\n",
      "→ Source 53 description: PrintoCent10 project CRP rapid test - A manufactured CRP rapid test piloted in a real health care environment as part of PrintoCent10 project. | Developed by iSTOC\n",
      "→ Source 54 description: PrintoCent10 project CRP rapid test - A manufactured CRP rapid test piloted in a real health care environment as part of PrintoCent10 project. | Developed by Screentec\n",
      "\n",
      "Similarity: 0.931 | From: 53 To: 55\n",
      "→ Source 53 description: PrintoCent10 project CRP rapid test - A manufactured CRP rapid test piloted in a real health care environment as part of PrintoCent10 project. | Developed by iSTOC\n",
      "→ Source 55 description: PrintoCent10 project CRP rapid test - A manufactured CRP rapid test piloted in a real health care environment as part of PrintoCent10 project. | Developed by Health City Finland\n",
      "\n",
      "Similarity: 0.931 | From: 53 To: 56\n",
      "→ Source 53 description: PrintoCent10 project CRP rapid test - A manufactured CRP rapid test piloted in a real health care environment as part of PrintoCent10 project. | Developed by iSTOC\n",
      "→ Source 56 description: PrintoCent10 project CRP rapid test - A manufactured CRP rapid test piloted in a real health care environment as part of PrintoCent10 project. | Developed by Flexbright\n"
     ]
    },
    {
     "name": "stderr",
     "output_type": "stream",
     "text": [
      "  1%|          | 53/6839 [00:14<30:54,  3.66it/s]"
     ]
    },
    {
     "name": "stdout",
     "output_type": "stream",
     "text": [
      "\n",
      "Similarity: 0.954 | From: 54 To: 55\n",
      "→ Source 54 description: PrintoCent10 project CRP rapid test - A manufactured CRP rapid test piloted in a real health care environment as part of PrintoCent10 project. | Developed by Screentec\n",
      "→ Source 55 description: PrintoCent10 project CRP rapid test - A manufactured CRP rapid test piloted in a real health care environment as part of PrintoCent10 project. | Developed by Health City Finland\n",
      "\n",
      "Similarity: 0.953 | From: 54 To: 56\n",
      "→ Source 54 description: PrintoCent10 project CRP rapid test - A manufactured CRP rapid test piloted in a real health care environment as part of PrintoCent10 project. | Developed by Screentec\n",
      "→ Source 56 description: PrintoCent10 project CRP rapid test - A manufactured CRP rapid test piloted in a real health care environment as part of PrintoCent10 project. | Developed by Flexbright\n"
     ]
    },
    {
     "name": "stderr",
     "output_type": "stream",
     "text": [
      "  1%|          | 54/6839 [00:15<31:35,  3.58it/s]"
     ]
    },
    {
     "name": "stdout",
     "output_type": "stream",
     "text": [
      "\n",
      "Similarity: 0.942 | From: 55 To: 56\n",
      "→ Source 55 description: PrintoCent10 project CRP rapid test - A manufactured CRP rapid test piloted in a real health care environment as part of PrintoCent10 project. | Developed by Health City Finland\n",
      "→ Source 56 description: PrintoCent10 project CRP rapid test - A manufactured CRP rapid test piloted in a real health care environment as part of PrintoCent10 project. | Developed by Flexbright\n"
     ]
    },
    {
     "name": "stderr",
     "output_type": "stream",
     "text": [
      "  1%|          | 56/6839 [00:15<30:52,  3.66it/s]"
     ]
    },
    {
     "name": "stdout",
     "output_type": "stream",
     "text": [
      "\n",
      "Similarity: 0.954 | From: 57 To: 58\n",
      "→ Source 57 description: PrintoCent10 - An innovation project focused on printed intelligence, manufacturing rapid tests, and piloting them with real use cases, including rapid diagnostics test development and sweat sample analytics. | Developed by VTT Technical Research Centre of Finland Ltd\n",
      "→ Source 58 description: PrintoCent10 - An innovation project focused on printed intelligence, manufacturing rapid tests, and piloting them with real use cases, including rapid diagnostics test development and sweat sample analytics. | Developed by Oulu University of Applied Sciences\n",
      "\n",
      "Similarity: 0.962 | From: 57 To: 59\n",
      "→ Source 57 description: PrintoCent10 - An innovation project focused on printed intelligence, manufacturing rapid tests, and piloting them with real use cases, including rapid diagnostics test development and sweat sample analytics. | Developed by VTT Technical Research Centre of Finland Ltd\n",
      "→ Source 59 description: PrintoCent10 - An innovation project focused on printed intelligence, manufacturing rapid tests, and piloting them with real use cases, including rapid diagnostics test development and sweat sample analytics. | Developed by University of Oulu\n"
     ]
    },
    {
     "name": "stderr",
     "output_type": "stream",
     "text": [
      "  1%|          | 57/6839 [00:15<30:43,  3.68it/s]"
     ]
    },
    {
     "name": "stdout",
     "output_type": "stream",
     "text": [
      "\n",
      "Similarity: 0.983 | From: 58 To: 59\n",
      "→ Source 58 description: PrintoCent10 - An innovation project focused on printed intelligence, manufacturing rapid tests, and piloting them with real use cases, including rapid diagnostics test development and sweat sample analytics. | Developed by Oulu University of Applied Sciences\n",
      "→ Source 59 description: PrintoCent10 - An innovation project focused on printed intelligence, manufacturing rapid tests, and piloting them with real use cases, including rapid diagnostics test development and sweat sample analytics. | Developed by University of Oulu\n"
     ]
    },
    {
     "name": "stderr",
     "output_type": "stream",
     "text": [
      "  1%|          | 59/6839 [00:16<30:34,  3.70it/s]"
     ]
    },
    {
     "name": "stdout",
     "output_type": "stream",
     "text": [
      "\n",
      "Similarity: 0.975 | From: 60 To: 61\n",
      "→ Source 60 description: mass production method based on printing technologies to manufacture patterned organic solar modules - A method developed by VTT Technical Research Centre of Finland Ltd that uses printing technologies for mass production of patterned organic solar modules customizable for building architecture. | Developed by VTT Technical Research Centre of Finland Ltd\n",
      "→ Source 61 description: mass production method based on printing technologies to manufacture patterned organic solar modules - A method developed by VTT Technical Research Centre of Finland Ltd that uses printing technologies for mass production of patterned organic solar modules customizable for building architecture. | Developed by PES Architects\n",
      "\n",
      "Similarity: 0.976 | From: 60 To: 62\n",
      "→ Source 60 description: mass production method based on printing technologies to manufacture patterned organic solar modules - A method developed by VTT Technical Research Centre of Finland Ltd that uses printing technologies for mass production of patterned organic solar modules customizable for building architecture. | Developed by VTT Technical Research Centre of Finland Ltd\n",
      "→ Source 62 description: mass production method based on printing technologies to manufacture patterned organic solar modules - A method developed by VTT Technical Research Centre of Finland Ltd that uses printing technologies for mass production of patterned organic solar modules customizable for building architecture. | Developed by Artic Kaihdin Oy\n",
      "\n",
      "Similarity: 0.978 | From: 60 To: 63\n",
      "→ Source 60 description: mass production method based on printing technologies to manufacture patterned organic solar modules - A method developed by VTT Technical Research Centre of Finland Ltd that uses printing technologies for mass production of patterned organic solar modules customizable for building architecture. | Developed by VTT Technical Research Centre of Finland Ltd\n",
      "→ Source 63 description: mass production method based on printing technologies to manufacture patterned organic solar modules - A method developed by VTT Technical Research Centre of Finland Ltd that uses printing technologies for mass production of patterned organic solar modules customizable for building architecture. | Developed by Optitune Oy\n"
     ]
    },
    {
     "name": "stderr",
     "output_type": "stream",
     "text": [
      "  1%|          | 60/6839 [00:16<30:32,  3.70it/s]"
     ]
    },
    {
     "name": "stdout",
     "output_type": "stream",
     "text": [
      "\n",
      "Similarity: 0.966 | From: 61 To: 62\n",
      "→ Source 61 description: mass production method based on printing technologies to manufacture patterned organic solar modules - A method developed by VTT Technical Research Centre of Finland Ltd that uses printing technologies for mass production of patterned organic solar modules customizable for building architecture. | Developed by PES Architects\n",
      "→ Source 62 description: mass production method based on printing technologies to manufacture patterned organic solar modules - A method developed by VTT Technical Research Centre of Finland Ltd that uses printing technologies for mass production of patterned organic solar modules customizable for building architecture. | Developed by Artic Kaihdin Oy\n",
      "\n",
      "Similarity: 0.962 | From: 61 To: 63\n",
      "→ Source 61 description: mass production method based on printing technologies to manufacture patterned organic solar modules - A method developed by VTT Technical Research Centre of Finland Ltd that uses printing technologies for mass production of patterned organic solar modules customizable for building architecture. | Developed by PES Architects\n",
      "→ Source 63 description: mass production method based on printing technologies to manufacture patterned organic solar modules - A method developed by VTT Technical Research Centre of Finland Ltd that uses printing technologies for mass production of patterned organic solar modules customizable for building architecture. | Developed by Optitune Oy\n"
     ]
    },
    {
     "name": "stderr",
     "output_type": "stream",
     "text": [
      "  1%|          | 61/6839 [00:16<30:26,  3.71it/s]"
     ]
    },
    {
     "name": "stdout",
     "output_type": "stream",
     "text": [
      "\n",
      "Similarity: 0.974 | From: 62 To: 63\n",
      "→ Source 62 description: mass production method based on printing technologies to manufacture patterned organic solar modules - A method developed by VTT Technical Research Centre of Finland Ltd that uses printing technologies for mass production of patterned organic solar modules customizable for building architecture. | Developed by Artic Kaihdin Oy\n",
      "→ Source 63 description: mass production method based on printing technologies to manufacture patterned organic solar modules - A method developed by VTT Technical Research Centre of Finland Ltd that uses printing technologies for mass production of patterned organic solar modules customizable for building architecture. | Developed by Optitune Oy\n"
     ]
    },
    {
     "name": "stderr",
     "output_type": "stream",
     "text": [
      "  1%|          | 63/6839 [00:17<30:23,  3.72it/s]"
     ]
    },
    {
     "name": "stdout",
     "output_type": "stream",
     "text": [
      "\n",
      "Similarity: 0.986 | From: 64 To: 65\n",
      "→ Source 64 description: Visually appealing solar modules as architectural elements in building façades - A mass production method for patterned organic solar modules enabling customized, visually attractive solar modules integrated into building façades developed by VTT and Metropolia with industrial partners. | Developed by Metropolia\n",
      "→ Source 65 description: Visually appealing solar modules as architectural elements in building façades - A mass production method for patterned organic solar modules enabling customized, visually attractive solar modules integrated into building façades developed by VTT and Metropolia with industrial partners. | Developed by VTT Technical Research Centre of Finland Ltd\n"
     ]
    },
    {
     "name": "stderr",
     "output_type": "stream",
     "text": [
      "  1%|          | 70/6839 [00:19<29:54,  3.77it/s]"
     ]
    },
    {
     "name": "stdout",
     "output_type": "stream",
     "text": [
      "\n",
      "Similarity: 0.933 | From: 71 To: 72\n",
      "→ Source 71 description: ArTEco - Innovative technologies and solutions for mechanical and rotating propulsion technology in extreme Arctic conditions, developed to increase thruster lifetimes, decrease maintenance needs, and improve reliability. | Developed by VTT\n",
      "→ Source 72 description: ArTEco - Innovative technologies and solutions for mechanical and rotating propulsion technology in extreme Arctic conditions, developed to increase thruster lifetimes, decrease maintenance needs, and improve reliability. | Developed by Wärtsilä\n"
     ]
    },
    {
     "name": "stderr",
     "output_type": "stream",
     "text": [
      "  1%|          | 72/6839 [00:19<29:55,  3.77it/s]"
     ]
    },
    {
     "name": "stdout",
     "output_type": "stream",
     "text": [
      "\n",
      "Similarity: 0.942 | From: 73 To: 74\n",
      "→ Source 73 description: ArTEco innovative thruster solutions - Innovative technologies and solutions developed for mechanical and rotating propulsion technology in extreme Arctic conditions, improving thruster durability, reducing maintenance needs, and enhancing reliability. | Developed by VTT\n",
      "→ Source 74 description: ArTEco innovative thruster solutions - Innovative technologies and solutions developed for mechanical and rotating propulsion technology in extreme Arctic conditions, improving thruster durability, reducing maintenance needs, and enhancing reliability. | Developed by Wärtsilä\n",
      "\n",
      "Similarity: 0.905 | From: 73 To: 75\n",
      "→ Source 73 description: ArTEco innovative thruster solutions - Innovative technologies and solutions developed for mechanical and rotating propulsion technology in extreme Arctic conditions, improving thruster durability, reducing maintenance needs, and enhancing reliability. | Developed by VTT\n",
      "→ Source 75 description: ArTEco innovative thruster solutions - Innovative technologies and solutions developed for mechanical and rotating propulsion technology in extreme Arctic conditions, improving thruster durability, reducing maintenance needs, and enhancing reliability. | Developed by ATA Gears\n",
      "\n",
      "Similarity: 0.931 | From: 73 To: 76\n",
      "→ Source 73 description: ArTEco innovative thruster solutions - Innovative technologies and solutions developed for mechanical and rotating propulsion technology in extreme Arctic conditions, improving thruster durability, reducing maintenance needs, and enhancing reliability. | Developed by VTT\n",
      "→ Source 76 description: ArTEco innovative thruster solutions - Innovative technologies and solutions developed for mechanical and rotating propulsion technology in extreme Arctic conditions, improving thruster durability, reducing maintenance needs, and enhancing reliability. | Developed by Katsa\n",
      "\n",
      "Similarity: 0.951 | From: 73 To: 77\n",
      "→ Source 73 description: ArTEco innovative thruster solutions - Innovative technologies and solutions developed for mechanical and rotating propulsion technology in extreme Arctic conditions, improving thruster durability, reducing maintenance needs, and enhancing reliability. | Developed by VTT\n",
      "→ Source 77 description: ArTEco innovative thruster solutions - Innovative technologies and solutions developed for mechanical and rotating propulsion technology in extreme Arctic conditions, improving thruster durability, reducing maintenance needs, and enhancing reliability. | Developed by the Finnish Transport Safety Agency\n",
      "\n",
      "Similarity: 0.967 | From: 73 To: 78\n",
      "→ Source 73 description: ArTEco innovative thruster solutions - Innovative technologies and solutions developed for mechanical and rotating propulsion technology in extreme Arctic conditions, improving thruster durability, reducing maintenance needs, and enhancing reliability. | Developed by VTT\n",
      "→ Source 78 description: ArTEco innovative thruster solutions - Innovative technologies and solutions developed for mechanical and rotating propulsion technology in extreme Arctic conditions, improving thruster durability, reducing maintenance needs, and enhancing reliability. | Developed by Tampere University of Technology\n",
      "\n",
      "Similarity: 0.897 | From: 73 To: 79\n",
      "→ Source 73 description: ArTEco innovative thruster solutions - Innovative technologies and solutions developed for mechanical and rotating propulsion technology in extreme Arctic conditions, improving thruster durability, reducing maintenance needs, and enhancing reliability. | Developed by VTT\n",
      "→ Source 79 description: ArTEco innovative thruster solutions - Innovative technologies and solutions developed for mechanical and rotating propulsion technology in extreme Arctic conditions, improving thruster durability, reducing maintenance needs, and enhancing reliability. | Developed by SKF\n",
      "\n",
      "Similarity: 0.929 | From: 73 To: 80\n",
      "→ Source 73 description: ArTEco innovative thruster solutions - Innovative technologies and solutions developed for mechanical and rotating propulsion technology in extreme Arctic conditions, improving thruster durability, reducing maintenance needs, and enhancing reliability. | Developed by VTT\n",
      "→ Source 80 description: ArTEco innovative thruster solutions - Innovative technologies and solutions developed for mechanical and rotating propulsion technology in extreme Arctic conditions, improving thruster durability, reducing maintenance needs, and enhancing reliability. | Developed by TU Luleå\n",
      "\n",
      "Similarity: 0.899 | From: 73 To: 81\n",
      "→ Source 73 description: ArTEco innovative thruster solutions - Innovative technologies and solutions developed for mechanical and rotating propulsion technology in extreme Arctic conditions, improving thruster durability, reducing maintenance needs, and enhancing reliability. | Developed by VTT\n",
      "→ Source 81 description: ArTEco innovative thruster solutions - Innovative technologies and solutions developed for mechanical and rotating propulsion technology in extreme Arctic conditions, improving thruster durability, reducing maintenance needs, and enhancing reliability. | Developed by Klingelnberg\n",
      "\n",
      "Similarity: 0.914 | From: 73 To: 82\n",
      "→ Source 73 description: ArTEco innovative thruster solutions - Innovative technologies and solutions developed for mechanical and rotating propulsion technology in extreme Arctic conditions, improving thruster durability, reducing maintenance needs, and enhancing reliability. | Developed by VTT\n",
      "→ Source 82 description: ArTEco innovative thruster solutions - Innovative technologies and solutions developed for mechanical and rotating propulsion technology in extreme Arctic conditions, improving thruster durability, reducing maintenance needs, and enhancing reliability. | Developed by TU Dresden\n"
     ]
    },
    {
     "name": "stderr",
     "output_type": "stream",
     "text": [
      "  1%|          | 73/6839 [00:20<30:02,  3.75it/s]"
     ]
    },
    {
     "name": "stdout",
     "output_type": "stream",
     "text": [
      "\n",
      "Similarity: 0.930 | From: 74 To: 75\n",
      "→ Source 74 description: ArTEco innovative thruster solutions - Innovative technologies and solutions developed for mechanical and rotating propulsion technology in extreme Arctic conditions, improving thruster durability, reducing maintenance needs, and enhancing reliability. | Developed by Wärtsilä\n",
      "→ Source 75 description: ArTEco innovative thruster solutions - Innovative technologies and solutions developed for mechanical and rotating propulsion technology in extreme Arctic conditions, improving thruster durability, reducing maintenance needs, and enhancing reliability. | Developed by ATA Gears\n",
      "\n",
      "Similarity: 0.925 | From: 74 To: 76\n",
      "→ Source 74 description: ArTEco innovative thruster solutions - Innovative technologies and solutions developed for mechanical and rotating propulsion technology in extreme Arctic conditions, improving thruster durability, reducing maintenance needs, and enhancing reliability. | Developed by Wärtsilä\n",
      "→ Source 76 description: ArTEco innovative thruster solutions - Innovative technologies and solutions developed for mechanical and rotating propulsion technology in extreme Arctic conditions, improving thruster durability, reducing maintenance needs, and enhancing reliability. | Developed by Katsa\n",
      "\n",
      "Similarity: 0.949 | From: 74 To: 77\n",
      "→ Source 74 description: ArTEco innovative thruster solutions - Innovative technologies and solutions developed for mechanical and rotating propulsion technology in extreme Arctic conditions, improving thruster durability, reducing maintenance needs, and enhancing reliability. | Developed by Wärtsilä\n",
      "→ Source 77 description: ArTEco innovative thruster solutions - Innovative technologies and solutions developed for mechanical and rotating propulsion technology in extreme Arctic conditions, improving thruster durability, reducing maintenance needs, and enhancing reliability. | Developed by the Finnish Transport Safety Agency\n",
      "\n",
      "Similarity: 0.941 | From: 74 To: 78\n",
      "→ Source 74 description: ArTEco innovative thruster solutions - Innovative technologies and solutions developed for mechanical and rotating propulsion technology in extreme Arctic conditions, improving thruster durability, reducing maintenance needs, and enhancing reliability. | Developed by Wärtsilä\n",
      "→ Source 78 description: ArTEco innovative thruster solutions - Innovative technologies and solutions developed for mechanical and rotating propulsion technology in extreme Arctic conditions, improving thruster durability, reducing maintenance needs, and enhancing reliability. | Developed by Tampere University of Technology\n",
      "\n",
      "Similarity: 0.922 | From: 74 To: 79\n",
      "→ Source 74 description: ArTEco innovative thruster solutions - Innovative technologies and solutions developed for mechanical and rotating propulsion technology in extreme Arctic conditions, improving thruster durability, reducing maintenance needs, and enhancing reliability. | Developed by Wärtsilä\n",
      "→ Source 79 description: ArTEco innovative thruster solutions - Innovative technologies and solutions developed for mechanical and rotating propulsion technology in extreme Arctic conditions, improving thruster durability, reducing maintenance needs, and enhancing reliability. | Developed by SKF\n",
      "\n",
      "Similarity: 0.940 | From: 74 To: 80\n",
      "→ Source 74 description: ArTEco innovative thruster solutions - Innovative technologies and solutions developed for mechanical and rotating propulsion technology in extreme Arctic conditions, improving thruster durability, reducing maintenance needs, and enhancing reliability. | Developed by Wärtsilä\n",
      "→ Source 80 description: ArTEco innovative thruster solutions - Innovative technologies and solutions developed for mechanical and rotating propulsion technology in extreme Arctic conditions, improving thruster durability, reducing maintenance needs, and enhancing reliability. | Developed by TU Luleå\n",
      "\n",
      "Similarity: 0.925 | From: 74 To: 81\n",
      "→ Source 74 description: ArTEco innovative thruster solutions - Innovative technologies and solutions developed for mechanical and rotating propulsion technology in extreme Arctic conditions, improving thruster durability, reducing maintenance needs, and enhancing reliability. | Developed by Wärtsilä\n",
      "→ Source 81 description: ArTEco innovative thruster solutions - Innovative technologies and solutions developed for mechanical and rotating propulsion technology in extreme Arctic conditions, improving thruster durability, reducing maintenance needs, and enhancing reliability. | Developed by Klingelnberg\n",
      "\n",
      "Similarity: 0.929 | From: 74 To: 82\n",
      "→ Source 74 description: ArTEco innovative thruster solutions - Innovative technologies and solutions developed for mechanical and rotating propulsion technology in extreme Arctic conditions, improving thruster durability, reducing maintenance needs, and enhancing reliability. | Developed by Wärtsilä\n",
      "→ Source 82 description: ArTEco innovative thruster solutions - Innovative technologies and solutions developed for mechanical and rotating propulsion technology in extreme Arctic conditions, improving thruster durability, reducing maintenance needs, and enhancing reliability. | Developed by TU Dresden\n"
     ]
    },
    {
     "name": "stderr",
     "output_type": "stream",
     "text": [
      "  1%|          | 74/6839 [00:20<30:10,  3.74it/s]"
     ]
    },
    {
     "name": "stdout",
     "output_type": "stream",
     "text": [
      "\n",
      "Similarity: 0.913 | From: 75 To: 76\n",
      "→ Source 75 description: ArTEco innovative thruster solutions - Innovative technologies and solutions developed for mechanical and rotating propulsion technology in extreme Arctic conditions, improving thruster durability, reducing maintenance needs, and enhancing reliability. | Developed by ATA Gears\n",
      "→ Source 76 description: ArTEco innovative thruster solutions - Innovative technologies and solutions developed for mechanical and rotating propulsion technology in extreme Arctic conditions, improving thruster durability, reducing maintenance needs, and enhancing reliability. | Developed by Katsa\n",
      "\n",
      "Similarity: 0.915 | From: 75 To: 77\n",
      "→ Source 75 description: ArTEco innovative thruster solutions - Innovative technologies and solutions developed for mechanical and rotating propulsion technology in extreme Arctic conditions, improving thruster durability, reducing maintenance needs, and enhancing reliability. | Developed by ATA Gears\n",
      "→ Source 77 description: ArTEco innovative thruster solutions - Innovative technologies and solutions developed for mechanical and rotating propulsion technology in extreme Arctic conditions, improving thruster durability, reducing maintenance needs, and enhancing reliability. | Developed by the Finnish Transport Safety Agency\n",
      "\n",
      "Similarity: 0.907 | From: 75 To: 78\n",
      "→ Source 75 description: ArTEco innovative thruster solutions - Innovative technologies and solutions developed for mechanical and rotating propulsion technology in extreme Arctic conditions, improving thruster durability, reducing maintenance needs, and enhancing reliability. | Developed by ATA Gears\n",
      "→ Source 78 description: ArTEco innovative thruster solutions - Innovative technologies and solutions developed for mechanical and rotating propulsion technology in extreme Arctic conditions, improving thruster durability, reducing maintenance needs, and enhancing reliability. | Developed by Tampere University of Technology\n",
      "\n",
      "Similarity: 0.905 | From: 75 To: 79\n",
      "→ Source 75 description: ArTEco innovative thruster solutions - Innovative technologies and solutions developed for mechanical and rotating propulsion technology in extreme Arctic conditions, improving thruster durability, reducing maintenance needs, and enhancing reliability. | Developed by ATA Gears\n",
      "→ Source 79 description: ArTEco innovative thruster solutions - Innovative technologies and solutions developed for mechanical and rotating propulsion technology in extreme Arctic conditions, improving thruster durability, reducing maintenance needs, and enhancing reliability. | Developed by SKF\n",
      "\n",
      "Similarity: 0.909 | From: 75 To: 80\n",
      "→ Source 75 description: ArTEco innovative thruster solutions - Innovative technologies and solutions developed for mechanical and rotating propulsion technology in extreme Arctic conditions, improving thruster durability, reducing maintenance needs, and enhancing reliability. | Developed by ATA Gears\n",
      "→ Source 80 description: ArTEco innovative thruster solutions - Innovative technologies and solutions developed for mechanical and rotating propulsion technology in extreme Arctic conditions, improving thruster durability, reducing maintenance needs, and enhancing reliability. | Developed by TU Luleå\n",
      "\n",
      "Similarity: 0.917 | From: 75 To: 81\n",
      "→ Source 75 description: ArTEco innovative thruster solutions - Innovative technologies and solutions developed for mechanical and rotating propulsion technology in extreme Arctic conditions, improving thruster durability, reducing maintenance needs, and enhancing reliability. | Developed by ATA Gears\n",
      "→ Source 81 description: ArTEco innovative thruster solutions - Innovative technologies and solutions developed for mechanical and rotating propulsion technology in extreme Arctic conditions, improving thruster durability, reducing maintenance needs, and enhancing reliability. | Developed by Klingelnberg\n",
      "\n",
      "Similarity: 0.919 | From: 75 To: 82\n",
      "→ Source 75 description: ArTEco innovative thruster solutions - Innovative technologies and solutions developed for mechanical and rotating propulsion technology in extreme Arctic conditions, improving thruster durability, reducing maintenance needs, and enhancing reliability. | Developed by ATA Gears\n",
      "→ Source 82 description: ArTEco innovative thruster solutions - Innovative technologies and solutions developed for mechanical and rotating propulsion technology in extreme Arctic conditions, improving thruster durability, reducing maintenance needs, and enhancing reliability. | Developed by TU Dresden\n"
     ]
    },
    {
     "name": "stderr",
     "output_type": "stream",
     "text": [
      "  1%|          | 75/6839 [00:20<30:15,  3.73it/s]"
     ]
    },
    {
     "name": "stdout",
     "output_type": "stream",
     "text": [
      "\n",
      "Similarity: 0.925 | From: 76 To: 77\n",
      "→ Source 76 description: ArTEco innovative thruster solutions - Innovative technologies and solutions developed for mechanical and rotating propulsion technology in extreme Arctic conditions, improving thruster durability, reducing maintenance needs, and enhancing reliability. | Developed by Katsa\n",
      "→ Source 77 description: ArTEco innovative thruster solutions - Innovative technologies and solutions developed for mechanical and rotating propulsion technology in extreme Arctic conditions, improving thruster durability, reducing maintenance needs, and enhancing reliability. | Developed by the Finnish Transport Safety Agency\n",
      "\n",
      "Similarity: 0.924 | From: 76 To: 78\n",
      "→ Source 76 description: ArTEco innovative thruster solutions - Innovative technologies and solutions developed for mechanical and rotating propulsion technology in extreme Arctic conditions, improving thruster durability, reducing maintenance needs, and enhancing reliability. | Developed by Katsa\n",
      "→ Source 78 description: ArTEco innovative thruster solutions - Innovative technologies and solutions developed for mechanical and rotating propulsion technology in extreme Arctic conditions, improving thruster durability, reducing maintenance needs, and enhancing reliability. | Developed by Tampere University of Technology\n",
      "\n",
      "Similarity: 0.897 | From: 76 To: 79\n",
      "→ Source 76 description: ArTEco innovative thruster solutions - Innovative technologies and solutions developed for mechanical and rotating propulsion technology in extreme Arctic conditions, improving thruster durability, reducing maintenance needs, and enhancing reliability. | Developed by Katsa\n",
      "→ Source 79 description: ArTEco innovative thruster solutions - Innovative technologies and solutions developed for mechanical and rotating propulsion technology in extreme Arctic conditions, improving thruster durability, reducing maintenance needs, and enhancing reliability. | Developed by SKF\n",
      "\n",
      "Similarity: 0.907 | From: 76 To: 80\n",
      "→ Source 76 description: ArTEco innovative thruster solutions - Innovative technologies and solutions developed for mechanical and rotating propulsion technology in extreme Arctic conditions, improving thruster durability, reducing maintenance needs, and enhancing reliability. | Developed by Katsa\n",
      "→ Source 80 description: ArTEco innovative thruster solutions - Innovative technologies and solutions developed for mechanical and rotating propulsion technology in extreme Arctic conditions, improving thruster durability, reducing maintenance needs, and enhancing reliability. | Developed by TU Luleå\n",
      "\n",
      "Similarity: 0.908 | From: 76 To: 81\n",
      "→ Source 76 description: ArTEco innovative thruster solutions - Innovative technologies and solutions developed for mechanical and rotating propulsion technology in extreme Arctic conditions, improving thruster durability, reducing maintenance needs, and enhancing reliability. | Developed by Katsa\n",
      "→ Source 81 description: ArTEco innovative thruster solutions - Innovative technologies and solutions developed for mechanical and rotating propulsion technology in extreme Arctic conditions, improving thruster durability, reducing maintenance needs, and enhancing reliability. | Developed by Klingelnberg\n",
      "\n",
      "Similarity: 0.895 | From: 76 To: 82\n",
      "→ Source 76 description: ArTEco innovative thruster solutions - Innovative technologies and solutions developed for mechanical and rotating propulsion technology in extreme Arctic conditions, improving thruster durability, reducing maintenance needs, and enhancing reliability. | Developed by Katsa\n",
      "→ Source 82 description: ArTEco innovative thruster solutions - Innovative technologies and solutions developed for mechanical and rotating propulsion technology in extreme Arctic conditions, improving thruster durability, reducing maintenance needs, and enhancing reliability. | Developed by TU Dresden\n"
     ]
    },
    {
     "name": "stderr",
     "output_type": "stream",
     "text": [
      "  1%|          | 76/6839 [00:20<30:19,  3.72it/s]"
     ]
    },
    {
     "name": "stdout",
     "output_type": "stream",
     "text": [
      "\n",
      "Similarity: 0.954 | From: 77 To: 78\n",
      "→ Source 77 description: ArTEco innovative thruster solutions - Innovative technologies and solutions developed for mechanical and rotating propulsion technology in extreme Arctic conditions, improving thruster durability, reducing maintenance needs, and enhancing reliability. | Developed by the Finnish Transport Safety Agency\n",
      "→ Source 78 description: ArTEco innovative thruster solutions - Innovative technologies and solutions developed for mechanical and rotating propulsion technology in extreme Arctic conditions, improving thruster durability, reducing maintenance needs, and enhancing reliability. | Developed by Tampere University of Technology\n",
      "\n",
      "Similarity: 0.902 | From: 77 To: 79\n",
      "→ Source 77 description: ArTEco innovative thruster solutions - Innovative technologies and solutions developed for mechanical and rotating propulsion technology in extreme Arctic conditions, improving thruster durability, reducing maintenance needs, and enhancing reliability. | Developed by the Finnish Transport Safety Agency\n",
      "→ Source 79 description: ArTEco innovative thruster solutions - Innovative technologies and solutions developed for mechanical and rotating propulsion technology in extreme Arctic conditions, improving thruster durability, reducing maintenance needs, and enhancing reliability. | Developed by SKF\n",
      "\n",
      "Similarity: 0.925 | From: 77 To: 80\n",
      "→ Source 77 description: ArTEco innovative thruster solutions - Innovative technologies and solutions developed for mechanical and rotating propulsion technology in extreme Arctic conditions, improving thruster durability, reducing maintenance needs, and enhancing reliability. | Developed by the Finnish Transport Safety Agency\n",
      "→ Source 80 description: ArTEco innovative thruster solutions - Innovative technologies and solutions developed for mechanical and rotating propulsion technology in extreme Arctic conditions, improving thruster durability, reducing maintenance needs, and enhancing reliability. | Developed by TU Luleå\n",
      "\n",
      "Similarity: 0.902 | From: 77 To: 81\n",
      "→ Source 77 description: ArTEco innovative thruster solutions - Innovative technologies and solutions developed for mechanical and rotating propulsion technology in extreme Arctic conditions, improving thruster durability, reducing maintenance needs, and enhancing reliability. | Developed by the Finnish Transport Safety Agency\n",
      "→ Source 81 description: ArTEco innovative thruster solutions - Innovative technologies and solutions developed for mechanical and rotating propulsion technology in extreme Arctic conditions, improving thruster durability, reducing maintenance needs, and enhancing reliability. | Developed by Klingelnberg\n",
      "\n",
      "Similarity: 0.921 | From: 77 To: 82\n",
      "→ Source 77 description: ArTEco innovative thruster solutions - Innovative technologies and solutions developed for mechanical and rotating propulsion technology in extreme Arctic conditions, improving thruster durability, reducing maintenance needs, and enhancing reliability. | Developed by the Finnish Transport Safety Agency\n",
      "→ Source 82 description: ArTEco innovative thruster solutions - Innovative technologies and solutions developed for mechanical and rotating propulsion technology in extreme Arctic conditions, improving thruster durability, reducing maintenance needs, and enhancing reliability. | Developed by TU Dresden\n"
     ]
    },
    {
     "name": "stderr",
     "output_type": "stream",
     "text": [
      "  1%|          | 77/6839 [00:21<30:21,  3.71it/s]"
     ]
    },
    {
     "name": "stdout",
     "output_type": "stream",
     "text": [
      "\n",
      "Similarity: 0.891 | From: 78 To: 79\n",
      "→ Source 78 description: ArTEco innovative thruster solutions - Innovative technologies and solutions developed for mechanical and rotating propulsion technology in extreme Arctic conditions, improving thruster durability, reducing maintenance needs, and enhancing reliability. | Developed by Tampere University of Technology\n",
      "→ Source 79 description: ArTEco innovative thruster solutions - Innovative technologies and solutions developed for mechanical and rotating propulsion technology in extreme Arctic conditions, improving thruster durability, reducing maintenance needs, and enhancing reliability. | Developed by SKF\n",
      "\n",
      "Similarity: 0.935 | From: 78 To: 80\n",
      "→ Source 78 description: ArTEco innovative thruster solutions - Innovative technologies and solutions developed for mechanical and rotating propulsion technology in extreme Arctic conditions, improving thruster durability, reducing maintenance needs, and enhancing reliability. | Developed by Tampere University of Technology\n",
      "→ Source 80 description: ArTEco innovative thruster solutions - Innovative technologies and solutions developed for mechanical and rotating propulsion technology in extreme Arctic conditions, improving thruster durability, reducing maintenance needs, and enhancing reliability. | Developed by TU Luleå\n",
      "\n",
      "Similarity: 0.900 | From: 78 To: 81\n",
      "→ Source 78 description: ArTEco innovative thruster solutions - Innovative technologies and solutions developed for mechanical and rotating propulsion technology in extreme Arctic conditions, improving thruster durability, reducing maintenance needs, and enhancing reliability. | Developed by Tampere University of Technology\n",
      "→ Source 81 description: ArTEco innovative thruster solutions - Innovative technologies and solutions developed for mechanical and rotating propulsion technology in extreme Arctic conditions, improving thruster durability, reducing maintenance needs, and enhancing reliability. | Developed by Klingelnberg\n",
      "\n",
      "Similarity: 0.935 | From: 78 To: 82\n",
      "→ Source 78 description: ArTEco innovative thruster solutions - Innovative technologies and solutions developed for mechanical and rotating propulsion technology in extreme Arctic conditions, improving thruster durability, reducing maintenance needs, and enhancing reliability. | Developed by Tampere University of Technology\n",
      "→ Source 82 description: ArTEco innovative thruster solutions - Innovative technologies and solutions developed for mechanical and rotating propulsion technology in extreme Arctic conditions, improving thruster durability, reducing maintenance needs, and enhancing reliability. | Developed by TU Dresden\n"
     ]
    },
    {
     "name": "stderr",
     "output_type": "stream",
     "text": [
      "  1%|          | 78/6839 [00:21<30:26,  3.70it/s]"
     ]
    },
    {
     "name": "stdout",
     "output_type": "stream",
     "text": [
      "\n",
      "Similarity: 0.914 | From: 79 To: 80\n",
      "→ Source 79 description: ArTEco innovative thruster solutions - Innovative technologies and solutions developed for mechanical and rotating propulsion technology in extreme Arctic conditions, improving thruster durability, reducing maintenance needs, and enhancing reliability. | Developed by SKF\n",
      "→ Source 80 description: ArTEco innovative thruster solutions - Innovative technologies and solutions developed for mechanical and rotating propulsion technology in extreme Arctic conditions, improving thruster durability, reducing maintenance needs, and enhancing reliability. | Developed by TU Luleå\n",
      "\n",
      "Similarity: 0.929 | From: 79 To: 81\n",
      "→ Source 79 description: ArTEco innovative thruster solutions - Innovative technologies and solutions developed for mechanical and rotating propulsion technology in extreme Arctic conditions, improving thruster durability, reducing maintenance needs, and enhancing reliability. | Developed by SKF\n",
      "→ Source 81 description: ArTEco innovative thruster solutions - Innovative technologies and solutions developed for mechanical and rotating propulsion technology in extreme Arctic conditions, improving thruster durability, reducing maintenance needs, and enhancing reliability. | Developed by Klingelnberg\n",
      "\n",
      "Similarity: 0.895 | From: 79 To: 82\n",
      "→ Source 79 description: ArTEco innovative thruster solutions - Innovative technologies and solutions developed for mechanical and rotating propulsion technology in extreme Arctic conditions, improving thruster durability, reducing maintenance needs, and enhancing reliability. | Developed by SKF\n",
      "→ Source 82 description: ArTEco innovative thruster solutions - Innovative technologies and solutions developed for mechanical and rotating propulsion technology in extreme Arctic conditions, improving thruster durability, reducing maintenance needs, and enhancing reliability. | Developed by TU Dresden\n"
     ]
    },
    {
     "name": "stderr",
     "output_type": "stream",
     "text": [
      "  1%|          | 79/6839 [00:21<30:40,  3.67it/s]"
     ]
    },
    {
     "name": "stdout",
     "output_type": "stream",
     "text": [
      "\n",
      "Similarity: 0.912 | From: 80 To: 81\n",
      "→ Source 80 description: ArTEco innovative thruster solutions - Innovative technologies and solutions developed for mechanical and rotating propulsion technology in extreme Arctic conditions, improving thruster durability, reducing maintenance needs, and enhancing reliability. | Developed by TU Luleå\n",
      "→ Source 81 description: ArTEco innovative thruster solutions - Innovative technologies and solutions developed for mechanical and rotating propulsion technology in extreme Arctic conditions, improving thruster durability, reducing maintenance needs, and enhancing reliability. | Developed by Klingelnberg\n",
      "\n",
      "Similarity: 0.927 | From: 80 To: 82\n",
      "→ Source 80 description: ArTEco innovative thruster solutions - Innovative technologies and solutions developed for mechanical and rotating propulsion technology in extreme Arctic conditions, improving thruster durability, reducing maintenance needs, and enhancing reliability. | Developed by TU Luleå\n",
      "→ Source 82 description: ArTEco innovative thruster solutions - Innovative technologies and solutions developed for mechanical and rotating propulsion technology in extreme Arctic conditions, improving thruster durability, reducing maintenance needs, and enhancing reliability. | Developed by TU Dresden\n"
     ]
    },
    {
     "name": "stderr",
     "output_type": "stream",
     "text": [
      "  1%|          | 80/6839 [00:22<31:43,  3.55it/s]"
     ]
    },
    {
     "name": "stdout",
     "output_type": "stream",
     "text": [
      "\n",
      "Similarity: 0.921 | From: 81 To: 82\n",
      "→ Source 81 description: ArTEco innovative thruster solutions - Innovative technologies and solutions developed for mechanical and rotating propulsion technology in extreme Arctic conditions, improving thruster durability, reducing maintenance needs, and enhancing reliability. | Developed by Klingelnberg\n",
      "→ Source 82 description: ArTEco innovative thruster solutions - Innovative technologies and solutions developed for mechanical and rotating propulsion technology in extreme Arctic conditions, improving thruster durability, reducing maintenance needs, and enhancing reliability. | Developed by TU Dresden\n"
     ]
    },
    {
     "name": "stderr",
     "output_type": "stream",
     "text": [
      "  1%|          | 82/6839 [00:22<31:03,  3.63it/s]"
     ]
    },
    {
     "name": "stdout",
     "output_type": "stream",
     "text": [
      "\n",
      "Similarity: 0.957 | From: 83 To: 84\n",
      "→ Source 83 description: ArTEco project innovative technologies for thruster solutions - Innovative technologies and solutions developed for mechanical and rotating propulsion technology in extreme Arctic conditions, improving thruster durability, reducing maintenance, and increasing reliability, specifically under ice loads. | Developed by VTT\n",
      "→ Source 84 description: ArTEco project innovative technologies for thruster solutions - Innovative technologies and solutions developed for mechanical and rotating propulsion technology in extreme Arctic conditions, improving thruster durability, reducing maintenance, and increasing reliability, specifically under ice loads. | Developed by Wärtsilä\n"
     ]
    },
    {
     "name": "stderr",
     "output_type": "stream",
     "text": [
      "  1%|          | 84/6839 [00:23<30:44,  3.66it/s]"
     ]
    },
    {
     "name": "stdout",
     "output_type": "stream",
     "text": [
      "\n",
      "Similarity: 0.957 | From: 85 To: 86\n",
      "→ Source 85 description: 5G-Safe project - A project exploring the use of the 5G mobile network to improve road safety through fast data transmission solutions, collecting vehicle and road data for applications such as road weather services, road maintenance, and self-driving car control. | Developed by VTT\n",
      "→ Source 86 description: 5G-Safe project - A project exploring the use of the 5G mobile network to improve road safety through fast data transmission solutions, collecting vehicle and road data for applications such as road weather services, road maintenance, and self-driving car control. | Developed by Finnish Meteorological Institute\n",
      "\n",
      "Similarity: 0.953 | From: 85 To: 87\n",
      "→ Source 85 description: 5G-Safe project - A project exploring the use of the 5G mobile network to improve road safety through fast data transmission solutions, collecting vehicle and road data for applications such as road weather services, road maintenance, and self-driving car control. | Developed by VTT\n",
      "→ Source 87 description: 5G-Safe project - A project exploring the use of the 5G mobile network to improve road safety through fast data transmission solutions, collecting vehicle and road data for applications such as road weather services, road maintenance, and self-driving car control. | Developed by Destia\n",
      "\n",
      "Similarity: 0.953 | From: 85 To: 88\n",
      "→ Source 85 description: 5G-Safe project - A project exploring the use of the 5G mobile network to improve road safety through fast data transmission solutions, collecting vehicle and road data for applications such as road weather services, road maintenance, and self-driving car control. | Developed by VTT\n",
      "→ Source 88 description: 5G-Safe project - A project exploring the use of the 5G mobile network to improve road safety through fast data transmission solutions, collecting vehicle and road data for applications such as road weather services, road maintenance, and self-driving car control. | Developed by Unikie\n",
      "\n",
      "Similarity: 0.960 | From: 85 To: 89\n",
      "→ Source 85 description: 5G-Safe project - A project exploring the use of the 5G mobile network to improve road safety through fast data transmission solutions, collecting vehicle and road data for applications such as road weather services, road maintenance, and self-driving car control. | Developed by VTT\n",
      "→ Source 89 description: 5G-Safe project - A project exploring the use of the 5G mobile network to improve road safety through fast data transmission solutions, collecting vehicle and road data for applications such as road weather services, road maintenance, and self-driving car control. | Developed by Business Finland\n"
     ]
    },
    {
     "name": "stderr",
     "output_type": "stream",
     "text": [
      "  1%|          | 85/6839 [00:23<30:36,  3.68it/s]"
     ]
    },
    {
     "name": "stdout",
     "output_type": "stream",
     "text": [
      "\n",
      "Similarity: 0.945 | From: 86 To: 87\n",
      "→ Source 86 description: 5G-Safe project - A project exploring the use of the 5G mobile network to improve road safety through fast data transmission solutions, collecting vehicle and road data for applications such as road weather services, road maintenance, and self-driving car control. | Developed by Finnish Meteorological Institute\n",
      "→ Source 87 description: 5G-Safe project - A project exploring the use of the 5G mobile network to improve road safety through fast data transmission solutions, collecting vehicle and road data for applications such as road weather services, road maintenance, and self-driving car control. | Developed by Destia\n",
      "\n",
      "Similarity: 0.948 | From: 86 To: 88\n",
      "→ Source 86 description: 5G-Safe project - A project exploring the use of the 5G mobile network to improve road safety through fast data transmission solutions, collecting vehicle and road data for applications such as road weather services, road maintenance, and self-driving car control. | Developed by Finnish Meteorological Institute\n",
      "→ Source 88 description: 5G-Safe project - A project exploring the use of the 5G mobile network to improve road safety through fast data transmission solutions, collecting vehicle and road data for applications such as road weather services, road maintenance, and self-driving car control. | Developed by Unikie\n",
      "\n",
      "Similarity: 0.960 | From: 86 To: 89\n",
      "→ Source 86 description: 5G-Safe project - A project exploring the use of the 5G mobile network to improve road safety through fast data transmission solutions, collecting vehicle and road data for applications such as road weather services, road maintenance, and self-driving car control. | Developed by Finnish Meteorological Institute\n",
      "→ Source 89 description: 5G-Safe project - A project exploring the use of the 5G mobile network to improve road safety through fast data transmission solutions, collecting vehicle and road data for applications such as road weather services, road maintenance, and self-driving car control. | Developed by Business Finland\n"
     ]
    },
    {
     "name": "stderr",
     "output_type": "stream",
     "text": [
      "  1%|▏         | 86/6839 [00:23<30:37,  3.68it/s]"
     ]
    },
    {
     "name": "stdout",
     "output_type": "stream",
     "text": [
      "\n",
      "Similarity: 0.949 | From: 87 To: 88\n",
      "→ Source 87 description: 5G-Safe project - A project exploring the use of the 5G mobile network to improve road safety through fast data transmission solutions, collecting vehicle and road data for applications such as road weather services, road maintenance, and self-driving car control. | Developed by Destia\n",
      "→ Source 88 description: 5G-Safe project - A project exploring the use of the 5G mobile network to improve road safety through fast data transmission solutions, collecting vehicle and road data for applications such as road weather services, road maintenance, and self-driving car control. | Developed by Unikie\n",
      "\n",
      "Similarity: 0.949 | From: 87 To: 89\n",
      "→ Source 87 description: 5G-Safe project - A project exploring the use of the 5G mobile network to improve road safety through fast data transmission solutions, collecting vehicle and road data for applications such as road weather services, road maintenance, and self-driving car control. | Developed by Destia\n",
      "→ Source 89 description: 5G-Safe project - A project exploring the use of the 5G mobile network to improve road safety through fast data transmission solutions, collecting vehicle and road data for applications such as road weather services, road maintenance, and self-driving car control. | Developed by Business Finland\n"
     ]
    },
    {
     "name": "stderr",
     "output_type": "stream",
     "text": [
      "  1%|▏         | 87/6839 [00:23<30:40,  3.67it/s]"
     ]
    },
    {
     "name": "stdout",
     "output_type": "stream",
     "text": [
      "\n",
      "Similarity: 0.955 | From: 88 To: 89\n",
      "→ Source 88 description: 5G-Safe project - A project exploring the use of the 5G mobile network to improve road safety through fast data transmission solutions, collecting vehicle and road data for applications such as road weather services, road maintenance, and self-driving car control. | Developed by Unikie\n",
      "→ Source 89 description: 5G-Safe project - A project exploring the use of the 5G mobile network to improve road safety through fast data transmission solutions, collecting vehicle and road data for applications such as road weather services, road maintenance, and self-driving car control. | Developed by Business Finland\n"
     ]
    },
    {
     "name": "stderr",
     "output_type": "stream",
     "text": [
      "  1%|▏         | 89/6839 [00:24<31:41,  3.55it/s]"
     ]
    },
    {
     "name": "stdout",
     "output_type": "stream",
     "text": [
      "\n",
      "Similarity: 0.899 | From: 90 To: 91\n",
      "→ Source 90 description: Anti-theft sticker - A prototype adhesive ID tag based on blockchain technology that protects valuables without revealing their location. | Developed by VTT Technical Research Centre of Finland\n",
      "→ Source 91 description: Anti-theft sticker - A prototype adhesive ID tag based on blockchain technology that protects valuables without revealing their location. | Developed by Streamr\n"
     ]
    },
    {
     "name": "stderr",
     "output_type": "stream",
     "text": [
      "  1%|▏         | 91/6839 [00:25<30:54,  3.64it/s]"
     ]
    },
    {
     "name": "stdout",
     "output_type": "stream",
     "text": [
      "\n",
      "Similarity: 0.918 | From: 92 To: 93\n",
      "→ Source 92 description: Anti-theft sticker prototype based on blockchain technology - A prototype adhesive ID tag developed to protect valuables without revealing their location, using blockchain technology and smart contracts. | Developed by VTT Technical Research Centre of Finland\n",
      "→ Source 93 description: Anti-theft sticker prototype based on blockchain technology - A prototype adhesive ID tag developed to protect valuables without revealing their location, using blockchain technology and smart contracts. | Developed by Streamr\n"
     ]
    },
    {
     "name": "stderr",
     "output_type": "stream",
     "text": [
      "  1%|▏         | 93/6839 [00:25<30:57,  3.63it/s]\n"
     ]
    },
    {
     "ename": "KeyboardInterrupt",
     "evalue": "",
     "output_type": "error",
     "traceback": [
      "\u001b[0;31m---------------------------------------------------------------------------\u001b[0m",
      "\u001b[0;31mKeyboardInterrupt\u001b[0m                         Traceback (most recent call last)",
      "Cell \u001b[0;32mIn[9], line 12\u001b[0m\n\u001b[1;32m     10\u001b[0m \u001b[38;5;28;01mfor\u001b[39;00m j \u001b[38;5;129;01min\u001b[39;00m \u001b[38;5;28mrange\u001b[39m(i \u001b[38;5;241m+\u001b[39m \u001b[38;5;241m1\u001b[39m, \u001b[38;5;28mlen\u001b[39m(combined_embeddings)):\n\u001b[1;32m     11\u001b[0m     sim \u001b[38;5;241m=\u001b[39m \u001b[38;5;241m0\u001b[39m\n\u001b[0;32m---> 12\u001b[0m     \u001b[38;5;28;01mif\u001b[39;00m \u001b[43mresult_df\u001b[49m\u001b[38;5;241;43m.\u001b[39;49m\u001b[43miloc\u001b[49m\u001b[43m[\u001b[49m\u001b[43mi\u001b[49m\u001b[43m]\u001b[49m[\u001b[38;5;124m\"\u001b[39m\u001b[38;5;124msource description\u001b[39m\u001b[38;5;124m\"\u001b[39m] \u001b[38;5;241m!=\u001b[39m result_df\u001b[38;5;241m.\u001b[39miloc[j][\u001b[38;5;124m\"\u001b[39m\u001b[38;5;124msource description\u001b[39m\u001b[38;5;124m\"\u001b[39m]:\n\u001b[1;32m     13\u001b[0m         sim \u001b[38;5;241m=\u001b[39m \u001b[38;5;241m1\u001b[39m\n\u001b[1;32m     14\u001b[0m     \u001b[38;5;28;01melse\u001b[39;00m: \n",
      "File \u001b[0;32m~/Library/Python/3.9/lib/python/site-packages/pandas/core/indexing.py:1191\u001b[0m, in \u001b[0;36m_LocationIndexer.__getitem__\u001b[0;34m(self, key)\u001b[0m\n\u001b[1;32m   1189\u001b[0m maybe_callable \u001b[38;5;241m=\u001b[39m com\u001b[38;5;241m.\u001b[39mapply_if_callable(key, \u001b[38;5;28mself\u001b[39m\u001b[38;5;241m.\u001b[39mobj)\n\u001b[1;32m   1190\u001b[0m maybe_callable \u001b[38;5;241m=\u001b[39m \u001b[38;5;28mself\u001b[39m\u001b[38;5;241m.\u001b[39m_check_deprecated_callable_usage(key, maybe_callable)\n\u001b[0;32m-> 1191\u001b[0m \u001b[38;5;28;01mreturn\u001b[39;00m \u001b[38;5;28;43mself\u001b[39;49m\u001b[38;5;241;43m.\u001b[39;49m\u001b[43m_getitem_axis\u001b[49m\u001b[43m(\u001b[49m\u001b[43mmaybe_callable\u001b[49m\u001b[43m,\u001b[49m\u001b[43m \u001b[49m\u001b[43maxis\u001b[49m\u001b[38;5;241;43m=\u001b[39;49m\u001b[43maxis\u001b[49m\u001b[43m)\u001b[49m\n",
      "File \u001b[0;32m~/Library/Python/3.9/lib/python/site-packages/pandas/core/indexing.py:1754\u001b[0m, in \u001b[0;36m_iLocIndexer._getitem_axis\u001b[0;34m(self, key, axis)\u001b[0m\n\u001b[1;32m   1751\u001b[0m \u001b[38;5;66;03m# validate the location\u001b[39;00m\n\u001b[1;32m   1752\u001b[0m \u001b[38;5;28mself\u001b[39m\u001b[38;5;241m.\u001b[39m_validate_integer(key, axis)\n\u001b[0;32m-> 1754\u001b[0m \u001b[38;5;28;01mreturn\u001b[39;00m \u001b[38;5;28;43mself\u001b[39;49m\u001b[38;5;241;43m.\u001b[39;49m\u001b[43mobj\u001b[49m\u001b[38;5;241;43m.\u001b[39;49m\u001b[43m_ixs\u001b[49m\u001b[43m(\u001b[49m\u001b[43mkey\u001b[49m\u001b[43m,\u001b[49m\u001b[43m \u001b[49m\u001b[43maxis\u001b[49m\u001b[38;5;241;43m=\u001b[39;49m\u001b[43maxis\u001b[49m\u001b[43m)\u001b[49m\n",
      "File \u001b[0;32m~/Library/Python/3.9/lib/python/site-packages/pandas/core/frame.py:3996\u001b[0m, in \u001b[0;36mDataFrame._ixs\u001b[0;34m(self, i, axis)\u001b[0m\n\u001b[1;32m   3994\u001b[0m \u001b[38;5;66;03m# irow\u001b[39;00m\n\u001b[1;32m   3995\u001b[0m \u001b[38;5;28;01mif\u001b[39;00m axis \u001b[38;5;241m==\u001b[39m \u001b[38;5;241m0\u001b[39m:\n\u001b[0;32m-> 3996\u001b[0m     new_mgr \u001b[38;5;241m=\u001b[39m \u001b[38;5;28;43mself\u001b[39;49m\u001b[38;5;241;43m.\u001b[39;49m\u001b[43m_mgr\u001b[49m\u001b[38;5;241;43m.\u001b[39;49m\u001b[43mfast_xs\u001b[49m\u001b[43m(\u001b[49m\u001b[43mi\u001b[49m\u001b[43m)\u001b[49m\n\u001b[1;32m   3998\u001b[0m     \u001b[38;5;66;03m# if we are a copy, mark as such\u001b[39;00m\n\u001b[1;32m   3999\u001b[0m     copy \u001b[38;5;241m=\u001b[39m \u001b[38;5;28misinstance\u001b[39m(new_mgr\u001b[38;5;241m.\u001b[39marray, np\u001b[38;5;241m.\u001b[39mndarray) \u001b[38;5;129;01mand\u001b[39;00m new_mgr\u001b[38;5;241m.\u001b[39marray\u001b[38;5;241m.\u001b[39mbase \u001b[38;5;129;01mis\u001b[39;00m \u001b[38;5;28;01mNone\u001b[39;00m\n",
      "File \u001b[0;32m~/Library/Python/3.9/lib/python/site-packages/pandas/core/internals/managers.py:1002\u001b[0m, in \u001b[0;36mBlockManager.fast_xs\u001b[0;34m(self, loc)\u001b[0m\n\u001b[1;32m    998\u001b[0m \u001b[38;5;28;01mfor\u001b[39;00m blk \u001b[38;5;129;01min\u001b[39;00m \u001b[38;5;28mself\u001b[39m\u001b[38;5;241m.\u001b[39mblocks:\n\u001b[1;32m    999\u001b[0m     \u001b[38;5;66;03m# Such assignment may incorrectly coerce NaT to None\u001b[39;00m\n\u001b[1;32m   1000\u001b[0m     \u001b[38;5;66;03m# result[blk.mgr_locs] = blk._slice((slice(None), loc))\u001b[39;00m\n\u001b[1;32m   1001\u001b[0m     \u001b[38;5;28;01mfor\u001b[39;00m i, rl \u001b[38;5;129;01min\u001b[39;00m \u001b[38;5;28menumerate\u001b[39m(blk\u001b[38;5;241m.\u001b[39mmgr_locs):\n\u001b[0;32m-> 1002\u001b[0m         \u001b[43mresult\u001b[49m\u001b[43m[\u001b[49m\u001b[43mrl\u001b[49m\u001b[43m]\u001b[49m \u001b[38;5;241m=\u001b[39m blk\u001b[38;5;241m.\u001b[39miget((i, loc))\n\u001b[1;32m   1004\u001b[0m \u001b[38;5;28;01mif\u001b[39;00m \u001b[38;5;28misinstance\u001b[39m(dtype, ExtensionDtype):\n\u001b[1;32m   1005\u001b[0m     \u001b[38;5;28mcls\u001b[39m \u001b[38;5;241m=\u001b[39m dtype\u001b[38;5;241m.\u001b[39mconstruct_array_type()\n",
      "\u001b[0;31mKeyboardInterrupt\u001b[0m: "
     ]
    }
   ],
   "source": [
    "threshold = 0.80\n",
    "similar_pairs = []\n",
    "\n",
    "combined_embeddings = result_df[\"embedding\"].tolist()\n",
    "combined_texts = result_df[\"text_to_compare\"].tolist()\n",
    "\n",
    "print(\"Comparing entries pair by pair...\")\n",
    "\n",
    "for i in tqdm(range(len(combined_embeddings))):\n",
    "    for j in range(i + 1, len(combined_embeddings)):\n",
    "        sim = 0\n",
    "        if result_df.iloc[i][\"source description\"] != result_df.iloc[j][\"source description\"]:\n",
    "            sim = 1\n",
    "        else: \n",
    "            sim = util.cos_sim(combined_embeddings[i], combined_embeddings[j]).item()\n",
    "        \n",
    "        if sim > threshold:\n",
    "            i_elem = combined_texts[i]\n",
    "            j_elem = combined_texts[j]\n",
    "            \n",
    "            #if sim < 1.0:\n",
    "             #   print(f\"\\nSimilarity: {sim:.3f} | From: {i+1} To: {j+1}\")\n",
    "              #  print(f\"→ Source {i+1} description: {i_elem}\")\n",
    "               # print(f\"→ Source {j+1} description: {j_elem}\")\n",
    "            \n",
    "            \n",
    "            similar_pairs.append((i, j, sim))\n",
    "\n",
    "# Output results\n",
    "print(f\"\\nFound {len(similar_pairs)} high-similarity pairs (> {threshold}):\")\n",
    "for i, j, score in similar_pairs:\n",
    "    print(f\"[{i}] '{df.iloc[i]['source english_id']}' <--> [{j}] '{df.iloc[j]['source english_id']}' | Similarity: {score:.3f}\")"
   ]
  }
 ],
 "metadata": {
  "kernelspec": {
   "display_name": "Python 3",
   "language": "python",
   "name": "python3"
  },
  "language_info": {
   "codemirror_mode": {
    "name": "ipython",
    "version": 3
   },
   "file_extension": ".py",
   "mimetype": "text/x-python",
   "name": "python",
   "nbconvert_exporter": "python",
   "pygments_lexer": "ipython3",
   "version": "3.9.6"
  }
 },
 "nbformat": 4,
 "nbformat_minor": 2
}
