{
 "cells": [
  {
   "cell_type": "code",
   "execution_count": 28,
   "metadata": {},
   "outputs": [],
   "source": [
    "from sentence_transformers import SentenceTransformer, util\n",
    "import pandas as pd\n",
    "from tqdm import tqdm"
   ]
  },
  {
   "cell_type": "markdown",
   "metadata": {},
   "source": [
    "Let's fetch the dataframes."
   ]
  },
  {
   "cell_type": "code",
   "execution_count": 39,
   "metadata": {},
   "outputs": [],
   "source": [
    "model = SentenceTransformer('all-mpnet-base-v2')\n",
    "vtt_domain_df = pd.read_csv(\"./data/dataframes/df_relationships_vtt_domain.csv\")\n",
    "comp_domain_df = pd.read_csv(\"./data/dataframes/df_relationships_comp_domain.csv\")"
   ]
  },
  {
   "cell_type": "code",
   "execution_count": 43,
   "metadata": {},
   "outputs": [
    {
     "data": {
      "text/html": [
       "<div>\n",
       "<style scoped>\n",
       "    .dataframe tbody tr th:only-of-type {\n",
       "        vertical-align: middle;\n",
       "    }\n",
       "\n",
       "    .dataframe tbody tr th {\n",
       "        vertical-align: top;\n",
       "    }\n",
       "\n",
       "    .dataframe thead th {\n",
       "        text-align: right;\n",
       "    }\n",
       "</style>\n",
       "<table border=\"1\" class=\"dataframe\">\n",
       "  <thead>\n",
       "    <tr style=\"text-align: right;\">\n",
       "      <th></th>\n",
       "      <th>Document number</th>\n",
       "      <th>Source Company</th>\n",
       "      <th>relationship description</th>\n",
       "      <th>source id</th>\n",
       "      <th>source type</th>\n",
       "      <th>source description</th>\n",
       "      <th>relationship type</th>\n",
       "      <th>target id</th>\n",
       "      <th>target type</th>\n",
       "      <th>target description</th>\n",
       "      <th>Link Source Text</th>\n",
       "      <th>Source Text</th>\n",
       "    </tr>\n",
       "  </thead>\n",
       "  <tbody>\n",
       "    <tr>\n",
       "      <th>0</th>\n",
       "      <td>0</td>\n",
       "      <td>FORTUM OYJ</td>\n",
       "      <td>Fortum Corporation is responsible for executin...</td>\n",
       "      <td>First nuclear decommissioning project in Finla...</td>\n",
       "      <td>Innovation</td>\n",
       "      <td>The first nuclear reactor decommissioning proj...</td>\n",
       "      <td>DEVELOPED_BY</td>\n",
       "      <td>Fortum Corporation</td>\n",
       "      <td>Organization</td>\n",
       "      <td>A company with over 40 years of experience in ...</td>\n",
       "      <td>https://www.fortum.com/media/2020/04/fortum-aw...</td>\n",
       "      <td>Press release\\n 08 April 2020, 7:00 EEST     ...</td>\n",
       "    </tr>\n",
       "    <tr>\n",
       "      <th>1</th>\n",
       "      <td>0</td>\n",
       "      <td>FORTUM OYJ</td>\n",
       "      <td>VTT Technical Research Centre of Finland Ltd c...</td>\n",
       "      <td>First nuclear decommissioning project in Finla...</td>\n",
       "      <td>Innovation</td>\n",
       "      <td>The first nuclear reactor decommissioning proj...</td>\n",
       "      <td>DEVELOPED_BY</td>\n",
       "      <td>VTT Technical Research Centre of Finland Ltd</td>\n",
       "      <td>Organization</td>\n",
       "      <td>A research organization in Finland contracting...</td>\n",
       "      <td>https://www.fortum.com/media/2020/04/fortum-aw...</td>\n",
       "      <td>Press release\\n 08 April 2020, 7:00 EEST     ...</td>\n",
       "    </tr>\n",
       "  </tbody>\n",
       "</table>\n",
       "</div>"
      ],
      "text/plain": [
       "   Document number Source Company  \\\n",
       "0                0     FORTUM OYJ   \n",
       "1                0     FORTUM OYJ   \n",
       "\n",
       "                            relationship description  \\\n",
       "0  Fortum Corporation is responsible for executin...   \n",
       "1  VTT Technical Research Centre of Finland Ltd c...   \n",
       "\n",
       "                                           source id source type  \\\n",
       "0  First nuclear decommissioning project in Finla...  Innovation   \n",
       "1  First nuclear decommissioning project in Finla...  Innovation   \n",
       "\n",
       "                                  source description relationship type  \\\n",
       "0  The first nuclear reactor decommissioning proj...      DEVELOPED_BY   \n",
       "1  The first nuclear reactor decommissioning proj...      DEVELOPED_BY   \n",
       "\n",
       "                                      target id   target type  \\\n",
       "0                            Fortum Corporation  Organization   \n",
       "1  VTT Technical Research Centre of Finland Ltd  Organization   \n",
       "\n",
       "                                  target description  \\\n",
       "0  A company with over 40 years of experience in ...   \n",
       "1  A research organization in Finland contracting...   \n",
       "\n",
       "                                    Link Source Text  \\\n",
       "0  https://www.fortum.com/media/2020/04/fortum-aw...   \n",
       "1  https://www.fortum.com/media/2020/04/fortum-aw...   \n",
       "\n",
       "                                         Source Text  \n",
       "0   Press release\\n 08 April 2020, 7:00 EEST     ...  \n",
       "1   Press release\\n 08 April 2020, 7:00 EEST     ...  "
      ]
     },
     "execution_count": 43,
     "metadata": {},
     "output_type": "execute_result"
    }
   ],
   "source": [
    "comp_domain_df.head(2)"
   ]
  },
  {
   "cell_type": "code",
   "execution_count": 42,
   "metadata": {},
   "outputs": [
    {
     "data": {
      "text/html": [
       "<div>\n",
       "<style scoped>\n",
       "    .dataframe tbody tr th:only-of-type {\n",
       "        vertical-align: middle;\n",
       "    }\n",
       "\n",
       "    .dataframe tbody tr th {\n",
       "        vertical-align: top;\n",
       "    }\n",
       "\n",
       "    .dataframe thead th {\n",
       "        text-align: right;\n",
       "    }\n",
       "</style>\n",
       "<table border=\"1\" class=\"dataframe\">\n",
       "  <thead>\n",
       "    <tr style=\"text-align: right;\">\n",
       "      <th></th>\n",
       "      <th>Document number</th>\n",
       "      <th>VAT id</th>\n",
       "      <th>relationship description</th>\n",
       "      <th>source id</th>\n",
       "      <th>source type</th>\n",
       "      <th>source english_id</th>\n",
       "      <th>source description</th>\n",
       "      <th>relationship type</th>\n",
       "      <th>target id</th>\n",
       "      <th>target type</th>\n",
       "      <th>target english_id</th>\n",
       "      <th>target description</th>\n",
       "      <th>Link Source Text</th>\n",
       "      <th>Source Text</th>\n",
       "    </tr>\n",
       "  </thead>\n",
       "  <tbody>\n",
       "    <tr>\n",
       "      <th>0</th>\n",
       "      <td>0</td>\n",
       "      <td>FI10292588</td>\n",
       "      <td>FiR 1 nuclear research reactor was developed, ...</td>\n",
       "      <td>FiR 1</td>\n",
       "      <td>Innovation</td>\n",
       "      <td>FiR 1</td>\n",
       "      <td>FiR 1 is a Triga-type nuclear research reactor...</td>\n",
       "      <td>DEVELOPED_BY</td>\n",
       "      <td>FI26473754</td>\n",
       "      <td>Organization</td>\n",
       "      <td>VTT Technical Research Centre of Finland Ltd.</td>\n",
       "      <td>VTT is a Finnish research and innovation partn...</td>\n",
       "      <td>https://www.vttresearch.com/en/news-and-ideas/...</td>\n",
       "      <td>Skip to main content Beyond the obvious Open m...</td>\n",
       "    </tr>\n",
       "    <tr>\n",
       "      <th>1</th>\n",
       "      <td>0</td>\n",
       "      <td>FI10292588</td>\n",
       "      <td>Centre for Nuclear Safety is being developed a...</td>\n",
       "      <td>Centre for Nuclear Safety</td>\n",
       "      <td>Innovation</td>\n",
       "      <td>Centre for Nuclear Safety</td>\n",
       "      <td>A modern research facility under construction ...</td>\n",
       "      <td>DEVELOPED_BY</td>\n",
       "      <td>FI26473754</td>\n",
       "      <td>Organization</td>\n",
       "      <td>VTT Technical Research Centre of Finland Ltd.</td>\n",
       "      <td>VTT is a Finnish research and innovation partn...</td>\n",
       "      <td>https://www.vttresearch.com/en/news-and-ideas/...</td>\n",
       "      <td>Skip to main content Beyond the obvious Open m...</td>\n",
       "    </tr>\n",
       "  </tbody>\n",
       "</table>\n",
       "</div>"
      ],
      "text/plain": [
       "   Document number      VAT id  \\\n",
       "0                0  FI10292588   \n",
       "1                0  FI10292588   \n",
       "\n",
       "                            relationship description  \\\n",
       "0  FiR 1 nuclear research reactor was developed, ...   \n",
       "1  Centre for Nuclear Safety is being developed a...   \n",
       "\n",
       "                   source id source type          source english_id  \\\n",
       "0                      FiR 1  Innovation                      FiR 1   \n",
       "1  Centre for Nuclear Safety  Innovation  Centre for Nuclear Safety   \n",
       "\n",
       "                                  source description relationship type  \\\n",
       "0  FiR 1 is a Triga-type nuclear research reactor...      DEVELOPED_BY   \n",
       "1  A modern research facility under construction ...      DEVELOPED_BY   \n",
       "\n",
       "    target id   target type                              target english_id  \\\n",
       "0  FI26473754  Organization  VTT Technical Research Centre of Finland Ltd.   \n",
       "1  FI26473754  Organization  VTT Technical Research Centre of Finland Ltd.   \n",
       "\n",
       "                                  target description  \\\n",
       "0  VTT is a Finnish research and innovation partn...   \n",
       "1  VTT is a Finnish research and innovation partn...   \n",
       "\n",
       "                                    Link Source Text  \\\n",
       "0  https://www.vttresearch.com/en/news-and-ideas/...   \n",
       "1  https://www.vttresearch.com/en/news-and-ideas/...   \n",
       "\n",
       "                                         Source Text  \n",
       "0  Skip to main content Beyond the obvious Open m...  \n",
       "1  Skip to main content Beyond the obvious Open m...  "
      ]
     },
     "execution_count": 42,
     "metadata": {},
     "output_type": "execute_result"
    }
   ],
   "source": [
    "vtt_domain_df.head(2)"
   ]
  },
  {
   "cell_type": "code",
   "execution_count": null,
   "metadata": {},
   "outputs": [],
   "source": [
    "def create_text_to_compare(row):\n",
    "    text_to_compare = row[\"source_id\"]"
   ]
  },
  {
   "cell_type": "code",
   "execution_count": null,
   "metadata": {},
   "outputs": [
    {
     "name": "stdout",
     "output_type": "stream",
     "text": [
      "Comp domain df length: 1528  - VTT domain df length: 1504\n"
     ]
    }
   ],
   "source": [
    "# Clean the VTT domain df.\n",
    "\n",
    "\n",
    "\n",
    "vtt_domain_df[\"text_to_compare\"] = (\n",
    "    vtt_domain_df[\"source id\"].fillna(\"\") + \" \" +\n",
    "    vtt_domain_df[\"source english_id\"].fillna(\"\") + \" \" +\n",
    "    vtt_domain_df[\"source description\"].fillna(\"\"))\n",
    "\n",
    "vtt_domain_df = vtt_domain_df[vtt_domain_df[\"source type\"] != \"Organization\"]\n",
    "vtt_domain_df = vtt_domain_df.drop_duplicates(subset=\"source description\", keep=\"first\")\n",
    "\n",
    "# Clean the comp domain df.\n",
    "\n",
    "comp_domain_df[\"text_to_compare\"] = (\n",
    "    comp_domain_df[\"source id\"].fillna(\"\") + \" \" +\n",
    "    comp_domain_df[\"source description\"].fillna(\"\"))\n",
    "\n",
    "comp_domain_df = comp_domain_df[comp_domain_df[\"source type\"] != \"Organization\"]\n",
    "comp_domain_df = comp_domain_df.drop_duplicates(subset=\"source description\", keep=\"first\")\n",
    "\n",
    "print(\"Comp domain df length:\", len(comp_domain_df), \" - VTT domain df length:\", len(vtt_domain_df))"
   ]
  },
  {
   "cell_type": "markdown",
   "metadata": {},
   "source": [
    "Embed everything."
   ]
  },
  {
   "cell_type": "code",
   "execution_count": 36,
   "metadata": {},
   "outputs": [],
   "source": [
    "vtt_embeddings = model.encode(vtt_domain_df[\"text_to_compare\"].tolist(), convert_to_tensor=True)\n",
    "comp_embeddings = model.encode(comp_domain_df[\"text_to_compare\"].tolist(), convert_to_tensor=True)"
   ]
  },
  {
   "cell_type": "code",
   "execution_count": 37,
   "metadata": {},
   "outputs": [
    {
     "name": "stdout",
     "output_type": "stream",
     "text": [
      "Comparing entries pair by pair...\n"
     ]
    },
    {
     "name": "stderr",
     "output_type": "stream",
     "text": [
      "  0%|          | 0/1504 [00:00<?, ?it/s]"
     ]
    },
    {
     "name": "stdout",
     "output_type": "stream",
     "text": [
      "\n",
      "Similarity: 0.828 | From: 1 To: 880\n",
      "→ Source 1 description: FiR 1 FiR 1 FiR 1 is a Triga-type nuclear research reactor located in Otaniemi, Espoo, Finland, decommissioned by VTT after serving since 1962, used for nuclear research, training, and medical radiation therapy.\n",
      "→ Source 880 description: FiR 1 -tutkimusreaktori A 250 kilowatt research nuclear reactor located in Otaniemi, Espoo, used from 1962 to 2015, now undergoing decommissioning.\n"
     ]
    },
    {
     "name": "stderr",
     "output_type": "stream",
     "text": [
      "  0%|          | 1/1504 [00:00<21:03,  1.19it/s]"
     ]
    },
    {
     "name": "stdout",
     "output_type": "stream",
     "text": [
      "\n",
      "Similarity: 0.803 | From: 2 To: 285\n",
      "→ Source 2 description: Centre for Nuclear Safety Centre for Nuclear Safety A modern research facility under construction by VTT in Otaniemi, Espoo for nuclear safety research, equipped with state-of-the-art technology for studying radioactive materials and improving nuclear safety.\n",
      "→ Source 285 description: nuclear safety house A new four-storey building bringing together all nuclear safety research activities of VTT under one roof, integrating office and laboratory spaces with an activity-based environment to improve collaboration and experimental research capabilities.\n"
     ]
    },
    {
     "name": "stderr",
     "output_type": "stream",
     "text": [
      "  1%|          | 10/1504 [00:07<17:28,  1.42it/s]"
     ]
    },
    {
     "name": "stdout",
     "output_type": "stream",
     "text": [
      "\n",
      "Similarity: 0.846 | From: 10 To: 1442\n",
      "→ Source 10 description: bio-based packaging solution bio-based packaging solution A compostable and lightweight packaging material made of cellulose films developed by VTT that reduces the use of plastics, extends shelf life of food, and reduces food waste and microplastics.\n",
      "→ Source 1442 description: bio-based, recyclable and reusable packaging materials Bio-based, recyclable and reusable packaging materials developed by Paptic Ltd that aim to replace plastic alternatives.\n"
     ]
    },
    {
     "name": "stderr",
     "output_type": "stream",
     "text": [
      "  2%|▏         | 31/1504 [00:20<15:45,  1.56it/s]"
     ]
    },
    {
     "name": "stdout",
     "output_type": "stream",
     "text": [
      "\n",
      "Similarity: 0.826 | From: 32 To: 791\n",
      "→ Source 32 description: 5G-Safe project 5G-Safe project A project exploring the use of the 5G mobile network to improve road safety through fast data transmission solutions, collecting vehicle and road data for applications such as road weather services, road maintenance, and self-driving car control.\n",
      "→ Source 791 description: Challenge Finland 5G-SAFE project A research and development project conducted by VTT on new 5G-enabled road safety services in Finland.\n",
      "\n",
      "Similarity: 0.892 | From: 32 To: 884\n",
      "→ Source 32 description: 5G-Safe project 5G-Safe project A project exploring the use of the 5G mobile network to improve road safety through fast data transmission solutions, collecting vehicle and road data for applications such as road weather services, road maintenance, and self-driving car control.\n",
      "→ Source 884 description: 5G-Safe -hanke The 5G-Safe project developing new vehicle network solutions and local road weather and safety services to support drivers, road maintainers, and autonomous vehicle control systems by utilizing 5G technology for real-time data services.\n"
     ]
    },
    {
     "name": "stderr",
     "output_type": "stream",
     "text": [
      "  4%|▍         | 61/1504 [00:39<14:51,  1.62it/s]"
     ]
    },
    {
     "name": "stdout",
     "output_type": "stream",
     "text": [
      "\n",
      "Similarity: 0.874 | From: 62 To: 640\n",
      "→ Source 62 description: New wood-based materials to prevent the spread of microorganisms in hospitals New wood-based materials to prevent the spread of microorganisms in hospitals Innovative renewable wood-based materials developed to prevent the spread of microorganisms in hospital environments, aiming to replace traditional materials with bio-based solutions.\n",
      "→ Source 640 description: Sami&Samu An innovation involving wood-based substances with antimicrobial qualities to tackle microbial resistance in hospitals and replace plastics with bio-based materials.\n",
      "\n",
      "Similarity: 0.800 | From: 62 To: 1079\n",
      "→ Source 62 description: New wood-based materials to prevent the spread of microorganisms in hospitals New wood-based materials to prevent the spread of microorganisms in hospitals Innovative renewable wood-based materials developed to prevent the spread of microorganisms in hospital environments, aiming to replace traditional materials with bio-based solutions.\n",
      "→ Source 1079 description: Sami&Samu-hankkeessa testataan lupaavimmat ratkaisut Keski-Suomen keskussairaalassa loppuvuoden 2020 aikana Sami&Samu project tests promising new wood-based antimicrobial and bioplastic replacement solutions at Central Finland Central Hospital, validating their effective use in a hospital environment.\n",
      "\n",
      "Similarity: 0.845 | From: 62 To: 1088\n",
      "→ Source 62 description: New wood-based materials to prevent the spread of microorganisms in hospitals New wood-based materials to prevent the spread of microorganisms in hospitals Innovative renewable wood-based materials developed to prevent the spread of microorganisms in hospital environments, aiming to replace traditional materials with bio-based solutions.\n",
      "→ Source 1088 description: Sami&Samu An innovation project addressing microbial resistance at hospitals using wood-based substances and replacing plastics with bio-based materials for hygiene and packaging solutions.\n"
     ]
    },
    {
     "name": "stderr",
     "output_type": "stream",
     "text": [
      "  4%|▍         | 62/1504 [00:40<14:59,  1.60it/s]"
     ]
    },
    {
     "name": "stdout",
     "output_type": "stream",
     "text": [
      "\n",
      "Similarity: 0.885 | From: 63 To: 640\n",
      "→ Source 63 description: New wood-based antimicrobial and low-carbon hospital materials New wood-based antimicrobial and low-carbon hospital materials Innovative renewable wood-based materials, surface finishes and textiles developed to prevent the spread of microorganisms in hospitals, aiming to replace traditional oil-based plastics and reduce waste.\n",
      "→ Source 640 description: Sami&Samu An innovation involving wood-based substances with antimicrobial qualities to tackle microbial resistance in hospitals and replace plastics with bio-based materials.\n",
      "\n",
      "Similarity: 0.826 | From: 63 To: 1079\n",
      "→ Source 63 description: New wood-based antimicrobial and low-carbon hospital materials New wood-based antimicrobial and low-carbon hospital materials Innovative renewable wood-based materials, surface finishes and textiles developed to prevent the spread of microorganisms in hospitals, aiming to replace traditional oil-based plastics and reduce waste.\n",
      "→ Source 1079 description: Sami&Samu-hankkeessa testataan lupaavimmat ratkaisut Keski-Suomen keskussairaalassa loppuvuoden 2020 aikana Sami&Samu project tests promising new wood-based antimicrobial and bioplastic replacement solutions at Central Finland Central Hospital, validating their effective use in a hospital environment.\n",
      "\n",
      "Similarity: 0.827 | From: 63 To: 1088\n",
      "→ Source 63 description: New wood-based antimicrobial and low-carbon hospital materials New wood-based antimicrobial and low-carbon hospital materials Innovative renewable wood-based materials, surface finishes and textiles developed to prevent the spread of microorganisms in hospitals, aiming to replace traditional oil-based plastics and reduce waste.\n",
      "→ Source 1088 description: Sami&Samu An innovation project addressing microbial resistance at hospitals using wood-based substances and replacing plastics with bio-based materials for hygiene and packaging solutions.\n"
     ]
    },
    {
     "name": "stderr",
     "output_type": "stream",
     "text": [
      "  5%|▍         | 71/1504 [00:45<14:46,  1.62it/s]"
     ]
    },
    {
     "name": "stdout",
     "output_type": "stream",
     "text": [
      "\n",
      "Similarity: 0.889 | From: 72 To: 495\n",
      "→ Source 72 description: Carbamate technology Carbamate technology A fibre production method transforming wood-based dissolving pulp and discarded cotton into viscose-type fibres without harmful chemicals.\n",
      "→ Source 495 description: carbamate technology A technology owned by VTT producing cellulose carbamate fibre from recycled cotton by forming carbamate groups and dissolving cellulose in cold sodium zincate solution.\n"
     ]
    },
    {
     "name": "stderr",
     "output_type": "stream",
     "text": [
      "  5%|▍         | 72/1504 [00:46<15:10,  1.57it/s]"
     ]
    },
    {
     "name": "stdout",
     "output_type": "stream",
     "text": [
      "\n",
      "Similarity: 0.853 | From: 73 To: 497\n",
      "→ Source 73 description: Ioncell-F technology Ioncell-F technology A technology based on direct dissolution of cellulose using ionic liquid solvent to produce strong textile fibres by dry-jet wet spinning.\n",
      "→ Source 497 description: Ioncell-F technology A technology based on direct dissolution of cellulose using dry-jet wet spinning technique, developed in collaboration between Aalto University and University of Helsinki.\n"
     ]
    },
    {
     "name": "stderr",
     "output_type": "stream",
     "text": [
      "  5%|▍         | 73/1504 [00:47<15:47,  1.51it/s]"
     ]
    },
    {
     "name": "stdout",
     "output_type": "stream",
     "text": [
      "\n",
      "Similarity: 0.894 | From: 73 To: 1505\n",
      "→ Source 73 description: Ioncell-F technology Ioncell-F technology A technology based on direct dissolution of cellulose using ionic liquid solvent to produce strong textile fibres by dry-jet wet spinning.\n",
      "→ Source 1505 description: Ioncell-F-prosessi A technology developed through Aalto University and University of Helsinki collaboration, using ionic liquid solvents and a dry-jet wet-spinning process to produce textile fibers with excellent strength.\n",
      "\n",
      "Similarity: 0.880 | From: 74 To: 496\n",
      "→ Source 74 description: BioCelSol technology BioCelSol technology A technology that enhances cellulose dissolution via mechanical and enzymatic treatments prior to fibre spinning.\n",
      "→ Source 496 description: BioCelSol technology A technology jointly owned by VTT and Tampere University of Technology enhancing cellulose dissolution by mechanical and enzymatic treatments before dissolution in sodium zincate.\n"
     ]
    },
    {
     "name": "stderr",
     "output_type": "stream",
     "text": [
      "  5%|▍         | 74/1504 [00:47<16:03,  1.48it/s]"
     ]
    },
    {
     "name": "stdout",
     "output_type": "stream",
     "text": [
      "\n",
      "Similarity: 0.838 | From: 74 To: 1506\n",
      "→ Source 74 description: BioCelSol technology BioCelSol technology A technology that enhances cellulose dissolution via mechanical and enzymatic treatments prior to fibre spinning.\n",
      "→ Source 1506 description: BioCelSol-teknologia A technology demonstrated by VTT that enhances cellulose dissolution via mechanical-enzymatic treatment before solvent and spinning processes for textile fiber production.\n"
     ]
    },
    {
     "name": "stderr",
     "output_type": "stream",
     "text": [
      "  5%|▍         | 75/1504 [00:48<15:59,  1.49it/s]"
     ]
    },
    {
     "name": "stdout",
     "output_type": "stream",
     "text": [
      "\n",
      "Similarity: 0.872 | From: 76 To: 991\n",
      "→ Source 76 description: Finnish 5G technology enables efficient mobile streaming to large audiences Finnish 5G technology enables efficient mobile streaming to large audiences A novel 5G technology in Finland using evolved Multimedia Broadcast Multicast Service (eMBMS) enabling high-quality live video streaming to large audiences on commercial smartphones in test networks.\n",
      "→ Source 991 description: evolved Multimedia Broadcast Multicast Service (eMBMS) technology A technology enabling live streaming of TV channels in mobile wireless networks, enhancing bandwidth efficiency and reliability, demonstrated for the first time in Finland in 5G test networks.\n"
     ]
    },
    {
     "name": "stderr",
     "output_type": "stream",
     "text": [
      "  5%|▌         | 77/1504 [00:50<15:28,  1.54it/s]\n"
     ]
    },
    {
     "ename": "KeyboardInterrupt",
     "evalue": "",
     "output_type": "error",
     "traceback": [
      "\u001b[0;31m---------------------------------------------------------------------------\u001b[0m",
      "\u001b[0;31mKeyboardInterrupt\u001b[0m                         Traceback (most recent call last)",
      "Cell \u001b[0;32mIn[37], line 8\u001b[0m\n\u001b[1;32m      6\u001b[0m \u001b[38;5;28;01mfor\u001b[39;00m i \u001b[38;5;129;01min\u001b[39;00m tqdm(\u001b[38;5;28mrange\u001b[39m(\u001b[38;5;28mlen\u001b[39m(vtt_embeddings))):\n\u001b[1;32m      7\u001b[0m     \u001b[38;5;28;01mfor\u001b[39;00m j \u001b[38;5;129;01min\u001b[39;00m \u001b[38;5;28mrange\u001b[39m(i \u001b[38;5;241m+\u001b[39m \u001b[38;5;241m1\u001b[39m, \u001b[38;5;28mlen\u001b[39m(comp_embeddings)):\n\u001b[0;32m----> 8\u001b[0m         sim \u001b[38;5;241m=\u001b[39m \u001b[43mutil\u001b[49m\u001b[38;5;241;43m.\u001b[39;49m\u001b[43mcos_sim\u001b[49m\u001b[43m(\u001b[49m\u001b[43mvtt_embeddings\u001b[49m\u001b[43m[\u001b[49m\u001b[43mi\u001b[49m\u001b[43m]\u001b[49m\u001b[43m,\u001b[49m\u001b[43m \u001b[49m\u001b[43mcomp_embeddings\u001b[49m\u001b[43m[\u001b[49m\u001b[43mj\u001b[49m\u001b[43m]\u001b[49m\u001b[43m)\u001b[49m\u001b[38;5;241;43m.\u001b[39;49m\u001b[43mitem\u001b[49m\u001b[43m(\u001b[49m\u001b[43m)\u001b[49m\n\u001b[1;32m     10\u001b[0m         \u001b[38;5;28;01mif\u001b[39;00m sim \u001b[38;5;241m>\u001b[39m threshold:\n\u001b[1;32m     11\u001b[0m             source_i \u001b[38;5;241m=\u001b[39m vtt_domain_df\u001b[38;5;241m.\u001b[39miloc[i][\u001b[38;5;124m\"\u001b[39m\u001b[38;5;124mtext_to_compare\u001b[39m\u001b[38;5;124m\"\u001b[39m]\n",
      "\u001b[0;31mKeyboardInterrupt\u001b[0m: "
     ]
    }
   ],
   "source": [
    "threshold = 0.80\n",
    "similar_pairs = []\n",
    "\n",
    "print(\"Comparing entries pair by pair...\")\n",
    "\n",
    "for i in tqdm(range(len(vtt_embeddings))):\n",
    "    for j in range(i + 1, len(comp_embeddings)):\n",
    "        sim = util.cos_sim(vtt_embeddings[i], comp_embeddings[j]).item()\n",
    "        \n",
    "        if sim > threshold:\n",
    "            source_i = vtt_domain_df.iloc[i][\"text_to_compare\"]\n",
    "            source_j = comp_domain_df.iloc[j][\"text_to_compare\"]\n",
    "            \n",
    "            print(f\"\\nSimilarity: {sim:.3f} | From: {i+1} To: {j+1}\")\n",
    "            print(f\"→ Source {i+1} description: {source_i}\")\n",
    "            print(f\"→ Source {j+1} description: {source_j}\")\n",
    "            \n",
    "            similar_pairs.append((i, j, sim))\n",
    "\n",
    "# Output results\n",
    "print(f\"\\nFound {len(similar_pairs)} high-similarity pairs (> {threshold}):\")\n",
    "for i, j, score in similar_pairs:\n",
    "    print(f\"[{i}] '{df.iloc[i]['source english_id']}' <--> [{j}] '{df.iloc[j]['source english_id']}' | Similarity: {score:.3f}\")"
   ]
  }
 ],
 "metadata": {
  "kernelspec": {
   "display_name": "Python 3",
   "language": "python",
   "name": "python3"
  },
  "language_info": {
   "codemirror_mode": {
    "name": "ipython",
    "version": 3
   },
   "file_extension": ".py",
   "mimetype": "text/x-python",
   "name": "python",
   "nbconvert_exporter": "python",
   "pygments_lexer": "ipython3",
   "version": "3.9.6"
  }
 },
 "nbformat": 4,
 "nbformat_minor": 2
}
